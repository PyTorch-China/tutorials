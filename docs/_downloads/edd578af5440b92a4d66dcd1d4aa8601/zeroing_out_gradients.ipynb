{
  "cells": [
    {
      "cell_type": "code",
      "execution_count": null,
      "metadata": {
        "collapsed": false
      },
      "outputs": [],
      "source": [
        "# For tips on running notebooks in Google Colab, see\n# https://pytorch.org/tutorials/beginner/colab\n%matplotlib inline"
      ]
    },
    {
      "cell_type": "markdown",
      "metadata": {},
      "source": [
        "\n PyTorch \u4e2d\u6e05\u96f6\u68af\u5ea6\n================================\n\u5728\u6784\u5efa\u795e\u7ecf\u7f51\u7edc\u65f6\uff0c\u6e05\u96f6\u68af\u5ea6\u662f\u6709\u76ca\u7684\u3002\n\u56e0\u4e3a\u9ed8\u8ba4\u60c5\u51b5\u4e0b,\u6bcf\u6b21\u8c03\u7528 ``.backward()`` \u65f6,\u68af\u5ea6\u4f1a\u7d2f\u79ef\u5728\u7f13\u51b2\u533a\u4e2d(\u5373\u4e0d\u4f1a\u88ab\u8986\u76d6)\u3002\n\n# \u4ecb\u7ecd\n\u5728\u8bad\u7ec3\u795e\u7ecf\u7f51\u7edc\u65f6,\u6a21\u578b\u80fd\u591f\u901a\u8fc7\u4f7f\u7528\u68af\u5ea6\u4e0b\u964d\u6765\u63d0\u9ad8\u5b83\u4eec\u7684\u7cbe\u5ea6\u3002\u7b80\u800c\u8a00\u4e4b,\u68af\u5ea6\u4e0b\u964d\u662f\u901a\u8fc7\u8c03\u6574\u6a21\u578b\u4e2d\u7684\u6743\u91cd\u548c\u504f\u7f6e\u6765\u6700\u5c0f\u5316\u635f\u5931(\u6216\u8bef\u5dee)\u7684\u8fc7\u7a0b\u3002\n\n``torch.Tensor`` \u662fPyTorch\u7684\u4e2d\u5fc3\u7c7b\u3002\u5f53\u4f60\u521b\u5efa\u4e00\u4e2a\u5f20\u91cf\u65f6,\u5982\u679c\u5c06\u5176\u5c5e\u6027 ``.requires_grad`` \u8bbe\u7f6e\u4e3a ``True``,\n\u8be5\u5bf9\u8c61\u4f1a\u8ddf\u8e2a\u5bf9\u5b83\u7684\u6240\u6709\u64cd\u4f5c\u3002\u8fd9\u53d1\u751f\u5728\u540e\u7eed\u7684\u53cd\u5411\u4f20\u64ad\u8fc7\u7a0b\u4e2d\u3002\u8be5\u5f20\u91cf\u7684\u68af\u5ea6\u5c06\u7d2f\u79ef\u5230 ``.grad`` \u5c5e\u6027\u4e2d\u3002\n\u6240\u6709\u68af\u5ea6\u7684\u7d2f\u79ef(\u6216\u6c42\u548c)\u662f\u5728\u5bf9\u635f\u5931\u5f20\u91cf\u8c03\u7528 .backward() \u65f6\u8ba1\u7b97\u7684\u3002\n\n\u5728\u67d0\u4e9b\u60c5\u51b5\u4e0b,\u53ef\u80fd\u9700\u8981\u6e05\u96f6\u5f20\u91cf\u7684\u68af\u5ea6\u3002\u4f8b\u5982:\u5f53\u4f60\u5f00\u59cb\u8bad\u7ec3\u5faa\u73af\u65f6,\u4f60\u5e94\u8be5\u6e05\u96f6\u68af\u5ea6,\u4ee5\u4fbf\u6b63\u786e\u6267\u884c\u6b64\u8ddf\u8e2a\u3002\n\u5728\u672c\u6559\u7a0b\u4e2d,\u6211\u4eec\u5c06\u5b66\u4e60\u5982\u4f55\u4f7f\u7528PyTorch\u5e93\u6e05\u96f6\u68af\u5ea6\u3002\u6211\u4eec\u5c06\u901a\u8fc7\u5728PyTorch\u5185\u7f6e\u7684 ``CIFAR10`` \u6570\u636e\u96c6\u4e0a\u8bad\u7ec3\u795e\u7ecf\u7f51\u7edc\u6765\u6f14\u793a\u5982\u4f55\u505a\u5230\u8fd9\u4e00\u70b9\u3002\n\n# \u73af\u5883\u8bbe\u7f6e\n\u7531\u4e8e\u6211\u4eec\u5c06\u5728\u672c\u6559\u7a0b\u4e2d\u8bad\u7ec3\u6570\u636e,\u5982\u679c\u4f60\u5728\u53ef\u8fd0\u884c\u7684\u7b14\u8bb0\u672c\u4e2d,\u6700\u597d\u5c06\u8fd0\u884c\u65f6\u5207\u6362\u5230GPU\u6216TPU\u3002\n\u5728\u5f00\u59cb\u4e4b\u524d,\u5982\u679c\u5c1a\u672a\u5b89\u88c5 ``torch`` \u548c ``torchvision``,\u6211\u4eec\u9700\u8981\u5b89\u88c5\u5b83\u4eec\u3002\n\n```sh\npip install torchvision\n```\n"
      ]
    },
    {
      "cell_type": "markdown",
      "metadata": {},
      "source": [
        "# \u5177\u4f53\u6b65\u9aa4\n\n\u6b65\u9aa41\u52304\u8bbe\u7f6e\u4e86\u6211\u4eec\u7528\u4e8e\u8bad\u7ec3\u7684\u6570\u636e\u548c\u795e\u7ecf\u7f51\u7edc\u3002\u6e05\u96f6\u68af\u5ea6\u7684\u8fc7\u7a0b\u53d1\u751f\u5728\u6b65\u9aa45\u3002\u5982\u679c\u4f60\u5df2\u7ecf\u6784\u5efa\u4e86\u6570\u636e\u548c\u795e\u7ecf\u7f51\u7edc,\u53ef\u4ee5\u8df3\u8fc7\u524d\u56db\u6b65,\u76f4\u63a5\u8fdb\u5165\u7b2c5\u6b65\u3002\n\n1. \u5bfc\u5165\u52a0\u8f7d\u6570\u636e\u6240\u9700\u7684\u6240\u6709\u5fc5\u8981\u5e93\n2. \u52a0\u8f7d\u548c\u6807\u51c6\u5316\u6570\u636e\u96c6\n3. \u6784\u5efa\u795e\u7ecf\u7f51\u7edc\n4. \u5b9a\u4e49\u635f\u5931\u51fd\u6570\n5. \u5728\u8bad\u7ec3\u7f51\u7edc\u65f6\u6e05\u96f6\u68af\u5ea6\n\n## 1. \u5bfc\u5165\u52a0\u8f7d\u6570\u636e\u6240\u9700\u7684\u5fc5\u8981\u5e93\n\n\u5bf9\u4e8e\u672c\u6559\u7a0b,\u6211\u4eec\u53ea\u4f7f\u7528 ``torch`` \u548c ``torchvision`` \u6765\u8bbf\u95ee\u6570\u636e\u96c6\u3002\n\n\n"
      ]
    },
    {
      "cell_type": "code",
      "execution_count": null,
      "metadata": {
        "collapsed": false
      },
      "outputs": [],
      "source": [
        "import torch\n\nimport torch.nn as nn\nimport torch.nn.functional as F\n\nimport torch.optim as optim\n\nimport torchvision\nimport torchvision.transforms as transforms"
      ]
    },
    {
      "cell_type": "markdown",
      "metadata": {},
      "source": [
        "## 2. \u52a0\u8f7d\u548c\u6807\u51c6\u5316\u6570\u636e\u96c6\n\nPyTorch\u63d0\u4f9b\u4e86\u5404\u79cd\u5185\u7f6e\u6570\u636e\u96c6(\u6709\u5173\u66f4\u591a\u4fe1\u606f,\u8bf7\u53c2\u9605\u52a0\u8f7d\u6570\u636e\u6559\u7a0b)\u3002\n\n\n"
      ]
    },
    {
      "cell_type": "code",
      "execution_count": null,
      "metadata": {
        "collapsed": false
      },
      "outputs": [],
      "source": [
        "transform = transforms.Compose(\n    [transforms.ToTensor(),\n     transforms.Normalize((0.5, 0.5, 0.5), (0.5, 0.5, 0.5))])\n\ntrainset = torchvision.datasets.CIFAR10(root='./data', train=True,\n                                        download=True, transform=transform)\ntrainloader = torch.utils.data.DataLoader(trainset, batch_size=4,\n                                          shuffle=True, num_workers=2)\n\ntestset = torchvision.datasets.CIFAR10(root='./data', train=False,\n                                       download=True, transform=transform)\ntestloader = torch.utils.data.DataLoader(testset, batch_size=4,\n                                         shuffle=False, num_workers=2)\n\nclasses = ('plane', 'car', 'bird', 'cat',\n           'deer', 'dog', 'frog', 'horse', 'ship', 'truck')"
      ]
    },
    {
      "cell_type": "markdown",
      "metadata": {},
      "source": [
        "## 3. \u6784\u5efa\u795e\u7ecf\u7f51\u7edc\n\n\u6211\u4eec\u5c06\u4f7f\u7528\u5377\u79ef\u795e\u7ecf\u7f51\u7edc\u3002\u8981\u4e86\u89e3\u66f4\u591a\u4fe1\u606f,\u8bf7\u53c2\u9605\u5b9a\u4e49\u795e\u7ecf\u7f51\u7edc\u6559\u7a0b\u3002\n\n\n"
      ]
    },
    {
      "cell_type": "code",
      "execution_count": null,
      "metadata": {
        "collapsed": false
      },
      "outputs": [],
      "source": [
        "class Net(nn.Module):\n    def __init__(self):\n        super(Net, self).__init__()\n        self.conv1 = nn.Conv2d(3, 6, 5)\n        self.pool = nn.MaxPool2d(2, 2)\n        self.conv2 = nn.Conv2d(6, 16, 5)\n        self.fc1 = nn.Linear(16 * 5 * 5, 120)\n        self.fc2 = nn.Linear(120, 84)\n        self.fc3 = nn.Linear(84, 10)\n\n    def forward(self, x):\n        x = self.pool(F.relu(self.conv1(x)))\n        x = self.pool(F.relu(self.conv2(x)))\n        x = x.view(-1, 16 * 5 * 5)\n        x = F.relu(self.fc1(x))\n        x = F.relu(self.fc2(x))\n        x = self.fc3(x)\n        return x"
      ]
    },
    {
      "cell_type": "markdown",
      "metadata": {},
      "source": [
        "## 4. \u5b9a\u4e49\u635f\u5931\u51fd\u6570\u548c\u4f18\u5316\u5668\n\n\u8ba9\u6211\u4eec\u4f7f\u7528\u5206\u7c7b\u4ea4\u53c9\u71b5\u635f\u5931\u548c\u5e26\u52a8\u91cf\u7684SGD\u3002\n\n\n"
      ]
    },
    {
      "cell_type": "code",
      "execution_count": null,
      "metadata": {
        "collapsed": false
      },
      "outputs": [],
      "source": [
        "net = Net()\ncriterion = nn.CrossEntropyLoss()\noptimizer = optim.SGD(net.parameters(), lr=0.001, momentum=0.9)"
      ]
    },
    {
      "cell_type": "markdown",
      "metadata": {},
      "source": [
        "## 5. \u5728\u8bad\u7ec3\u7f51\u7edc\u65f6\u6e05\u96f6\u68af\u5ea6\n\n\u6211\u4eec\u53ea\u9700\u8981\u904d\u5386\u6570\u636e\u8fed\u4ee3\u5668,\u5e76\u5c06\u8f93\u5165\u9988\u9001\u5230\u7f51\u7edc\u4e2d\u5e76\u4f18\u5316\u3002\n\n\u6ce8\u610f,\u5bf9\u4e8e\u6bcf\u4e2a\u6570\u636e\u5b9e\u4f53,\u6211\u4eec\u90fd\u4f1a\u6e05\u96f6\u68af\u5ea6\u3002\u8fd9\u662f\u4e3a\u4e86\u786e\u4fdd\u5728\u8bad\u7ec3\u795e\u7ecf\u7f51\u7edc\u65f6,\u6211\u4eec\u4e0d\u4f1a\u8ddf\u8e2a\u4efb\u4f55\u4e0d\u5fc5\u8981\u7684\u4fe1\u606f\u3002\n\n\n"
      ]
    },
    {
      "cell_type": "code",
      "execution_count": null,
      "metadata": {
        "collapsed": false
      },
      "outputs": [],
      "source": [
        "for epoch in range(2):  # loop over the dataset multiple times\n\n    running_loss = 0.0\n    for i, data in enumerate(trainloader, 0):\n        # \u83b7\u53d6\u8f93\u5165,data\u662f\u4e00\u4e2a\u5305\u542b[\u8f93\u5165,\u6807\u7b7e]\u7684\u5217\u8868\n        inputs, labels = data\n\n        # \u6e05\u96f6\u53c2\u6570\u68af\u5ea6\n        optimizer.zero_grad()\n\n        # \u524d\u5411 + \u53cd\u5411 + \u4f18\u5316\n        outputs = net(inputs)\n        loss = criterion(outputs, labels)\n        loss.backward()\n        optimizer.step()\n\n        # \u6253\u5370\u7edf\u8ba1\u4fe1\u606f\n        running_loss += loss.item()\n        if i % 2000 == 1999:    # \u6bcf2000\u4e2a\u5c0f\u6279\u6b21\u6253\u5370\u4e00\u6b21\n            print('[%d, %5d] loss: %.3f' %\n                  (epoch + 1, i + 1, running_loss / 2000))\n            running_loss = 0.0\n\nprint('Finished Training')"
      ]
    },
    {
      "cell_type": "markdown",
      "metadata": {},
      "source": [
        "\u4f60\u4e5f\u53ef\u4ee5\u4f7f\u7528 ``model.zero_grad()``\u3002\u53ea\u8981\u4f60\u7684\u6240\u6709\u6a21\u578b\u53c2\u6570\u90fd\u5728\u8be5\u4f18\u5316\u5668\u4e2d,\n\u4f7f\u7528 ``model.zero_grad()`` \u548c\u4f7f\u7528 ``optimizer.zero_grad()`` \u662f\u4e00\u6837\u7684\u3002\u8bf7\u6839\u636e\u5177\u4f53\u60c5\u51b5\u51b3\u5b9a\u4f7f\u7528\u54ea\u4e00\u79cd\u65b9\u5f0f\u3002\n\n\u795d\u8d3a\u4f60!\u4f60\u5df2\u7ecf\u6210\u529f\u5730\u5728PyTorch\u4e2d\u6e05\u96f6\u4e86\u68af\u5ea6\u3002\n\n# \u7ee7\u7eed\u5b66\u4e60\n\n\u67e5\u770b\u8fd9\u4e9b\u5176\u4ed6\u6559\u7a0b,\u7ee7\u7eed\u4f60\u7684\u5b66\u4e60\u4e4b\u65c5:\n\n- [\u5728PyTorch\u4e2d\u52a0\u8f7d\u6570\u636e](https://pytorch.org/tutorials/recipes/recipes/loading_data_recipe.html)_\n- [\u5728PyTorch\u4e2d\u8de8\u8bbe\u5907\u4fdd\u5b58\u548c\u52a0\u8f7d\u6a21\u578b](https://pytorch.org/tutorials/recipes/recipes/save_load_across_devices.html)_\n"
      ]
    }
  ],
  "metadata": {
    "kernelspec": {
      "display_name": "Python 3",
      "language": "python",
      "name": "python3"
    },
    "language_info": {
      "codemirror_mode": {
        "name": "ipython",
        "version": 3
      },
      "file_extension": ".py",
      "mimetype": "text/x-python",
      "name": "python",
      "nbconvert_exporter": "python",
      "pygments_lexer": "ipython3",
      "version": "3.10.0"
    }
  },
  "nbformat": 4,
  "nbformat_minor": 0
}