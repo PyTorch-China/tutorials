{
  "cells": [
    {
      "cell_type": "code",
      "execution_count": null,
      "metadata": {
        "collapsed": false
      },
      "outputs": [],
      "source": [
        "# For tips on running notebooks in Google Colab, see\n# https://pytorch.org/tutorials/beginner/colab\n%matplotlib inline"
      ]
    },
    {
      "cell_type": "markdown",
      "metadata": {},
      "source": [
        "\n# Warm-up: numpy\n\n\u4e00\u4e2a\u4e09\u6b21\u591a\u9879\u5f0f\uff0c\u4ece $-\\pi$ \u5230 $\\pi$ \u7684 $y=\\sin(x)$\uff0c\u901a\u8fc7\u6700\u5c0f\u5316\u6b27\u51e0\u91cc\u5f97\u8ddd\u79bb\u7684\u5e73\u65b9\u6765\u8bad\u7ec3\u9884\u6d4b\u3002\n\n\u8be5\u5b9e\u73b0\u4f7f\u7528 numpy \u624b\u52a8\u8ba1\u7b97\u524d\u5411\u4f20\u9012\u3001\u635f\u5931\u548c\u53cd\u5411\u4f20\u9012\u3002\n\nnumpy\u6570\u7ec4\u662f\u4e00\u4e2a\u901a\u7528\u7684n\u7ef4\u6570\u7ec4\uff1b\u5b83\u4e0d\u4e86\u89e3\u6df1\u5ea6\u5b66\u4e60\u3001\u68af\u5ea6\u6216\u8ba1\u7b97\u56fe\uff0c\u53ea\u662f\u7528\u4e8e\u6267\u884c\u901a\u7528\u6570\u503c\u8ba1\u7b97\u7684\u4e00\u4e2a\u5e93\u3002\n"
      ]
    },
    {
      "cell_type": "code",
      "execution_count": null,
      "metadata": {
        "collapsed": false
      },
      "outputs": [],
      "source": [
        "import numpy as np\nimport math\n\n# Create random input and output data\nx = np.linspace(-math.pi, math.pi, 2000)\ny = np.sin(x)\n\n# Randomly initialize weights\na = np.random.randn()\nb = np.random.randn()\nc = np.random.randn()\nd = np.random.randn()\n\nlearning_rate = 1e-6\nfor t in range(2000):\n    # Forward pass: compute predicted y\n    # y = a + b x + c x^2 + d x^3\n    y_pred = a + b * x + c * x ** 2 + d * x ** 3\n\n    # Compute and print loss\n    loss = np.square(y_pred - y).sum()\n    if t % 100 == 99:\n        print(t, loss)\n\n    # Backprop to compute gradients of a, b, c, d with respect to loss\n    grad_y_pred = 2.0 * (y_pred - y)\n    grad_a = grad_y_pred.sum()\n    grad_b = (grad_y_pred * x).sum()\n    grad_c = (grad_y_pred * x ** 2).sum()\n    grad_d = (grad_y_pred * x ** 3).sum()\n\n    # Update weights\n    a -= learning_rate * grad_a\n    b -= learning_rate * grad_b\n    c -= learning_rate * grad_c\n    d -= learning_rate * grad_d\n\nprint(f'Result: y = {a} + {b} x + {c} x^2 + {d} x^3')"
      ]
    }
  ],
  "metadata": {
    "kernelspec": {
      "display_name": "Python 3",
      "language": "python",
      "name": "python3"
    },
    "language_info": {
      "codemirror_mode": {
        "name": "ipython",
        "version": 3
      },
      "file_extension": ".py",
      "mimetype": "text/x-python",
      "name": "python",
      "nbconvert_exporter": "python",
      "pygments_lexer": "ipython3",
      "version": "3.11.9"
    }
  },
  "nbformat": 4,
  "nbformat_minor": 0
}