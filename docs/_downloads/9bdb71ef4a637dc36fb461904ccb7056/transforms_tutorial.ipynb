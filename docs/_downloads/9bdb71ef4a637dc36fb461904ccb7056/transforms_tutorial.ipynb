{
  "cells": [
    {
      "cell_type": "code",
      "execution_count": null,
      "metadata": {
        "collapsed": false
      },
      "outputs": [],
      "source": [
        "# For tips on running notebooks in Google Colab, see\n# https://pytorch.org/tutorials/beginner/colab\n%matplotlib inline"
      ]
    },
    {
      "cell_type": "markdown",
      "metadata": {},
      "source": [
        "\n[Learn the Basics](intro.html) ||\n[Quickstart](quickstart_tutorial.html) ||\n[Tensors](tensorqs_tutorial.html) ||\n[Datasets & DataLoaders](data_tutorial.html) ||\n**Transforms** ||\n[Build Model](buildmodel_tutorial.html) ||\n[Autograd](autogradqs_tutorial.html) ||\n[Optimization](optimization_tutorial.html) ||\n[Save & Load Model](saveloadrun_tutorial.html)\n\n# Transforms\n\n\u6570\u636e\u5e76\u4e0d\u603b\u662f\u4ee5\u8bad\u7ec3\u673a\u5668\u5b66\u4e60\u7b97\u6cd5\u6240\u9700\u7684\u6700\u7ec8\u5904\u7406\u5f62\u5f0f\u5448\u73b0\u3002\u6211\u4eec\u4f7f\u7528**transforms**\u6765\u5bf9\u6570\u636e\u8fdb\u884c\u4e00\u4e9b\u5904\u7406\uff0c\u4f7f\u5176\u9002\u7528\u4e8e\u8bad\u7ec3\u3002\n\n\u6240\u6709 TorchVision \u6570\u636e\u96c6\u90fd\u6709\u4e24\u4e2a\u53c2\u6570 - `transform` \u7528\u4e8e\u4fee\u6539\u7279\u5f81\uff0c`target_transform` \u7528\u4e8e\u4fee\u6539\u6807\u7b7e \n- \u5b83\u4eec\u63a5\u53d7\u5305\u542b\u8f6c\u6362\u903b\u8f91\u7684\u53ef\u8c03\u7528\u5bf9\u8c61\u3002[torchvision.transforms](https://pytorch.org/vision/stable/transforms.html) \u6a21\u5757\u63d0\u4f9b\u4e86\u51e0\u79cd\u5e38\u7528\u7684\u8f6c\u6362\u3002\n\nFashionMNIST \u7684\u7279\u5f81\u662f\u4ee5 PIL \u56fe\u50cf\u683c\u5f0f\u5448\u73b0\u7684\uff0c\u6807\u7b7e\u662f\u6574\u6570\u3002\u5bf9\u4e8e\u8bad\u7ec3\uff0c\u6211\u4eec\u9700\u8981\u5c06\u7279\u5f81\u8f6c\u6362\u4e3a\u5f52\u4e00\u5316\u7684\u5f20\u91cf\uff0c\n\u5c06\u6807\u7b7e\u8f6c\u6362\u4e3a\u7f16\u7801\u7684\u5f20\u91cf\u3002\u4e3a\u4e86\u8fdb\u884c\u8fd9\u4e9b\u8f6c\u6362\uff0c\u6211\u4eec\u4f7f\u7528\u4e86 ``ToTensor`` \u548c ``Lambda``\u3002\n"
      ]
    },
    {
      "cell_type": "code",
      "execution_count": null,
      "metadata": {
        "collapsed": false
      },
      "outputs": [],
      "source": [
        "import torch\nfrom torchvision import datasets\nfrom torchvision.transforms import ToTensor, Lambda\n\nds = datasets.FashionMNIST(\n    root=\"data\",\n    train=True,\n    download=True,\n    transform=ToTensor(),\n    target_transform=Lambda(lambda y: torch.zeros(\n        10, dtype=torch.float).scatter_(0, torch.tensor(y), value=1))\n)"
      ]
    },
    {
      "cell_type": "markdown",
      "metadata": {},
      "source": [
        "## ToTensor()\n\n[ToTensor](https://pytorch.org/vision/stable/transforms.html#torchvision.transforms.ToTensor)\n\u5c06 PIL \u56fe\u50cf\u6216 NumPy ``ndarray`` \u8f6c\u6362\u4e3a ``FloatTensor``\uff0c\u5e76\u5c06\u56fe\u50cf\u7684\u50cf\u7d20\u5f3a\u5ea6\u503c\u7f29\u653e\u5230\u8303\u56f4 [0., 1.]\u3002\n\n"
      ]
    },
    {
      "cell_type": "markdown",
      "metadata": {},
      "source": [
        "## Lambda Transforms\n\nLambda transforms \u5e94\u7528\u4efb\u4f55\u7528\u6237\u5b9a\u4e49\u7684 lambda \u51fd\u6570\u3002\u8fd9\u91cc\uff0c\u6211\u4eec\u5b9a\u4e49\u4e00\u4e2a\u51fd\u6570\u5c06\u6574\u6570\u8f6c\u6362\u4e3a\u72ec\u70ed\u7f16\u7801\u7684\u5f20\u91cf\u3002\n\u5b83\u9996\u5148\u521b\u5efa\u4e00\u4e2a\u5927\u5c0f\u4e3a 10\uff08\u6211\u4eec\u6570\u636e\u96c6\u4e2d\u6807\u7b7e\u7684\u6570\u91cf\uff09\u7684\u96f6\u5f20\u91cf\uff0c\u7136\u540e\u8c03\u7528 [scatter_](https://pytorch.org/docs/stable/generated/torch.Tensor.scatter_.html)\uff0c\n\u5728\u7531\u6807\u7b7e ``y`` \u6307\u5b9a\u7684\u7d22\u5f15\u4e0a\u8d4b\u503c\u4e3a ``1``\u3002\n\n"
      ]
    },
    {
      "cell_type": "code",
      "execution_count": null,
      "metadata": {
        "collapsed": false
      },
      "outputs": [],
      "source": [
        "target_transform = Lambda(lambda y: torch.zeros(\n    10, dtype=torch.float).scatter_(dim=0, index=torch.tensor(y), value=1))"
      ]
    },
    {
      "cell_type": "markdown",
      "metadata": {},
      "source": [
        "--------------\n\n\n"
      ]
    },
    {
      "cell_type": "markdown",
      "metadata": {},
      "source": [
        "### \u5ef6\u4f38\u9605\u8bfb\n- [torchvision.transforms API](https://pytorch.org/vision/stable/transforms.html)\n\n"
      ]
    }
  ],
  "metadata": {
    "kernelspec": {
      "display_name": "Python 3",
      "language": "python",
      "name": "python3"
    },
    "language_info": {
      "codemirror_mode": {
        "name": "ipython",
        "version": 3
      },
      "file_extension": ".py",
      "mimetype": "text/x-python",
      "name": "python",
      "nbconvert_exporter": "python",
      "pygments_lexer": "ipython3",
      "version": "3.11.9"
    }
  },
  "nbformat": 4,
  "nbformat_minor": 0
}