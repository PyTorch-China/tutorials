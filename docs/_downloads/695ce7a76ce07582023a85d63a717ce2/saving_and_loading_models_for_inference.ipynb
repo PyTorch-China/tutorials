{
  "cells": [
    {
      "cell_type": "code",
      "execution_count": null,
      "metadata": {
        "collapsed": false
      },
      "outputs": [],
      "source": [
        "# For tips on running notebooks in Google Colab, see\n# https://pytorch.org/tutorials/beginner/colab\n%matplotlib inline"
      ]
    },
    {
      "cell_type": "markdown",
      "metadata": {},
      "source": [
        "\n# PyTorch \u4fdd\u5b58\u548c\u52a0\u8f7d\u6a21\u578b\n\u5728PyTorch\u4e2d\u4fdd\u5b58\u548c\u52a0\u8f7d\u6a21\u578b\u6709\u4e24\u79cd\u65b9\u6cd5\u3002\n\u7b2c\u4e00\u79cd\u662f\u4fdd\u5b58\u548c\u52a0\u8f7d ``state_dict``\uff0c\u7b2c\u4e8c\u79cd\u662f\u4fdd\u5b58\u548c\u52a0\u8f7d\u6574\u4e2a\u6a21\u578b\u3002\n\n## \u7b80\u4ecb\n\u4f7f\u7528 ``torch.save()`` \u51fd\u6570\u4fdd\u5b58\u6a21\u578b\u7684 ``state_dict`` \u4e3a\u540e\u7eed\u6062\u590d\u6a21\u578b\u63d0\u4f9b\u8f83\u5927\u7684\u7075\u6d3b\u6027\u3002\n\u4fdd\u5b58\u6a21\u578b\u7684\u63a8\u8350\u4f7f\u7528\u6b64\u65b9\u6cd5\uff0c\u56e0\u4e3a\u53ea\u9700\u8981\u4fdd\u5b58\u8bad\u7ec3\u597d\u7684\u6a21\u578b\u7684\u5b66\u4e60\u53c2\u6570\u3002\n\n\u5f53\u4fdd\u5b58\u548c\u52a0\u8f7d\u6574\u4e2a\u6a21\u578b\u65f6\uff0c\u4f60\u4f7f\u7528Python  [pickle](https://docs.python.org/3/library/pickle.html)_ \u6a21\u5757\u4fdd\u5b58\u6574\u4e2a\u6a21\u5757\u3002\n\u4f7f\u7528\u8fd9\u79cd\u65b9\u6cd5\u8bed\u6cd5\u6700\u76f4\u89c2\uff0c\u4ee3\u7801\u91cf\u6700\u5c11\u3002\u4f46\u8fd9\u79cd\u65b9\u6cd5\u7684\u7f3a\u70b9\u662f\u5e8f\u5217\u5316\u7684\u6570\u636e\u4e0e\u4fdd\u5b58\u6a21\u578b\u65f6\u4f7f\u7528\u7684\u7279\u5b9a\u7c7b\u548c\u76ee\u5f55\u7ed3\u6784\u7ed1\u5b9a\u5728\u4e00\u8d77\u3002\n\u539f\u56e0\u662fpickle\u4e0d\u4fdd\u5b58\u6a21\u578b\u7c7b\u672c\u8eab\uff0c\u800c\u662f\u4fdd\u5b58\u5305\u542b\u8be5\u7c7b\u7684\u6587\u4ef6\u7684\u8def\u5f84\uff0c\u8be5\u8def\u5f84\u5728\u52a0\u8f7d\u65f6\u4f7f\u7528\u3002\n\u56e0\u6b64\uff0c\u5f53\u5728\u5176\u4ed6\u9879\u76ee\u4e2d\u4f7f\u7528\u6216\u91cd\u6784\u540e\uff0c\u4ee3\u7801\u53ef\u80fd\u4f1a\u51fa\u73b0\u5404\u79cd\u5f02\u5e38\u5bfc\u81f4\u7a0b\u5e8f\u4e2d\u65ad\u3002\n\n\u5728\u672c\u6559\u7a0b\u4e2d\uff0c\u6211\u4eec\u5c06\u5c55\u793a\u4e24\u79cd\u65b9\u5f0f\u5982\u4f55\u5728PyTorch\u4e2d\u4fdd\u5b58\u548c\u52a0\u8f7d\u6a21\u578b\u3002\n\n## \u73af\u5883\u8bbe\u7f6e\n\u5728\u5f00\u59cb\u4e4b\u524d\uff0c\u5982\u679c\u8fd8\u6ca1\u6709\u5b89\u88c5 ``torch``\uff0c\u6211\u4eec\u9700\u8981\u5148\u5b89\u88c5\u5b83\u3002\n\n::\n\n   pip install torch\n"
      ]
    },
    {
      "cell_type": "markdown",
      "metadata": {},
      "source": [
        "## \u5177\u4f53\u6b65\u9aa4\n\n1. \u5bfc\u5165\u52a0\u8f7d\u6570\u636e\u6240\u9700\u7684\u6240\u6709\u5fc5\u8981\u5e93\n2. \u5b9a\u4e49\u548c\u521d\u59cb\u5316\u795e\u7ecf\u7f51\u7edc\n3. \u521d\u59cb\u5316\u4f18\u5316\u5668\n4. \u901a\u8fc7 ``state_dict`` \u4fdd\u5b58\u548c\u52a0\u8f7d\u6a21\u578b\n5. \u4fdd\u5b58\u548c\u52a0\u8f7d\u6574\u4e2a\u6a21\u578b\n\n### 1. \u5bfc\u5165\u52a0\u8f7d\u6570\u636e\u6240\u9700\u7684\u5fc5\u8981\u5e93\n\n\u5bf9\u4e8e\u672c\u6559\u7a0b\uff0c\u6211\u4eec\u5c06\u4f7f\u7528 ``torch`` \u53ca\u5176\u5b50\u6a21\u5757 ``torch.nn`` \u548c ``torch.optim``\u3002\n\n\n"
      ]
    },
    {
      "cell_type": "code",
      "execution_count": null,
      "metadata": {
        "collapsed": false
      },
      "outputs": [],
      "source": [
        "import torch\nimport torch.nn as nn\nimport torch.optim as optim"
      ]
    },
    {
      "cell_type": "markdown",
      "metadata": {},
      "source": [
        "### 2. \u5b9a\u4e49\u548c\u521d\u59cb\u5316\u795e\u7ecf\u7f51\u7edc\n\n\u4e3a\u4e86\u6f14\u793a\uff0c\u6211\u4eec\u5c06\u521b\u5efa\u4e00\u4e2a\u7528\u4e8e\u8bad\u7ec3\u56fe\u50cf\u7684\u795e\u7ecf\u7f51\u7edc\u3002\u8981\u4e86\u89e3\u66f4\u591a\u4fe1\u606f\uff0c\u8bf7\u53c2\u9605\u5b9a\u4e49\u795e\u7ecf\u7f51\u7edc\u7684\u6559\u7a0b\u3002\n\n\n"
      ]
    },
    {
      "cell_type": "code",
      "execution_count": null,
      "metadata": {
        "collapsed": false
      },
      "outputs": [],
      "source": [
        "class Net(nn.Module):\n    def __init__(self):\n        super(Net, self).__init__()\n        self.conv1 = nn.Conv2d(3, 6, 5)\n        self.pool = nn.MaxPool2d(2, 2)\n        self.conv2 = nn.Conv2d(6, 16, 5)\n        self.fc1 = nn.Linear(16 * 5 * 5, 120)\n        self.fc2 = nn.Linear(120, 84)\n        self.fc3 = nn.Linear(84, 10)\n\n    def forward(self, x):\n        x = self.pool(F.relu(self.conv1(x)))\n        x = self.pool(F.relu(self.conv2(x)))\n        x = x.view(-1, 16 * 5 * 5)\n        x = F.relu(self.fc1(x))\n        x = F.relu(self.fc2(x))\n        x = self.fc3(x)\n        return x\n\nnet = Net()\nprint(net)"
      ]
    },
    {
      "cell_type": "markdown",
      "metadata": {},
      "source": [
        "### 3. \u521d\u59cb\u5316\u4f18\u5316\u5668\n\n\u6211\u4eec\u5c06\u4f7f\u7528 SGD \u4f18\u5316\u5668\u3002\n\n\n"
      ]
    },
    {
      "cell_type": "code",
      "execution_count": null,
      "metadata": {
        "collapsed": false
      },
      "outputs": [],
      "source": [
        "optimizer = optim.SGD(net.parameters(), lr=0.001, momentum=0.9)"
      ]
    },
    {
      "cell_type": "markdown",
      "metadata": {},
      "source": [
        "### 4. \u901a\u8fc7 ``state_dict`` \u4fdd\u5b58\u548c\u52a0\u8f7d\u6a21\u578b\n\n\u8ba9\u6211\u4eec\u53ea\u4f7f\u7528 ``state_dict`` \u6765\u4fdd\u5b58\u548c\u52a0\u8f7d\u6211\u4eec\u7684\u6a21\u578b\u3002\n\n\n"
      ]
    },
    {
      "cell_type": "code",
      "execution_count": null,
      "metadata": {
        "collapsed": false
      },
      "outputs": [],
      "source": [
        "# \u8def\u5f84\nPATH = \"state_dict_model.pt\"\n\n# \u4fdd\u5b58\ntorch.save(net.state_dict(), PATH)\n\n# \u52a0\u8f7d\nmodel = Net()\nmodel.load_state_dict(torch.load(PATH))\nmodel.eval()"
      ]
    },
    {
      "cell_type": "markdown",
      "metadata": {},
      "source": [
        "\u5728PyTorch\u4e2d\uff0c\u901a\u5e38\u4f7f\u7528 ``.pt`` \u6216 ``.pth`` \u6587\u4ef6\u6269\u5c55\u540d\u6765\u4fdd\u5b58\u6a21\u578b\u3002\n\n\u6ce8\u610f ``load_state_dict()`` \u51fd\u6570\u63a5\u53d7\u4e00\u4e2a\u5b57\u5178\u5bf9\u8c61\uff0c\u800c\u4e0d\u662f\u4fdd\u5b58\u5bf9\u8c61\u7684\u8def\u5f84\u3002\n\u8fd9\u610f\u5473\u7740\u4f60\u5fc5\u987b\u5148\u53cd\u5e8f\u5217\u5316\u4fdd\u5b58\u7684state_dict\uff0c\u7136\u540e\u518d\u4f20\u9012\u7ed9 ``load_state_dict()`` \u51fd\u6570\u3002\n\u4e0d\u80fd\u4f7f\u7528 ``model.load_state_dict(PATH)`` \u6765\u52a0\u8f7d\u3002\n\n\u8fd8\u8981\u8bb0\u4f4f\uff0c\u5728\u8fd0\u884c\u63a8\u7406\u4e4b\u524d\uff0c\u4f60\u5fc5\u987b\u8c03\u7528 ``model.eval()`` \u5c06dropout\u548cbatch normalization layers\u8bbe\u7f6e\u4e3a\u8bc4\u4f30\u6a21\u5f0f\u3002\n\u5426\u5219\u5c06\u5bfc\u81f4\u63a8\u7406\u7ed3\u679c\u4e0d\u4e00\u81f4\u3002\n\n### 5. \u4fdd\u5b58\u548c\u52a0\u8f7d\u6574\u4e2a\u6a21\u578b\n\n\u73b0\u5728\u8ba9\u6211\u4eec\u5c1d\u8bd5\u5c06\u6574\u4e2a\u6a21\u578b\u8fdb\u884c\u4fdd\u5b58\u548c\u52a0\u8f7d\u3002\n\n\n"
      ]
    },
    {
      "cell_type": "code",
      "execution_count": null,
      "metadata": {
        "collapsed": false
      },
      "outputs": [],
      "source": [
        "# Specify a path\nPATH = \"entire_model.pt\"\n\n# Save\ntorch.save(net, PATH)\n\n# Load\nmodel = torch.load(PATH)\nmodel.eval()"
      ]
    },
    {
      "cell_type": "markdown",
      "metadata": {},
      "source": [
        "\u5728\u8fd9\u91cc\uff0c\u540c\u6837\u8981\u8bb0\u4f4f\u5728\u8fd0\u884c\u63a8\u7406\u4e4b\u524d\u8c03\u7528 ``model.eval()`` \u5c06 dropout \u548c batch normalization layers \u8bbe\u7f6e\u4e3a\u8bc4\u4f30\u6a21\u5f0f\u3002\n\n\u795d\u8d3a\u4f60\uff01\u4f60\u5df2\u7ecf\u6210\u529f\u5730\u5728PyTorch\u4e2d\u4fdd\u5b58\u548c\u52a0\u8f7d\u4e86\u7528\u4e8e\u63a8\u7406\u7684\u6a21\u578b\u3002\n\n## \u7ee7\u7eed\u5b66\u4e60\n\n\u67e5\u770b\u8fd9\u4e9b\u5176\u4ed6\u6559\u7a0b\u4ee5\u7ee7\u7eed\u5b66\u4e60\uff1a\n\n- [PyTorch\u4e2d\u4fdd\u5b58\u548c\u52a0\u8f7d\u901a\u7528\u68c0\u67e5\u70b9](https://pytorch.org/tutorials/recipes/recipes/saving_and_loading_a_general_checkpoint.html)_\n- [PyTorch\u4e2d\u5c06\u591a\u4e2a\u6a21\u578b\u4fdd\u5b58\u5728\u4e00\u4e2a\u6587\u4ef6\u4e2d](https://pytorch.org/tutorials/recipes/recipes/saving_multiple_models_in_one_file.html)_\n"
      ]
    }
  ],
  "metadata": {
    "kernelspec": {
      "display_name": "Python 3",
      "language": "python",
      "name": "python3"
    },
    "language_info": {
      "codemirror_mode": {
        "name": "ipython",
        "version": 3
      },
      "file_extension": ".py",
      "mimetype": "text/x-python",
      "name": "python",
      "nbconvert_exporter": "python",
      "pygments_lexer": "ipython3",
      "version": "3.10.0"
    }
  },
  "nbformat": 4,
  "nbformat_minor": 0
}