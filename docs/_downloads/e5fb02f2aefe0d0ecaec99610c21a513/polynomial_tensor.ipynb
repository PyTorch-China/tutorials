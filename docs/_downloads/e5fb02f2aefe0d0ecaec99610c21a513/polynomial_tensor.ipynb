{
  "cells": [
    {
      "cell_type": "code",
      "execution_count": null,
      "metadata": {
        "collapsed": false
      },
      "outputs": [],
      "source": [
        "# For tips on running notebooks in Google Colab, see\n# https://pytorch.org/tutorials/beginner/colab\n%matplotlib inline"
      ]
    },
    {
      "cell_type": "markdown",
      "metadata": {},
      "source": [
        "\n# PyTorch\uff1a\u5f20\u91cf(Tensors)\n\n\u4e00\u4e2a\u4e09\u6b21\u591a\u9879\u5f0f\uff0c\u901a\u8fc7\u6700\u5c0f\u5316\u6b27\u51e0\u91cc\u5f97\u8ddd\u79bb\u7684\u5e73\u65b9\u6765\u8bad\u7ec3\u9884\u6d4b\u4ece $-\\pi$ \u5230 $\\pi$ \u7684 $y=\\sin(x)$\u3002\n\n\u8be5\u5b9e\u73b0\u4f7f\u7528 PyTorch \u5f20\u91cf\u624b\u52a8\u8ba1\u7b97\u524d\u5411\u4f20\u9012\u3001\u635f\u5931\u548c\u53cd\u5411\u4f20\u9012\u3002\n\nPyTorch \u5f20\u91cf\u57fa\u672c\u4e0a\u4e0e numpy \u6570\u7ec4\u76f8\u540c\uff1a\u5b83\u4e0d\u4e86\u89e3\u6df1\u5ea6\u5b66\u4e60\u3001\u8ba1\u7b97\u56fe\u6216\u68af\u5ea6\uff0c\u53ea\u662f\u7528\u4e8e\u4efb\u610f\u6570\u503c\u8ba1\u7b97\u7684\u901a\u7528n\u7ef4\u6570\u7ec4\u3002\n\nnumpy \u6570\u7ec4\u548c PyTorch \u5f20\u91cf\u4e4b\u95f4\u6700\u5927\u7684\u533a\u522b\u662f\uff0c PyTorch \u5f20\u91cf\u53ef\u4ee5\u5728 CPU \u6216 GPU \u4e0a\u8fd0\u884c\u3002\u8981\u5728 GPU \u4e0a\u8fd0\u884c\u64cd\u4f5c\uff0c\u53ea\u9700\u5c06\u5f20\u91cf\u8f6c\u6362\u4e3a cuda \u6570\u636e\u7c7b\u578b\u3002\n"
      ]
    },
    {
      "cell_type": "code",
      "execution_count": null,
      "metadata": {
        "collapsed": false
      },
      "outputs": [],
      "source": [
        "import torch\nimport math\n\n\ndtype = torch.float\ndevice = torch.device(\"cpu\")\n# device = torch.device(\"cuda:0\") # Uncomment this to run on GPU\n\n# Create random input and output data\nx = torch.linspace(-math.pi, math.pi, 2000, device=device, dtype=dtype)\ny = torch.sin(x)\n\n# Randomly initialize weights\na = torch.randn((), device=device, dtype=dtype)\nb = torch.randn((), device=device, dtype=dtype)\nc = torch.randn((), device=device, dtype=dtype)\nd = torch.randn((), device=device, dtype=dtype)\n\nlearning_rate = 1e-6\nfor t in range(2000):\n    # Forward pass: compute predicted y\n    y_pred = a + b * x + c * x ** 2 + d * x ** 3\n\n    # Compute and print loss\n    loss = (y_pred - y).pow(2).sum().item()\n    if t % 100 == 99:\n        print(t, loss)\n\n    # Backprop to compute gradients of a, b, c, d with respect to loss\n    grad_y_pred = 2.0 * (y_pred - y)\n    grad_a = grad_y_pred.sum()\n    grad_b = (grad_y_pred * x).sum()\n    grad_c = (grad_y_pred * x ** 2).sum()\n    grad_d = (grad_y_pred * x ** 3).sum()\n\n    # Update weights using gradient descent\n    a -= learning_rate * grad_a\n    b -= learning_rate * grad_b\n    c -= learning_rate * grad_c\n    d -= learning_rate * grad_d\n\n\nprint(f'Result: y = {a.item()} + {b.item()} x + {c.item()} x^2 + {d.item()} x^3')"
      ]
    }
  ],
  "metadata": {
    "kernelspec": {
      "display_name": "Python 3",
      "language": "python",
      "name": "python3"
    },
    "language_info": {
      "codemirror_mode": {
        "name": "ipython",
        "version": 3
      },
      "file_extension": ".py",
      "mimetype": "text/x-python",
      "name": "python",
      "nbconvert_exporter": "python",
      "pygments_lexer": "ipython3",
      "version": "3.10.0"
    }
  },
  "nbformat": 4,
  "nbformat_minor": 0
}