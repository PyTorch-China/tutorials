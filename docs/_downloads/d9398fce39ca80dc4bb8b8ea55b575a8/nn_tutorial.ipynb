{
  "cells": [
    {
      "cell_type": "code",
      "execution_count": null,
      "metadata": {
        "collapsed": false
      },
      "outputs": [],
      "source": [
        "# For tips on running notebooks in Google Colab, see\n# https://pytorch.org/tutorials/beginner/colab\n%matplotlib inline"
      ]
    },
    {
      "cell_type": "markdown",
      "metadata": {},
      "source": [
        "\n# `torch.nn` \u5177\u4f53\u662f\u4ec0\u4e48?\n\n**Authors:** Jeremy Howard, [fast.ai](https://www.fast.ai). Thanks to Rachel Thomas and Francisco Ingham.\n"
      ]
    },
    {
      "cell_type": "markdown",
      "metadata": {},
      "source": [
        "\u6211\u4eec\u5efa\u8bae\u5c06\u672c\u6559\u7a0b\u4f5c\u4e3a\u7b14\u8bb0\u672c\uff08notebook\uff09\u8fd0\u884c\u3002\u8bf7\u70b9\u51fb\u9875\u9762\u9876\u90e8\u7684\u94fe\u63a5\uff0c\u4e0b\u8f7d\u7b14\u8bb0\u672c\uff08``.ipynb``\uff09\u6587\u4ef6\u3002\n\nPyTorch \u63d0\u4f9b\u4e86\u4f18\u96c5\u8bbe\u8ba1\u7684\u6a21\u5757\u548c\u7c7b \n[torch.nn](https://pytorch.org/docs/stable/nn.html) \uff0c\n[torch.optim](https://pytorch.org/docs/stable/optim.html) \uff0c\n[Dataset](https://pytorch.org/docs/stable/data.html?highlight=dataset#torch.utils.data.Dataset) \uff0c\n\u4ee5\u53ca [DataLoader](https://pytorch.org/docs/stable/data.html?highlight=dataloader#torch.utils.data.DataLoader) \uff0c\n\u4ee5\u5e2e\u52a9\u4f60\u521b\u5efa\u548c\u8bad\u7ec3\u795e\u7ecf\u7f51\u7edc\u3002\n\u4e3a\u4e86\u5145\u5206\u5229\u7528\u5b83\u4eec\u7684\u529f\u80fd\uff0c\u5e76\u901a\u8fc7\u81ea\u5b9a\u4e49\u5bf9\u5e94\u6a21\u5757\u6216\u7c7b\uff0c\u6765\u89e3\u51b3\u7279\u5b9a\u95ee\u9898\uff0c\u9700\u8981\u7406\u89e3\u5b83\u4eec\u7684\u5177\u4f53\u529f\u80fd\u3002\u4e3a\u6b64\uff0c\u6211\u4eec\u5c06\u9996\u5148\u5728 MNIST \u6570\u636e\u96c6\u4e0a\u8bad\u7ec3\u4e00\u4e2a\u57fa\u672c\u7684\u795e\u7ecf\u7f51\u7edc\uff0c\u800c\u4e0d\u4f7f\u7528\u8fd9\u4e9b\u6a21\u578b\u7684\u4efb\u4f55\u7279\u6027\uff1b\n\u6211\u4eec\u6700\u521d\u53ea\u4f7f\u7528\u6700\u57fa\u672c\u7684 PyTorch \u5f20\u91cf\u529f\u80fd\u3002\u7136\u540e\uff0c\u6211\u4eec\u5c06\u9010\u6b65\u6dfb\u52a0``torch.nn``\u3001``torch.optim``\u3001``Dataset`` \n\u6216 ``DataLoader``\u4e2d\u7684\u4e00\u4e2a\u7279\u6027\uff0c\u5c55\u793a\u6bcf\u4e2a\u90e8\u5206\u7684\u4f5c\u7528\uff0c\u4ee5\u53ca\u5982\u4f55\u4f7f\u7528\u5b83\u4eec\u8ba9\u4ee3\u7801\u66f4\u7b80\u6d01\u6216\u66f4\u7075\u6d3b\u3002\n\n**\u672c\u6559\u7a0b\u5047\u5b9a\u4f60\u5df2\u7ecf\u5b89\u88c5\u4e86 PyTorch\uff0c\u5e76\u4e14\u719f\u6089\u5f20\u91cf\u64cd\u4f5c\u7684\u57fa\u7840\u77e5\u8bc6\u3002**\uff08\u5982\u679c\u4f60\u719f\u6089 Numpy \u6570\u7ec4\u64cd\u4f5c\uff0c\u4f60\u4f1a\u53d1\u73b0\u8fd9\u91cc\u4f7f\u7528\u7684 PyTorch \u5f20\u91cf\u64cd\u4f5c\u51e0\u4e4e\u76f8\u540c\uff09\u3002\n\n## MNIST \u6570\u636e\u96c6\u8bbe\u7f6e\n\n\u6211\u4eec\u5c06\u4f7f\u7528\u7ecf\u5178\u7684 [MNIST](http://deeplearning.net/data/mnist/) \u6570\u636e\u96c6\uff0c\n\u8be5\u6570\u636e\u96c6\u5305\u542b\u624b\u7ed8\u6570\u5b57\uff080\u52309\u4e4b\u95f4\uff09\u7684\u9ed1\u767d\u56fe\u50cf\u3002\n\n\u6211\u4eec\u5c06\u4f7f\u7528 [pathlib](https://docs.python.org/3/library/pathlib.html)\n\u6765\u5904\u7406\u8def\u5f84\uff08Python 3 \u6807\u51c6\u5e93\u7684\u4e00\u90e8\u5206\uff09\uff0c\u5e76\u4f7f\u7528 [requests](http://docs.python-requests.org/en/master/) \u4e0b\u8f7d\u6570\u636e\u96c6\u3002\n\u6211\u4eec\u53ea\u4f1a\u5728\u4f7f\u7528\u6a21\u5757\u65f6\u624d\u5bfc\u5165\u5b83\u4eec\uff0c\u56e0\u6b64\u4f60\u53ef\u4ee5\u6e05\u695a\u5730\u770b\u5230\u6bcf\u4e2a\u6b65\u9aa4\u4e2d\u6b63\u5728\u4f7f\u7528\u7684\u5185\u5bb9\u3002\n\n"
      ]
    },
    {
      "cell_type": "code",
      "execution_count": null,
      "metadata": {
        "collapsed": false
      },
      "outputs": [],
      "source": [
        "from pathlib import Path\nimport requests\n\nDATA_PATH = Path(\"data\")\nPATH = DATA_PATH / \"mnist\"\n\nPATH.mkdir(parents=True, exist_ok=True)\n\nURL = \"https://github.com/pytorch/tutorials/raw/main/_static/\"\nFILENAME = \"mnist.pkl.gz\"\n\nif not (PATH / FILENAME).exists():\n        content = requests.get(URL + FILENAME).content\n        (PATH / FILENAME).open(\"wb\").write(content)"
      ]
    },
    {
      "cell_type": "markdown",
      "metadata": {},
      "source": [
        "\u8fd9\u4e2a\u6570\u636e\u96c6\u662f numpy \u6570\u7ec4\u683c\u5f0f\u7684\uff0c\u5e76\u4e14\u4f7f\u7528 pickle \u5b58\u50a8\uff0c\n\u8fd9\u662f\u4e00\u4e2a Python \u7279\u6709\u7684\u7528\u4e8e\u5e8f\u5217\u5316\u6570\u636e\u7684\u683c\u5f0f\u3002\n\n"
      ]
    },
    {
      "cell_type": "code",
      "execution_count": null,
      "metadata": {
        "collapsed": false
      },
      "outputs": [],
      "source": [
        "import pickle\nimport gzip\n\nwith gzip.open((PATH / FILENAME).as_posix(), \"rb\") as f:\n        ((x_train, y_train), (x_valid, y_valid), _) = pickle.load(f, encoding=\"latin-1\")"
      ]
    },
    {
      "cell_type": "markdown",
      "metadata": {},
      "source": [
        "\u6bcf\u5f20\u56fe\u50cf\u7684\u5c3a\u5bf8\u4e3a 28 x 28\uff0c\u5e76\u4ee5\u957f\u5ea6\u4e3a 784\uff08=28x28\uff09\u7684\u5c55\u5e73\u884c\u5b58\u50a8\u3002\u8ba9\u6211\u4eec\u6765\u770b\u770b\u5176\u4e2d\u4e00\u5f20\uff1b\u6211\u4eec\u9700\u8981\u5148\u5c06\u5176\u91cd\u5851\u4e3a\u4e8c\u7ef4\u3002\n\n"
      ]
    },
    {
      "cell_type": "code",
      "execution_count": null,
      "metadata": {
        "collapsed": false
      },
      "outputs": [],
      "source": [
        "from matplotlib import pyplot\nimport numpy as np\n\npyplot.imshow(x_train[0].reshape((28, 28)), cmap=\"gray\")\n# ``pyplot.show()`` \u5728\u4e0d\u4f7f\u7528 Colab \u65f6\u4f7f\u7528\ntry:\n    import google.colab\nexcept ImportError:\n    pyplot.show()\nprint(x_train.shape)"
      ]
    },
    {
      "cell_type": "markdown",
      "metadata": {},
      "source": [
        "PyTorch \u4f7f\u7528 ``torch.tensor`` \u800c\u4e0d\u662f numpy \u6570\u7ec4\uff0c\u6240\u4ee5\u6211\u4eec\u9700\u8981\u8f6c\u6362\u6211\u4eec\u7684\u6570\u636e\u3002\n\n"
      ]
    },
    {
      "cell_type": "code",
      "execution_count": null,
      "metadata": {
        "collapsed": false
      },
      "outputs": [],
      "source": [
        "import torch\n\nx_train, y_train, x_valid, y_valid = map(\n    torch.tensor, (x_train, y_train, x_valid, y_valid)\n)\nn, c = x_train.shape\nprint(x_train, y_train)\nprint(x_train.shape)\nprint(y_train.min(), y_train.max())"
      ]
    },
    {
      "cell_type": "markdown",
      "metadata": {},
      "source": [
        "## \u4ece\u96f6\u5f00\u59cb\u7684\u795e\u7ecf\u7f51\u7edc\uff08\u4e0d\u4f7f\u7528 ``torch.nn``\uff09\n\n\u9996\u5148\uff0c\u6211\u4eec\u53ea\u4f7f\u7528 PyTorch \u5f20\u91cf\u64cd\u4f5c\u521b\u5efa\u4e00\u4e2a\u6a21\u578b\u3002\u6211\u4eec\u5047\u8bbe\u4f60\u5df2\u7ecf\u719f\u6089\u795e\u7ecf\u7f51\u7edc\u7684\u57fa\u7840\u77e5\u8bc6\u3002\uff08\u5982\u679c\u4e0d\u719f\u6089\uff0c\u53ef\u4ee5\u5728 [course.fast.ai](https://course.fast.ai) \u5b66\u4e60\u3002\uff09\n\nPyTorch \u63d0\u4f9b\u65b9\u6cd5\u6765\u521b\u5efa \u968f\u673a \u6216 \u96f6 \u586b\u5145\u7684\u5f20\u91cf\uff0c\u6211\u4eec\u5c06\u4f7f\u7528\u8fd9\u4e9b\u65b9\u6cd5\u4e3a\u4e00\u4e2a\u7b80\u5355\u7684\u7ebf\u6027\u6a21\u578b\u521b\u5efa\u6743\u91cd\u548c\u504f\u7f6e\u3002\n\u8fd9\u4e9b\u53ea\u662f\u5e38\u89c4\u7684\u5f20\u91cf\uff0c\u6709\u4e00\u4e2a\u975e\u5e38\u7279\u522b\u7684\u9644\u52a0\u529f\u80fd\uff1a\u6211\u4eec\u544a\u8bc9 PyTorch \u5b83\u4eec\u9700\u8981\u68af\u5ea6\u3002PyTorch \u4f1a\u8bb0\u5f55\u5728\u5f20\u91cf\u4e0a\u5b8c\u6210\u7684\u6240\u6709\u64cd\u4f5c\uff0c\u4ee5\u4fbf\u5728\u53cd\u5411\u4f20\u64ad\u671f\u95f4 *\u81ea\u52a8* \u8ba1\u7b97\u68af\u5ea6\uff01\n\n\u5bf9\u4e8e\u6743\u91cd\uff0c\u6211\u4eec\u5728\u521d\u59cb\u5316 **\u4e4b\u540e** \u8bbe\u7f6e ``requires_grad``\uff0c\u56e0\u4e3a\u6211\u4eec\u4e0d\u5e0c\u671b\u521d\u59cb\u5316\u6b65\u9aa4\u5305\u62ec\u5728\u68af\u5ea6\u4e2d\u3002\uff08\u6ce8\u610f\uff0cPyTorch \u4e2d\u7684\u5c3e\u968f ``_`` \u8868\u793a\u64cd\u4f5c\u662f\u5728\u539f\u5730\u6267\u884c\u3002\uff09\n\n.. \u6ce8\u610f:: \u6211\u4eec\u5728\u8fd9\u91cc\u4f7f\u7528\n   [Xavier \u521d\u59cb\u5316](http://proceedings.mlr.press/v9/glorot10a/glorot10a.pdf)\n   \uff08\u901a\u8fc7\u4e58\u4ee5 ``1/sqrt(n)``\uff09\u521d\u59cb\u5316\u6743\u91cd\u3002\n\n"
      ]
    },
    {
      "cell_type": "code",
      "execution_count": null,
      "metadata": {
        "collapsed": false
      },
      "outputs": [],
      "source": [
        "import math\n\nweights = torch.randn(784, 10) / math.sqrt(784)\nweights.requires_grad_()\nbias = torch.zeros(10, requires_grad=True)"
      ]
    },
    {
      "cell_type": "markdown",
      "metadata": {},
      "source": [
        "\u7531\u4e8e PyTorch \u80fd\u591f\u81ea\u52a8\u8ba1\u7b97\u68af\u5ea6\uff0c\u6211\u4eec\u53ef\u4ee5\u4f7f\u7528\u4efb\u4f55\u6807\u51c6\u7684 Python \u51fd\u6570\uff08\u6216\u53ef\u8c03\u7528\u5bf9\u8c61\uff09\u4f5c\u4e3a\u6a21\u578b\uff01\n\u8ba9\u6211\u4eec\u7f16\u5199\u4e00\u4e2a\u7b80\u5355\u7684\u77e9\u9635\u4e58\u6cd5\u548c\u5e7f\u64ad\u52a0\u6cd5\uff0c\u6765\u521b\u5efa\u4e00\u4e2a\u7b80\u5355\u7684\u7ebf\u6027\u6a21\u578b\u3002\u6211\u4eec\u8fd8\u9700\u8981\u7f16\u5199\u4e00\u4e2a\u6fc0\u6d3b\u51fd\u6570 `log_softmax`\u3002\nPyTorch \u63d0\u4f9b\u4e86\u8bb8\u591a\u9884\u5148\u7f16\u5199\u7684\u635f\u5931\u51fd\u6570\u3001\u6fc0\u6d3b\u51fd\u6570\u7b49\uff0c\u4f60\u4ecd\u53ef\u4ee5\u4f7f\u7528\u666e\u901a\u7684 Python \u7f16\u5199\u81ea\u5df1\u7684\u51fd\u6570\u3002\nPyTorch \u4f1a\u4e3a\u4f60\u7684\u51fd\u6570\u81ea\u52a8\u521b\u5efa GPU \u6216\u77e2\u91cf\u5316 CPU \u4ee3\u7801\u3002\n\n"
      ]
    },
    {
      "cell_type": "code",
      "execution_count": null,
      "metadata": {
        "collapsed": false
      },
      "outputs": [],
      "source": [
        "def log_softmax(x):\n    return x - x.exp().sum(-1).log().unsqueeze(-1)\n\ndef model(xb):\n    return log_softmax(xb @ weights + bias)"
      ]
    },
    {
      "cell_type": "markdown",
      "metadata": {},
      "source": [
        "\u5728\u4e0a\u9762\u7684\u4ee3\u7801\u4e2d\uff0c``@`` \u8868\u793a\u77e9\u9635\u4e58\u6cd5\u64cd\u4f5c\u3002\u5728\u4e00\u4e2a\u6570\u636e\u6279\u6b21\u4e0a\u8c03\u7528\u6211\u4eec\u7684\u51fd\u6570\uff08\u5728\u672c\u4f8b\u4e2d\u4e3a64\u5f20\u56fe\u50cf\uff09\u3002\n\u8fd9\u5c31\u662f\u4e00\u6b21 *\u524d\u5411\u4f20\u9012*\u3002\u8bf7\u6ce8\u610f\uff0c\u7531\u4e8e\u6211\u4eec\u5728\u5f00\u59cb\u65f6\u8bbe\u7f6e\u6743\u91cd\u4e3a\u968f\u673a\u6570\u503c\uff0c\u6b64\u65f6\u9884\u6d4b\u7ed3\u679c\u51c6\u786e\u6027\u8f83\u4f4e\u3002\n\n"
      ]
    },
    {
      "cell_type": "code",
      "execution_count": null,
      "metadata": {
        "collapsed": false
      },
      "outputs": [],
      "source": [
        "bs = 64  # batch size\n\nxb = x_train[0:bs]  # a mini-batch from x\npreds = model(xb)  # predictions\npreds[0], preds.shape\nprint(preds[0], preds.shape)"
      ]
    },
    {
      "cell_type": "markdown",
      "metadata": {},
      "source": [
        "\u5982\u4f60\u6240\u89c1\uff0c``preds`` \u5f20\u91cf\u4e0d\u4ec5\u5305\u542b\u5f20\u91cf\u503c\uff0c\u8fd8\u5305\u542b\u68af\u5ea6\u51fd\u6570\u3002\u5728\u7a0d\u540e\u7684\u53cd\u5411\u4f20\u64ad\u8fc7\u7a0b\u4e2d\u4f1a\u7528\u5230\u5b83\u3002\n\n\u8ba9\u6211\u4eec\u5b9e\u73b0 negative log-likelihood \u4f5c\u4e3a\u635f\u5931\u51fd\u6570\uff08\u540c\u6837\uff0c\u6211\u4eec\u53ef\u4ee5\u53ea\u4f7f\u7528\u6807\u51c6\u7684 Python\uff09\uff1a\n\n"
      ]
    },
    {
      "cell_type": "code",
      "execution_count": null,
      "metadata": {
        "collapsed": false
      },
      "outputs": [],
      "source": [
        "def nll(input, target):\n    return -input[range(target.shape[0]), target].mean()\n\nloss_func = nll"
      ]
    },
    {
      "cell_type": "markdown",
      "metadata": {},
      "source": [
        "\u8ba9\u6211\u4eec\u4f7f\u7528\u6211\u4eec\u7684\u968f\u673a\u6a21\u578b\u6765\u68c0\u67e5\u635f\u5931(loss)\uff0c\u8fd9\u6837\u6211\u4eec\u5c31\u53ef\u4ee5\u770b\u5230\u5728\u4e4b\u540e\u8fdb\u884c\u53cd\u5411\u4f20\u64ad\u540e\uff0c\u9884\u6d4b\u7ed3\u679c\u51c6\u786e\u7387\u662f\u5426\u6709\u6240\u63d0\u5347\u3002\n\n"
      ]
    },
    {
      "cell_type": "code",
      "execution_count": null,
      "metadata": {
        "collapsed": false
      },
      "outputs": [],
      "source": [
        "yb = y_train[0:bs]\nprint(loss_func(preds, yb))"
      ]
    },
    {
      "cell_type": "markdown",
      "metadata": {},
      "source": [
        "\u6211\u4eec\u8fd8\u8981\u5b9e\u73b0\u4e00\u4e2a\u51fd\u6570\u6765\u8ba1\u7b97\u6211\u4eec\u6a21\u578b\u7684\u51c6\u786e\u7387\u3002\n\u5bf9\u4e8e\u6bcf\u4e2a\u9884\u6d4b\u7ed3\u679c\uff0c\u5982\u679c\u5177\u6709\u6700\u5927\u503c\u7684\u7d22\u5f15\u4e0e\u76ee\u6807\u503c\u5339\u914d\uff0c\u5219\u9884\u6d4b\u662f\u6b63\u786e\u7684\u3002\n\n"
      ]
    },
    {
      "cell_type": "code",
      "execution_count": null,
      "metadata": {
        "collapsed": false
      },
      "outputs": [],
      "source": [
        "def accuracy(out, yb):\n    preds = torch.argmax(out, dim=1)\n    return (preds == yb).float().mean()"
      ]
    },
    {
      "cell_type": "markdown",
      "metadata": {},
      "source": [
        "\u68c0\u67e5\u6211\u4eec\u968f\u673a\u6a21\u578b\u7684\u51c6\u786e\u7387\uff0c\u8fd9\u6837\u6211\u4eec\u5c31\u53ef\u4ee5\u770b\u5230\u968f\u7740\u635f\u5931\u7684\u6539\u5584\uff0c\u51c6\u786e\u7387\u662f\u5426\u6709\u6240\u63d0\u9ad8\u3002\n\n"
      ]
    },
    {
      "cell_type": "code",
      "execution_count": null,
      "metadata": {
        "collapsed": false
      },
      "outputs": [],
      "source": [
        "print(accuracy(preds, yb))"
      ]
    },
    {
      "cell_type": "markdown",
      "metadata": {},
      "source": [
        "\u73b0\u5728\u53ef\u4ee5\u8fd0\u884c\u4e00\u4e2a\u8bad\u7ec3\u5faa\u73af\u3002\u5bf9\u4e8e\u6bcf\u6b21\u8fed\u4ee3\uff1a\n\n- \u9009\u62e9\u4e00\u4e2a\u5927\u5c0f\u4e3a ``bs`` \u7684\u6279\u91cf\u6570\u636e\n- \u4f7f\u7528\u6a21\u578b\u8fdb\u884c\u9884\u6d4b\n- \u8ba1\u7b97\u635f\u5931\n- ``loss.backward()`` \u66f4\u65b0\u6a21\u578b\u7684\u68af\u5ea6\uff0c\u5373\u66f4\u65b0 ``weights`` \u548c ``bias``\u3002\n\n\u6211\u4eec\u73b0\u5728\u4f7f\u7528\u8fd9\u4e9b\u68af\u5ea6\u6765\u66f4\u65b0\u6743\u91cd(weights)\u548c\u504f\u7f6e(bias)\u3002\u6211\u4eec\u5728 ``torch.no_grad()`` \u4e0a\u4e0b\u6587\u7ba1\u7406\u5668\u4e2d\u6267\u884c\u6b64\u64cd\u4f5c\uff0c\n\u56e0\u4e3a\u6211\u4eec\u4e0d\u5e0c\u671b\u8fd9\u4e9b\u64cd\u4f5c\u8bb0\u5f55\u4e3a\u4e0b\u4e00\u6b21\u68af\u5ea6\u8ba1\u7b97\u7684\u4e00\u90e8\u5206\u3002\u4f60\u53ef\u4ee5\u5728 [\u8fd9\u91cc](https://pytorch.org/docs/stable/notes/autograd.html) \n\u9605\u8bfb\u6709\u5173 PyTorch \u7684 Autograd \u5982\u4f55\u8bb0\u5f55\u64cd\u4f5c\u7684\u66f4\u591a\u4fe1\u606f\u3002\n\n\u7136\u540e\uff0c\u6211\u4eec\u5c06\u68af\u5ea6\u8bbe\u7f6e\u4e3a\u96f6\uff0c\u4ee5\u4fbf\u6211\u4eec\u51c6\u5907\u8fdb\u884c\u4e0b\u4e00\u6b21\u5faa\u73af\u3002\u5426\u5219\uff0c\u6211\u4eec\u7684\u68af\u5ea6\u5c06\u8bb0\u5f55\u6240\u6709\u5df2\u53d1\u751f\u7684\u64cd\u4f5c\uff08\u5373 ``loss.backward()`` *\u6dfb\u52a0* \u68af\u5ea6\u5230\u5df2\u6709\u7684\u68af\u5ea6\u4e2d\uff0c\u800c\u4e0d\u662f\u66ff\u6362\u5b83\u4eec\uff09\u3002\n\n.. \u63d0\u793a:: \u60a8\u53ef\u4ee5\u4f7f\u7528\u6807\u51c6\u7684 Python \u8c03\u8bd5\u5668\u9010\u6b65\u6267\u884c PyTorch \u4ee3\u7801\uff0c\u4ece\u800c\u53ef\u4ee5\u68c0\u67e5\u6bcf\u4e2a\u6b65\u9aa4\u4e2d\u7684\u5404\u79cd\u53d8\u91cf\u503c(\u53bb\u9664 ``set_trace()`` \u7684\u6ce8\u91ca)\u3002\n\n"
      ]
    },
    {
      "cell_type": "code",
      "execution_count": null,
      "metadata": {
        "collapsed": false
      },
      "outputs": [],
      "source": [
        "from IPython.core.debugger import set_trace\n\nlr = 0.5  # learning rate\nepochs = 2  # how many epochs to train for\n\nfor epoch in range(epochs):\n    for i in range((n - 1) // bs + 1):\n        #         set_trace()\n        start_i = i * bs\n        end_i = start_i + bs\n        xb = x_train[start_i:end_i]\n        yb = y_train[start_i:end_i]\n        pred = model(xb)\n        loss = loss_func(pred, yb)\n\n        loss.backward()\n        with torch.no_grad():\n            weights -= weights.grad * lr\n            bias -= bias.grad * lr\n            weights.grad.zero_()\n            bias.grad.zero_()"
      ]
    },
    {
      "cell_type": "markdown",
      "metadata": {},
      "source": [
        "\u6211\u4eec\u5df2\u7ecf\u4ece\u96f6\u5f00\u59cb\u521b\u5efa\u5e76\u8bad\u7ec3\u4e86\u4e00\u4e2a\u6700\u5c0f\u7684\u795e\u7ecf\u7f51\u7edc\uff08\u4f7f\u7528\u903b\u8f91\u56de\u5f52\uff0c\u6ca1\u6709\u9690\u85cf\u5c42\uff09\u3002\n\u8ba9\u6211\u4eec\u68c0\u67e5\u4e00\u4e0b\u635f\u5931\u548c\u51c6\u786e\u7387\uff0c\u5e76\u5c06\u5b83\u4eec\u4e0e\u4e4b\u524d\u5f97\u5230\u7684\u7ed3\u679c\u8fdb\u884c\u6bd4\u8f83\uff0c\u9884\u8ba1\u635f\u5931\u4f1a\u51cf\u5c11\uff0c\u51c6\u786e\u7387\u4f1a\u63d0\u9ad8\u3002\n\n"
      ]
    },
    {
      "cell_type": "code",
      "execution_count": null,
      "metadata": {
        "collapsed": false
      },
      "outputs": [],
      "source": [
        "print(loss_func(model(xb), yb), accuracy(model(xb), yb))"
      ]
    },
    {
      "cell_type": "markdown",
      "metadata": {},
      "source": [
        "\u4f7f\u7528 ``torch.nn.functional``\n ------------------------------\n\n \u73b0\u5728\u6211\u4eec\u5c06\u91cd\u6784\u4ee3\u7801\uff0c\u4f7f\u5176\u4e0e\u4e4b\u524d\u505a\u7684\u4e8b\u60c5\u76f8\u540c\uff0c\u53ea\u662f\u6211\u4eec\u5c06\u5f00\u59cb\u5229\u7528 PyTorch \u7684 ``nn`` \u7c7b\uff0c\u4f7f\u5176\u66f4\u7b80\u6d01\u548c\u7075\u6d3b\u3002\n \u4ece\u8fd9\u91cc\u5f00\u59cb\u7684\u6bcf\u4e00\u6b65\uff0c\u90fd\u8ba9\u6211\u4eec\u7684\u4ee3\u7801\u53d8\u5f97\u66f4\u77ed\u3001\u66f4\u6613\u7406\u89e3\u548c\u66f4\u7075\u6d3b\u3002\n\n \u7b2c\u4e00\u6b65\u4e5f\u662f\u6700\u7b80\u5355\u7684\u4e00\u6b65\u662f\u901a\u8fc7\u7528 ``torch.nn.functional``\uff08\u901a\u5e38\u6309\u60ef\u4f8b\u5bfc\u5165\u4e3a\u547d\u540d\u7a7a\u95f4 ``F``\uff09\n \u4e2d\u7684\u6fc0\u6d3b\u548c\u635f\u5931\u51fd\u6570\u66ff\u6362\u6211\u4eec\u624b\u5199\u7684\u6fc0\u6d3b\u548c\u635f\u5931\u51fd\u6570\uff0c\u4ece\u800c\u4f7f\u6211\u4eec\u7684\u4ee3\u7801\u66f4\u7b80\u77ed\u3002\u8be5\u6a21\u5757\u5305\u542b ``torch.nn`` \u5e93\u4e2d\u7684\u6240\u6709\u51fd\u6570\u3002\n \u9664\u4e86\u5404\u79cd\u635f\u5931\u548c\u6fc0\u6d3b\u51fd\u6570\uff0c\u4f60\u8fd8\u4f1a\u770b\u5230\u4e00\u4e9b\u521b\u5efa\u795e\u7ecf\u7f51\u7edc\u7684\u4fbf\u6377\u51fd\u6570\uff0c\u6bd4\u5982\u6c60\u5316\u51fd\u6570\u3002\n\uff08\u8fd8\u6709\u7528\u4e8e\u5377\u79ef\u3001\u7ebf\u6027\u5c42\u7b49\u7684\u51fd\u6570\uff0c\u4f46\u6b63\u5982\u6211\u4eec\u5c06\u770b\u5230\u7684\uff0c\u8fd9\u4e9b\u901a\u5e38\u66f4\u9002\u5408\u4f7f\u7528\u5e93\u7684\u5176\u4ed6\u6a21\u5757\u6765\u5904\u7406\u3002\uff09\n\n \u5982\u679c\u4f60\u4f7f\u7528negative log likelihood loss \u548c log softmax activation\uff0c\u90a3\u4e48 PyTorch \u63d0\u4f9b\u4e86\u4e00\u4e2a\u7ed3\u5408\u4e86\u4e24\u8005\u7684\u5355\u4e00\u51fd\u6570 \n ``F.cross_entropy``\u3002\u6240\u4ee5\u6211\u4eec\u53ef\u4ee5\u4ece\u6a21\u578b\u4e2d\u79fb\u9664\u6fc0\u6d3b\u51fd\u6570\u3002\n\n"
      ]
    },
    {
      "cell_type": "code",
      "execution_count": null,
      "metadata": {
        "collapsed": false
      },
      "outputs": [],
      "source": [
        "import torch.nn.functional as F\n\nloss_func = F.cross_entropy\n\ndef model(xb):\n    return xb @ weights + bias"
      ]
    },
    {
      "cell_type": "markdown",
      "metadata": {},
      "source": [
        "\u6211\u4eec\u4e0d\u518d\u5728 ``model`` \u51fd\u6570\u4e2d\u8c03\u7528 ``log_softmax``\u3002\u67e5\u770b\u4e0b\u635f\u5931\u548c\u51c6\u786e\u7387\u662f\u5426\u4e0e\u4e4b\u524d\u7ed3\u679c\u4e00\u81f4\uff1a\n\n"
      ]
    },
    {
      "cell_type": "code",
      "execution_count": null,
      "metadata": {
        "collapsed": false
      },
      "outputs": [],
      "source": [
        "print(loss_func(model(xb), yb), accuracy(model(xb), yb))"
      ]
    },
    {
      "cell_type": "markdown",
      "metadata": {},
      "source": [
        "## \u4f7f\u7528 ``nn.Module`` \u91cd\u6784\n\n\u63a5\u4e0b\u6765\uff0c\u6211\u4eec\u5c06\u4f7f\u7528 ``nn.Module`` \u548c ``nn.Parameter``\uff0c\u4ee5\u5b9e\u73b0\u66f4\u6e05\u6670\u548c\u7b80\u6d01\u7684\u8bad\u7ec3\u5faa\u73af\u3002\n\u6211\u4eec\u5c06\u7ee7\u627f ``nn.Module``\uff08\u5b83\u672c\u8eab\u662f\u4e00\u4e2a\u7c7b\uff0c\u80fd\u591f\u8ddf\u8e2a\u72b6\u6001\uff09\u3002\u5728\u8fd9\u79cd\u60c5\u51b5\u4e0b\uff0c\u6211\u4eec\u60f3\u521b\u5efa\u4e00\u4e2a\u7c7b\u6765\u4fdd\u5b58\u6211\u4eec\u7684\u6743\u91cd\u3001\u504f\u7f6e\u548cforward\u65b9\u6cd5\u3002\n\u6211\u4eec\u5c06\u4f1a\u4f7f\u7528 ``nn.Module`` \u7684\u5c5e\u6027\u548c\u65b9\u6cd5\uff08\u4f8b\u5982 ``.parameters()`` \u548c ``.zero_grad()``\uff09\u3002\n\n"
      ]
    },
    {
      "cell_type": "code",
      "execution_count": null,
      "metadata": {
        "collapsed": false
      },
      "outputs": [],
      "source": [
        "# .. \u6ce8\u610f:: ``nn.Module``\uff08\u5927\u5199 M\uff09\u662f PyTorch \u7279\u6709\u7684\u6982\u5ff5\uff0c\u662f\u4f7f\u7528PyTorch\u8fc7\u7a0b\u4e2d\u5927\u91cf\u4f7f\u7528\u7684\u7c7b\u3002\n# ``nn.Module`` \u4e0d\u8981\u4e0e Python \u6982\u5ff5\u7684\uff08\u5c0f\u5199 ``m``\uff09`module <https://docs.python.org/3/tutorial/modules.html>`_ \u6df7\u6dc6\u3002\n\nfrom torch import nn\n\nclass Mnist_Logistic(nn.Module):\n    def __init__(self):\n        super().__init__()\n        self.weights = nn.Parameter(torch.randn(784, 10) / math.sqrt(784))\n        self.bias = nn.Parameter(torch.zeros(10))\n\n    def forward(self, xb):\n        return xb @ self.weights + self.bias"
      ]
    },
    {
      "cell_type": "markdown",
      "metadata": {},
      "source": [
        "\u7531\u4e8e\u6211\u4eec\u73b0\u5728\u4f7f\u7528\u7684\u662f\u5bf9\u8c61\u800c\u4e0d\u662f\u4ec5\u4ec5\u4f7f\u7528\u51fd\u6570\uff0c\u6211\u4eec\u9996\u5148\u8981\u521b\u5efa\u6a21\u578b\u5bf9\u8c61\uff1a\n\n"
      ]
    },
    {
      "cell_type": "code",
      "execution_count": null,
      "metadata": {
        "collapsed": false
      },
      "outputs": [],
      "source": [
        "model = Mnist_Logistic()"
      ]
    },
    {
      "cell_type": "markdown",
      "metadata": {},
      "source": [
        "\u73b0\u5728\u6211\u4eec\u53ef\u4ee5\u50cf\u4e4b\u524d\u4e00\u6837\u8ba1\u7b97\u635f\u5931\u3002\u8bf7\u6ce8\u610f\uff0c``nn.Module`` \u5bf9\u8c61\u53ef\u4ee5\u50cf\u51fd\u6570\u4e00\u6837\u4f7f\u7528\uff08\u5373\u5b83\u4eec\u662f*\u53ef\u8c03\u7528\u7684*\uff09\uff0c\nPyTorch \u4f1a\u81ea\u52a8\u8c03\u7528\u6211\u4eec\u7684 ``forward`` \u65b9\u6cd5\u3002\n\n"
      ]
    },
    {
      "cell_type": "code",
      "execution_count": null,
      "metadata": {
        "collapsed": false
      },
      "outputs": [],
      "source": [
        "print(loss_func(model(xb), yb))"
      ]
    },
    {
      "cell_type": "markdown",
      "metadata": {},
      "source": [
        "\u5728\u4e4b\u524d\u7684\u8bad\u7ec3\u5faa\u73af\u4e2d\uff0c\u6211\u4eec\u5fc5\u987b\u6309\u540d\u79f0\u66f4\u65b0\u6bcf\u4e2a\u53c2\u6570\u7684\u503c\uff0c\u5e76\u624b\u52a8\u5c06\u6bcf\u4e2a\u53c2\u6570\u7684\u68af\u5ea6\u5206\u522b\u6e05\u96f6\uff0c\u5982\u4e0b\u6240\u793a\uff1a\n\n```python\nwith torch.no_grad():\n    weights -= weights.grad * lr\n    bias -= bias.grad * lr\n    weights.grad.zero_()\n    bias.grad.zero_()\n```\n\u73b0\u5728\u6211\u4eec\u53ef\u4ee5\u5229\u7528 model.parameters() \u548c model.zero_grad()\uff08PyTorch \u5728 ``nn.Module`` \u5b9a\u4e49\u7684\u65b9\u6cd5\uff09\n\u6765\u4f7f\u8fd9\u4e9b\u6b65\u9aa4\u66f4\u7b80\u6d01\uff0c\u9632\u6b62\u5fd8\u8bb0\u5904\u7406\u67d0\u4e9b\u53c2\u6570\u5bfc\u81f4\u9519\u8bef\uff0c\u5c24\u5176\u662f\u5f53\u6211\u4eec\u5b9e\u73b0\u4e00\u4e2a\u66f4\u590d\u6742\u7684\u6a21\u578b\u65f6\uff1a\n\n```python\nwith torch.no_grad():\n    for p in model.parameters(): p -= p.grad * lr\n    model.zero_grad()\n```\n\u5c06\u8bad\u7ec3\u5faa\u73af\u5305\u88c5\u5728\u4e00\u4e2a ``fit`` \u51fd\u6570\u4e2d\uff0c\u8fd9\u6837\u53ef\u4ee5\u591a\u6b21\u8fd0\u884c\u5b83\u3002\n\n"
      ]
    },
    {
      "cell_type": "code",
      "execution_count": null,
      "metadata": {
        "collapsed": false
      },
      "outputs": [],
      "source": [
        "def fit():\n    for epoch in range(epochs):\n        for i in range((n - 1) // bs + 1):\n            start_i = i * bs\n            end_i = start_i + bs\n            xb = x_train[start_i:end_i]\n            yb = y_train[start_i:end_i]\n            pred = model(xb)\n            loss = loss_func(pred, yb)\n\n            loss.backward()\n            with torch.no_grad():\n                for p in model.parameters():\n                    p -= p.grad * lr\n                model.zero_grad()\n\nfit()"
      ]
    },
    {
      "cell_type": "markdown",
      "metadata": {},
      "source": [
        "Let's double-check that our loss has gone down:\n\u8ba9\u6211\u4eec\u67e5\u770b\u4e0b\u8bad\u7ec3\u540e\uff0c\u635f\u5931\u662f\u5426\u4e0b\u964d\u4e86\uff1a\n\n"
      ]
    },
    {
      "cell_type": "code",
      "execution_count": null,
      "metadata": {
        "collapsed": false
      },
      "outputs": [],
      "source": [
        "print(loss_func(model(xb), yb))"
      ]
    },
    {
      "cell_type": "markdown",
      "metadata": {},
      "source": [
        "## \u4f7f\u7528 ``nn.Linear`` \u91cd\u6784\n\n\u6211\u4eec\u7ee7\u7eed\u91cd\u6784\u4ee3\u7801\u3002\u4f7f\u7528 PyTorch \u7c7b [nn.Linear](https://pytorch.org/docs/stable/nn.html#linear-layers) \u6765\u5b9e\u73b0\u7ebf\u6027\u5c42\uff0c\n\u4e0d\u518d\u624b\u52a8\u5b9a\u4e49\u548c\u521d\u59cb\u5316 ``self.weights`` \u548c ``self.bias``\uff0c\u4ee5\u53ca\u8ba1\u7b97 ``xb @ self.weights + self.bias``\u3002\nPyTorch \u5177\u6709\u591a\u79cd\u9884\u5b9a\u4e49\u7684\u5c42\uff0c\u53ef\u4ee5\u5927\u5927\u7b80\u5316\u6211\u4eec\u7684\u4ee3\u7801\uff0c\u5e76\u4e14\u63d0\u9ad8\u6267\u884c\u901f\u5ea6\u3002\n\n"
      ]
    },
    {
      "cell_type": "code",
      "execution_count": null,
      "metadata": {
        "collapsed": false
      },
      "outputs": [],
      "source": [
        "class Mnist_Logistic(nn.Module):\n    def __init__(self):\n        super().__init__()\n        self.lin = nn.Linear(784, 10)\n\n    def forward(self, xb):\n        return self.lin(xb)"
      ]
    },
    {
      "cell_type": "markdown",
      "metadata": {},
      "source": [
        "\u521d\u59cb\u5316\u6a21\u578b\u5bf9\u8c61\uff0c\u5e76\u8ba1\u7b97\u635f\u5931\u6570\u503c\n\n"
      ]
    },
    {
      "cell_type": "code",
      "execution_count": null,
      "metadata": {
        "collapsed": false
      },
      "outputs": [],
      "source": [
        "model = Mnist_Logistic()\nprint(loss_func(model(xb), yb))"
      ]
    },
    {
      "cell_type": "markdown",
      "metadata": {},
      "source": [
        "\u8c03\u7528 ``fit`` \u65b9\u6cd5\u8fdb\u884c\u8bad\u7ec3\u6a21\u578b\n\n"
      ]
    },
    {
      "cell_type": "code",
      "execution_count": null,
      "metadata": {
        "collapsed": false
      },
      "outputs": [],
      "source": [
        "fit()\n\n# \u67e5\u770b\u8bad\u7ec3\u7ed3\u679c\nprint(loss_func(model(xb), yb))"
      ]
    },
    {
      "cell_type": "markdown",
      "metadata": {},
      "source": [
        "## \u4f7f\u7528 ``torch.optim`` \u91cd\u6784\n\nPyTorch ``torch.optim``\u5305\u542b\u591a\u79cd\u4f18\u5316\u7b97\u6cd5 \u3002\u6211\u4eec\u53ef\u4ee5\u4f7f\u7528\u4f18\u5316\u5668\u7684 ``step`` \u65b9\u6cd5\u8fdb\u884c\u4f18\u5316\u6b65\u9aa4\uff0c\u65e0\u9700\u624b\u52a8\u66f4\u65b0\u6bcf\u4e2a\u53c2\u6570\u3002\n\n\u4e4b\u524d\u7684\u4f18\u5316\u6b65\u9aa4\uff1a\n\n```python\nwith torch.no_grad():\n    for p in model.parameters(): p -= p.grad * lr\n    model.zero_grad()\n```\n\u91cd\u6784\u4e3a:\n\n```python\nopt.step()\nopt.zero_grad()\n```\n(\u5728\u4e0b\u4e2a\u8bad\u7ec3\u5faa\u73af\u5f00\u59cb\u524d\uff0c\u6211\u4eec\u9700\u8c03\u7528 ``optim.zero_grad()`` \u65b9\u6cd5\uff0c\u5c06\u53c2\u6570\u7684\u68af\u5ea6\u91cd\u7f6e\u4e3a0\u3002)\n\n"
      ]
    },
    {
      "cell_type": "code",
      "execution_count": null,
      "metadata": {
        "collapsed": false
      },
      "outputs": [],
      "source": [
        "from torch import optim"
      ]
    },
    {
      "cell_type": "markdown",
      "metadata": {},
      "source": [
        "\u5b9a\u4e49\u521b\u5efa\u6a21\u578b\u548c\u4f18\u5316\u5668\u7684\u65b9\u6cd5\u5982\u4e0b:\n\n"
      ]
    },
    {
      "cell_type": "code",
      "execution_count": null,
      "metadata": {
        "collapsed": false
      },
      "outputs": [],
      "source": [
        "def get_model():\n    model = Mnist_Logistic()\n    return model, optim.SGD(model.parameters(), lr=lr)\n\nmodel, opt = get_model()\nprint(loss_func(model(xb), yb))\n\nfor epoch in range(epochs):\n    for i in range((n - 1) // bs + 1):\n        start_i = i * bs\n        end_i = start_i + bs\n        xb = x_train[start_i:end_i]\n        yb = y_train[start_i:end_i]\n        pred = model(xb)\n        loss = loss_func(pred, yb)\n\n        loss.backward()\n        opt.step()\n        opt.zero_grad()\n\nprint(loss_func(model(xb), yb))"
      ]
    },
    {
      "cell_type": "markdown",
      "metadata": {},
      "source": [
        "## \u4f7f\u7528 Dataset \u91cd\u6784\n\nPyTorch \u6709\u4e00\u4e2a\u62bd\u8c61\u7684 Dataset \u7c7b\u3002Dataset \u53ef\u4ee5\u662f\u4efb\u4f55\u5177\u6709 ``__len__`` \u51fd\u6570\uff08\u7531 Python \u7684\u6807\u51c6 ``len`` \u51fd\u6570\u8c03\u7528\uff09\n\u548c ``__getitem__`` \u51fd\u6570\uff08\u4f5c\u4e3a\u7d22\u5f15\u65b9\u5f0f\uff09\u7684\u5bf9\u8c61\u3002\n[\u6559\u7a0b](https://pytorch.org/tutorials/beginner/data_loading_tutorial.html) \u8be6\u7ec6\u4ecb\u7ecd\u4e86\u521b\u5efa\u4e00\u4e2a\u81ea\u5b9a\u4e49 \n``FacialLandmarkDataset`` \u7c7b\u4f5c\u4e3a ``Dataset`` \u5b50\u7c7b\u7684\u4f8b\u5b50\u3002\n\nPyTorch \u7684 [TensorDataset](https://pytorch.org/docs/stable/_modules/torch/utils/data/dataset.html#TensorDataset) \n\u662f\u4e00\u4e2a\u5305\u88c5\u5f20\u91cf\u7684 Dataset\uff0c\u4e3a\u6211\u4eec\u63d0\u4f9b\u4e86\u4e00\u79cd\u8fed\u4ee3\u3001\u7d22\u5f15\u548c\u6cbf\u5f20\u91cf\u7684\u7b2c\u4e00\u4e2a\u7ef4\u5ea6\u5207\u7247\u7684\u65b9\u5f0f\uff0c\u4f7f\u6211\u4eec\u5728\u8bad\u7ec3\u65f6\u66f4\u5bb9\u6613\u540c\u65f6\u8bbf\u95ee\u81ea\u53d8\u91cf\u548c\u56e0\u53d8\u91cf\u3002\n\n"
      ]
    },
    {
      "cell_type": "code",
      "execution_count": null,
      "metadata": {
        "collapsed": false
      },
      "outputs": [],
      "source": [
        "from torch.utils.data import TensorDataset"
      ]
    },
    {
      "cell_type": "markdown",
      "metadata": {},
      "source": [
        "\u4f7f\u7528``TensorDataset`` \u5bf9 ``x_train`` \u548c ``y_train`` \u8fdb\u884c\u5305\u88c5\uff0c \u8ba9\u6211\u4eec\u66f4\u5bb9\u6613\u5bf9\u6570\u636e\u8fdb\u884c\u904d\u5386\u548c\u5207\u7247\u64cd\u4f5c\u3002\n\n"
      ]
    },
    {
      "cell_type": "code",
      "execution_count": null,
      "metadata": {
        "collapsed": false
      },
      "outputs": [],
      "source": [
        "train_ds = TensorDataset(x_train, y_train)"
      ]
    },
    {
      "cell_type": "markdown",
      "metadata": {},
      "source": [
        "\u4e4b\u524d\u6211\u4eec\u9700\u8981\u5355\u72ec\u5904\u7406 ``x``\u3001``y`` \u4e24\u7ec4\u6570\u503c\u3002\n\n```python\nxb = x_train[start_i:end_i]\nyb = y_train[start_i:end_i]\n```\n\u73b0\u5728\u53ef\u4ee5\u5408\u5e76\u5904\u7406:\n\n```python\nxb,yb = train_ds[i*bs : i*bs+bs]\n```\n"
      ]
    },
    {
      "cell_type": "code",
      "execution_count": null,
      "metadata": {
        "collapsed": false
      },
      "outputs": [],
      "source": [
        "model, opt = get_model()\n\nfor epoch in range(epochs):\n    for i in range((n - 1) // bs + 1):\n        xb, yb = train_ds[i * bs: i * bs + bs]\n        pred = model(xb)\n        loss = loss_func(pred, yb)\n\n        loss.backward()\n        opt.step()\n        opt.zero_grad()\n\nprint(loss_func(model(xb), yb))"
      ]
    },
    {
      "cell_type": "markdown",
      "metadata": {},
      "source": [
        "## \u4f7f\u7528 ``DataLoader`` \u91cd\u6784\n\n\u4f60\u53ef\u4ee5\u4ece\u4efb\u4f55 ``Dataset`` \u521b\u5efa\u4e00\u4e2a ``DataLoader``\uff0c\u800c\u540e\u7531 ``DataLoader`` \u8d1f\u8d23\u5bf9\u6570\u636e\u5206\u6279\u3002\n\u6211\u4eec\u4e0d\u5fc5\u518d\u53bb\u5b9e\u73b0\u5206\u6279\u4ee3\u7801\uff0c\u5982 ``train_ds[i*bs : i*bs+bs]``\uff0c``DataLoader`` \u4f1a\u81ea\u52a8\u4e3a\u6211\u4eec\u63d0\u4f9b\u6bcf\u6279\u6570\u636e\u3002\n\n"
      ]
    },
    {
      "cell_type": "code",
      "execution_count": null,
      "metadata": {
        "collapsed": false
      },
      "outputs": [],
      "source": [
        "from torch.utils.data import DataLoader\n\ntrain_ds = TensorDataset(x_train, y_train)\ntrain_dl = DataLoader(train_ds, batch_size=bs)"
      ]
    },
    {
      "cell_type": "markdown",
      "metadata": {},
      "source": [
        "\u4e4b\u524d\u6211\u4eec\u7f16\u5199\u5206\u6279\u4ee3\u7801\u5982\u4e0b\uff1a\n\n```python\nfor i in range((n-1)//bs + 1):\n    xb,yb = train_ds[i*bs : i*bs+bs]\n    pred = model(xb)\n```\n\u73b0\u5728\uff0c\u6211\u4eec\u7684\u5faa\u73af\u53d8\u5f97\u66f4\u52a0\u7b80\u6d01\uff0c``(xb, yb)`` \u81ea\u52a8\u4eceDataLoader\u4e2d\u52a0\u8f7d: \n\n```python\nfor xb,yb in train_dl:\n    pred = model(xb)\n```\n"
      ]
    },
    {
      "cell_type": "code",
      "execution_count": null,
      "metadata": {
        "collapsed": false
      },
      "outputs": [],
      "source": [
        "model, opt = get_model()\n\nfor epoch in range(epochs):\n    for xb, yb in train_dl:\n        pred = model(xb)\n        loss = loss_func(pred, yb)\n\n        loss.backward()\n        opt.step()\n        opt.zero_grad()\n\nprint(loss_func(model(xb), yb))"
      ]
    },
    {
      "cell_type": "markdown",
      "metadata": {},
      "source": [
        "\u901a\u8fc7\u4f7f\u7528 PyTorch \u4e2d ``nn.Module``\u3001``nn.Parameter``\u3001``Dataset`` \u548c ``DataLoader``\uff0c\n\u6211\u4eec\u5b9e\u73b0\u7684\u8bad\u7ec3\u5faa\u4ee3\u7801\u91cf\u5e76\u4e14\u66f4\u5bb9\u6613\u7406\u89e3\u3002\u73b0\u5728\u8ba9\u6211\u4eec\u5c1d\u8bd5\u589e\u52a0\u4e00\u4e9b\u521b\u5efa\u5b9e\u9645\u6709\u6548\u6a21\u578b\u6240\u9700\u7684\u57fa\u672c\u529f\u80fd\u3002\n\n## \u6dfb\u52a0\u9a8c\u8bc1\u96c6\n\n\u5728\u7b2c\u4e00\u90e8\u5206\u4e2d\uff0c\u6211\u4eec\u53ea\u662f\u5b9e\u73b0\u4e86\u4f7f\u7528\u6570\u636e\u8fdb\u884c\u8bad\u7ec3\u7684\u903b\u8f91\u3002\n\u5b9e\u9645\u5e94\u7528\u4e2d\uff0c\u8fd8\u9700\u8981[\u9a8c\u8bc1\u96c6](https://www.fast.ai/2017/11/13/validation-sets/)\uff0c\u4ee5\u786e\u5b9a\u6211\u4eec\u7684\u6a21\u578b\u662f\u5426\u5b58\u5728\u8fc7\u62df\u5408\u95ee\u9898\u3002\n\n\u6253\u4e71\u8bad\u7ec3\u6570\u636e\u662f [\u5341\u5206\u5fc5\u8981\u7684](https://www.quora.com/Does-the-order-of-training-data-matter-when-training-neural-networks)\uff0c\n\u4ee5\u9632\u6b62\u6279\u6b21\u4e4b\u95f4\u7684\u76f8\u5173\u6027\u548c\u8fc7\u62df\u5408\u3002\u800c\u9a8c\u8bc1\u6570\u636e\u96c6\u5219\u65e0\u9700\u8fdb\u6b64\u64cd\u4f5c\uff0c\u65e0\u8bba\u6253\u4e71\u4e0e\u5426\uff0c\u9a8c\u8bc1\u635f\u5931\u503c\u662f\u76f8\u540c\u7684\uff0c\u800c\u4e14\u6253\u4e71\u64cd\u4f5c\u9700\u8981\u6d88\u8017\u989d\u5916\u7684\u65f6\u95f4\uff0c\u6ca1\u6709\u5b9e\u9645\u610f\u4e49\u3002\n\n\u6211\u4eec\u5c06\u4e3a\u9a8c\u8bc1\u96c6\u4f7f\u7528\u7684\u6279\u91cf\u5927\u5c0f\u8bbe\u4e3a\u8bad\u7ec3\u96c6\u7684\u4e24\u500d\u3002\u56e0\u4e3a\u9a8c\u8bc1\u96c6\u4e0d\u9700\u8981\u8fdb\u884c\u53cd\u5411\u4f20\u64ad\uff0c\u56e0\u6b64\u9700\u8981\u7684\u5185\u5b58\u8f83\u5c11\uff08\u4e0d\u9700\u8981\u5b58\u50a8\u68af\u5ea6\uff09\u3002\n\u56e0\u6b64\u6211\u6211\u4eec\u53ef\u4ee5\u914d\u7f6e\u8f83\u5927\u5355\u6279\u6570\u91cf\uff0c\u63d0\u9ad8\u8ba1\u7b97\u901f\u5ea6\u3002\n\n"
      ]
    },
    {
      "cell_type": "code",
      "execution_count": null,
      "metadata": {
        "collapsed": false
      },
      "outputs": [],
      "source": [
        "train_ds = TensorDataset(x_train, y_train)\ntrain_dl = DataLoader(train_ds, batch_size=bs, shuffle=True)\n\nvalid_ds = TensorDataset(x_valid, y_valid)\nvalid_dl = DataLoader(valid_ds, batch_size=bs * 2)"
      ]
    },
    {
      "cell_type": "markdown",
      "metadata": {},
      "source": [
        "\u6211\u4eec\u5728\u6bcf\u4e2a epoch \u7ed3\u675f\u65f6\u8ba1\u7b97\u5e76\u6253\u5370\u635f\u5931\u503c\u3002\n\n\uff08\u8bf7\u6ce8\u610f\uff0c\u6211\u4eec\u5728\u8bad\u7ec3\u4e4b\u524d\u603b\u662f\u8c03\u7528 ``model.train()``\uff0c\u5728\u63a8\u65ad\u4e4b\u524d\u8c03\u7528 ``model.eval()``\uff0c\n\u56e0\u4e3a ``nn.BatchNorm2d`` \u548c ``nn.Dropout`` \u5c42\u4f1a\u4f7f\u7528\uff0c\u6765\u786e\u4fdd\u5176\u7ed3\u679c\u6b63\u786e\u3002\uff09\n\n"
      ]
    },
    {
      "cell_type": "code",
      "execution_count": null,
      "metadata": {
        "collapsed": false
      },
      "outputs": [],
      "source": [
        "model, opt = get_model()\n\nfor epoch in range(epochs):\n    model.train()\n    for xb, yb in train_dl:\n        pred = model(xb)\n        loss = loss_func(pred, yb)\n\n        loss.backward()\n        opt.step()\n        opt.zero_grad()\n\n    model.eval()\n    with torch.no_grad():\n        valid_loss = sum(loss_func(model(xb), yb) for xb, yb in valid_dl)\n\n    print(epoch, valid_loss / len(valid_dl))"
      ]
    },
    {
      "cell_type": "markdown",
      "metadata": {},
      "source": [
        "## \u521b\u5efa fit() \u548c get_data()\n\n\u6211\u4eec\u5728\u8ba1\u7b97\u8bad\u7ec3\u96c6\u548c\u9a8c\u8bc1\u96c6\u7684\u635f\u5931\u7c7b\u4f3c\u7684\u4ee3\u7801\uff0c\u62bd\u53d6\u4e00\u4e2a\u72ec\u7acb\u7684\u51fd\u6570 ``loss_batch``\uff0c\u7528\u4e8e\u8ba1\u7b97\u4e00\u4e2a\u6279\u6b21\u7684\u635f\u5931\u3002\n\n\u8bad\u7ec3\u96c6\u4f20\u5165\u4e00\u4e2a\u4f18\u5316\u5668\uff0c\u5e76\u4f7f\u7528\u5b83\u6267\u884c\u53cd\u5411\u4f20\u64ad\uff0c\u5bf9\u4e8e\u9a8c\u8bc1\u96c6\uff0c\u5219\u4e0d\u4f20\u5165\u4f18\u5316\u5668\uff0c\u4e0d\u6267\u884c\u53cd\u5411\u4f20\u64ad\u3002\n\n"
      ]
    },
    {
      "cell_type": "code",
      "execution_count": null,
      "metadata": {
        "collapsed": false
      },
      "outputs": [],
      "source": [
        "def loss_batch(model, loss_func, xb, yb, opt=None):\n    loss = loss_func(model(xb), yb)\n\n    if opt is not None:\n        loss.backward()\n        opt.step()\n        opt.zero_grad()\n\n    return loss.item(), len(xb)"
      ]
    },
    {
      "cell_type": "markdown",
      "metadata": {},
      "source": [
        "``fit `` \u5728\u6bcf\u4e2a\u8bad\u7ec3\u5faa\u73af\u4e2d\u8ba1\u7b97\u8bad\u7ec3\u548c\u9a8c\u8bc1\u635f\u5931\n\n"
      ]
    },
    {
      "cell_type": "code",
      "execution_count": null,
      "metadata": {
        "collapsed": false
      },
      "outputs": [],
      "source": [
        "import numpy as np\n\ndef fit(epochs, model, loss_func, opt, train_dl, valid_dl):\n    for epoch in range(epochs):\n        model.train()\n        for xb, yb in train_dl:\n            loss_batch(model, loss_func, xb, yb, opt)\n\n        model.eval()\n        with torch.no_grad():\n            losses, nums = zip(\n                *[loss_batch(model, loss_func, xb, yb) for xb, yb in valid_dl]\n            )\n        val_loss = np.sum(np.multiply(losses, nums)) / np.sum(nums)\n\n        print(epoch, val_loss)"
      ]
    },
    {
      "cell_type": "markdown",
      "metadata": {},
      "source": [
        "``get_data`` \u8fd4\u56de\u8bad\u7ec3\u548c\u9a8c\u8bc1\u6570\u636e\u96c6\u7684DataLoader\u3002\n\n"
      ]
    },
    {
      "cell_type": "code",
      "execution_count": null,
      "metadata": {
        "collapsed": false
      },
      "outputs": [],
      "source": [
        "def get_data(train_ds, valid_ds, bs):\n    return (\n        DataLoader(train_ds, batch_size=bs, shuffle=True),\n        DataLoader(valid_ds, batch_size=bs * 2),\n    )"
      ]
    },
    {
      "cell_type": "markdown",
      "metadata": {},
      "source": [
        "\u73b0\u5728\uff0c\u6211\u4eec\u83b7\u53d6\u6570\u636e\u52a0\u8f7d\u5668\u548c\u62df\u5408\u6a21\u578b\u7684\u6574\u4e2a\u8fc7\u7a0b\u53ef\u4ee5\u7528 3 \u884c\u4ee3\u7801\u6765\u5b9e\u73b0\uff1a\n\n"
      ]
    },
    {
      "cell_type": "code",
      "execution_count": null,
      "metadata": {
        "collapsed": false
      },
      "outputs": [],
      "source": [
        "train_dl, valid_dl = get_data(train_ds, valid_ds, bs)\nmodel, opt = get_model()\nfit(epochs, model, loss_func, opt, train_dl, valid_dl)"
      ]
    },
    {
      "cell_type": "markdown",
      "metadata": {},
      "source": [
        "\u4f60\u53ef\u4ee5\u4f7f\u7528\u8fd9\u4e09\u884c\u57fa\u672c\u4ee3\u7801\u6765\u8bad\u7ec3\u5404\u79cd\u5404\u6837\u7684\u6a21\u578b\u3002\u8ba9\u6211\u4eec\u770b\u770b\u662f\u5426\u53ef\u4ee5\u7528\u6765\u8bad\u7ec3\u4e00\u4e2a\u5377\u79ef\u795e\u7ecf\u7f51\u7edc\uff08CNN\uff09\u3002\n\n## CNN\n\n\u73b0\u5728\u6211\u4eec\u5c06\u4f7f\u7528\u4e09\u4e2a\u5377\u79ef\u5c42\u6784\u5efa\u6211\u4eec\u7684\u795e\u7ecf\u7f51\u7edc\u3002\u56e0\u4e3a\u524d\u9762\u90e8\u5206\u7684\u51fd\u6570\u90fd\u4e0d\u5047\u8bbe\u4efb\u4f55\u5173\u4e8e\u6a21\u578b\u5f62\u5f0f\u7684\u4e1c\u897f\uff0c\n\u6240\u4ee5\u6211\u4eec\u53ef\u4ee5\u5728\u4e0d\u505a\u4efb\u4f55\u4fee\u6539\u7684\u60c5\u51b5\u4e0b\u4f7f\u7528\u5b83\u4eec\u6765\u8bad\u7ec3\u4e00\u4e2a CNN\u3002\n\n\u6211\u4eec\u5c06\u4f7f\u7528 PyTorch \u9884\u5b9a\u4e49\u7684 [Conv2d](https://pytorch.org/docs/stable/nn.html#torch.nn.Conv2d) \u7c7b\u4f5c\u4e3a\u6211\u4eec\u7684\u5377\u79ef\u5c42\u3002\n\u6211\u4eec\u5b9a\u4e49\u4e00\u4e2a\u5177\u6709 3 \u4e2a\u5377\u79ef\u5c42\u7684 CNN\u3002\u6bcf\u4e2a\u5377\u79ef\u5c42\u540e\u9762\u8ddf\u7740\u4e00\u4e2a ReLU\u3002\u6700\u540e\uff0c\u6211\u4eec\u6267\u884c\u5e73\u5747\u6c60\u5316\u3002\n\uff08\u6ce8\u610f\uff0c``view`` \u662f PyTorch \u7248\u7684 Numpy ``reshape``\uff09\n\n"
      ]
    },
    {
      "cell_type": "code",
      "execution_count": null,
      "metadata": {
        "collapsed": false
      },
      "outputs": [],
      "source": [
        "class Mnist_CNN(nn.Module):\n    def __init__(self):\n        super().__init__()\n        self.conv1 = nn.Conv2d(1, 16, kernel_size=3, stride=2, padding=1)\n        self.conv2 = nn.Conv2d(16, 16, kernel_size=3, stride=2, padding=1)\n        self.conv3 = nn.Conv2d(16, 10, kernel_size=3, stride=2, padding=1)\n\n    def forward(self, xb):\n        xb = xb.view(-1, 1, 28, 28)\n        xb = F.relu(self.conv1(xb))\n        xb = F.relu(self.conv2(xb))\n        xb = F.relu(self.conv3(xb))\n        xb = F.avg_pool2d(xb, 4)\n        return xb.view(-1, xb.size(1))\n\nlr = 0.1"
      ]
    },
    {
      "cell_type": "markdown",
      "metadata": {},
      "source": [
        "[Momentum](https://cs231n.github.io/neural-networks-3/#sgd) \u662f\nstochastic gradient descent \u7684\u4e00\u79cd\u53d8\u4f53\uff0c\u901a\u8fc7\u7edf\u8ba1\u66f4\u65b0\u8bb0\u5f55\u6765\u63d0\u5347\u8bad\u7ec3\u901f\u5ea6\n\n"
      ]
    },
    {
      "cell_type": "code",
      "execution_count": null,
      "metadata": {
        "collapsed": false
      },
      "outputs": [],
      "source": [
        "model = Mnist_CNN()\nopt = optim.SGD(model.parameters(), lr=lr, momentum=0.9)\n\nfit(epochs, model, loss_func, opt, train_dl, valid_dl)"
      ]
    },
    {
      "cell_type": "markdown",
      "metadata": {},
      "source": [
        "## \u4f7f\u7528 ``nn.Sequential``\n\n\u6211\u4eec\u53ef\u4ee5\u4f7f\u7528 ``torch.nn`` \u4e2d\u7684 [Sequential](https://pytorch.org/docs/stable/nn.html#torch.nn.Sequential) \u7c7b\n\u6765\u5e2e\u52a9\u6211\u4eec\u7b80\u5316\u4ee3\u7801\u3002`` Sequential`` \u63d0\u4f9b\u4e86\u4e00\u79cd\u66f4\u7b80\u5355\u7684\u7f16\u5199\u795e\u7ecf\u7f51\u7edc\u7684\u65b9\u5f0f\uff0c\u5176\u4f1a\u6309\u987a\u5e8f\u8fd0\u884c\u5b9a\u4e49\u4e2d\u5305\u542b\u7684\u6bcf\u4e2a\u6a21\u5757\u3002\n\n\u6211\u4eec\u53ef\u4ee5\u521b\u5efa\u4e00\u4e2a ``\u81ea\u5b9a\u4e49\u5c42``\uff0c\u4f8b\u5982\uff0cPyTorch \u6ca1\u6709\u7684 view\u5c42\uff1a\n\n"
      ]
    },
    {
      "cell_type": "code",
      "execution_count": null,
      "metadata": {
        "collapsed": false
      },
      "outputs": [],
      "source": [
        "class Lambda(nn.Module):\n    def __init__(self, func):\n        super().__init__()\n        self.func = func\n\n    def forward(self, x):\n        return self.func(x)\n\n\ndef preprocess(x):\n    return x.view(-1, 1, 28, 28)"
      ]
    },
    {
      "cell_type": "markdown",
      "metadata": {},
      "source": [
        "\u4f7f\u7528 ``Sequential`` \u521b\u5efa\u6a21\u578b\u5341\u5206\u7b80\u5355\uff1a\n\n"
      ]
    },
    {
      "cell_type": "code",
      "execution_count": null,
      "metadata": {
        "collapsed": false
      },
      "outputs": [],
      "source": [
        "model = nn.Sequential(\n    Lambda(preprocess),\n    nn.Conv2d(1, 16, kernel_size=3, stride=2, padding=1),\n    nn.ReLU(),\n    nn.Conv2d(16, 16, kernel_size=3, stride=2, padding=1),\n    nn.ReLU(),\n    nn.Conv2d(16, 10, kernel_size=3, stride=2, padding=1),\n    nn.ReLU(),\n    nn.AvgPool2d(4),\n    Lambda(lambda x: x.view(x.size(0), -1)),\n)\n\nopt = optim.SGD(model.parameters(), lr=lr, momentum=0.9)\n\nfit(epochs, model, loss_func, opt, train_dl, valid_dl)"
      ]
    },
    {
      "cell_type": "markdown",
      "metadata": {},
      "source": [
        "## \u5305\u88c5 ``DataLoader``\n\n\u6211\u4eec\u7f16\u5199\u7684 CNN \u5341\u5206\u7b80\u6d01\uff0c\u4f46\u4ec5\u9002\u7528\u4e8eMNIST\uff0c\u56e0\u4e3a\uff1a\n - \u5b83\u5047\u8bbe\u8f93\u5165\u662f\u4e00\u4e2a 28 * 28 \u957f\u7684\u5411\u91cf\n - \u5b83\u5047\u8bbe\u6700\u7ec8\u7684 CNN \u7f51\u683c\u5927\u5c0f\u662f 4 * 4 (\u6211\u4eec\u4f7f\u7528\u7684\u5e73\u5747\u6c60\u5316\u6838\u5927\u5c0f)\n\n"
      ]
    },
    {
      "cell_type": "code",
      "execution_count": null,
      "metadata": {
        "collapsed": false
      },
      "outputs": [],
      "source": [
        "# \u8ba9\u6211\u4eec\u53bb\u9664\u8fd9\u4e24\u4e2a\u5047\u8bbe\uff0c\u4f7f\u6211\u4eec\u7684\u6a21\u578b\u9002\u7528\u4e8e\u4efb\u4f552D\u5355\u901a\u9053\u56fe\u50cf\u3002\n# \u9996\u5148\uff0c\u6211\u4eec\u53ef\u4ee5\u901a\u8fc7\u5c06\u6570\u636e\u9884\u5904\u7406\u79fb\u5230\u751f\u6210\u5668\u4e2d\u6765\u5220\u9664 Lambda \u5c42:\n\ndef preprocess(x, y):\n    return x.view(-1, 1, 28, 28), y\n\n\nclass WrappedDataLoader:\n    def __init__(self, dl, func):\n        self.dl = dl\n        self.func = func\n\n    def __len__(self):\n        return len(self.dl)\n\n    def __iter__(self):\n        for b in self.dl:\n            yield (self.func(*b))\n\ntrain_dl, valid_dl = get_data(train_ds, valid_ds, bs)\ntrain_dl = WrappedDataLoader(train_dl, preprocess)\nvalid_dl = WrappedDataLoader(valid_dl, preprocess)"
      ]
    },
    {
      "cell_type": "markdown",
      "metadata": {},
      "source": [
        "\u63a5\u4e0b\u6765\uff0c\u4e3a\u4e86\u8ba9\u6211\u4eec\u5b9a\u4e49\u6211\u4eec\u60f3\u8981\u7684\u8f93\u51fa\u5f20\u91cf\u7684\u5927\u5c0f\uff0c\u800c\u975e *\u8f93\u5165* \u5f20\u91cf\uff0c\u6211\u4eec\u53ef\u4ee5\u7528 `nn.AdaptiveAvgPool2d` \u66ff\u6362 `nn.AvgPool2d`\u3002\n\u4ece\u800c\u4f7f\u6211\u4eec\u7684\u6a21\u578b\u53ef\u9002\u7528\u4e8e\u4efb\u4f55\u5927\u5c0f\u7684\u8f93\u5165\u3002\n\n"
      ]
    },
    {
      "cell_type": "code",
      "execution_count": null,
      "metadata": {
        "collapsed": false
      },
      "outputs": [],
      "source": [
        "model = nn.Sequential(\n    nn.Conv2d(1, 16, kernel_size=3, stride=2, padding=1),\n    nn.ReLU(),\n    nn.Conv2d(16, 16, kernel_size=3, stride=2, padding=1),\n    nn.ReLU(),\n    nn.Conv2d(16, 10, kernel_size=3, stride=2, padding=1),\n    nn.ReLU(),\n    nn.AdaptiveAvgPool2d(1),\n    Lambda(lambda x: x.view(x.size(0), -1)),\n)\n\nopt = optim.SGD(model.parameters(), lr=lr, momentum=0.9)"
      ]
    },
    {
      "cell_type": "markdown",
      "metadata": {},
      "source": [
        "\u8ba9\u6211\u4eec\u67e5\u770b\u4e0b\u7ed3\u679c:\n\n"
      ]
    },
    {
      "cell_type": "code",
      "execution_count": null,
      "metadata": {
        "collapsed": false
      },
      "outputs": [],
      "source": [
        "fit(epochs, model, loss_func, opt, train_dl, valid_dl)"
      ]
    },
    {
      "cell_type": "markdown",
      "metadata": {},
      "source": [
        "## \u4f7f\u7528 GPU\n\n\u5728\u62e5\u6709 CUDA \u7684 GPU\u7684\u73af\u5883\u4e2d\uff0c\u4f60\u53ef\u4ee5\u4f7f\u7528\u5b83\u6765\u52a0\u901f\u4ee3\u7801\u3002\u9996\u5148\u68c0\u67e5\u4f60\u7684GPU\u5728PyTorch\u4e2d\u662f\u5426\u6b63\u5e38\u5de5\u4f5c:\n\n"
      ]
    },
    {
      "cell_type": "code",
      "execution_count": null,
      "metadata": {
        "collapsed": false
      },
      "outputs": [],
      "source": [
        "print(torch.cuda.is_available())"
      ]
    },
    {
      "cell_type": "markdown",
      "metadata": {},
      "source": [
        "\u7136\u540e\u521b\u5efa device \u5bf9\u8c61\uff1a\n\n"
      ]
    },
    {
      "cell_type": "code",
      "execution_count": null,
      "metadata": {
        "collapsed": false
      },
      "outputs": [],
      "source": [
        "dev = torch.device(\n    \"cuda\") if torch.cuda.is_available() else torch.device(\"cpu\")"
      ]
    },
    {
      "cell_type": "markdown",
      "metadata": {},
      "source": [
        "\u4fee\u6539 ``preprocess`` \u6b65\u9aa4\uff0c\u5c06\u6570\u636e\u79fb\u52a8\u81f3 GPU \u4e0a:\n\n"
      ]
    },
    {
      "cell_type": "code",
      "execution_count": null,
      "metadata": {
        "collapsed": false
      },
      "outputs": [],
      "source": [
        "def preprocess(x, y):\n    return x.view(-1, 1, 28, 28).to(dev), y.to(dev)\n\n\ntrain_dl, valid_dl = get_data(train_ds, valid_ds, bs)\ntrain_dl = WrappedDataLoader(train_dl, preprocess)\nvalid_dl = WrappedDataLoader(valid_dl, preprocess)"
      ]
    },
    {
      "cell_type": "markdown",
      "metadata": {},
      "source": [
        "\u6700\u540e\uff0c\u5c06\u6a21\u578b\u52a0\u8f7d\u5230 GPU \u4e2d\u3002\n\n"
      ]
    },
    {
      "cell_type": "code",
      "execution_count": null,
      "metadata": {
        "collapsed": false
      },
      "outputs": [],
      "source": [
        "model.to(dev)\nopt = optim.SGD(model.parameters(), lr=lr, momentum=0.9)"
      ]
    },
    {
      "cell_type": "markdown",
      "metadata": {},
      "source": [
        "\u8fd0\u884c\u901f\u5ea6\u4f1a\u63d0\u5347\u5f88\u591a\uff1a\n\n"
      ]
    },
    {
      "cell_type": "code",
      "execution_count": null,
      "metadata": {
        "collapsed": false
      },
      "outputs": [],
      "source": [
        "fit(epochs, model, loss_func, opt, train_dl, valid_dl)"
      ]
    },
    {
      "cell_type": "markdown",
      "metadata": {},
      "source": [
        "## \u603b\u7ed3\n\n\u6211\u4eec\u4f7f\u7528 PyTorch \u7f16\u5199\u4e86\u4e00\u4e2a\u53ef\u4ee5\u7528\u4e8e\u591a\u79cd\u6a21\u578b\u8bad\u7ec3\u7684\u5b9e\u73b0\uff0c\u5b8c\u6574\u7684\u8bad\u7ec3\u4ee3\u7801\n[mnist_sample notebook](https://github.com/fastai/fastai_dev/blob/master/dev_nb/mnist_sample.ipynb)_.\n\n\u540e\u7eed\u8fd8\u53ef\u5c1d\u8bd5\u589e\u52a0\u5176\u4ed6\u529f\u80fd\uff0c\u4f8b\u5982\u6570\u636e\u589e\u5f3a\u3001\u8d85\u53c2\u6570\u8c03\u4f18\u3001\u76d1\u63a7\u8bad\u7ec3\u3001\u8fc1\u79fb\u5b66\u4e60\u7b49\u7b49\u3002\n\u8fd9\u4e9b\u529f\u80fd\u5728fastai\u5e93\u4e2d\u90fd\u6709\u63d0\u4f9b\uff0c\u8be5\u5e93\u662f\u4f7f\u7528\u672c\u6559\u7a0b\u4e2d\u6240\u793a\u7684\u76f8\u540c\u8bbe\u8ba1\u65b9\u6cd5\u5f00\u53d1\u7684\uff0c\u4e3a\u5e0c\u671b\u8fdb\u4e00\u6b65\u6539\u8fdb\u6a21\u578b\u7684\u4ece\u4e1a\u4eba\u5458\u63d0\u4f9b\u4e0b\u4e00\u6b65\u6307\u5bfc\u3002\n\n\u6211\u4eec\u5b66\u4e60\u4e86\u5982\u4f55\u4f7f\u7528\n``torch.nn``\uff0c``torch.optim``\uff0c``Dataset``\uff0c and ``DataLoader``\u3002\u73b0\u5728\u8ba9\u6211\u4eec\u603b\u7ed3\u4e00\u4e0b:\n\n - ``torch.nn``:\n   + ``Module``: \u521b\u5efa\u4e00\u4e2a\u7c7b\u4f3c\u4e8e\u51fd\u6570\u7684\u53ef\u8c03\u7528\u5bf9\u8c61\uff0c\u5176\u4e2d\u5305\u542b\u4e86\u72b6\u6001\u6570\u636e(\u5982\u795e\u7ecf\u7f51\u7edc\u5c42\u6743\u91cd)\u3002\u5b83\u53ef\u4ee5\u81ea\u52a8\u5bf9\u5305\u542b\u7684\u53c2\u6570\uff0c\u8fdb\u884c\u68af\u5ea6\u5f52\u96f6\u548c\u66f4\u65b0\u6743\u91cd\u7b49\u64cd\u4f5c\u3002\n   + ``Parameter``: \u5bf9\u5f20\u91cf\u8fdb\u884c\u5305\u88c5\uff0c\u4f7f ``Module`` \u5bf9\u8c61\u5728\u8fdb\u884c\u53cd\u5411\u4f20\u64ad\u65f6\uff0c\u53ef\u66f4\u65b0\u6743\u91cd\u53c2\u6570(\u4ec5\u8bbe\u7f6e `requires_grad=True` \u53c2\u6570\u65f6\u751f\u6548)\u3002\n   + ``functional``: \u5305\u542b\u591a\u79cd\u6fc0\u6d3b\u51fd\u6570\u3001\u635f\u5931\u51fd\u6570\uff0c\u4ee5\u53ca\u65e0\u72b6\u6001\u7684\u5377\u79ef\u5c42\u548c\u7ebf\u6027\u5c42\u7b49\u7684\u5b9e\u73b0\u3002\n - ``torch.optim``: \u5305\u542b\u591a\u79cd\u4f18\u5316\u5668\uff0c\u4f8b\u5982 ``SGD``\uff0c\u5728\u53cd\u5411\u4f20\u64ad\u8fc7\u7a0b\u4e2d\u4f18\u5316\u6743\u91cd\u53c2\u6570(``Parameter``)\u3002\n - ``Dataset``: \u5bf9 ``__len__`` \u548c a ``__getitem__`` \u65b9\u6cd5\u7684\u62bd\u8c61\u63a5\u53e3\u5b9a\u4e49\uff0c\u5305\u542b ``TensorDataset`` \u7b49 PyTorch \u5b9e\u73b0\u7c7b\u3002\n - ``DataLoader``: \u5bf9 ``Dataset`` \u8fdb\u884c\u5c01\u88c5\uff0c\u63d0\u4f9b\u5206\u6279\u904d\u5386\u6570\u636e\u96c6\u7684\u80fd\u529b\u3002\n\n"
      ]
    }
  ],
  "metadata": {
    "kernelspec": {
      "display_name": "Python 3",
      "language": "python",
      "name": "python3"
    },
    "language_info": {
      "codemirror_mode": {
        "name": "ipython",
        "version": 3
      },
      "file_extension": ".py",
      "mimetype": "text/x-python",
      "name": "python",
      "nbconvert_exporter": "python",
      "pygments_lexer": "ipython3",
      "version": "3.11.9"
    }
  },
  "nbformat": 4,
  "nbformat_minor": 0
}