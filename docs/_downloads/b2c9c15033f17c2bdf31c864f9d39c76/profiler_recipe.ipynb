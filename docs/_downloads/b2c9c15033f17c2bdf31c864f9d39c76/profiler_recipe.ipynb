{
  "cells": [
    {
      "cell_type": "code",
      "execution_count": null,
      "metadata": {
        "collapsed": false
      },
      "outputs": [],
      "source": [
        "# For tips on running notebooks in Google Colab, see\n# https://pytorch.org/tutorials/beginner/colab\n%matplotlib inline"
      ]
    },
    {
      "cell_type": "markdown",
      "metadata": {},
      "source": [
        "\n# PyTorch Profiler\n\u672c\u6559\u7a0b\u89e3\u91ca\u4e86\u5982\u4f55\u4f7f\u7528PyTorch profiler,\u5e76\u6d4b\u91cf\u6a21\u578b\u7b97\u5b50\u7684\u65f6\u95f4\u548c\u5185\u5b58\u6d88\u8017\u3002\n\n## \u7b80\u4ecb\n\u5f53\u7528\u6237\u9700\u8981\u786e\u5b9a\u6a21\u578b\u4e2d\u6700\u8017\u8d39\u8d44\u6e90\u7684\u7b97\u5b50\u65f6,PyTorch\u5305\u542b\u4e00\u4e2a\u7b80\u5355\u7684profiler API\u975e\u5e38\u6709\u7528\u3002\n\n\u5728\u672c\u6559\u7a0b\u4e2d,\u6211\u4eec\u5c06\u4f7f\u7528\u4e00\u4e2a\u7b80\u5355\u7684 Resnet \u6a21\u578b\u6765\u6f14\u793a\u5982\u4f55\u4f7f\u7528profiler\u5206\u6790\u6a21\u578b\u6027\u80fd\u3002\n\n## \u73af\u5883\u8bbe\u7f6e\n\u8981\u5b89\u88c5 ``torch`` \u548c ``torchvision``,\u8bf7\u4f7f\u7528\u4ee5\u4e0b\u547d\u4ee4:\n\n```sh\npip install torch torchvision\n```\n"
      ]
    },
    {
      "cell_type": "markdown",
      "metadata": {},
      "source": [
        "## \u5177\u4f53\u6b65\u9aa4\n\n1. \u5bfc\u5165\u6240\u6709\u5fc5\u9700\u7684\u5e93\n2. \u5b9e\u4f8b\u5316\u4e00\u4e2a\u7b80\u5355\u7684Resnet\u6a21\u578b\n3. \u4f7f\u7528profiler\u5206\u6790\u6267\u884c\u65f6\u95f4\n4. \u4f7f\u7528profiler\u5206\u6790\u5185\u5b58\u6d88\u8017\n5. \u4f7f\u7528\u8ddf\u8e2a\u529f\u80fd\n6. \u68c0\u67e5\u5806\u6808\u8ddf\u8e2a\n7. \u4f7f\u7528profiler\u5206\u6790\u957f\u65f6\u95f4\u8fd0\u884c\u7684\u4f5c\u4e1a\n\n### 1. \u5bfc\u5165\u4f9d\u8d56\u7684\u5e93\n\n\u5728\u672c\u6559\u7a0b\u4e2d,\u6211\u4eec\u5c06\u4f7f\u7528 ``torch``\u3001``torchvision.models`` \u548c ``profiler`` \u6a21\u5757:\n\n\n"
      ]
    },
    {
      "cell_type": "code",
      "execution_count": null,
      "metadata": {
        "collapsed": false
      },
      "outputs": [],
      "source": [
        "import torch\nimport torchvision.models as models\nfrom torch.profiler import profile, ProfilerActivity, record_function"
      ]
    },
    {
      "cell_type": "markdown",
      "metadata": {},
      "source": [
        "### 2. \u521b\u5efa\u4e00\u4e2a\u7b80\u5355\u7684 Resnet \u6a21\u578b\n\n\u8ba9\u6211\u4eec\u521b\u5efa\u4e00\u4e2a Resnet \u6a21\u578b\u5b9e\u4f8b,\u5e76\u4e3a\u5b83\u51c6\u5907\u4e00\u4e2a\u8f93\u5165:\n\n\n"
      ]
    },
    {
      "cell_type": "code",
      "execution_count": null,
      "metadata": {
        "collapsed": false
      },
      "outputs": [],
      "source": [
        "model = models.resnet18()\ninputs = torch.randn(5, 3, 224, 224)"
      ]
    },
    {
      "cell_type": "markdown",
      "metadata": {},
      "source": [
        "### 3. \u4f7f\u7528profiler\u5206\u6790\u6267\u884c\u65f6\u95f4\n\nPyTorch profiler\u901a\u8fc7\u4e0a\u4e0b\u6587\u7ba1\u7406\u5668\u542f\u7528,\u5e76\u63a5\u53d7\u591a\u4e2a\u53c2\u6570,\u5176\u4e2d\u4e00\u4e9b\u6700\u6709\u7528\u7684\u53c2\u6570\u5982\u4e0b:\n\n- ``activities`` - \u8981\u5206\u6790\u7684\u6d3b\u52a8\u5217\u8868:\n   - ``ProfilerActivity.CPU`` - PyTorch\u7b97\u5b50\u3001TorchScript\u51fd\u6570\u548c\u7528\u6237\u5b9a\u4e49\u7684\u4ee3\u7801\u6807\u7b7e(\u89c1\u4e0b\u9762\u7684 ``record_function``);\n   - ``ProfilerActivity.CUDA`` - \u8bbe\u5907\u4e0a\u7684CUDA\u5185\u6838;\n- ``record_shapes`` - \u662f\u5426\u8bb0\u5f55\u7b97\u5b50\u8f93\u5165\u7684\u5f62\u72b6;\n- ``profile_memory`` - \u662f\u5426\u62a5\u544a\u6a21\u578b\u5f20\u91cf\u6240\u6d88\u8017\u7684\u5185\u5b58\u91cf;\n- ``use_cuda`` - \u662f\u5426\u6d4b\u91cfCUDA\u5185\u6838\u7684\u6267\u884c\u65f6\u95f4\u3002\n\n\u6ce8\u610f:\u5f53\u4f7f\u7528CUDA\u65f6,profiler\u8fd8\u4f1a\u663e\u793a\u4e3b\u673a\u4e0a\u53d1\u751f\u7684\u8fd0\u884c\u65f6CUDA\u4e8b\u4ef6\u3002\n\n"
      ]
    },
    {
      "cell_type": "markdown",
      "metadata": {},
      "source": [
        "\u8ba9\u6211\u4eec\u770b\u770b\u5982\u4f55\u4f7f\u7528profiler\u5206\u6790\u6267\u884c\u65f6\u95f4:\n\n"
      ]
    },
    {
      "cell_type": "code",
      "execution_count": null,
      "metadata": {
        "collapsed": false
      },
      "outputs": [],
      "source": [
        "with profile(activities=[ProfilerActivity.CPU], record_shapes=True) as prof:\n    with record_function(\"model_inference\"):\n        model(inputs)"
      ]
    },
    {
      "cell_type": "markdown",
      "metadata": {},
      "source": [
        "\u6ce8\u610f,\u6211\u4eec\u53ef\u4ee5\u4f7f\u7528 ``record_function`` \u4e0a\u4e0b\u6587\u7ba1\u7406\u5668\u4e3a\u4efb\u610f\u4ee3\u7801\u8303\u56f4\u6dfb\u52a0\u7528\u6237\u63d0\u4f9b\u7684\u540d\u79f0\u6807\u7b7e\n(\u5728\u4e0a\u9762\u7684\u793a\u4f8b\u4e2d\u4f7f\u7528 ``model_inference`` \u4f5c\u4e3a\u6807\u7b7e)\u3002\n\nProfiler\u5141\u8bb8\u68c0\u67e5\u5728\u4f7f\u7528profiler\u4e0a\u4e0b\u6587\u7ba1\u7406\u5668\u5305\u88c5\u7684\u4ee3\u7801\u8303\u56f4\u5185\u6267\u884c\u671f\u95f4\u8c03\u7528\u4e86\u54ea\u4e9b\u7b97\u5b50\u3002\n\u5982\u679c\u540c\u65f6\u5b58\u5728\u591a\u4e2a\u6d3b\u52a8\u7684profiler\u8303\u56f4(\u4f8b\u5982\u5728\u5e76\u884cPyTorch\u7ebf\u7a0b\u4e2d),\u6bcf\u4e2aprofiling\u4e0a\u4e0b\u6587\u7ba1\u7406\u5668\u53ea\u8ddf\u8e2a\u5176\u5bf9\u5e94\u8303\u56f4\u7684\u7b97\u5b50\u3002\nProfiler\u8fd8\u4f1a\u81ea\u52a8\u5206\u6790\u4f7f\u7528 ``torch.jit._fork`` \u542f\u52a8\u7684\u5f02\u6b65\u4efb\u52a1,\u4ee5\u53ca\u5728\u53cd\u5411\u4f20\u64ad\u8fc7\u7a0b\u4e2d\u4f7f\u7528 ``backward()`` \u8c03\u7528\u542f\u52a8\u7684\u53cd\u5411\u4f20\u64ad\u7b97\u5b50\u3002\n\n\u8ba9\u6211\u4eec\u6253\u5370\u51fa\u4e0a\u8ff0\u6267\u884c\u7684\u7edf\u8ba1\u4fe1\u606f:\n\n"
      ]
    },
    {
      "cell_type": "code",
      "execution_count": null,
      "metadata": {
        "collapsed": false
      },
      "outputs": [],
      "source": [
        "print(prof.key_averages().table(sort_by=\"cpu_time_total\", row_limit=10))"
      ]
    },
    {
      "cell_type": "markdown",
      "metadata": {},
      "source": [
        "\u8f93\u51fa\u5c06\u5982\u4e0b\u6240\u793a(\u7701\u7565\u4e86\u4e00\u4e9b\u5217):\n\n"
      ]
    },
    {
      "cell_type": "code",
      "execution_count": null,
      "metadata": {
        "collapsed": false
      },
      "outputs": [],
      "source": [
        "# ---------------------------------  ------------  ------------  ------------  ------------\n#                              Name      Self CPU     CPU total  CPU time avg    # of Calls\n# ---------------------------------  ------------  ------------  ------------  ------------\n#                   model_inference       5.509ms      57.503ms      57.503ms             1\n#                      aten::conv2d     231.000us      31.931ms       1.597ms            20\n#                 aten::convolution     250.000us      31.700ms       1.585ms            20\n#                aten::_convolution     336.000us      31.450ms       1.573ms            20\n#          aten::mkldnn_convolution      30.838ms      31.114ms       1.556ms            20\n#                  aten::batch_norm     211.000us      14.693ms     734.650us            20\n#      aten::_batch_norm_impl_index     319.000us      14.482ms     724.100us            20\n#           aten::native_batch_norm       9.229ms      14.109ms     705.450us            20\n#                        aten::mean     332.000us       2.631ms     125.286us            21\n#                      aten::select       1.668ms       2.292ms       8.988us           255\n# ---------------------------------  ------------  ------------  ------------  ------------\n# Self CPU time total: 57.549m\n#"
      ]
    },
    {
      "cell_type": "markdown",
      "metadata": {},
      "source": [
        "To get a finer granularity of results and include operator input shapes, pass ``group_by_input_shape=True``\n(note: this requires running the profiler with ``record_shapes=True``):\n\u8fd9\u91cc\u6211\u4eec\u53ef\u4ee5\u770b\u5230,\u5982\u9884\u671f\u7684\u90a3\u6837,\u5927\u90e8\u5206\u65f6\u95f4\u90fd\u82b1\u5728\u4e86\u5377\u79ef\u4e0a(\u5bf9\u4e8e\u4f7f\u7528 ``MKL-DNN`` \u652f\u6301\u7f16\u8bd1\u7684PyTorch,\u7279\u522b\u662f\u5728 ``mkldnn_convolution`` \u4e0a)\u3002\n\u6ce8\u610f\u81ea\u8eabcpu\u65f6\u95f4\u548ccpu\u65f6\u95f4\u4e4b\u95f4\u7684\u533a\u522b - \u7b97\u5b50\u53ef\u4ee5\u8c03\u7528\u5176\u4ed6\u7b97\u5b50,\u81ea\u8eabcpu\u65f6\u95f4\u4e0d\u5305\u62ec\u5728\u5b50\u7b97\u5b50\u8c03\u7528\u4e2d\u82b1\u8d39\u7684\u65f6\u95f4,\u800c\u603bcpu\u65f6\u95f4\u5305\u62ec\u4e86\u5b83\u3002\n\u4f60\u53ef\u4ee5\u901a\u8fc7\u5c06 ``sort_by=\"self_cpu_time_total\"`` \u4f20\u9012\u7ed9 ``table`` \u8c03\u7528\u6765\u9009\u62e9\u6309\u81ea\u8eabcpu\u65f6\u95f4\u6392\u5e8f\u3002\n\n\u8981\u83b7\u5f97\u66f4\u7ec6\u7c92\u5ea6\u7684\u7ed3\u679c\u5e76\u5305\u542b\u7b97\u5b50\u8f93\u5165\u5f62\u72b6,\u8bf7\u4f20\u9012 ``group_by_input_shape=True``\n(\u6ce8\u610f:\u8fd9\u9700\u8981\u4f7f\u7528 ``record_shapes=True`` \u8fd0\u884cprofiler):\n\n"
      ]
    },
    {
      "cell_type": "code",
      "execution_count": null,
      "metadata": {
        "collapsed": false
      },
      "outputs": [],
      "source": [
        "print(\n    prof.key_averages(group_by_input_shape=True).table(\n        sort_by=\"cpu_time_total\", row_limit=10\n    )\n)"
      ]
    },
    {
      "cell_type": "markdown",
      "metadata": {},
      "source": [
        "\u8f93\u51fa\u53ef\u80fd\u5982\u4e0b\u6240\u793a(\u7701\u7565\u4e86\u4e00\u4e9b\u5217):\n\n```sh\n---------------------------------  ------------  -------------------------------------------\n                             Name     CPU total                                 Input Shapes\n---------------------------------  ------------  -------------------------------------------\n                  model_inference      57.503ms                                           []\n                     aten::conv2d       8.008ms      [5,64,56,56], [64,64,3,3], [], ..., []]\n                aten::convolution       7.956ms     [[5,64,56,56], [64,64,3,3], [], ..., []]\n               aten::_convolution       7.909ms     [[5,64,56,56], [64,64,3,3], [], ..., []]\n         aten::mkldnn_convolution       7.834ms     [[5,64,56,56], [64,64,3,3], [], ..., []]\n                     aten::conv2d       6.332ms    [[5,512,7,7], [512,512,3,3], [], ..., []]\n                aten::convolution       6.303ms    [[5,512,7,7], [512,512,3,3], [], ..., []]\n               aten::_convolution       6.273ms    [[5,512,7,7], [512,512,3,3], [], ..., []]\n         aten::mkldnn_convolution       6.233ms    [[5,512,7,7], [512,512,3,3], [], ..., []]\n                     aten::conv2d       4.751ms  [[5,256,14,14], [256,256,3,3], [], ..., []]\n---------------------------------  ------------  -------------------------------------------\nSelf CPU time total: 57.549ms\n```\n"
      ]
    },
    {
      "cell_type": "markdown",
      "metadata": {},
      "source": [
        "\u6ce8\u610f ``aten::convolution`` \u51fa\u73b0\u4e86\u4e24\u6b21,\u5177\u6709\u4e0d\u540c\u7684\u8f93\u5165\u5f62\u72b6\u3002\n\n"
      ]
    },
    {
      "cell_type": "markdown",
      "metadata": {},
      "source": [
        "Profiler\u4e5f\u53ef\u7528\u4e8e\u5206\u6790\u5728GPU\u4e0a\u6267\u884c\u7684\u6a21\u578b\u7684\u6027\u80fd:\n\n"
      ]
    },
    {
      "cell_type": "code",
      "execution_count": null,
      "metadata": {
        "collapsed": false
      },
      "outputs": [],
      "source": [
        "model = models.resnet18().cuda()\ninputs = torch.randn(5, 3, 224, 224).cuda()\n\nwith profile(\n    activities=[ProfilerActivity.CPU, ProfilerActivity.CUDA], record_shapes=True\n) as prof:\n    with record_function(\"model_inference\"):\n        model(inputs)\n\nprint(prof.key_averages().table(sort_by=\"cuda_time_total\", row_limit=10))"
      ]
    },
    {
      "cell_type": "markdown",
      "metadata": {},
      "source": [
        "(\u6ce8\u610f:\u7b2c\u4e00\u6b21\u4f7f\u7528CUDA\u5206\u6790\u53ef\u80fd\u4f1a\u5e26\u6765\u989d\u5916\u7684\u5f00\u9500\u3002)\n\n"
      ]
    },
    {
      "cell_type": "markdown",
      "metadata": {},
      "source": [
        "\u7ed3\u679c\u8f93\u51fa(\u7701\u7565\u4e86\u4e00\u4e9b\u5217):\n\n```sh\n-------------------------------------------------------  ------------  ------------\n                                                   Name     Self CUDA    CUDA total\n-------------------------------------------------------  ------------  ------------\n                                        model_inference       0.000us      11.666ms\n                                           aten::conv2d       0.000us      10.484ms\n                                      aten::convolution       0.000us      10.484ms\n                                     aten::_convolution       0.000us      10.484ms\n                             aten::_convolution_nogroup       0.000us      10.484ms\n                                      aten::thnn_conv2d       0.000us      10.484ms\n                              aten::thnn_conv2d_forward      10.484ms      10.484ms\nvoid at::native::im2col_kernel<float>(long, float co...       3.844ms       3.844ms\n                                      sgemm_32x32x32_NN       3.206ms       3.206ms\n                                  sgemm_32x32x32_NN_vec       3.093ms       3.093ms\n-------------------------------------------------------  ------------  ------------\nSelf CPU time total: 23.015ms\nSelf CUDA time total: 11.666ms\n```\n"
      ]
    },
    {
      "cell_type": "markdown",
      "metadata": {},
      "source": [
        "\u6ce8\u610f\u5728\u8f93\u51fa\u4e2d\u51fa\u73b0\u4e86\u8bbe\u5907\u4e0a\u7684\u5185\u6838(\u4f8b\u5982 ``sgemm_32x32x32_NN``)\u3002\n\n"
      ]
    },
    {
      "cell_type": "markdown",
      "metadata": {},
      "source": [
        "### 4. \u4f7f\u7528 profiler \u5206\u6790\u5185\u5b58\u6d88\u8017\n\nPyTorch profiler\u8fd8\u53ef\u4ee5\u663e\u793a\u5728\u6267\u884c\u6a21\u578b\u7b97\u5b50\u671f\u95f4\u5206\u914d(\u6216\u91ca\u653e)\u7684\u5185\u5b58\u91cf(\u7531\u6a21\u578b\u5f20\u91cf\u4f7f\u7528)\u3002\n\u5728\u4e0b\u9762\u7684\u8f93\u51fa\u4e2d,'self'\u5185\u5b58\u5bf9\u5e94\u4e8e\u7b97\u5b50\u5206\u914d(\u91ca\u653e)\u7684\u5185\u5b58,\u4e0d\u5305\u62ec\u5bf9\u5176\u4ed6\u7b97\u5b50\u7684\u5b50\u8c03\u7528\u3002\n\u8981\u542f\u7528\u5185\u5b58\u5206\u6790\u529f\u80fd,\u8bf7\u4f20\u9012 ``profile_memory=True``\u3002\n\n"
      ]
    },
    {
      "cell_type": "code",
      "execution_count": null,
      "metadata": {
        "collapsed": false
      },
      "outputs": [],
      "source": [
        "model = models.resnet18()\ninputs = torch.randn(5, 3, 224, 224)\n\nwith profile(\n    activities=[ProfilerActivity.CPU], profile_memory=True, record_shapes=True\n) as prof:\n    model(inputs)\n\nprint(prof.key_averages().table(sort_by=\"self_cpu_memory_usage\", row_limit=10))\n\n# (omitting some columns)\n# ---------------------------------  ------------  ------------  ------------\n#                              Name       CPU Mem  Self CPU Mem    # of Calls\n# ---------------------------------  ------------  ------------  ------------\n#                       aten::empty      94.79 Mb      94.79 Mb           121\n#     aten::max_pool2d_with_indices      11.48 Mb      11.48 Mb             1\n#                       aten::addmm      19.53 Kb      19.53 Kb             1\n#               aten::empty_strided         572 b         572 b            25\n#                     aten::resize_         240 b         240 b             6\n#                         aten::abs         480 b         240 b             4\n#                         aten::add         160 b         160 b            20\n#               aten::masked_select         120 b         112 b             1\n#                          aten::ne         122 b          53 b             6\n#                          aten::eq          60 b          30 b             2\n# ---------------------------------  ------------  ------------  ------------\n# Self CPU time total: 53.064ms\n\nprint(prof.key_averages().table(sort_by=\"cpu_memory_usage\", row_limit=10))"
      ]
    },
    {
      "cell_type": "markdown",
      "metadata": {},
      "source": [
        "\u8f93\u51fa\u5982\u4e0b\u6240\u793a(\u7701\u7565\u4e86\u4e00\u4e9b\u5217):\n\n```sh\n---------------------------------  ------------  ------------  ------------\n                             Name       CPU Mem  Self CPU Mem    # of Calls\n---------------------------------  ------------  ------------  ------------\n                      aten::empty      94.79 Mb      94.79 Mb           121\n                 aten::batch_norm      47.41 Mb           0 b            20\n     aten::_batch_norm_impl_index      47.41 Mb           0 b            20\n          aten::native_batch_norm      47.41 Mb           0 b            20\n                     aten::conv2d      47.37 Mb           0 b            20\n                aten::convolution      47.37 Mb           0 b            20\n               aten::_convolution      47.37 Mb           0 b            20\n         aten::mkldnn_convolution      47.37 Mb           0 b            20\n                 aten::max_pool2d      11.48 Mb           0 b             1\n    aten::max_pool2d_with_indices      11.48 Mb      11.48 Mb             1\n---------------------------------  ------------  ------------  ------------\nSelf CPU time total: 53.064ms\n```\n"
      ]
    },
    {
      "cell_type": "markdown",
      "metadata": {},
      "source": [
        "### 5. \u4f7f\u7528\u8ddf\u8e2a\u529f\u80fd\n\n\u53ef\u4ee5\u5c06\u5206\u6790\u7ed3\u679c\u8f93\u51fa\u4e3a ``.json`` \u8ddf\u8e2a\u6587\u4ef6:\n\n"
      ]
    },
    {
      "cell_type": "code",
      "execution_count": null,
      "metadata": {
        "collapsed": false
      },
      "outputs": [],
      "source": [
        "model = models.resnet18().cuda()\ninputs = torch.randn(5, 3, 224, 224).cuda()\n\nwith profile(activities=[ProfilerActivity.CPU, ProfilerActivity.CUDA]) as prof:\n    model(inputs)\n\nprof.export_chrome_trace(\"trace.json\")"
      ]
    },
    {
      "cell_type": "markdown",
      "metadata": {},
      "source": [
        "\u4f60\u53ef\u4ee5\u5728Chrome\u8ddf\u8e2a\u67e5\u770b\u5668(``chrome://tracing``)\u4e2d\u68c0\u67e5\u5206\u6790\u7684\u7b97\u5b50\u548cCUDA\u5185\u6838\u5e8f\u5217:\n\n<img src=\"file://../../_static/img/trace_img.png\" scale=\"25 %\">\n\n"
      ]
    },
    {
      "cell_type": "markdown",
      "metadata": {},
      "source": [
        "### 6. \u68c0\u67e5\u5806\u6808\u8ddf\u8e2a\n\nProfiler \u53ef\u7528\u4e8e\u5206\u6790 Python \u548c TorchScript \u5806\u6808\u8ddf\u8e2a:\n\n"
      ]
    },
    {
      "cell_type": "code",
      "execution_count": null,
      "metadata": {
        "collapsed": false
      },
      "outputs": [],
      "source": [
        "with profile(\n    activities=[ProfilerActivity.CPU, ProfilerActivity.CUDA],\n    with_stack=True,\n) as prof:\n    model(inputs)\n\n# Print aggregated stats\nprint(\n    prof.key_averages(group_by_stack_n=5).table(\n        sort_by=\"self_cuda_time_total\", row_limit=2\n    )\n)"
      ]
    },
    {
      "cell_type": "markdown",
      "metadata": {},
      "source": [
        "\u8f93\u51fa\u5982\u4e0b\u6240\u793a(\u7701\u7565\u4e86\u4e00\u4e9b\u5217):\n\n```sh\n-------------------------  -----------------------------------------------------------\n                     Name  Source Location\n-------------------------  -----------------------------------------------------------\naten::thnn_conv2d_forward  .../torch/nn/modules/conv.py(439): _conv_forward\n                           .../torch/nn/modules/conv.py(443): forward\n                           .../torch/nn/modules/module.py(1051): _call_impl\n                           .../site-packages/torchvision/models/resnet.py(63): forward\n                           .../torch/nn/modules/module.py(1051): _call_impl\naten::thnn_conv2d_forward  .../torch/nn/modules/conv.py(439): _conv_forward\n                           .../torch/nn/modules/conv.py(443): forward\n                           .../torch/nn/modules/module.py(1051): _call_impl\n                           .../site-packages/torchvision/models/resnet.py(59): forward\n                           .../torch/nn/modules/module.py(1051): _call_impl\n-------------------------  -----------------------------------------------------------\nSelf CPU time total: 34.016ms\nSelf CUDA time total: 11.659ms\n```\n"
      ]
    },
    {
      "cell_type": "markdown",
      "metadata": {},
      "source": [
        "\u6ce8\u610f\u5728 ``torchvision/models/resnet.py`` \u811a\u672c\u4e2d\u7684\u4e24\u4e2a\u5377\u79ef\u548c\u4e24\u4e2a\u8c03\u7528\u4f4d\u7f6e\u3002\n\n(\u8b66\u544a:\u5806\u6808\u8ddf\u8e2a\u4f1a\u589e\u52a0\u989d\u5916\u7684\u5206\u6790\u5f00\u9500\u3002)\n\n"
      ]
    },
    {
      "cell_type": "markdown",
      "metadata": {},
      "source": [
        "### 7. \u4f7f\u7528\u5206\u6790\u5668\u5206\u6790\u957f\u65f6\u95f4\u8fd0\u884c\u7684\u4f5c\u4e1a\n\nPyTorch\u5206\u6790\u5668\u63d0\u4f9b\u4e86\u4e00\u4e2a\u989d\u5916\u7684API\u6765\u5904\u7406\u957f\u65f6\u95f4\u8fd0\u884c\u7684\u4f5c\u4e1a\n(\u4f8b\u5982\u8bad\u7ec3\u5faa\u73af)\u3002\u8ddf\u8e2a\u6240\u6709\u6267\u884c\u53ef\u80fd\u4f1a\u5f88\u6162,\u5e76\u5bfc\u81f4\u975e\u5e38\u5927\u7684\u8ddf\u8e2a\u6587\u4ef6\u3002\n\u4e3a\u4e86\u907f\u514d\u8fd9\u79cd\u60c5\u51b5,\u53ef\u4ee5\u4f7f\u7528\u53ef\u9009\u53c2\u6570:\n\n- ``schedule`` - \u6307\u5b9a\u4e00\u4e2a\u51fd\u6570,\u8be5\u51fd\u6570\u4ee5\u6574\u6570\u53c2\u6570(\u6b65\u9aa4\u7f16\u53f7)\u4f5c\u4e3a\u8f93\u5165,\n  \u5e76\u8fd4\u56de\u5206\u6790\u5668\u7684\u64cd\u4f5c,\u4f7f\u7528\u6b64\u53c2\u6570\u7684\u6700\u4f73\u65b9\u5f0f\u662f\u4f7f\u7528 ``torch.profiler.schedule``\n  \u5e2e\u52a9\u51fd\u6570,\u5b83\u53ef\u4ee5\u4e3a\u60a8\u751f\u6210\u4e00\u4e2a\u8ba1\u5212;\n- ``on_trace_ready`` - \u6307\u5b9a\u4e00\u4e2a\u51fd\u6570,\u8be5\u51fd\u6570\u4ee5\u5206\u6790\u5668\u7684\u5f15\u7528\u4f5c\u4e3a\u8f93\u5165,\n  \u5e76\u5728\u6bcf\u6b21\u65b0\u7684\u8ddf\u8e2a\u51c6\u5907\u5c31\u7eea\u65f6\u7531\u5206\u6790\u5668\u8c03\u7528\u3002\n\n\u4e3a\u4e86\u8bf4\u660e\u8be5API\u7684\u5de5\u4f5c\u539f\u7406,\u8ba9\u6211\u4eec\u9996\u5148\u8003\u8651\u4ee5\u4e0b\u4f7f\u7528 ``torch.profiler.schedule``\n\u5e2e\u52a9\u51fd\u6570\u7684\u793a\u4f8b:\n\n"
      ]
    },
    {
      "cell_type": "code",
      "execution_count": null,
      "metadata": {
        "collapsed": false
      },
      "outputs": [],
      "source": [
        "from torch.profiler import schedule\n\nmy_schedule = schedule(skip_first=10, wait=5, warmup=1, active=3, repeat=2)"
      ]
    },
    {
      "cell_type": "markdown",
      "metadata": {},
      "source": [
        "\u5206\u6790\u5668\u5047\u8bbe\u957f\u65f6\u95f4\u8fd0\u884c\u7684\u4f5c\u4e1a\u7531\u4ece\u96f6\u5f00\u59cb\u7f16\u53f7\u7684\u6b65\u9aa4\u7ec4\u6210\u3002\n\u4e0a\u9762\u7684\u793a\u4f8b\u4e3a\u5206\u6790\u5668\u5b9a\u4e49\u4e86\u4ee5\u4e0b\u64cd\u4f5c\u5e8f\u5217:\n\n1. \u53c2\u6570 ``skip_first`` \u544a\u8bc9\u5206\u6790\u5668\u5b83\u5e94\u8be5\u5ffd\u7565\u524d10\u4e2a\u6b65\u9aa4\n   (``skip_first`` \u7684\u9ed8\u8ba4\u503c\u4e3a\u96f6);\n2. \u5728\u7b2c\u4e00\u4e2a ``skip_first`` \u6b65\u9aa4\u4e4b\u540e,\u5206\u6790\u5668\u5f00\u59cb\u6267\u884c\u5206\u6790\u5668\u5468\u671f;\n3. \u6bcf\u4e2a\u5468\u671f\u7531\u4e09\u4e2a\u9636\u6bb5\u7ec4\u6210:\n\n   - \u7a7a\u95f2(``wait=5``\u6b65\u9aa4),\u5728\u6b64\u9636\u6bb5\u5206\u6790\u5668\u4e0d\u6d3b\u52a8;\n   - \u9884\u70ed(``warmup=1``\u6b65\u9aa4),\u5728\u6b64\u9636\u6bb5\u5206\u6790\u5668\u5f00\u59cb\u8ddf\u8e2a,\u4f46\u7ed3\u679c\u88ab\u4e22\u5f03;\n     \u6b64\u9636\u6bb5\u7528\u4e8e\u4e22\u5f03\u5206\u6790\u5668\u5728\u8ddf\u8e2a\u5f00\u59cb\u65f6\u83b7\u5f97\u7684\u6837\u672c,\u56e0\u4e3a\u5b83\u4eec\u901a\u5e38\u7531\u989d\u5916\u7684\u5f00\u9500\u626d\u66f2;\n   - \u4e3b\u52a8\u8ddf\u8e2a(``active=3``\u6b65\u9aa4),\u5728\u6b64\u9636\u6bb5\u5206\u6790\u5668\u8ddf\u8e2a\u548c\u8bb0\u5f55\u6570\u636e;\n4. \u53ef\u9009\u7684 ``repeat`` \u53c2\u6570\u6307\u5b9a\u5468\u671f\u7684\u4e0a\u9650\u3002\n   \u9ed8\u8ba4\u60c5\u51b5\u4e0b(\u96f6\u503c),\u5206\u6790\u5668\u5c06\u5c3d\u53ef\u80fd\u957f\u65f6\u95f4\u5730\u6267\u884c\u5468\u671f\u3002\n\n"
      ]
    },
    {
      "cell_type": "markdown",
      "metadata": {},
      "source": [
        "\u56e0\u6b64,\u5728\u4e0a\u9762\u7684\u793a\u4f8b\u4e2d,\u5206\u6790\u5668\u5c06\u8df3\u8fc7\u524d15\u4e2a\u6b65\u9aa4,\u5728\u4e0b\u4e00\u6b65\u8fdb\u884c\u9884\u70ed,\n\u5728\u63a5\u4e0b\u6765\u76843\u4e2a\u6b65\u9aa4\u4e2d\u4e3b\u52a8\u8bb0\u5f55,\u518d\u8df3\u8fc7\u53e6\u59165\u4e2a\u6b65\u9aa4,\u5728\u4e0b\u4e00\u6b65\u8fdb\u884c\u9884\u70ed,\n\u5728\u53e6\u59163\u4e2a\u6b65\u9aa4\u4e2d\u4e3b\u52a8\u8bb0\u5f55\u3002\u7531\u4e8e\u6307\u5b9a\u4e86 ``repeat=2`` \u53c2\u6570\u503c,\n\u5206\u6790\u5668\u5c06\u5728\u524d\u4e24\u4e2a\u5468\u671f\u4e4b\u540e\u505c\u6b62\u8bb0\u5f55\u3002\n\n\u5728\u6bcf\u4e2a\u5468\u671f\u7ed3\u675f\u65f6,\u5206\u6790\u5668\u8c03\u7528\u6307\u5b9a\u7684 ``on_trace_ready`` \u51fd\u6570\u5e76\u5c06\u81ea\u8eab\u4f5c\u4e3a\u53c2\u6570\u4f20\u9012\u3002\n\u6b64\u51fd\u6570\u7528\u4e8e\u5904\u7406\u65b0\u7684\u8ddf\u8e2a - \u901a\u8fc7\u83b7\u53d6\u8868\u8f93\u51fa\u6216\u5c06\u8f93\u51fa\u4fdd\u5b58\u5230\u78c1\u76d8\u4e0a\u7684\u8ddf\u8e2a\u6587\u4ef6\u3002\n\n\u8981\u5411\u5206\u6790\u5668\u53d1\u9001\u4e0b\u4e00\u6b65\u5df2\u7ecf\u5f00\u59cb\u7684\u4fe1\u53f7,\u8bf7\u8c03\u7528 ``prof.step()`` \u51fd\u6570\u3002\n\u5f53\u524d\u5206\u6790\u5668\u6b65\u9aa4\u5b58\u50a8\u5728 ``prof.step_num`` \u4e2d\u3002\n\n\u4ee5\u4e0b\u793a\u4f8b\u663e\u793a\u4e86\u5982\u4f55\u4f7f\u7528\u4e0a\u8ff0\u6240\u6709\u6982\u5ff5:\n\n"
      ]
    },
    {
      "cell_type": "code",
      "execution_count": null,
      "metadata": {
        "collapsed": false
      },
      "outputs": [],
      "source": [
        "def trace_handler(p):\n    output = p.key_averages().table(sort_by=\"self_cuda_time_total\", row_limit=10)\n    print(output)\n    p.export_chrome_trace(\"/tmp/trace_\" + str(p.step_num) + \".json\")\n\n\nwith profile(\n    activities=[ProfilerActivity.CPU, ProfilerActivity.CUDA],\n    schedule=torch.profiler.schedule(wait=1, warmup=1, active=2),\n    on_trace_ready=trace_handler,\n) as p:\n    for idx in range(8):\n        model(inputs)\n        p.step()"
      ]
    },
    {
      "cell_type": "markdown",
      "metadata": {},
      "source": [
        "## \u4e86\u89e3\u66f4\u591a\n\n\u67e5\u770b\u4ee5\u4e0b\u6559\u7a0b\u4ee5\u7ee7\u7eed\u5b66\u4e60:\n\n-  [PyTorch \u57fa\u51c6\u6d4b\u8bd5](https://pytorch.org/tutorials/recipes/recipes/benchmark.html)\n-  [\u4f7f\u7528 TensorBoard \u7684 PyTorch \u5206\u6790\u5668](https://pytorch.org/tutorials/intermediate/tensorboard_profiler_tutorial.html) \u6559\u7a0b\n-  [\u4f7f\u7528 TensorBoard \u53ef\u89c6\u5316\u6a21\u578b\u3001\u6570\u636e\u548c\u8bad\u7ec3](https://pytorch.org/tutorials/intermediate/tensorboard_tutorial.html) \u6559\u7a0b\n\n\n"
      ]
    }
  ],
  "metadata": {
    "kernelspec": {
      "display_name": "Python 3",
      "language": "python",
      "name": "python3"
    },
    "language_info": {
      "codemirror_mode": {
        "name": "ipython",
        "version": 3
      },
      "file_extension": ".py",
      "mimetype": "text/x-python",
      "name": "python",
      "nbconvert_exporter": "python",
      "pygments_lexer": "ipython3",
      "version": "3.11.9"
    }
  },
  "nbformat": 4,
  "nbformat_minor": 0
}