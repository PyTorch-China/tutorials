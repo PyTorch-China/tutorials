{
  "cells": [
    {
      "cell_type": "code",
      "execution_count": null,
      "metadata": {
        "collapsed": false
      },
      "outputs": [],
      "source": [
        "# For tips on running notebooks in Google Colab, see\n# https://pytorch.org/tutorials/beginner/colab\n%matplotlib inline"
      ]
    },
    {
      "cell_type": "markdown",
      "metadata": {},
      "source": [
        "\n# PyTorch \u521b\u5efa\u795e\u7ecf\u7f51\u7edc\n\u6df1\u5ea6\u5b66\u4e60\u4f7f\u7528\u4eba\u5de5\u795e\u7ecf\u7f51\u7edc(\u6a21\u578b),\u8fd9\u662f\u7531\u8bb8\u591a\u4e92\u8fde\u5355\u5143\u5c42\u7ec4\u6210\u7684\u8ba1\u7b97\u7cfb\u7edf\u3002\u901a\u8fc7\u5c06\u6570\u636e\u4f20\u9012\u5230\u8fd9\u4e9b\u4e92\u8fde\u5355\u5143,\n\u795e\u7ecf\u7f51\u7edc\u80fd\u591f\u5b66\u4e60\u5982\u4f55\u8fd1\u4f3c\u5c06\u8f93\u5165\u8f6c\u6362\u4e3a\u8f93\u51fa\u6240\u9700\u7684\u8ba1\u7b97\u3002\u5728PyTorch\u4e2d,\u53ef\u4ee5\u4f7f\u7528 ``torch.nn`` \u5305\u6784\u5efa\u795e\u7ecf\u7f51\u7edc\u3002\n\n## \u4ecb\u7ecd\nPyTorch \u63d0\u4f9b\u4e86\u4f18\u96c5\u8bbe\u8ba1\u7684\u6a21\u5757\u548c\u7c7b\u6765\u5e2e\u52a9\u60a8\u521b\u5efa\u548c\u8bad\u7ec3\u795e\u7ecf\u7f51\u7edc,\u5305\u62ec ``torch.nn``\u3002\n\u4e00\u4e2a ``nn.Module`` \u4e2d\u6709\u5c42(layers)\u3001\u4ee5\u53ca\u4e00\u4e2a\u8fd4\u56de ``output`` \u7684 ``forward(input)`` \u65b9\u6cd5\u3002\n\n\u5728\u672c\u6559\u7a0b\u4e2d,\u6211\u4eec\u5c06\u4f7f\u7528 ``torch.nn`` \u6765\u5b9a\u4e49\u4e00\u4e2a\u7528\u4e8e \n`MNIST \u6570\u636e\u96c6 <hhttps://pytorch.org/vision/stable/generated/torchvision.datasets.MNIST.html#torchvision.datasets.MNIST>` \u7684\u795e\u7ecf\u7f51\u7edc\u3002\n\n## \u73af\u5883\u8bbe\u7f6e\n\u5728\u5f00\u59cb\u4e4b\u524d,\u5982\u679c\u8fd8\u6ca1\u6709\u5b89\u88c5 ``torch``\u7684\u8bdd,\u6211\u4eec\u9700\u8981\u5148\u5b89\u88c5\u5b83\u3002\n\n::\n\n   pip install torch\n"
      ]
    },
    {
      "cell_type": "markdown",
      "metadata": {},
      "source": [
        "## \u5177\u4f53\u6b65\u9aa4\n\n1. \u5bfc\u5165\u52a0\u8f7d\u6570\u636e\u6240\u9700\u7684\u6240\u6709\u5fc5\u8981\u5e93\n2. \u5b9a\u4e49\u548c\u521d\u59cb\u5316\u795e\u7ecf\u7f51\u7edc\n3. \u6307\u5b9a\u6570\u636e\u5982\u4f55\u901a\u8fc7\u4f60\u7684\u6a21\u578b\n4. [\u53ef\u9009] \u901a\u8fc7\u4f60\u7684\u6a21\u578b\u4f20\u9012\u6570\u636e\u8fdb\u884c\u6d4b\u8bd5\n\n### 1. \u5bfc\u5165\u52a0\u8f7d\u6570\u636e\u6240\u9700\u7684\u5fc5\u8981\u5e93\n\n\u5bf9\u4e8e\u672c\u6559\u7a0b,\u6211\u4eec\u5c06\u4f7f\u7528 ``torch`` \u53ca\u5176\u5b50\u6a21\u5757 ``torch.nn`` \u548c ``torch.nn.functional``\u3002\n\n\n"
      ]
    },
    {
      "cell_type": "code",
      "execution_count": null,
      "metadata": {
        "collapsed": false
      },
      "outputs": [],
      "source": [
        "import torch\nimport torch.nn as nn\nimport torch.nn.functional as F"
      ]
    },
    {
      "cell_type": "markdown",
      "metadata": {},
      "source": [
        "### 2. \u5b9a\u4e49\u548c\u521d\u59cb\u5316\u795e\u7ecf\u7f51\u7edc\n\n\u6211\u4eec\u7684\u7f51\u7edc\u5c06\u8bc6\u522b\u56fe\u50cf\u3002\u6211\u4eec\u5c06\u4f7f\u7528PyTorch\u5185\u7f6e\u7684\u5377\u79ef\u8fc7\u7a0b\u3002\u5377\u79ef\u5c06\u6bcf\u4e2a\u56fe\u50cf\u5143\u7d20\u4e0e\u5176\u5c40\u90e8\u90bb\u5c45\u76f8\u52a0,\n\u5e76\u7531\u4e00\u4e2a\u5c0f\u77e9\u9635(\u5185\u6838)\u52a0\u6743,\u8be5\u5185\u6838\u53ef\u5e2e\u52a9\u6211\u4eec\u4ece\u8f93\u5165\u56fe\u50cf\u4e2d\u63d0\u53d6\u67d0\u4e9b\u7279\u5f81(\u5982\u8fb9\u7f18\u68c0\u6d4b\u3001\u9510\u5229\u5ea6\u3001\u6a21\u7cca\u5ea6\u7b49)\u3002\n\n\u5b9a\u4e49\u6a21\u578b\u7684 ``Net`` \u7c7b\u6709\u4e24\u4e2a\u8981\u6c42\u3002\u7b2c\u4e00\u662f\u7f16\u5199\u4e00\u4e2a\u5f15\u7528 ``nn.Module`` \u7684 __init__ \u51fd\u6570\u3002\n\u5728\u8fd9\u4e2a\u51fd\u6570\u4e2d,\u4f60\u5b9a\u4e49\u795e\u7ecf\u7f51\u7edc\u4e2d\u7684\u5168\u8fde\u63a5\u5c42\u3002\n\n\u4f7f\u7528\u5377\u79ef,\u6211\u4eec\u5c06\u5b9a\u4e49\u6211\u4eec\u7684\u6a21\u578b\u4ee5\u63a5\u53d71\u4e2a\u8f93\u5165\u56fe\u50cf\u901a\u9053,\u5e76\u8f93\u51fa\u4e0e\u6211\u4eec\u7684\u76ee\u6807\u76f8\u5339\u914d\u768410\u4e2a\u6807\u7b7e,\u8868\u793a0\u52309\u7684\u6570\u5b57\u3002\n\u8fd9\u4e2a\u7b97\u6cd5\u7531\u4f60\u81ea\u5df1\u521b\u5efa,\u6211\u4eec\u5c06\u9075\u5faa\u6807\u51c6\u7684MNIST\u7b97\u6cd5\u3002\n\n\n"
      ]
    },
    {
      "cell_type": "code",
      "execution_count": null,
      "metadata": {
        "collapsed": false
      },
      "outputs": [],
      "source": [
        "class Net(nn.Module):\n    def __init__(self):\n      super(Net, self).__init__()\n\n      # \u7b2c\u4e00\u4e2a2D\u5377\u79ef\u5c42,\u63a5\u53d71\u4e2a\u8f93\u5165\u901a\u9053(\u56fe\u50cf),\n      # \u8f93\u51fa32\u4e2a\u5377\u79ef\u7279\u5f81,\u4f7f\u75283x3\u7684\u65b9\u5f62\u6838\n      self.conv1 = nn.Conv2d(1, 32, 3, 1)\n      # \u7b2c\u4e8c\u4e2a2D\u5377\u79ef\u5c42,\u63a5\u53d732\u4e2a\u8f93\u5165\u5c42,\n      # \u8f93\u51fa64\u4e2a\u5377\u79ef\u7279\u5f81,\u4f7f\u75283x3\u7684\u65b9\u5f62\u6838\n      self.conv2 = nn.Conv2d(32, 64, 3, 1)\n\n      # \u8bbe\u8ba1\u4e3a\u786e\u4fdd\u76f8\u90bb\u50cf\u7d20\u8981\u4e48\u5168\u4e3a0,\u8981\u4e48\u5168\u4e3a\u6fc0\u6d3b\n      # \u5177\u6709\u4e00\u5b9a\u8f93\u5165\u6982\u7387\n      self.dropout1 = nn.Dropout2d(0.25)\n      self.dropout2 = nn.Dropout2d(0.5)\n\n      # \u7b2c\u4e00\u4e2a\u5168\u8fde\u63a5\u5c42\n      self.fc1 = nn.Linear(9216, 128)\n      # \u7b2c\u4e8c\u4e2a\u5168\u8fde\u63a5\u5c42,\u8f93\u51fa\u6211\u4eec\u768410\u4e2a\u6807\u7b7e\n      self.fc2 = nn.Linear(128, 10)\n\nmy_nn = Net()\nprint(my_nn)"
      ]
    },
    {
      "cell_type": "markdown",
      "metadata": {},
      "source": [
        "\u6211\u4eec\u5df2\u7ecf\u5b8c\u6210\u4e86\u795e\u7ecf\u7f51\u7edc\u7684\u5b9a\u4e49,\u73b0\u5728\u6211\u4eec\u5fc5\u987b\u5b9a\u4e49\u6570\u636e\u5982\u4f55\u901a\u8fc7\u5b83\u3002\n\n### 3. \u6307\u5b9a\u6570\u636e\u5982\u4f55\u901a\u8fc7\u4f60\u7684\u6a21\u578b\n\n\u5f53\u4f60\u4f7f\u7528PyTorch\u6784\u5efa\u6a21\u578b\u65f6,\u4f60\u53ea\u9700\u8981\u5b9a\u4e49 ``forward`` \u51fd\u6570,\u5b83\u5c06\u6570\u636e\u4f20\u9012\u5230\u8ba1\u7b97\u56fe(\u5373\u6211\u4eec\u7684\u795e\u7ecf\u7f51\u7edc)\u4e2d\u3002\n\u8fd9\u5c06\u4ee3\u8868\u6211\u4eec\u7684\u524d\u5411\u7b97\u6cd5\u3002\n\n\u4f60\u53ef\u4ee5\u5728 ``forward`` \u51fd\u6570\u4e2d\u4f7f\u7528\u4efb\u4f55\u5f20\u91cf\u64cd\u4f5c\u3002\n\n\n"
      ]
    },
    {
      "cell_type": "code",
      "execution_count": null,
      "metadata": {
        "collapsed": false
      },
      "outputs": [],
      "source": [
        "class Net(nn.Module):\n    def __init__(self):\n      super(Net, self).__init__()\n      self.conv1 = nn.Conv2d(1, 32, 3, 1)\n      self.conv2 = nn.Conv2d(32, 64, 3, 1)\n      self.dropout1 = nn.Dropout2d(0.25)\n      self.dropout2 = nn.Dropout2d(0.5)\n      self.fc1 = nn.Linear(9216, 128)\n      self.fc2 = nn.Linear(128, 10)\n\n    # x\u8868\u793a\u6211\u4eec\u7684\u6570\u636e\n    def forward(self, x):\n      # \u5c06\u6570\u636e\u4f20\u9012\u7ed9conv1\n      x = self.conv1(x)\n      # \u5bf9x\u4f7f\u7528\u6574\u6d41\u7ebf\u6027\u6fc0\u6d3b\u51fd\u6570\n      x = F.relu(x)\n\n      x = self.conv2(x)\n      x = F.relu(x)\n\n      # \u5bf9x\u8fd0\u884c\u6700\u5927\u6c60\u5316\n      x = F.max_pool2d(x, 2)\n      # \u5c06\u6570\u636e\u4f20\u9012\u7ed9dropout1\n      x = self.dropout1(x)\n      # \u5c55\u5e73x,start_dim=1\n      x = torch.flatten(x, 1)\n      # \u5c06\u6570\u636e\u4f20\u9012\u7ed9 ``fc1``\n      x = self.fc1(x)\n      x = F.relu(x)\n      x = self.dropout2(x)\n      x = self.fc2(x)\n\n      # \u5bf9x\u5e94\u7528softmax\n      output = F.log_softmax(x, dim=1)\n      return output"
      ]
    },
    {
      "cell_type": "markdown",
      "metadata": {},
      "source": [
        "### 4. [\u53ef\u9009] \u901a\u8fc7\u4f60\u7684\u6a21\u578b\u4f20\u9012\u6570\u636e\u8fdb\u884c\u6d4b\u8bd5\n\n\u4e3a\u4e86\u786e\u4fdd\u6211\u4eec\u5f97\u5230\u671f\u671b\u7684\u8f93\u51fa,\u8ba9\u6211\u4eec\u901a\u8fc7\u4e00\u4e9b\u968f\u673a\u6570\u636e\u6d4b\u8bd5\u6211\u4eec\u7684\u6a21\u578b\u3002\n\n\n"
      ]
    },
    {
      "cell_type": "code",
      "execution_count": null,
      "metadata": {
        "collapsed": false
      },
      "outputs": [],
      "source": [
        "# \u7b49\u540c\u4e8e\u4e00\u4e2a\u968f\u673a\u768428x28\u56fe\u50cf\nrandom_data = torch.rand((1, 1, 28, 28))\n\nmy_nn = Net()\nresult = my_nn(random_data)\nprint (result)"
      ]
    },
    {
      "cell_type": "markdown",
      "metadata": {},
      "source": [
        "\u8fd9\u4e2a\u7ed3\u679c\u5f20\u91cf\u4e2d\u7684\u6bcf\u4e2a\u6570\u5b57\u90fd\u7b49\u540c\u4e8e\u968f\u673a\u5f20\u91cf\u6240\u5173\u8054\u7684\u6807\u7b7e\u7684\u9884\u6d4b\u3002\n\n\u795d\u8d3a\u4f60!\u4f60\u5df2\u7ecf\u6210\u529f\u5730\u5728PyTorch\u4e2d\u5b9a\u4e49\u4e86\u4e00\u4e2a\u795e\u7ecf\u7f51\u7edc\u3002\n\n## \u5b66\u4e60\u66f4\u591a\n\n\u67e5\u770b\u8fd9\u4e9b\u5176\u4ed6\u6559\u7a0b\u4ee5\u7ee7\u7eed\u5b66\u4e60:\n\n- [PyTorch \u4e2d state_dict \u662f\u4ec0\u4e48](https://pytorch.org/tutorials/recipes/recipes/what_is_state_dict.html)_\n- [PyTorch \u4fdd\u5b58\u548c\u52a0\u8f7d\u6a21\u578b\u7528\u4e8e\u63a8\u7406](https://pytorch.org/tutorials/recipes/recipes/saving_and_loading_models_for_inference.html)_\n"
      ]
    }
  ],
  "metadata": {
    "kernelspec": {
      "display_name": "Python 3",
      "language": "python",
      "name": "python3"
    },
    "language_info": {
      "codemirror_mode": {
        "name": "ipython",
        "version": 3
      },
      "file_extension": ".py",
      "mimetype": "text/x-python",
      "name": "python",
      "nbconvert_exporter": "python",
      "pygments_lexer": "ipython3",
      "version": "3.11.9"
    }
  },
  "nbformat": 4,
  "nbformat_minor": 0
}