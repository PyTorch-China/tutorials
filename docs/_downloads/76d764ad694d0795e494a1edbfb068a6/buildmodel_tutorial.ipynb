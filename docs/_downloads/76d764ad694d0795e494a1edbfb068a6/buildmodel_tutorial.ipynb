{
  "cells": [
    {
      "cell_type": "code",
      "execution_count": null,
      "metadata": {
        "collapsed": false
      },
      "outputs": [],
      "source": [
        "# For tips on running notebooks in Google Colab, see\n# https://pytorch.org/tutorials/beginner/colab\n%matplotlib inline"
      ]
    },
    {
      "cell_type": "markdown",
      "metadata": {},
      "source": [
        "\n[\u57fa\u7840\u77e5\u8bc6](intro.html) ||\n[\u5feb\u901f\u5165\u95e8](quickstart_tutorial.html) ||\n[\u5f20\u91cf](tensorqs_tutorial.html) ||\n[\u6570\u636e\u96c6\u4e0e\u6570\u636e\u52a0\u8f7d\u5668](data_tutorial.html) ||\n[Transforms](transforms_tutorial.html) ||\n**\u6784\u5efa\u795e\u7ecf\u7f51\u7edc** ||\n[\u81ea\u52a8\u5fae\u5206](autogradqs_tutorial.html) ||\n[\u4f18\u5316\u6a21\u578b\u53c2\u6570](optimization_tutorial.html) ||\n[\u4fdd\u5b58\u548c\u52a0\u8f7d\u6a21\u578b](saveloadrun_tutorial.html)\n\n# \u6784\u5efa\u795e\u7ecf\u7f51\u7edc\n\n\u795e\u7ecf\u7f51\u7edc\u7531\u6267\u884c\u6570\u636e\u64cd\u4f5c\u7684 \u5c42/\u6a21\u5757 \u7ec4\u6210\u3002[torch.nn](https://pytorch.org/docs/stable/nn.html) \u547d\u540d\u7a7a\u95f4\u63d0\u4f9b\u4e86\u6784\u5efa\u4f60\u81ea\u5df1\u7684\u795e\u7ecf\u7f51\u7edc\u6240\u9700\u7684\u6240\u6709\u6784\u5efa\u5757\u3002\nPyTorch \u4e2d\u7684\u6bcf\u4e2a\u6a21\u5757\u90fd\u662f [nn.Module](https://pytorch.org/docs/stable/generated/torch.nn.Module.html) \u7684\u5b50\u7c7b\u3002\n\u795e\u7ecf\u7f51\u7edc\u672c\u8eab\u5c31\u662f\u4e00\u4e2a\u7531\u5176\u4ed6\u6a21\u5757\uff08\u5c42\uff09\u7ec4\u6210\u7684\u6a21\u5757\u3002\u8fd9\u79cd\u5d4c\u5957\u7ed3\u6784\u5141\u8bb8\u8f7b\u677e\u6784\u5efa\u548c\u7ba1\u7406\u590d\u6742\u7684\u67b6\u6784\u3002\n\n\u5728\u63a5\u4e0b\u6765\u7684\u90e8\u5206\u4e2d\uff0c\u6211\u4eec\u5c06\u6784\u5efa\u4e00\u4e2a\u795e\u7ecf\u7f51\u7edc\uff0c\u7528\u4e8e\u5bf9 FashionMNIST \u6570\u636e\u96c6\u4e2d\u7684\u56fe\u50cf\u8fdb\u884c\u5206\u7c7b\u3002\n"
      ]
    },
    {
      "cell_type": "code",
      "execution_count": null,
      "metadata": {
        "collapsed": false
      },
      "outputs": [],
      "source": [
        "import os\nimport torch\nfrom torch import nn\nfrom torch.utils.data import DataLoader\nfrom torchvision import datasets, transforms"
      ]
    },
    {
      "cell_type": "markdown",
      "metadata": {},
      "source": [
        "## \u83b7\u53d6\u8bad\u7ec3\u8bbe\u5907\n\u6211\u4eec\u5e0c\u671b\u80fd\u591f\u5728\u786c\u4ef6\u52a0\u901f\u5668\uff08\u5982 GPU \u6216 MPS\uff09\u4e0a\u8bad\u7ec3\u6211\u4eec\u7684\u6a21\u578b\uff08\u5982\u679c\u53ef\u7528\uff09\u3002\n\u8ba9\u6211\u4eec\u68c0\u67e5\u4e00\u4e0b [torch.cuda](https://pytorch.org/docs/stable/notes/cuda.html)\n\u6216 [torch.backends.mps](https://pytorch.org/docs/stable/notes/mps.html) \u662f\u5426\u53ef\u7528\uff0c\u5426\u5219\u6211\u4eec\u4f7f\u7528 CPU\u3002\n\n"
      ]
    },
    {
      "cell_type": "code",
      "execution_count": null,
      "metadata": {
        "collapsed": false
      },
      "outputs": [],
      "source": [
        "device = (\n    \"cuda\"\n    if torch.cuda.is_available()\n    else \"mps\"\n    if torch.backends.mps.is_available()\n    else \"cpu\"\n)\nprint(f\"Using {device} device\")"
      ]
    },
    {
      "cell_type": "markdown",
      "metadata": {},
      "source": [
        "## \u5b9a\u4e49\u7c7b\n\u6211\u4eec\u901a\u8fc7\u7ee7\u627f ``nn.Module`` \u6765\u5b9a\u4e49\u6211\u4eec\u7684\u795e\u7ecf\u7f51\u7edc\uff0c\u5e76\u5728 ``__init__`` \u65b9\u6cd5\u4e2d\u521d\u59cb\u5316\u795e\u7ecf\u7f51\u7edc\u5c42\u3002\n\u6bcf\u4e2a ``nn.Module`` \u5b50\u7c7b\u90fd\u5728 ``forward`` \u65b9\u6cd5\u4e2d\u5b9e\u73b0\u5bf9\u8f93\u5165\u6570\u636e\u7684\u64cd\u4f5c\u3002\n\n"
      ]
    },
    {
      "cell_type": "code",
      "execution_count": null,
      "metadata": {
        "collapsed": false
      },
      "outputs": [],
      "source": [
        "class NeuralNetwork(nn.Module):\n    def __init__(self):\n        super().__init__()\n        self.flatten = nn.Flatten()\n        self.linear_relu_stack = nn.Sequential(\n            nn.Linear(28*28, 512),\n            nn.ReLU(),\n            nn.Linear(512, 512),\n            nn.ReLU(),\n            nn.Linear(512, 10),\n        )\n\n    def forward(self, x):\n        x = self.flatten(x)\n        logits = self.linear_relu_stack(x)\n        return logits"
      ]
    },
    {
      "cell_type": "markdown",
      "metadata": {},
      "source": [
        "\u6211\u4eec\u521b\u5efa\u4e00\u4e2a ``NeuralNetwork`` \u7684\u5b9e\u4f8b\uff0c\u5e76\u5c06\u5176\u79fb\u52a8\u5230 ``device`` \u4e0a\uff0c\u7136\u540e\u6253\u5370\u5176\u7ed3\u6784\u3002\n\n"
      ]
    },
    {
      "cell_type": "code",
      "execution_count": null,
      "metadata": {
        "collapsed": false
      },
      "outputs": [],
      "source": [
        "model = NeuralNetwork().to(device)\nprint(model)"
      ]
    },
    {
      "cell_type": "markdown",
      "metadata": {},
      "source": [
        "\u8981\u4f7f\u7528\u6a21\u578b\uff0c\u6211\u4eec\u5c06\u8f93\u5165\u6570\u636e\u4f20\u9012\u7ed9\u5b83\u3002\u8fd9\u5c06\u6267\u884c\u6a21\u578b\u7684 ``forward`` \u65b9\u6cd5\uff0c\n\u4ee5\u53ca\u4e00\u4e9b[\u540e\u53f0\u64cd\u4f5c](https://github.com/pytorch/pytorch/blob/270111b7b611d174967ed204776985cefca9c144/torch/nn/modules/module.py#L866)\u3002\n\u4e0d\u8981\u76f4\u63a5\u8c03\u7528 ``model.forward()``\uff01\n\n\u5c06\u8f93\u5165\u4f20\u9012\u7ed9\u6a21\u578b\u4f1a\u8fd4\u56de\u4e00\u4e2a\u4e8c\u7ef4\u5f20\u91cf\uff0c\u5176\u4e2d dim=0 \u5bf9\u5e94\u6bcf\u4e2a\u7c7b\u522b\u7684 10 \u4e2a\u539f\u59cb\u9884\u6d4b\u503c\u7684\u8f93\u51fa\uff0cdim=1 \u5bf9\u5e94\u6bcf\u4e2a\u8f93\u51fa\u7684\u5404\u4e2a\u503c\u3002\u6211\u4eec\u901a\u8fc7\u5c06\u5176\u4f20\u9012\u7ed9 `nn.Softmax` \u6a21\u5757\u7684\u5b9e\u4f8b\u6765\u83b7\u5f97\u9884\u6d4b\u6982\u7387\u3002\n\n"
      ]
    },
    {
      "cell_type": "code",
      "execution_count": null,
      "metadata": {
        "collapsed": false
      },
      "outputs": [],
      "source": [
        "X = torch.rand(1, 28, 28, device=device)\nlogits = model(X)\npred_probab = nn.Softmax(dim=1)(logits)\ny_pred = pred_probab.argmax(1)\nprint(f\"Predicted class: {y_pred}\")"
      ]
    },
    {
      "cell_type": "markdown",
      "metadata": {},
      "source": [
        "--------------\n\n\n"
      ]
    },
    {
      "cell_type": "markdown",
      "metadata": {},
      "source": [
        "## \u6a21\u578b\u5c42\n\n\u8ba9\u6211\u4eec\u5206\u89e3\u4e00\u4e0b FashionMNIST \u6a21\u578b\u4e2d\u7684\u5404\u5c42\u3002\u4e3a\u4e86\u89e3\u91ca\u5b83\uff0c\u6211\u4eec\u5c06\u53d6\u4e00\u4e2a\u5305\u542b 3 \u5f20 28x28 \u5c3a\u5bf8\u56fe\u50cf\u7684\u5c0f\u6279\u91cf\u6837\u672c\uff0c\n\u5e76\u89c2\u5bdf\u5b83\u5728\u901a\u8fc7\u7f51\u7edc\u65f6\u53d1\u751f\u4e86\u4ec0\u4e48\u3002\n\n"
      ]
    },
    {
      "cell_type": "code",
      "execution_count": null,
      "metadata": {
        "collapsed": false
      },
      "outputs": [],
      "source": [
        "input_image = torch.rand(3, 28, 28)\nprint(input_image.size())"
      ]
    },
    {
      "cell_type": "markdown",
      "metadata": {},
      "source": [
        "### nn.Flatten\n\u6211\u4eec\u521d\u59cb\u5316 [nn.Flatten](https://pytorch.org/docs/stable/generated/torch.nn.Flatten.html) \u5c42\uff0c\n\u5c06\u6bcf\u4e2a\u4e8c\u7ef4 28x28 \u56fe\u50cf\u8f6c\u6362\u4e3a\u5305\u542b 784 \u4e2a\u50cf\u7d20\u503c\u7684\u8fde\u7eed\u6570\u7ec4\uff08\u4fdd\u7559\u5c0f\u6279\u91cf\u7ef4\u5ea6\uff08dim=0\uff09\uff09\u3002\n\n"
      ]
    },
    {
      "cell_type": "code",
      "execution_count": null,
      "metadata": {
        "collapsed": false
      },
      "outputs": [],
      "source": [
        "flatten = nn.Flatten()\nflat_image = flatten(input_image)\nprint(flat_image.size())"
      ]
    },
    {
      "cell_type": "markdown",
      "metadata": {},
      "source": [
        "### nn.Linear\n[\u7ebf\u6027\u5c42](https://pytorch.org/docs/stable/generated/torch.nn.Linear.html) \u662f\u4e00\u4e2a\u6a21\u5757\uff0c\n\u5b83\u4f7f\u7528\u5b58\u50a8\u7684\u6743\u91cd(weights)\u548c\u504f\u7f6e(biases)\u5bf9\u8f93\u5165\u5e94\u7528\u7ebf\u6027\u53d8\u6362\u3002\n\n\n"
      ]
    },
    {
      "cell_type": "code",
      "execution_count": null,
      "metadata": {
        "collapsed": false
      },
      "outputs": [],
      "source": [
        "layer1 = nn.Linear(in_features=28*28, out_features=20)\nhidden1 = layer1(flat_image)\nprint(hidden1.size())"
      ]
    },
    {
      "cell_type": "markdown",
      "metadata": {},
      "source": [
        "### nn.ReLU\n\u975e\u7ebf\u6027\u6fc0\u6d3b\u51fd\u6570\u521b\u5efa\u4e86\u6a21\u578b\u8f93\u5165\u548c\u8f93\u51fa\u4e4b\u95f4\u7684\u590d\u6742\u6620\u5c04\u3002\u5b83\u4eec\u5728\u7ebf\u6027\u53d8\u6362\u4e4b\u540e\u5e94\u7528\uff0c\u4ee5\u5f15\u5165*\u975e\u7ebf\u6027*\uff0c\n\u5e2e\u52a9\u795e\u7ecf\u7f51\u7edc\u5b66\u4e60\u5404\u79cd\u73b0\u8c61\u3002\n\n\u5728\u8fd9\u4e2a\u6a21\u578b\u4e2d\uff0c\u6211\u4eec\u5728\u7ebf\u6027\u5c42\u4e4b\u95f4\u4f7f\u7528 `nn.ReLU <https://pytorch.org/docs/stable/generated/torch.nn.ReLU.html>`\uff0c\n\u4f46\u8fd8\u6709\u5176\u4ed6\u6fc0\u6d3b\u51fd\u6570\u53ef\u4ee5\u5728\u4f60\u7684\u6a21\u578b\u4e2d\u5f15\u5165\u975e\u7ebf\u6027\u3002\n\n"
      ]
    },
    {
      "cell_type": "code",
      "execution_count": null,
      "metadata": {
        "collapsed": false
      },
      "outputs": [],
      "source": [
        "print(f\"Before ReLU: {hidden1}\\n\\n\")\nhidden1 = nn.ReLU()(hidden1)\nprint(f\"After ReLU: {hidden1}\")"
      ]
    },
    {
      "cell_type": "markdown",
      "metadata": {},
      "source": [
        "### nn.Sequential\n[nn.Sequential](https://pytorch.org/docs/stable/generated/torch.nn.Sequential.html)\n\u662f\u4e00\u4e2a\u6709\u5e8f\u7684\u6a21\u5757\u5bb9\u5668\u3002\u6570\u636e\u6309\u7167\u5b9a\u4e49\u7684\u987a\u5e8f\u4f9d\u6b21\u901a\u8fc7\u6240\u6709\u6a21\u5757\u3002\u60a8\u53ef\u4ee5\u4f7f\u7528\u5e8f\u5217\u5bb9\u5668\u6765\u5feb\u901f\u7ec4\u5408\u4e00\u4e2a\u7f51\u7edc\uff0c\n\u4f8b\u5982 ``seq_modules``\u3002\n\n"
      ]
    },
    {
      "cell_type": "code",
      "execution_count": null,
      "metadata": {
        "collapsed": false
      },
      "outputs": [],
      "source": [
        "seq_modules = nn.Sequential(\n    flatten,\n    layer1,\n    nn.ReLU(),\n    nn.Linear(20, 10)\n)\ninput_image = torch.rand(3, 28, 28)\nlogits = seq_modules(input_image)"
      ]
    },
    {
      "cell_type": "markdown",
      "metadata": {},
      "source": [
        "### nn.Softmax\n\u795e\u7ecf\u7f51\u7edc\u7684\u6700\u540e\u4e00\u4e2a\u7ebf\u6027\u5c42\u8fd4\u56de\u7684\u662f [logits\uff08\u5bf9\u6570\u51e0\u7387\uff09](https://en.wikipedia.org/wiki/Logit)\n- \u5728 [-\\infty, \\infty] \u8303\u56f4\u5185\u7684\u539f\u59cb\u503c - \u8fd9\u4e9b\u503c\u4f1a\u88ab\u4f20\u9012\u5230\n`nn.Softmax https://pytorch.org/docs/stable/generated/torch.nn.Softmax.html>`_ \u6a21\u5757\u3002\n\u5bf9\u6570\u51e0\u7387\u88ab\u7f29\u653e\u5230\u503c\u4e3a [0, 1] \u7684\u8303\u56f4\uff0c\u8868\u793a\u6a21\u578b\u5bf9\u6bcf\u4e2a\u7c7b\u522b\u7684\u9884\u6d4b\u6982\u7387\u3002``dim`` \u53c2\u6570\u6307\u793a\u503c\u5fc5\u987b\u5728\u5176\u6cbf\u7740\u7684\u7ef4\u5ea6\u4e0a\u6c42\u548c\u4e3a 1\u3002\n\n"
      ]
    },
    {
      "cell_type": "code",
      "execution_count": null,
      "metadata": {
        "collapsed": false
      },
      "outputs": [],
      "source": [
        "softmax = nn.Softmax(dim=1)\npred_probab = softmax(logits)"
      ]
    },
    {
      "cell_type": "markdown",
      "metadata": {},
      "source": [
        "## \u6a21\u578b\u53c2\u6570\n\u795e\u7ecf\u7f51\u7edc\u5185\u90e8\u7684\u8bb8\u591a\u5c42\u90fd\u662f*\u53c2\u6570\u5316*\u7684\uff0c\u5373\u5728\u8bad\u7ec3\u8fc7\u7a0b\u4e2d\u4f1a\u4f18\u5316\u7684\u76f8\u5173\u6743\u91cd\u548c\u504f\u7f6e\u3002\n\u901a\u8fc7\u5b50\u7c7b\u5316 ``nn.Module``\uff0c\u53ef\u4ee5\u81ea\u52a8\u8ddf\u8e2a\u6a21\u578b\u5bf9\u8c61\u5185\u5b9a\u4e49\u7684\u6240\u6709\u5b57\u6bb5\uff0c\u5e76\u4f7f\u7528\u6a21\u578b\u7684 ``parameters()``\n\u6216 ``named_parameters()`` \u65b9\u6cd5\u8bbf\u95ee\u6240\u6709\u53c2\u6570\u3002\n\n\u5728\u8fd9\u4e2a\u793a\u4f8b\u4e2d\uff0c\u6211\u4eec\u904d\u5386\u6bcf\u4e2a\u53c2\u6570\uff0c\u5e76\u6253\u5370\u5176\u5927\u5c0f\u4ee5\u53ca\u503c\u7684\u9884\u89c8\u3002\n\n"
      ]
    },
    {
      "cell_type": "code",
      "execution_count": null,
      "metadata": {
        "collapsed": false
      },
      "outputs": [],
      "source": [
        "print(f\"Model structure: {model}\\n\\n\")\n\nfor name, param in model.named_parameters():\n    print(f\"Layer: {name} | Size: {param.size()} | Values : {param[:2]} \\n\")"
      ]
    },
    {
      "cell_type": "markdown",
      "metadata": {},
      "source": [
        "--------------\n\n\n"
      ]
    },
    {
      "cell_type": "markdown",
      "metadata": {},
      "source": [
        "## \u5ef6\u4f38\u9605\u8bfb\n- [torch.nn API](https://pytorch.org/docs/stable/nn.html)\n\n"
      ]
    }
  ],
  "metadata": {
    "kernelspec": {
      "display_name": "Python 3",
      "language": "python",
      "name": "python3"
    },
    "language_info": {
      "codemirror_mode": {
        "name": "ipython",
        "version": 3
      },
      "file_extension": ".py",
      "mimetype": "text/x-python",
      "name": "python",
      "nbconvert_exporter": "python",
      "pygments_lexer": "ipython3",
      "version": "3.10.0"
    }
  },
  "nbformat": 4,
  "nbformat_minor": 0
}