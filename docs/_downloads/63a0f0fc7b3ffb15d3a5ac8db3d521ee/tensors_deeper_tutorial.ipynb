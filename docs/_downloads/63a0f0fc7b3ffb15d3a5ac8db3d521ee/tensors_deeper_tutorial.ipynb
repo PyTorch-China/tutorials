{
  "cells": [
    {
      "cell_type": "code",
      "execution_count": null,
      "metadata": {
        "collapsed": false
      },
      "outputs": [],
      "source": [
        "# For tips on running notebooks in Google Colab, see\n# https://pytorch.org/tutorials/beginner/colab\n%matplotlib inline"
      ]
    },
    {
      "cell_type": "markdown",
      "metadata": {},
      "source": [
        "\n[\u7b80\u4ecb](introyt1_tutorial.html) ||\n**\u5f20\u91cf** ||\n[\u81ea\u52a8\u5fae\u5206](autogradyt_tutorial.html) ||\n[\u6784\u5efa\u6a21\u578b](modelsyt_tutorial.html) ||\n[TensorBoard\u652f\u6301](tensorboardyt_tutorial.html) ||\n[\u8bad\u7ec3\u6a21\u578b](trainingyt.html) ||\n[\u6a21\u578b\u7406\u89e3](captumyt.html)\n\n# PyTorch Tensors \u4ecb\u7ecd\n\n\u8ddf\u968f\u4e0b\u9762\u7684\u89c6\u9891\u6216\u5728 [youtube](https://www.youtube.com/watch?v=r7QDUPb2dCM)_ \u4e0a\u89c2\u770b\u3002\n\n.. raw:: html\n\n   <div style=\"margin-top:10px; margin-bottom:10px;\">\n     <iframe width=\"560\" height=\"315\" src=\"https://www.youtube.com/embed/r7QDUPb2dCM\" frameborder=\"0\" allow=\"accelerometer; encrypted-media; gyroscope; picture-in-picture\" allowfullscreen></iframe>\n   </div>\n\n\u5f20\u91cf\u662fPyTorch\u4e2d\u7684\u4e2d\u5fc3\u6570\u636e\u62bd\u8c61\u3002\u8fd9\u4e2a\u4ea4\u4e92\u5f0f\u7b14\u8bb0\u672c\u63d0\u4f9b\u4e86\u5bf9 ``torch.Tensor`` \u7c7b\u7684\u6df1\u5165\u4ecb\u7ecd\u3002\n\n\u9996\u5148,\u8ba9\u6211\u4eec\u5bfc\u5165PyTorch\u6a21\u5757\u3002\u6211\u4eec\u8fd8\u5c06\u6dfb\u52a0Python\u7684\u6570\u5b66\u6a21\u5757\uff0c\u4ee5\u4fbf\u4e8e\u4e00\u4e9b\u793a\u4f8b\u3002\n"
      ]
    },
    {
      "cell_type": "code",
      "execution_count": null,
      "metadata": {
        "collapsed": false
      },
      "outputs": [],
      "source": [
        "import torch\nimport math"
      ]
    },
    {
      "cell_type": "markdown",
      "metadata": {},
      "source": [
        "## \u521b\u5efa\u5f20\u91cf\n\n\u521b\u5efa\u5f20\u91cf\u6700\u7b80\u5355\u7684\u65b9\u6cd5\u662f\u4f7f\u7528 ``torch.empty()`` \u8c03\u7528:\n\n\n"
      ]
    },
    {
      "cell_type": "code",
      "execution_count": null,
      "metadata": {
        "collapsed": false
      },
      "outputs": [],
      "source": [
        "x = torch.empty(3, 4)\nprint(type(x))\nprint(x)"
      ]
    },
    {
      "cell_type": "markdown",
      "metadata": {},
      "source": [
        "\u8ba9\u6211\u4eec\u89e3\u91ca\u4e0b\u521a\u624d\u53d1\u751f\u7684\u4e8b\u60c5:\n\n- \u6211\u4eec\u4f7f\u7528\u9644\u52a0\u5230 ``torch`` \u6a21\u5757\u7684\u4f17\u591a\u5de5\u5382\u65b9\u6cd5\u4e4b\u4e00\u521b\u5efa\u4e86\u4e00\u4e2a\u5f20\u91cf\u3002\n- \u8be5\u5f20\u91cf\u662f\u4e8c\u7ef4\u7684,\u67093\u884c4\u5217\u3002\n- \u8fd4\u56de\u5bf9\u8c61\u7684\u7c7b\u578b\u662f ``torch.Tensor``\uff0c\u8fd9\u662f ``torch.FloatTensor`` \u7684\u522b\u540d\uff1b\n  \u9ed8\u8ba4\u60c5\u51b5\u4e0b\uff0cPyTorch\u5f20\u91cf\u752832\u4f4d\u6d6e\u70b9\u6570\u586b\u5145\u3002(\u66f4\u591a\u5173\u4e8e\u6570\u636e\u7c7b\u578b\u7684\u5185\u5bb9\u89c1\u4e0b\u6587\u3002)\n- \u5f53\u6253\u5370\u4f60\u7684\u5f20\u91cf\u65f6\uff0c\u4f60\u53ef\u80fd\u4f1a\u770b\u5230\u4e00\u4e9b\u968f\u673a\u7684\u503c\u3002``torch.empty()`` \u8c03\u7528\u4e3a\u5f20\u91cf\u5206\u914d\u5185\u5b58\uff0c\n  \u4f46\u4e0d\u4f1a\u7528\u4efb\u4f55\u503c\u521d\u59cb\u5316\u5b83 - \u6240\u4ee5\u4f60\u770b\u5230\u7684\u662f\u5206\u914d\u65f6\u5185\u5b58\u4e2d\u7684\u4efb\u4f55\u503c\u3002\n\n\u5173\u4e8e\u5f20\u91cf\u53ca\u5176\u7ef4\u6570\u548c\u672f\u8bed\u7684\u7b80\u8981\u8bf4\u660e:\n\n- \u4f60\u6709\u65f6\u4f1a\u770b\u5230\u4e00\u7ef4\u5f20\u91cf\u88ab\u79f0\u4e3a *\u5411\u91cf*\u3002\n- \u540c\u6837,\u4e8c\u7ef4\u5f20\u91cf\u901a\u5e38\u88ab\u79f0\u4e3a *\u77e9\u9635*\u3002\n- \u4efb\u4f55\u8d85\u8fc7\u4e24\u4e2a\u7ef4\u5ea6\u7684\u5f20\u91cf\u901a\u5e38\u90fd\u88ab\u79f0\u4e3a\u5f20\u91cf\u3002\n\n\u5927\u591a\u6570\u60c5\u51b5\u4e0b,\u4f60\u4f1a\u5e0c\u671b\u7528\u4e00\u4e9b\u503c\u521d\u59cb\u5316\u4f60\u7684\u5f20\u91cf\u3002\u5e38\u89c1\u7684\u60c5\u51b5\u662f\u5168\u96f6\u3001\u5168\u4e00\u6216\u968f\u673a\u503c\uff0c\n``torch`` \u6a21\u5757\u4e3a\u6240\u6709\u8fd9\u4e9b\u60c5\u51b5\u63d0\u4f9b\u4e86\u5de5\u5382\u65b9\u6cd5:\n\n\n"
      ]
    },
    {
      "cell_type": "code",
      "execution_count": null,
      "metadata": {
        "collapsed": false
      },
      "outputs": [],
      "source": [
        "zeros = torch.zeros(2, 3)\nprint(zeros)\n\nones = torch.ones(2, 3)\nprint(ones)\n\ntorch.manual_seed(1729)\nrandom = torch.rand(2, 3)\nprint(random)"
      ]
    },
    {
      "cell_type": "markdown",
      "metadata": {},
      "source": [
        "\u5de5\u5382\u65b9\u6cd5\u90fd\u505a\u4e86\u4f60\u671f\u671b\u7684\u4e8b\u60c5 - \u6211\u4eec\u6709\u4e00\u4e2a\u5168\u96f6\u5f20\u91cf\u3001\u4e00\u4e2a\u5168\u4e00\u5f20\u91cf\u548c\u4e00\u4e2a\u968f\u673a\u503c\u57280\u52301\u4e4b\u95f4\u7684\u5f20\u91cf\u3002\n\n### \u968f\u673a\u5f20\u91cf\u548c\u79cd\u5b50\n\n\u8bf4\u5230\u968f\u673a\u5f20\u91cf,\u4f60\u662f\u5426\u6ce8\u610f\u5230\u5728\u5b83\u4e4b\u524d\u7acb\u5373\u8c03\u7528\u4e86 ``torch.manual_seed()``?\n\u7528\u968f\u673a\u503c\u521d\u59cb\u5316\u5f20\u91cf(\u5982\u6a21\u578b\u7684\u5b66\u4e60\u6743\u91cd)\u662f\u5f88\u5e38\u89c1\u7684\uff0c\u4f46\u5728\u67d0\u4e9b\u60c5\u51b5\u4e0b - \u7279\u522b\u662f\u5728\u7814\u7a76\u73af\u5883\u4e2d - \n\u4f60\u53ef\u80fd\u5e0c\u671b\u5bf9\u7ed3\u679c\u7684\u53ef\u91cd\u590d\u6027\u6709\u4e00\u4e9b\u4fdd\u8bc1\u3002\u624b\u52a8\u8bbe\u7f6e\u968f\u673a\u6570\u751f\u6210\u5668\u7684\u79cd\u5b50\u5c31\u662f\u8fd9\u6837\u505a\u7684\u65b9\u6cd5\u3002\u8ba9\u6211\u4eec\u4ed4\u7ec6\u770b\u770b:\n\n\n"
      ]
    },
    {
      "cell_type": "code",
      "execution_count": null,
      "metadata": {
        "collapsed": false
      },
      "outputs": [],
      "source": [
        "torch.manual_seed(1729)\nrandom1 = torch.rand(2, 3)\nprint(random1)\n\nrandom2 = torch.rand(2, 3)\nprint(random2)\n\ntorch.manual_seed(1729)\nrandom3 = torch.rand(2, 3)\nprint(random3)\n\nrandom4 = torch.rand(2, 3)\nprint(random4)"
      ]
    },
    {
      "cell_type": "markdown",
      "metadata": {},
      "source": [
        "\u4f60\u5e94\u8be5\u770b\u5230\u4e0a\u9762 ``random1`` \u548c ``random3`` \u5305\u542b\u76f8\u540c\u7684\u503c,``random2`` \u548c ``random4`` \u4e5f\u662f\u5982\u6b64\u3002\n\u624b\u52a8\u8bbe\u7f6eRNG\u7684\u79cd\u5b50\u4f1a\u91cd\u7f6e\u5b83,\u56e0\u6b64\u76f8\u540c\u7684\u968f\u673a\u6570\u8ba1\u7b97\u5728\u5927\u591a\u6570\u8bbe\u7f6e\u4e0b\u5e94\u8be5\u63d0\u4f9b\u76f8\u540c\u7684\u7ed3\u679c\u3002\n\n\u6709\u5173\u66f4\u591a\u4fe1\u606f,\u8bf7\u53c2\u9605PyTorch\u5173\u4e8e\u53ef\u91cd\u590d\u6027\u7684 \n[\u6587\u6863](https://pytorch.org/docs/stable/notes/randomness.html)_\u3002\n\n### \u5f20\u91cf\u5f62\u72b6\n\n\u5f53\u4f60\u5728\u4e24\u4e2a\u6216\u591a\u4e2a\u5f20\u91cf\u4e0a\u6267\u884c\u64cd\u4f5c\u65f6,\u5b83\u4eec\u901a\u5e38\u9700\u8981\u5177\u6709\u76f8\u540c\u7684 *\u5f62\u72b6* - \u4e5f\u5c31\u662f\u8bf4\uff0c\n\u5177\u6709\u76f8\u540c\u7684\u7ef4\u6570\u548c\u6bcf\u4e2a\u7ef4\u5ea6\u4e2d\u7684\u76f8\u540c\u6570\u91cf\u7684\u5355\u5143\u3002\u4e3a\u6b64,\u6211\u4eec\u6709 ``torch.*_like()`` \u65b9\u6cd5:\n\n\n"
      ]
    },
    {
      "cell_type": "code",
      "execution_count": null,
      "metadata": {
        "collapsed": false
      },
      "outputs": [],
      "source": [
        "x = torch.empty(2, 2, 3)\nprint(x.shape)\nprint(x)\n\nempty_like_x = torch.empty_like(x)\nprint(empty_like_x.shape)\nprint(empty_like_x)\n\nzeros_like_x = torch.zeros_like(x)\nprint(zeros_like_x.shape)\nprint(zeros_like_x)\n\nones_like_x = torch.ones_like(x)\nprint(ones_like_x.shape)\nprint(ones_like_x)\n\nrand_like_x = torch.rand_like(x)\nprint(rand_like_x.shape)\nprint(rand_like_x)"
      ]
    },
    {
      "cell_type": "markdown",
      "metadata": {},
      "source": [
        "\u4e0a\u9762\u4ee3\u7801\u5355\u5143\u4e2d\u7684\u7b2c\u4e00\u4e2a\u65b0\u4e8b\u7269\u662f\u5728\u5f20\u91cf\u4e0a\u4f7f\u7528 ``.shape`` \u5c5e\u6027\u3002\n\u8fd9\u4e2a\u5c5e\u6027\u5305\u542b\u4e86\u6bcf\u4e2a\u7ef4\u5ea6\u5f20\u91cf\u7684\u8303\u56f4\u7684\u5217\u8868 - \u5728\u6211\u4eec\u7684\u4f8b\u5b50\u4e2d\uff0c``x`` \u662f\u4e00\u4e2a\u4e09\u7ef4\u5f20\u91cf\uff0c\u5f62\u72b6\u4e3a 2 x 2 x 3\u3002\n\n\u5728\u4e0b\u9762,\u6211\u4eec\u8c03\u7528 ``.empty_like()``\uff0c``.zeros_like()``\uff0c``.ones_like()`` \u548c ``.rand_like()`` \u65b9\u6cd5\u3002\n\u4f7f\u7528 ``.shape`` \u5c5e\u6027\uff0c\u6211\u4eec\u53ef\u4ee5\u9a8c\u8bc1\u6bcf\u4e2a\u8fd9\u4e9b\u65b9\u6cd5\u90fd\u8fd4\u56de\u4e00\u4e2a\u5177\u6709\u76f8\u540c\u7ef4\u6570\u548c\u8303\u56f4\u7684\u5f20\u91cf\u3002\n\n\u521b\u5efa\u5f20\u91cf\u7684\u6700\u540e\u4e00\u79cd\u65b9\u5f0f\u662f\u76f4\u63a5\u4ecePyTorch\u96c6\u5408\u4e2d\u6307\u5b9a\u5176\u6570\u636e:\n\n\n"
      ]
    },
    {
      "cell_type": "code",
      "execution_count": null,
      "metadata": {
        "collapsed": false
      },
      "outputs": [],
      "source": [
        "some_constants = torch.tensor([[3.1415926, 2.71828], [1.61803, 0.0072897]])\nprint(some_constants)\n\nsome_integers = torch.tensor((2, 3, 5, 7, 11, 13, 17, 19))\nprint(some_integers)\n\nmore_integers = torch.tensor(((2, 4, 6), [3, 6, 9]))\nprint(more_integers)"
      ]
    },
    {
      "cell_type": "markdown",
      "metadata": {},
      "source": [
        "\u4f7f\u7528 ``torch.tensor()`` \u662f\u5728\u4f60\u5df2\u7ecf\u6709Python\u5143\u7ec4\u6216\u5217\u8868\u6570\u636e\u7684\u60c5\u51b5\u4e0b\u521b\u5efa\u5f20\u91cf\u7684\u6700\u76f4\u63a5\u65b9\u5f0f\u3002\n\u5982\u4e0a\u6240\u793a\uff0c\u5d4c\u5957\u96c6\u5408\u4f1a\u751f\u6210\u591a\u7ef4\u5f20\u91cf\u3002\n\n<div class=\"alert alert-info\"><h4>Note</h4><p>``torch.tensor()`` \u521b\u5efa\u6570\u636e\u7684\u526f\u672c\u3002</p></div>\n\n### \u5f20\u91cf\u6570\u636e\u7c7b\u578b\n\n\u8bbe\u7f6e\u5f20\u91cf\u7684\u6570\u636e\u7c7b\u578b\u6709\u4e24\u79cd\u65b9\u5f0f:\n\n\n"
      ]
    },
    {
      "cell_type": "code",
      "execution_count": null,
      "metadata": {
        "collapsed": false
      },
      "outputs": [],
      "source": [
        "a = torch.ones((2, 3), dtype=torch.int16)\nprint(a)\n\nb = torch.rand((2, 3), dtype=torch.float64) * 20.\nprint(b)\n\nc = b.to(torch.int32)\nprint(c)"
      ]
    },
    {
      "cell_type": "markdown",
      "metadata": {},
      "source": [
        "\u8bbe\u7f6e\u5f20\u91cf\u5e95\u5c42\u6570\u636e\u7c7b\u578b\u7684\u6700\u7b80\u5355\u65b9\u5f0f\u662f\u5728\u521b\u5efa\u65f6\u4f7f\u7528\u53ef\u9009\u53c2\u6570\u3002\u5728\u4e0a\u9762\u5355\u5143\u683c\u7684\u7b2c\u4e00\u884c\u4e2d\uff0c\n\u6211\u4eec\u5c06 ``dtype=torch.int16`` \u8bbe\u7f6e\u4e3a\u5f20\u91cf ``a``\u3002\u5f53\u6211\u4eec\u6253\u5370 ``a`` \u65f6\uff0c\n\u6211\u4eec\u53ef\u4ee5\u770b\u5230\u5b83\u662f\u7531 ``1`` \u800c\u4e0d\u662f ``1.`` \u586b\u5145\u7684 - Python\u7684\u4e00\u4e2a\u5fae\u5999\u63d0\u793a\uff0c\u8fd9\u662f\u4e00\u4e2a\u6574\u6570\u7c7b\u578b\u800c\u4e0d\u662f\u6d6e\u70b9\u6570\u3002\n\n\u4f60\u53ef\u80fd\u8fd8\u6ce8\u610f\u5230\uff0c\u6253\u5370 ``a`` \u65f6\uff0c\u4e0e\u6211\u4eec\u5c06 ``dtype`` \u4fdd\u7559\u4e3a\u9ed8\u8ba4\u503c(32\u4f4d\u6d6e\u70b9\u6570)\u65f6\u4e0d\u540c\uff0c\n\u6253\u5370\u5f20\u91cf\u65f6\u4e5f\u6307\u5b9a\u4e86\u5176 ``dtype``\u3002\n\n\u4f60\u53ef\u80fd\u8fd8\u6ce8\u610f\u5230,\u6211\u4eec\u4ece\u6307\u5b9a\u5f20\u91cf\u5f62\u72b6\u4e3a\u4e00\u7cfb\u5217\u6574\u6570\u53c2\u6570\uff0c\u8f6c\u4e3a\u5c06\u8fd9\u4e9b\u53c2\u6570\u5206\u7ec4\u5230\u4e00\u4e2a\u5143\u7ec4\u4e2d\u3002\n\u8fd9\u4e0d\u662f\u7edd\u5bf9\u5fc5\u8981\u7684 - PyTorch\u4f1a\u5c06\u4e00\u7cfb\u5217\u521d\u59cb\u7684\u3001\u672a\u6807\u8bb0\u7684\u6574\u6570\u53c2\u6570\u89c6\u4e3a\u5f20\u91cf\u5f62\u72b6 - \u4f46\u662f\u5f53\u6dfb\u52a0\u53ef\u9009\u53c2\u6570\u65f6\uff0c\n\u5b83\u53ef\u4ee5\u4f7f\u4f60\u7684\u610f\u56fe\u66f4\u52a0\u53ef\u8bfb\u3002\n\n\u8bbe\u7f6e\u6570\u636e\u7c7b\u578b\u7684\u53e6\u4e00\u79cd\u65b9\u5f0f\u662f\u4f7f\u7528 ``.to()`` \u65b9\u6cd5\u3002\u5728\u4e0a\u9762\u7684\u5355\u5143\u683c\u4e2d\uff0c\n\u6211\u4eec\u4ee5\u901a\u5e38\u7684\u65b9\u5f0f\u521b\u5efa\u4e86\u4e00\u4e2a\u968f\u673a\u6d6e\u70b9\u5f20\u91cf ``b``\u3002\u63a5\u4e0b\u6765,\u6211\u4eec\u901a\u8fc7\u5c06 ``b`` \u8f6c\u6362\u4e3a32\u4f4d\u6574\u6570\u6765\u521b\u5efa ``c``\u3002\n\u6ce8\u610f ``c`` \u5305\u542b\u4e0e ``b`` \u76f8\u540c\u7684\u503c,\u4f46\u88ab\u622a\u65ad\u4e3a\u6574\u6570\u3002\n\n\u53ef\u7528\u7684\u6570\u636e\u7c7b\u578b\u5305\u62ec:\n\n- ``torch.bool``\n- ``torch.int8``\n- ``torch.uint8``\n- ``torch.int16``\n- ``torch.int32``\n- ``torch.int64``\n- ``torch.half``\n- ``torch.float``\n- ``torch.double``\n- ``torch.bfloat``\n\n## \u4f7f\u7528PyTorch\u5f20\u91cf\u8fdb\u884c\u6570\u5b66\u548c\u903b\u8f91\u8fd0\u7b97\n\n\u73b0\u5728\u4f60\u77e5\u9053\u4e86\u4e00\u4e9b\u521b\u5efa\u5f20\u91cf\u7684\u65b9\u6cd5\uff0c\u90a3\u4f60\u80fd\u5bf9\u5b83\u4eec\u505a\u4ec0\u4e48\u5462?\n\n\u8ba9\u6211\u4eec\u9996\u5148\u770b\u57fa\u672c\u7b97\u672f\u8fd0\u7b97\uff0c\u4ee5\u53ca\u5f20\u91cf\u5982\u4f55\u4e0e\u7b80\u5355\u7684\u6807\u91cf\u4ea4\u4e92:\n\n\n"
      ]
    },
    {
      "cell_type": "code",
      "execution_count": null,
      "metadata": {
        "collapsed": false
      },
      "outputs": [],
      "source": [
        "ones = torch.zeros(2, 2) + 1\ntwos = torch.ones(2, 2) * 2\nthrees = (torch.ones(2, 2) * 7 - 1) / 2\nfours = twos ** 2\nsqrt2s = twos ** 0.5\n\nprint(ones)\nprint(twos)\nprint(threes)\nprint(fours)\nprint(sqrt2s)"
      ]
    },
    {
      "cell_type": "markdown",
      "metadata": {},
      "source": [
        "\u5982\u4f60\u6240\u89c1\uff0c\u5f20\u91cf\u548c\u6807\u91cf\u4e4b\u95f4\u7684\u52a0\u6cd5\u3001\u51cf\u6cd5\u3001\u4e58\u6cd5\u3001\u9664\u6cd5\u548c\u6307\u6570\u8fd0\u7b97\u90fd\u662f\u5728\u5f20\u91cf\u7684\u6bcf\u4e2a\u5143\u7d20\u4e0a\u5206\u5e03\u5f0f\u8fdb\u884c\u7684\u3002\n\u7531\u4e8e\u8fd9\u79cd\u64cd\u4f5c\u7684\u8f93\u51fa\u5c06\u662f\u4e00\u4e2a\u5f20\u91cf\uff0c\u4f60\u53ef\u4ee5\u50cf\u901a\u5e38\u7684\u8fd0\u7b97\u7b26\u4f18\u5148\u7ea7\u89c4\u5219\u4e00\u6837\u5c06\u5b83\u4eec\u94fe\u63a5\u5728\u4e00\u8d77\uff0c\n\u5c31\u50cf\u6211\u4eec\u5728\u521b\u5efa ``threes`` \u7684\u90a3\u4e00\u884c\u4e2d\u6240\u505a\u7684\u90a3\u6837\u3002\n\n\u4e24\u4e2a\u5f20\u91cf\u4e4b\u95f4\u7684\u7c7b\u4f3c\u8fd0\u7b97\u4e5f\u50cf\u4f60\u76f4\u89c9\u4e0a\u671f\u671b\u7684\u90a3\u6837:\n\n\n"
      ]
    },
    {
      "cell_type": "code",
      "execution_count": null,
      "metadata": {
        "collapsed": false
      },
      "outputs": [],
      "source": [
        "powers2 = twos ** torch.tensor([[1, 2], [3, 4]])\nprint(powers2)\n\nfives = ones + fours\nprint(fives)\n\ndozens = threes * fours\nprint(dozens)"
      ]
    },
    {
      "cell_type": "markdown",
      "metadata": {},
      "source": [
        "\u8fd9\u91cc\u9700\u8981\u6ce8\u610f\u7684\u662f\uff0c\u524d\u9762\u4ee3\u7801\u5355\u5143\u4e2d\u7684\u6240\u6709\u5f20\u91cf\u90fd\u5177\u6709\u76f8\u540c\u7684\u5f62\u72b6\u3002\u5982\u679c\u6211\u4eec\u5c1d\u8bd5\u5728\u4e0d\u540c\u5f62\u72b6\u7684\u5f20\u91cf\u4e0a\u6267\u884c\u4e8c\u5143\u8fd0\u7b97\u4f1a\u600e\u6837?\n\n<div class=\"alert alert-info\"><h4>Note</h4><p>\u4e0b\u9762\u7684\u5355\u5143\u683c\u4f1a\u629b\u51fa\u4e00\u4e2a\u8fd0\u884c\u65f6\u9519\u8bef\uff0c\u8fd9\u662f\u6709\u610f\u7684\u3002\n\n```sh\na = torch.rand(2, 3)\nb = torch.rand(3, 2)\n\nprint(a * b)</p></div>\n```\n"
      ]
    },
    {
      "cell_type": "markdown",
      "metadata": {},
      "source": [
        "\u4e00\u822c\u60c5\u51b5\u4e0b\uff0c\u4f60\u4e0d\u80fd\u4ee5\u8fd9\u79cd\u65b9\u5f0f\u5bf9\u4e0d\u540c\u5f62\u72b6\u7684\u5f20\u91cf\u8fdb\u884c\u64cd\u4f5c\uff0c\u5373\u4f7f\u5728\u4e0a\u9762\u7684\u5355\u5143\u683c\u4e2d\uff0c\u5f20\u91cf\u5177\u6709\u76f8\u540c\u6570\u91cf\u7684\u5143\u7d20\u3002\n\n### \u7b80\u4ecb: \u5f20\u91cf\u5e7f\u64ad\n\n<div class=\"alert alert-info\"><h4>Note</h4><p>\u5982\u679c\u4f60\u719f\u6089NumPy ndarrays\u4e2d\u7684\u5e7f\u64ad\u8bed\u4e49\uff0c\u4f60\u4f1a\u53d1\u73b0\u8fd9\u91cc\u5e94\u7528\u7684\u662f\u76f8\u540c\u7684\u89c4\u5219\u3002</p></div>\n\n\u540c\u5f62\u89c4\u5219\u7684\u4f8b\u5916\u662f *\u5f20\u91cf\u5e7f\u64ad*\u3002\u8fd9\u91cc\u6709\u4e00\u4e2a\u4f8b\u5b50:\n\n\n"
      ]
    },
    {
      "cell_type": "code",
      "execution_count": null,
      "metadata": {
        "collapsed": false
      },
      "outputs": [],
      "source": [
        "rand = torch.rand(2, 4)\ndoubled = rand * (torch.ones(1, 4) * 2)\n\nprint(rand)\nprint(doubled)"
      ]
    },
    {
      "cell_type": "markdown",
      "metadata": {},
      "source": [
        "\u8fd9\u91cc\u7684\u6280\u5de7\u662f\u4ec0\u4e48?\u6211\u4eec\u662f\u5982\u4f55\u5c06 2 x 4 \u5f20\u91cf\u4e0e 1 x 4 \u5f20\u91cf\u76f8\u4e58\u7684?\n\n\u5e7f\u64ad\u662f\u4e00\u79cd\u5728\u5177\u6709\u76f8\u4f3c\u5f62\u72b6\u7684\u5f20\u91cf\u4e4b\u95f4\u6267\u884c\u64cd\u4f5c\u7684\u65b9\u5f0f\u3002\u5728\u4e0a\u9762\u7684\u4f8b\u5b50\u4e2d\uff0c\u4e00\u884c\u56db\u5217\u7684\u5f20\u91cf\u4e0e\u4e24\u884c\u56db\u5217\u5f20\u91cf\u7684 *\u4e24\u884c* \u76f8\u4e58\u3002\n\n\u8fd9\u662f\u6df1\u5ea6\u5b66\u4e60\u4e2d\u4e00\u4e2a\u91cd\u8981\u7684\u64cd\u4f5c\u3002\u5e38\u89c1\u7684\u4f8b\u5b50\u662f\u5c06\u4e00\u6279\u8f93\u5165\u5f20\u91cf\u7684\u5b66\u4e60\u6743\u91cd\u5f20\u91cf\u76f8\u4e58\uff0c\u5206\u522b\u5bf9\u6279\u6b21\u4e2d\u7684\u6bcf\u4e2a\u5b9e\u4f8b\u5e94\u7528\u8be5\u64cd\u4f5c\uff0c\n\u5e76\u8fd4\u56de\u4e00\u4e2a\u5f62\u72b6\u76f8\u540c\u7684\u5f20\u91cf - \u5c31\u50cf\u6211\u4eec\u4e0a\u9762\u7684(2,4) * (1,4)\u793a\u4f8b\u4e00\u6837\uff0c\u8fd4\u56de\u4e86\u4e00\u4e2a\u5f62\u72b6\u4e3a(2,4)\u7684\u5f20\u91cf\u3002\n\n\u5e7f\u64ad\u7684\u89c4\u5219\u662f:\n\n- \u6bcf\u4e2a\u5f20\u91cf\u5fc5\u987b\u81f3\u5c11\u6709\u4e00\u4e2a\u7ef4\u5ea6 - \u4e0d\u5141\u8bb8\u7a7a\u5f20\u91cf\u3002\n\n- \u6bd4\u8f83\u4e24\u4e2a\u5f20\u91cf\u7684\u7ef4\u5ea6\u5927\u5c0f\uff0c*\u4ece\u6700\u540e\u4e00\u4e2a\u5230\u7b2c\u4e00\u4e2a:*\n\n   - \u6bcf\u4e2a\u7ef4\u5ea6\u5fc5\u987b\u76f8\u7b49\uff0c*\u6216*\n\n   - \u5176\u4e2d\u4e00\u4e2a\u7ef4\u5ea6\u5fc5\u987b\u4e3a1\uff0c*\u6216*\n\n   - \u8be5\u7ef4\u5ea6\u5728\u5176\u4e2d\u4e00\u4e2a\u5f20\u91cf\u4e2d\u4e0d\u5b58\u5728\n\n\u5f53\u7136\uff0c\u76f8\u540c\u5f62\u72b6\u7684\u5f20\u91cf\u662f\"\u53ef\u5e7f\u64ad\"\u7684\uff0c\u6b63\u5982\u4f60\u4e4b\u524d\u770b\u5230\u7684\u90a3\u6837\u3002\n\n\u8fd9\u91cc\u6709\u4e00\u4e9b\u7b26\u5408\u4e0a\u8ff0\u89c4\u5219\u5e76\u5141\u8bb8\u5e7f\u64ad\u7684\u60c5\u51b5\u793a\u4f8b:\n\n\n"
      ]
    },
    {
      "cell_type": "code",
      "execution_count": null,
      "metadata": {
        "collapsed": false
      },
      "outputs": [],
      "source": [
        "a =     torch.ones(4, 3, 2)\n\nb = a * torch.rand(   3, 2) # \u7b2c3\u548c\u7b2c2\u7ef4\u4e0ea\u76f8\u540c\uff0c\u7b2c1\u7ef4\u4e0d\u5b58\u5728\nprint(b)\n\nc = a * torch.rand(   3, 1) # \u7b2c3\u7ef4\u4e3a1\uff0c\u7b2c2\u7ef4\u4e0ea\u76f8\u540c\nprint(c)\n\nd = a * torch.rand(   1, 2) # \u7b2c3\u7ef4\u4e0ea\u76f8\u540c\uff0c\u7b2c2\u7ef4\u4e3a1\nprint(d)"
      ]
    },
    {
      "cell_type": "markdown",
      "metadata": {},
      "source": [
        "\u4ed4\u7ec6\u89c2\u5bdf\u4e0a\u9762\u6bcf\u4e2a\u5f20\u91cf\u7684\u503c:\n\n- \u521b\u5efa `b` \u7684\u4e58\u6cd5\u8fd0\u7b97\u662f\u5728 `a` \u7684\u6bcf\u4e00\u5c42\u4e0a\u5e7f\u64ad\u7684\u3002\n- \u5bf9\u4e8e `c`\uff0c\u8be5\u8fd0\u7b97\u5728 `a` \u7684\u6bcf\u4e00\u5c42\u548c\u6bcf\u4e00\u884c\u4e0a\u90fd\u8fdb\u884c\u4e86\u5e7f\u64ad - \u6bcf\u4e00\u52173\u4e2a\u5143\u7d20\u90fd\u662f\u76f8\u540c\u7684\u3002\n- \u5bf9\u4e8e `d`\uff0c\u6211\u4eec\u98a0\u5012\u4e86\u4e00\u4e0b - \u73b0\u5728\u6bcf\u4e00\u884c\u5728\u5c42\u4e0e\u5217\u4e4b\u95f4\u90fd\u662f\u76f8\u540c\u7684\u3002\n\n\u6709\u5173\u5e7f\u64ad\u7684\u66f4\u591a\u4fe1\u606f,\u8bf7\u53c2\u9605PyTorch\u5173\u4e8e\u6b64\u7684\n[\u6587\u6863](https://pytorch.org/docs/stable/notes/broadcasting.html)_\u3002\n\n\u8fd9\u91cc\u6709\u4e00\u4e9b\u5c1d\u8bd5\u5e7f\u64ad\u4f46\u4f1a\u5931\u8d25\u7684\u4f8b\u5b50:\n\n<div class=\"alert alert-info\"><h4>Note</h4><p>\u4e0b\u9762\u7684\u5355\u5143\u683c\u4f1a\u629b\u51fa\u4e00\u4e2a\u8fd0\u884c\u65f6\u9519\u8bef\uff0c\u8fd9\u662f\u6709\u610f\u7684\u3002\n\n```python\na =     torch.ones(4, 3, 2)\n\nb = a * torch.rand(4, 3)    # \u7ef4\u5ea6\u5fc5\u987b\u4ece\u6700\u540e\u5230\u7b2c\u4e00\u4e2a\u5339\u914d\n\nc = a * torch.rand(   2, 3) # \u7b2c3\u548c\u7b2c2\u7ef4\u90fd\u4e0d\u540c\n\nd = a * torch.rand((0, ))   # \u4e0d\u80fd\u4e0e\u7a7a\u5f20\u91cf\u8fdb\u884c\u5e7f\u64ad</p></div>\n```\n"
      ]
    },
    {
      "cell_type": "markdown",
      "metadata": {},
      "source": [
        "### \u66f4\u591a\u5f20\u91cf\u6570\u5b66\u8fd0\u7b97\n\nPyTorch \u5f20\u91cf\u6709\u8d85\u8fc7\u4e09\u767e\u79cd\u53ef\u4ee5\u6267\u884c\u7684\u64cd\u4f5c\u3002\n\n\u8fd9\u91cc\u662f\u4e00\u4e9b\u4e3b\u8981\u64cd\u4f5c\u7c7b\u522b\u7684\u793a\u4f8b:\n\n\n"
      ]
    },
    {
      "cell_type": "code",
      "execution_count": null,
      "metadata": {
        "collapsed": false
      },
      "outputs": [],
      "source": [
        "# \u5e38\u7528\u65b9\u6cd5\na = torch.rand(2, 4) * 2 - 1\nprint('Common functions:')\nprint(torch.abs(a))\nprint(torch.ceil(a))\nprint(torch.floor(a))\nprint(torch.clamp(a, -0.5, 0.5))\n\n# \u4e09\u89d2\u51fd\u6570\u53ca\u5176\u53cd\u51fd\u6570\nangles = torch.tensor([0, math.pi / 4, math.pi / 2, 3 * math.pi / 4])\nsines = torch.sin(angles)\ninverses = torch.asin(sines)\nprint('\\nSine and arcsine:')\nprint(angles)\nprint(sines)\nprint(inverses)\n\n# \u4f4d\u8fd0\u7b97\nprint('\\nBitwise XOR:')\nb = torch.tensor([1, 5, 11])\nc = torch.tensor([2, 7, 10])\nprint(torch.bitwise_xor(b, c))\n\n# \u6bd4\u8f83\u64cd\u4f5c\nprint('\\nBroadcasted, element-wise equality comparison:')\nd = torch.tensor([[1., 2.], [3., 4.]])\ne = torch.ones(1, 2)  \nprint(torch.eq(d, e)) # \u8fd4\u56de\u5e03\u5c14\u7c7b\u578b\u5f20\u91cf\n\n# \u5f52\u7ea6\u64cd\u4f5c:\nprint('\\n\u5f52\u7ea6\u64cd\u4f5c:')\nprint(torch.max(d))        # \u8fd4\u56de\u5355\u5143\u7d20\u5f20\u91cf\nprint(torch.max(d).item()) # \u4ece\u8fd4\u56de\u7684\u5f20\u91cf\u4e2d\u63d0\u53d6\u503c\nprint(torch.mean(d))       # \u5e73\u5747\u503c\nprint(torch.std(d))        # \u6807\u51c6\u5dee\nprint(torch.prod(d))       # \u6240\u6709\u6570\u5b57\u7684\u4e58\u79ef\nprint(torch.unique(torch.tensor([1, 2, 1, 2, 1, 2]))) # \u8fc7\u6ee4\u552f\u4e00\u5143\u7d20\n\n# \u5411\u91cf\u548c\u7ebf\u6027\u4ee3\u6570\u8fd0\u7b97\nv1 = torch.tensor([1., 0., 0.])         # x \u5355\u4f4d\u5411\u91cf\nv2 = torch.tensor([0., 1., 0.])         # y \u5355\u4f4d\u5411\u91cf\nm1 = torch.rand(2, 2)                   # \u968f\u673a\u77e9\u9635\nm2 = torch.tensor([[3., 0.], [0., 3.]]) # \u4e09\u500d\u5355\u4f4d\u77e9\u9635\n\nprint('\\n\u5411\u91cf\u548c\u77e9\u9635:')\nprint(torch.cross(v2, v1)) # z \u5355\u4f4d\u5411\u91cf\u7684\u8d1f\u503c (v1 x v2 == -v2 x v1)\nprint(m1)\nm3 = torch.matmul(m1, m2)\nprint(m3)                  # m1 \u7684\u4e09\u500d\nprint(torch.svd(m3))       # \u5947\u5f02\u503c\u5206\u89e3"
      ]
    },
    {
      "cell_type": "markdown",
      "metadata": {},
      "source": [
        "\u6709\u5173\u66f4\u591a\u8be6\u7ec6\u4fe1\u606f\u548c\u5b8c\u6574\u7684\u6570\u5b66\u51fd\u6570\u6e05\u5355,\u8bf7\u67e5\u770b\n[\u6587\u6863](https://pytorch.org/docs/stable/torch.html#math-operations)_\u3002\n\n### \u672c\u5730\u4fee\u6539\u5f20\u91cf\n\n\u5927\u591a\u6570\u5f20\u91cf\u7684\u4e8c\u5143\u8fd0\u7b97\u5c06\u8fd4\u56de\u7b2c\u4e09\u4e2a\u65b0\u5f20\u91cf\u3002\u5f53\u6211\u4eec\u8bf4 `c = a * b` (\u5176\u4e2d `a` \u548c `b` \u662f\u5f20\u91cf)\u65f6,\n\u65b0\u5f20\u91cf `c` \u5c06\u5360\u7528\u4e0e\u5176\u4ed6\u5f20\u91cf\u4e0d\u540c\u7684\u5185\u5b58\u533a\u57df\u3002\n\n\u4f46\u662f,\u6709\u65f6\u60a8\u53ef\u80fd\u5e0c\u671b\u5c31\u5730\u4fee\u6539\u5f20\u91cf - \u4f8b\u5982\uff0c\u5982\u679c\u60a8\u6b63\u5728\u6267\u884c\u5143\u7d20wise\u8ba1\u7b97,\u53ef\u4ee5\u4e22\u5f03\u4e2d\u95f4\u503c\u3002\n\u4e3a\u6b64\uff0c\u5927\u591a\u6570\u6570\u5b66\u51fd\u6570\u90fd\u6709\u4e00\u4e2a\u5e26\u6709\u9644\u52a0\u4e0b\u5212\u7ebf (`_`) \u7684\u7248\u672c\uff0c\u5b83\u5c06\u5c31\u5730\u4fee\u6539\u5f20\u91cf\u3002\n\n\u4f8b\u5982:\n\n\n"
      ]
    },
    {
      "cell_type": "code",
      "execution_count": null,
      "metadata": {
        "collapsed": false
      },
      "outputs": [],
      "source": [
        "a = torch.tensor([0, math.pi / 4, math.pi / 2, 3 * math.pi / 4])\nprint('a:')\nprint(a)\nprint(torch.sin(a))   # \u6b64\u64cd\u4f5c\u5728\u5185\u5b58\u4e2d\u521b\u5efa\u65b0\u5f20\u91cf\nprint(a)              # a \u672a\u66f4\u6539\n\nb = torch.tensor([0, math.pi / 4, math.pi / 2, 3 * math.pi / 4])\nprint('\\nb:')\nprint(b)\nprint(torch.sin_(b))  # \u6ce8\u610f\u4e0b\u5212\u7ebf\nprint(b)              # b \u88ab\u4fee\u6539"
      ]
    },
    {
      "cell_type": "markdown",
      "metadata": {},
      "source": [
        "\u5bf9\u4e8e\u7b97\u672f\u8fd0\u7b97,\u6709\u4e00\u4e9b\u51fd\u6570\u7684\u884c\u4e3a\u7c7b\u4f3c:\n\n"
      ]
    },
    {
      "cell_type": "code",
      "execution_count": null,
      "metadata": {
        "collapsed": false
      },
      "outputs": [],
      "source": [
        "a = torch.ones(2, 2)\nb = torch.rand(2, 2)\n\nprint('Before:')\nprint(a)\nprint(b)\nprint('\\nAfter adding:')\nprint(a.add_(b))\nprint(a)\nprint(b)\nprint('\\nAfter multiplying')\nprint(b.mul_(b))\nprint(b)"
      ]
    },
    {
      "cell_type": "markdown",
      "metadata": {},
      "source": [
        "\u6ce8\u610f,\u8fd9\u4e9b\u5c31\u5730\u7b97\u672f\u51fd\u6570\u662f `torch.Tensor` \u5bf9\u8c61\u4e0a\u7684\u65b9\u6cd5\uff0c\n\u800c\u4e0d\u662f\u50cf\u8bb8\u591a\u5176\u4ed6\u51fd\u6570(\u4f8b\u5982 `torch.sin()`)\u90a3\u6837\u9644\u52a0\u5230 `torch` \u6a21\u5757\u4e0a\u3002\n\u6b63\u5982\u4f60\u4ece `a.add_(b)` \u4e2d\u770b\u5230\u7684\uff0c*\u88ab\u8c03\u7528\u7684\u5f20\u91cf\u662f\u5c31\u5730\u6539\u53d8\u7684\u90a3\u4e2a*\u3002\n\n\u8fd8\u6709\u53e6\u4e00\u79cd\u9009\u62e9\uff0c\u53ef\u4ee5\u5c06\u8ba1\u7b97\u7ed3\u679c\u653e\u5728\u4e00\u4e2a\u5df2\u7ecf\u5206\u914d\u7684\u5f20\u91cf\u4e2d\u3002\u6211\u4eec\u5230\u76ee\u524d\u4e3a\u6b62\u770b\u5230\u7684\u8bb8\u591a\u65b9\u6cd5\u548c\u51fd\u6570\n - \u5305\u62ec\u521b\u5efa\u65b9\u6cd5! - \u90fd\u6709\u4e00\u4e2a `out` \u53c2\u6570\uff0c\u8ba9\u4f60\u6307\u5b9a\u4e00\u4e2a\u5f20\u91cf\u6765\u63a5\u6536\u8f93\u51fa\u3002\n\u5982\u679c `out` \u5f20\u91cf\u7684\u5f62\u72b6\u548c `dtype` \u6b63\u786e\uff0c\u8fd9\u53ef\u4ee5\u5728\u4e0d\u5206\u914d\u65b0\u5185\u5b58\u7684\u60c5\u51b5\u4e0b\u53d1\u751f:\n\n\n"
      ]
    },
    {
      "cell_type": "code",
      "execution_count": null,
      "metadata": {
        "collapsed": false
      },
      "outputs": [],
      "source": [
        "a = torch.rand(2, 2)\nb = torch.rand(2, 2)\nc = torch.zeros(2, 2)\nold_id = id(c)\n\nprint(c)\nd = torch.matmul(a, b, out=c)\nprint(c)                # c \u7684\u5185\u5bb9\u5df2\u7ecf\u6539\u53d8\n\nassert c is d           # \u6d4b\u8bd5 c \u548c d \u662f\u540c\u4e00\u4e2a\u5bf9\u8c61,\u800c\u4e0d\u53ea\u662f\u5305\u542b\u76f8\u7b49\u7684\u503c\nassert id(c) == old_id  # \u786e\u4fdd\u6211\u4eec\u7684\u65b0 c \u662f\u65e7 c \u7684\u540c\u4e00\u4e2a\u5bf9\u8c61\n\ntorch.rand(2, 2, out=c) # \u5bf9\u4e8e\u521b\u5efa\u4e5f\u53ef\u4ee5!\nprint(c)                # c \u53c8\u4e00\u6b21\u6539\u53d8\nassert id(c) == old_id  # \u4ecd\u7136\u662f\u540c\u4e00\u4e2a\u5bf9\u8c61!"
      ]
    },
    {
      "cell_type": "markdown",
      "metadata": {},
      "source": [
        "## \u590d\u5236\u5f20\u91cf\n\n\u4e0e Python \u4e2d\u7684\u4efb\u4f55\u5bf9\u8c61\u4e00\u6837\uff0c\u5c06\u5f20\u91cf\u8d4b\u503c\u7ed9\u53d8\u91cf\u4f1a\u4f7f\u8be5\u53d8\u91cf\u6210\u4e3a\u5f20\u91cf\u7684 *\u6807\u7b7e*\uff0c\u800c\u4e0d\u4f1a\u590d\u5236\u5b83\u3002\u4f8b\u5982:\n\n\n"
      ]
    },
    {
      "cell_type": "code",
      "execution_count": null,
      "metadata": {
        "collapsed": false
      },
      "outputs": [],
      "source": [
        "a = torch.ones(2, 2)\nb = a\n\na[0][1] = 561  # \u6211\u4eec\u6539\u53d8 a...\nprint(b)       # ...b \u4e5f\u88ab\u6539\u53d8\u4e86"
      ]
    },
    {
      "cell_type": "markdown",
      "metadata": {},
      "source": [
        "\u4f46\u662f,\u5982\u679c\u4f60\u60f3\u8981\u4e00\u4e2a\u5355\u72ec\u7684\u6570\u636e\u526f\u672c\u6765\u5904\u7406\u5462? \u8fd9\u65f6\u5c31\u53ef\u4ee5\u4f7f\u7528 `clone()` \u65b9\u6cd5:\n\n\n"
      ]
    },
    {
      "cell_type": "code",
      "execution_count": null,
      "metadata": {
        "collapsed": false
      },
      "outputs": [],
      "source": [
        "a = torch.ones(2, 2)\nb = a.clone()\n\nassert b is not a      # \u5185\u5b58\u4e2d\u7684\u4e0d\u540c\u5bf9\u8c61...\nprint(torch.eq(a, b))  # ...\u4f46\u4ecd\u7136\u5177\u6709\u76f8\u540c\u7684\u5185\u5bb9!\n\na[0][1] = 561          # a \u6539\u53d8\u4e86...\nprint(b)               # ...\u4f46 b \u4ecd\u7136\u662f\u5168 1"
      ]
    },
    {
      "cell_type": "markdown",
      "metadata": {},
      "source": [
        "**\u4f7f\u7528 `clone()` \u65f6,\u6709\u4e00\u4e2a\u91cd\u8981\u7684\u4e8b\u60c5\u9700\u8981\u6ce8\u610f\u3002**\n\u5982\u679c\u4f60\u7684\u6e90\u5f20\u91cf\u542f\u7528\u4e86\u81ea\u52a8\u6c42\u5bfc,\u90a3\u4e48\u514b\u9686\u5f20\u91cf\u4e5f\u4f1a\u542f\u7528\u81ea\u52a8\u6c42\u5bfc\u3002\n**\u8fd9\u5c06\u5728\u5173\u4e8e\u81ea\u52a8\u6c42\u5bfc\u7684\u89c6\u9891\u4e2d\u66f4\u6df1\u5165\u5730\u4ecb\u7ecd**\uff0c \u4f46\u5982\u679c\u4f60\u60f3\u4e86\u89e3\u7ec6\u8282\u7684\u7b80\u5355\u7248\u672c,\u8bf7\u7ee7\u7eed\u9605\u8bfb\u3002\n\n*\u5728\u8bb8\u591a\u60c5\u51b5\u4e0b,\u8fd9\u6b63\u662f\u4f60\u6240\u9700\u8981\u7684\u3002*\u4f8b\u5982,\u5982\u679c\u4f60\u7684\u6a21\u578b\u5728\u5176 `forward()` \u65b9\u6cd5\u4e2d\u6709\u591a\u4e2a\u8ba1\u7b97\u8def\u5f84\uff0c\n\u5e76\u4e14 *\u539f\u59cb\u5f20\u91cf\u548c\u5b83\u7684\u514b\u9686* \u90fd\u4f1a\u5f71\u54cd\u6a21\u578b\u7684\u8f93\u51fa\uff0c\u90a3\u4e48\u4e3a\u4e86\u542f\u7528\u6a21\u578b\u5b66\u4e60\uff0c\u4f60\u5e0c\u671b\u4e24\u4e2a\u5f20\u91cf\u90fd\u542f\u7528\u81ea\u52a8\u6c42\u5bfc\u3002\n\u5982\u679c\u4f60\u7684\u6e90\u5f20\u91cf\u542f\u7528\u4e86\u81ea\u52a8\u6c42\u5bfc(\u901a\u5e38\u5982\u679c\u5b83\u662f\u4e00\u7ec4\u5b66\u4e60\u6743\u91cd\u6216\u6e90\u81ea\u6d89\u53ca\u6743\u91cd\u7684\u8ba1\u7b97)\uff0c\u90a3\u4e48\u4f60\u5c31\u4f1a\u5f97\u5230\u6240\u9700\u7684\u7ed3\u679c\u3002\n\n\u53e6\u4e00\u65b9\u9762\uff0c\u5982\u679c\u4f60\u6b63\u5728\u8fdb\u884c\u4e00\u4e2a\u8ba1\u7b97\u3002\u5176\u4e2d *\u539f\u59cb\u5f20\u91cf\u548c\u5b83\u7684\u514b\u9686* \u90fd\u4e0d\u9700\u8981\u8ddf\u8e2a\u68af\u5ea6\uff0c\u90a3\u4e48\u53ea\u8981\u6e90\u5f20\u91cf\u5173\u95ed\u4e86\u81ea\u52a8\u6c42\u5bfc\uff0c\u4f60\u5c31\u53ef\u4ee5\u7ee7\u7eed\u4e86\u3002\n\n*\u8fd8\u6709\u7b2c\u4e09\u79cd\u60c5\u51b5:* \u5047\u8bbe\u4f60\u5728\u6a21\u578b\u7684 `forward()` \u51fd\u6570\u4e2d\u6267\u884c\u4e00\u4e2a\u8ba1\u7b97\uff0c\u9ed8\u8ba4\u60c5\u51b5\u4e0b\u6240\u6709\u5185\u5bb9\u7684\u68af\u5ea6\u90fd\u6253\u5f00\uff0c\n\u4f46\u4f60\u60f3\u5728\u4e2d\u95f4\u63d0\u53d6\u4e00\u4e9b\u503c\u6765\u751f\u6210\u4e00\u4e9b\u6307\u6807\u3002\u5728\u8fd9\u79cd\u60c5\u51b5\u4e0b\uff0c\u4f60 *\u4e0d\u5e0c\u671b* \u514b\u9686\u7684\u6e90\u5f20\u91cf\u526f\u672c\u8ddf\u8e2a\u68af\u5ea6\n - \u5173\u95ed\u81ea\u52a8\u6c42\u5bfc\u7684\u5386\u53f2\u8bb0\u5f55\u8ddf\u8e2a\u53ef\u4ee5\u63d0\u9ad8\u6027\u80fd\u3002\u4e3a\u6b64\uff0c\u4f60\u53ef\u4ee5\u5728\u6e90\u5f20\u91cf\u4e0a\u4f7f\u7528 `.detach()` \u65b9\u6cd5:\n\n\n"
      ]
    },
    {
      "cell_type": "code",
      "execution_count": null,
      "metadata": {
        "collapsed": false
      },
      "outputs": [],
      "source": [
        "a = torch.rand(2, 2, requires_grad=True) # \u6253\u5f00\u81ea\u52a8\u6c42\u5bfc\nprint(a)\n\nb = a.clone()\nprint(b)\n\nc = a.detach().clone()\nprint(c)\n\nprint(a)"
      ]
    },
    {
      "cell_type": "markdown",
      "metadata": {},
      "source": [
        "\u6b64\u5904\u53d1\u751f\u4e86\u4ec0\u4e48?\n\n-  \u6211\u4eec\u521b\u5efa\u4e86 ``a`` \u5e76\u5c06 ``requires_grad=True`` \u6253\u5f00\u3002**\u6211\u4eec\u8fd8\u6ca1\u6709\u4ecb\u7ecd\u8fd9\u4e2a\u53ef\u9009\u53c2\u6570\uff0c\n   \u4f46\u5c06\u5728\u5173\u4e8e\u81ea\u52a8\u6c42\u5bfc\u7684\u5355\u5143\u4e2d\u4ecb\u7ecd\u3002**\n-  \u5f53\u6211\u4eec\u6253\u5370 ``a`` \u65f6,\u5b83\u544a\u8bc9\u6211\u4eec\u5c5e\u6027 ``requires_grad=True`` - \u8fd9\u610f\u5473\u7740\u81ea\u52a8\u6c42\u5bfc\u548c\u8ba1\u7b97\u5386\u53f2\u8ddf\u8e2a\u5df2\u6253\u5f00\u3002\n-  \u6211\u4eec\u514b\u9686 ``a`` \u5e76\u5c06\u5176\u6807\u8bb0\u4e3a ``b``\u3002\u5f53\u6211\u4eec\u6253\u5370 ``b`` \u65f6\uff0c\u6211\u4eec\u53ef\u4ee5\u770b\u5230\u5b83\u6b63\u5728\u8ddf\u8e2a\u5176\u8ba1\u7b97\u5386\u53f2 - \u5b83\u7ee7\u627f\u4e86 ``a`` \u7684\u81ea\u52a8\u6c42\u5bfc\u8bbe\u7f6e\uff0c\n   \u5e76\u6dfb\u52a0\u5230\u4e86\u8ba1\u7b97\u5386\u53f2\u4e2d\u3002\n-  \u6211\u4eec\u514b\u9686 ``a`` \u5230 ``c``,\u4f46\u9996\u5148\u8c03\u7528 ``detach()``\u3002\n-  \u6253\u5370 `c`\uff0c\u6211\u4eec\u770b\u4e0d\u5230\u4efb\u4f55\u8ba1\u7b97\u5386\u53f2\uff0c\u4e5f\u6ca1\u6709 `requires_grad=True`\u3002\n\n``detach()`` \u65b9\u6cd5*\u5c06\u5f20\u91cf\u4e0e\u5176\u8ba1\u7b97\u5386\u53f2\u5206\u79bb\u3002*\u5b83\u8bf4,\"\u65e0\u8bba\u63a5\u4e0b\u6765\u53d1\u751f\u4ec0\u4e48\uff0c\u90fd\u50cf\u81ea\u52a8\u6c42\u5bfc\u5173\u95ed\u65f6\u90a3\u6837\u8fdb\u884c\u3002\n\"\u5b83\u8fd9\u6837\u505a*\u5e76\u4e0d\u4f1a\u6539\u53d8 ``a``* - \u4f60\u53ef\u4ee5\u770b\u5230,\u5f53\u6211\u4eec\u5728\u6700\u540e\u518d\u6b21\u6253\u5370 `a` \u65f6\uff0c\u5b83\u4fdd\u7559\u4e86\u5176 ``requires_grad=True`` \u5c5e\u6027\u3002\n\n## \u79fb\u52a8\u5230 GPU\n\nPyTorch \u7684\u4e3b\u8981\u4f18\u52bf\u4e4b\u4e00\u662f\u5728 CUDA \u517c\u5bb9\u7684 Nvidia GPU \u4e0a\u6709\u5f3a\u5927\u7684\u52a0\u901f\u80fd\u529b\u3002\n(\"CUDA\"\u4ee3\u8868*Compute Unified Device Architecture*,\u8fd9\u662f Nvidia \u7684\u5e76\u884c\u8ba1\u7b97\u5e73\u53f0\u3002)\n\u5230\u76ee\u524d\u4e3a\u6b62\uff0c\u6211\u4eec\u6240\u505a\u7684\u4e00\u5207\u90fd\u662f\u5728 CPU \u4e0a\u3002\u6211\u4eec\u5982\u4f55\u79fb\u52a8\u5230\u66f4\u5feb\u7684\u786c\u4ef6\u4e0a\u5462?\n\n\u9996\u5148,\u6211\u4eec\u5e94\u8be5\u4f7f\u7528 `is_available()` \u65b9\u6cd5\u68c0\u67e5\u662f\u5426\u6709 GPU \u53ef\u7528\u3002\n\n<div class=\"alert alert-info\"><h4>Note</h4><p>\u5982\u679c\u4f60\u6ca1\u6709\u5b89\u88c5 CUDA \u517c\u5bb9\u7684 GPU \u548c CUDA \u9a71\u52a8\u7a0b\u5e8f\uff0c\u672c\u8282\u4e2d\u7684\u53ef\u6267\u884c\u5355\u5143\u683c\u5c06\u4e0d\u4f1a\u6267\u884c\u4efb\u4f55 GPU \u76f8\u5173\u7684\u4ee3\u7801\u3002</p></div>\n\n\n"
      ]
    },
    {
      "cell_type": "code",
      "execution_count": null,
      "metadata": {
        "collapsed": false
      },
      "outputs": [],
      "source": [
        "if torch.cuda.is_available():\n    print('We have a GPU!')\nelse:\n    print('Sorry, CPU only.')"
      ]
    },
    {
      "cell_type": "markdown",
      "metadata": {},
      "source": [
        "\u4e00\u65e6\u6211\u4eec\u786e\u5b9a\u6709\u4e00\u4e2a\u6216\u591a\u4e2aGPU\u53ef\u7528\uff0c\u6211\u4eec\u9700\u8981\u5c06\u6570\u636e\u653e\u5728GPU\u53ef\u4ee5\u8bbf\u95ee\u7684\u5730\u65b9\u3002\u4f60\u7684CPU\u5728\u8ba1\u7b97\u673a\u7684RAM\u4e0a\u5bf9\u6570\u636e\u8fdb\u884c\u8ba1\u7b97\u3002\n\u4f60\u7684GPU\u6709\u4e13\u7528\u7684\u5185\u5b58\u8fde\u63a5\u5230\u5b83\u3002\u6bcf\u5f53\u4f60\u60f3\u5728\u4e00\u4e2a\u8bbe\u5907\u4e0a\u6267\u884c\u8ba1\u7b97\u65f6\uff0c\u4f60\u5fc5\u987b\u5c06\u8be5\u8ba1\u7b97\u6240\u9700\u7684 *\u6240\u6709* \u6570\u636e\u79fb\u52a8\u5230\u8be5\u8bbe\u5907\u53ef\u8bbf\u95ee\u7684\u5185\u5b58\u4e2d\u3002\n(\u4fd7\u79f0,\"\u5c06\u6570\u636e\u79fb\u52a8\u5230GPU\u53ef\u8bbf\u95ee\u7684\u5185\u5b58\"\u88ab\u7b80\u79f0\u4e3a\"\u5c06\u6570\u636e\u79fb\u52a8\u5230GPU\")\u3002\n\n\u6709\u591a\u79cd\u65b9\u5f0f\u53ef\u4ee5\u5c06\u6570\u636e\u79fb\u52a8\u5230\u76ee\u6807\u8bbe\u5907\u3002\u4f60\u53ef\u4ee5\u5728\u521b\u5efa\u65f6\u8fd9\u6837\u505a:\n\n\n"
      ]
    },
    {
      "cell_type": "code",
      "execution_count": null,
      "metadata": {
        "collapsed": false
      },
      "outputs": [],
      "source": [
        "if torch.cuda.is_available():\n    gpu_rand = torch.rand(2, 2, device='cuda')\n    print(gpu_rand)\nelse:\n    print('Sorry, CPU only.')"
      ]
    },
    {
      "cell_type": "markdown",
      "metadata": {},
      "source": [
        "\u9ed8\u8ba4\u60c5\u51b5\u4e0b,\u65b0\u7684\u5f20\u91cf\u662f\u5728CPU\u4e0a\u521b\u5efa\u7684\uff0c\u6240\u4ee5\u6211\u4eec\u5fc5\u987b\u4f7f\u7528\u53ef\u9009\u7684``device``\u53c2\u6570\u6765\u6307\u5b9a\u6211\u4eec\u60f3\u5728GPU\u4e0a\u521b\u5efa\u5f20\u91cf\u3002\n\u5f53\u6211\u4eec\u6253\u5370\u65b0\u7684\u5f20\u91cf\u65f6\uff0c\u4f60\u53ef\u4ee5\u770b\u5230PyTorch\u4f1a\u544a\u8bc9\u6211\u4eec\u5b83\u5728\u54ea\u4e2a\u8bbe\u5907\u4e0a(\u5982\u679c\u4e0d\u5728CPU\u4e0a)\u3002\n\n\u4f60\u53ef\u4ee5\u4f7f\u7528``torch.cuda.device_count()``\u67e5\u8be2GPU\u7684\u6570\u91cf\u3002\u5982\u679c\u4f60\u6709\u591a\u4e2aGPU,\u4f60\u53ef\u4ee5\u901a\u8fc7\u7d22\u5f15\u6307\u5b9a\u5b83\u4eec:\n``device='cuda:0'``\u3001``device='cuda:1'``\u7b49\u3002\n\n\u4f5c\u4e3a\u7f16\u7801\u5b9e\u8df5,\u5728\u4efb\u4f55\u5730\u65b9\u90fd\u4f7f\u7528\u5b57\u7b26\u4e32\u5e38\u91cf\u6765\u6307\u5b9a\u8bbe\u5907\u662f\u76f8\u5f53\u8106\u5f31\u7684\u3002\u5728\u7406\u60f3\u60c5\u51b5\u4e0b\uff0c\u65e0\u8bba\u4f60\u5728CPU\u8fd8\u662fGPU\u786c\u4ef6\u4e0a\uff0c\n\u4f60\u7684\u4ee3\u7801\u90fd\u5e94\u8be5\u7a33\u5065\u5730\u6267\u884c\u3002\u4f60\u53ef\u4ee5\u901a\u8fc7\u521b\u5efa\u4e00\u4e2a\u8bbe\u5907\u53e5\u67c4\u6765\u5b9e\u73b0\u8fd9\u4e00\u70b9\uff0c\u800c\u4e0d\u662f\u4f7f\u7528\u5b57\u7b26\u4e32\u4f20\u9012\u7ed9\u4f60\u7684\u5f20\u91cf:\n\n\n"
      ]
    },
    {
      "cell_type": "code",
      "execution_count": null,
      "metadata": {
        "collapsed": false
      },
      "outputs": [],
      "source": [
        "if torch.cuda.is_available():\n    my_device = torch.device('cuda')\nelse:\n    my_device = torch.device('cpu')\nprint('Device: {}'.format(my_device))\n\nx = torch.rand(2, 2, device=my_device)\nprint(x)"
      ]
    },
    {
      "cell_type": "markdown",
      "metadata": {},
      "source": [
        "\u5982\u679c\u4f60\u6709\u4e00\u4e2a\u5df2\u7ecf\u5b58\u5728\u4e8e\u4e00\u4e2a\u8bbe\u5907\u4e0a\u7684\u5f20\u91cf\uff0c\u4f60\u53ef\u4ee5\u4f7f\u7528``to()``\u65b9\u6cd5\u5c06\u5b83\u79fb\u52a8\u5230\u53e6\u4e00\u4e2a\u8bbe\u5907\u3002\n\u4e0b\u9762\u4e00\u884c\u4ee3\u7801\u5728CPU\u4e0a\u521b\u5efa\u4e00\u4e2a\u5f20\u91cf\uff0c\u5e76\u5c06\u5b83\u79fb\u52a8\u5230\u4f60\u5728\u4e0a\u4e00\u4e2a\u5355\u5143\u683c\u4e2d\u83b7\u53d6\u7684\u4efb\u4f55\u8bbe\u5907\u53e5\u67c4\u4e0a\u3002\n\n\n"
      ]
    },
    {
      "cell_type": "code",
      "execution_count": null,
      "metadata": {
        "collapsed": false
      },
      "outputs": [],
      "source": [
        "y = torch.rand(2, 2)\ny = y.to(my_device)"
      ]
    },
    {
      "cell_type": "markdown",
      "metadata": {},
      "source": [
        "\u91cd\u8981\u7684\u662f\u8981\u77e5\u9053\uff0c\u4e3a\u4e86\u8fdb\u884c\u6d89\u53ca\u4e24\u4e2a\u6216\u591a\u4e2a\u5f20\u91cf\u7684\u8ba1\u7b97\uff0c*\u6240\u6709\u5f20\u91cf\u5fc5\u987b\u5728\u540c\u4e00\u8bbe\u5907\u4e0a*\u3002\n\u65e0\u8bba\u4f60\u662f\u5426\u6709GPU\u8bbe\u5907\u53ef\u7528\uff0c\u4ee5\u4e0b\u4ee3\u7801\u90fd\u4f1a\u629b\u51fa\u8fd0\u884c\u65f6\u9519\u8bef:\n\n\n```python\nx = torch.rand(2, 2)\ny = torch.rand(2, 2, device='gpu')\nz = x + y  # exception will be thrown\n```\n"
      ]
    },
    {
      "cell_type": "markdown",
      "metadata": {},
      "source": [
        "## \u64cd\u4f5c\u5f20\u91cf\u5f62\u72b6\n\n\u6709\u65f6,\u4f60\u9700\u8981\u6539\u53d8\u5f20\u91cf\u7684\u5f62\u72b6\u3002\u4e0b\u9762,\u6211\u4eec\u5c06\u770b\u4e00\u4e9b\u5e38\u89c1\u7684\u60c5\u51b5,\u4ee5\u53ca\u5982\u4f55\u5904\u7406\u5b83\u4eec\u3002\n\n### \u6539\u53d8\u7ef4\u5ea6\u6570\u91cf\n\n\u4f60\u53ef\u80fd\u9700\u8981\u6539\u53d8\u7ef4\u5ea6\u6570\u91cf\u7684\u4e00\u79cd\u60c5\u51b5\u662f\u5c06\u5355\u4e2a\u5b9e\u4f8b\u8f93\u5165\u5230\u4f60\u7684\u6a21\u578b\u4e2d\u3002PyTorch\u6a21\u578b\n\u901a\u5e38\u671f\u671b\u8f93\u5165 *\u6279\u6b21* \u6570\u636e\u3002\n\n\u4f8b\u5982,\u5047\u8bbe\u6709\u4e00\u4e2a\u6a21\u578b\u53ef\u4ee5\u5904\u74063x226x226\u7684\u56fe\u50cf -\n\u4e00\u4e2a226\u50cf\u7d20\u7684\u6b63\u65b9\u5f62,\u67093\u4e2a\u989c\u8272\u901a\u9053\u3002\u5f53\u4f60\u52a0\u8f7d\u548c\u8f6c\u6362\u5b83\u65f6,\n\u4f60\u4f1a\u5f97\u5230\u4e00\u4e2a\u5f62\u72b6\u4e3a ``(3, 226, 226)`` \u7684\u5f20\u91cf\u3002\u4f46\u662f\u4f60\u7684\u6a21\u578b\n\u671f\u671b\u8f93\u5165\u5f62\u72b6\u4e3a ``(N, 3, 226, 226)``\uff0c\u5176\u4e2d ``N`` \u662f\u6279\u6b21\u4e2d\u56fe\u50cf\u7684\u6570\u91cf\u3002\n\u90a3\u4e48\u5982\u4f55\u521b\u5efa\u4e00\u4e2a\u6279\u6b21\u5927\u5c0f\u4e3a1\u7684\u8f93\u5165\u5462?\n\n\n"
      ]
    },
    {
      "cell_type": "code",
      "execution_count": null,
      "metadata": {
        "collapsed": false
      },
      "outputs": [],
      "source": [
        "a = torch.rand(3, 226, 226)\nb = a.unsqueeze(0)\n\nprint(a.shape)\nprint(b.shape)"
      ]
    },
    {
      "cell_type": "markdown",
      "metadata": {},
      "source": [
        "``unsqueeze()`` \u65b9\u6cd5\u6dfb\u52a0\u4e86\u4e00\u4e2a\u5927\u5c0f\u4e3a1\u7684\u7ef4\u5ea6\u3002\n``unsqueeze(0)`` \u5728\u6700\u524d\u9762\u6dfb\u52a0\u4e86\u4e00\u4e2a\u65b0\u76840\u7ef4\u5ea6 - \u73b0\u5728\u4f60\u6709\u4e86\u4e00\u4e2a\u6279\u6b21\u5927\u5c0f\u4e3a1\u7684\u8f93\u5165!\n\n\u90a3\u4e48\u5982\u679c\u662f *\u53bb\u9664* \u591a\u4f59\u76841\u7ef4\u5ea6\u5462?\u6211\u4eec\u6240\u8bf4\u7684\u6324\u538b(squeeze)\u5c31\u662f\u5229\u7528\u4e86\n\u4efb\u4f55\u5927\u5c0f\u4e3a1\u7684\u7ef4\u5ea6 *\u4e0d\u4f1a* \u6539\u53d8\u5f20\u91cf\u4e2d\u5143\u7d20\u7684\u6570\u91cf\u8fd9\u4e00\u4e8b\u5b9e\u3002\n\n\n"
      ]
    },
    {
      "cell_type": "code",
      "execution_count": null,
      "metadata": {
        "collapsed": false
      },
      "outputs": [],
      "source": [
        "c = torch.rand(1, 1, 1, 1, 1)\nprint(c)"
      ]
    },
    {
      "cell_type": "markdown",
      "metadata": {},
      "source": [
        "\u7ee7\u7eed\u4e0a\u9762\u7684\u4f8b\u5b50,\u5047\u8bbe\u6a21\u578b\u7684\u8f93\u51fa\u662f\u4e00\u4e2a20\u5143\u7d20\u7684\u5411\u91cf,\u5bf9\u4e8e\u6bcf\u4e2a\u8f93\u5165\u3002\n\u90a3\u4e48\u4f60\u4f1a\u671f\u671b\u8f93\u51fa\u7684\u5f62\u72b6\u4e3a ``(N, 20)``\uff0c\u5176\u4e2d ``N`` \u662f\u8f93\u5165\u6279\u6b21\u4e2d\u7684\u5b9e\u4f8b\u6570\u91cf\u3002\n\u8fd9\u610f\u5473\u7740\u5bf9\u4e8e\u6211\u4eec\u7684\u5355\u8f93\u5165\u6279\u6b21,\u6211\u4eec\u4f1a\u5f97\u5230\u5f62\u72b6\u4e3a ``(1, 20)`` \u7684\u8f93\u51fa\u3002\n\n\u5982\u679c\u4f60\u60f3\u5bf9\u8be5\u8f93\u51fa\u8fdb\u884c\u4e00\u4e9b*\u975e\u6279\u6b21*\u8ba1\u7b97 - \n\u4e00\u4e9b\u53ea\u671f\u671b20\u5143\u7d20\u5411\u91cf\u7684\u8ba1\u7b97,\u8be5\u600e\u4e48\u529e?\n\n\n"
      ]
    },
    {
      "cell_type": "code",
      "execution_count": null,
      "metadata": {
        "collapsed": false
      },
      "outputs": [],
      "source": [
        "a = torch.rand(1, 20)\nprint(a.shape)\nprint(a)\n\nb = a.squeeze(0)\nprint(b.shape)\nprint(b)\n\nc = torch.rand(2, 2)\nprint(c.shape)\n\nd = c.squeeze(0)\nprint(d.shape)"
      ]
    },
    {
      "cell_type": "markdown",
      "metadata": {},
      "source": [
        "\u4f60\u53ef\u4ee5\u4ece\u5f62\u72b6\u770b\u51fa,\u6211\u4eec\u7684\u4e8c\u7ef4\u5f20\u91cf\u73b0\u5728\u53d8\u6210\u4e86\u4e00\u7ef4\u7684,\u5982\u679c\u4f60\u4ed4\u7ec6\u89c2\u5bdf\u4e0a\u9762\u5355\u5143\u683c\u7684\u8f93\u51fa,\n\u4f60\u4f1a\u53d1\u73b0\u6253\u5370 `a` \u65f6\u4f1a\u663e\u793a\u4e00\u7ec4\"\u989d\u5916\"\u7684\u65b9\u62ec\u53f7 `[]`,\u8fd9\u662f\u56e0\u4e3a\u591a\u4e86\u4e00\u4e2a\u7ef4\u5ea6\u3002\n\n\u4f60\u53ea\u80fd\u5bf9\u5927\u5c0f\u4e3a1\u7684\u7ef4\u5ea6\u6267\u884c `squeeze()`\u3002\u770b\u4e0a\u9762\u6211\u4eec\u5c1d\u8bd5\u5bf9\u5927\u5c0f\u4e3a2\u7684\u7ef4\u5ea6 `c` \u8fdb\u884c\u6324\u538b,\n\u5f97\u5230\u7684\u5f62\u72b6\u4e0e\u5f00\u59cb\u65f6\u76f8\u540c\u3002`squeeze()` \u548c `unsqueeze()` \u7684\u8c03\u7528\u53ea\u80fd\u4f5c\u7528\u4e8e\u5927\u5c0f\u4e3a1\u7684\u7ef4\u5ea6,\n\u56e0\u4e3a\u5bf9\u5176\u4ed6\u7ef4\u5ea6\u64cd\u4f5c\u4f1a\u6539\u53d8\u5f20\u91cf\u4e2d\u5143\u7d20\u7684\u6570\u91cf\u3002\n\n\u4f60\u53ef\u80fd\u4f1a\u4f7f\u7528 `unsqueeze()` \u7684\u53e6\u4e00\u4e2a\u573a\u666f\u662f\u4e3a\u4e86\u65b9\u4fbf\u5e7f\u64ad\u64cd\u4f5c\u3002\n\u56de\u60f3\u4e00\u4e0b\u4e0a\u9762\u7684\u4f8b\u5b50,\u6211\u4eec\u6709\u4ee5\u4e0b\u4ee3\u7801:\n\n```python\na = torch.ones(4, 3, 2)\n\nc = a * torch.rand(3, 1) # \u7b2c3\u7ef4\u4e3a1,\u7b2c2\u7ef4\u4e0ea\u76f8\u540c\nprint(c)\n```\n\u5176\u51c0\u6548\u679c\u662f\u5728\u7ef4\u5ea60\u548c2\u4e0a\u8fdb\u884c\u5e7f\u64ad\u64cd\u4f5c,\u5bfc\u81f4\u5f62\u72b6\u4e3a3x1\u7684\u968f\u673a\u5f20\u91cf\u4e0e `a` \u4e2d\u7684\u6bcf\u4e00\u52173\u5143\u7d20\u9010\u5143\u7d20\u76f8\u4e58\u3002\n\n\u5982\u679c\u968f\u673a\u5411\u91cf\u53ea\u662f\u4e00\u4e2a3\u5143\u7d20\u5411\u91cf\u5462?\u6211\u4eec\u5c31\u5931\u53bb\u4e86\u5e7f\u64ad\u7684\u80fd\u529b,\u56e0\u4e3a\u6700\u540e\u7684\u7ef4\u5ea6\u4e0d\u4f1a\u6839\u636e\u5e7f\u64ad\u89c4\u5219\u5339\u914d\u3002\n`unsqueeze()` \u53ef\u4ee5\u89e3\u6551\u6211\u4eec:\n\n\n"
      ]
    },
    {
      "cell_type": "code",
      "execution_count": null,
      "metadata": {
        "collapsed": false
      },
      "outputs": [],
      "source": [
        "a = torch.ones(4, 3, 2)\nb = torch.rand(   3)     # \u8bd5\u56fe\u5c06 a * b \u4f1a\u5bfc\u81f4\u8fd0\u884c\u65f6\u9519\u8bef\nc = b.unsqueeze(1)       # \u53d8\u6210\u4e8c\u7ef4\u5f20\u91cf,\u5728\u672b\u5c3e\u6dfb\u52a0\u65b0\u7ef4\u5ea6\nprint(c.shape)\nprint(a * c)             # \u5e7f\u64ad\u518d\u6b21\u751f\u6548!"
      ]
    },
    {
      "cell_type": "markdown",
      "metadata": {},
      "source": [
        "`squeeze()` \u548c `unsqueeze()` \u65b9\u6cd5\u4e5f\u6709\u672c\u5730\u7248\u672c `squeeze_()` \u548c `unsqueeze_()`\uff1a\n\n\n"
      ]
    },
    {
      "cell_type": "code",
      "execution_count": null,
      "metadata": {
        "collapsed": false
      },
      "outputs": [],
      "source": [
        "batch_me = torch.rand(3, 226, 226)\nprint(batch_me.shape)\nbatch_me.unsqueeze_(0)\nprint(batch_me.shape)"
      ]
    },
    {
      "cell_type": "markdown",
      "metadata": {},
      "source": [
        "\u6709\u65f6\u4f60\u9700\u8981\u66f4\u5f7b\u5e95\u5730\u6539\u53d8\u5f20\u91cf\u7684\u5f62\u72b6,\u540c\u65f6\u4fdd\u7559\u5143\u7d20\u6570\u91cf\u548c\u5185\u5bb9\u4e0d\u53d8\u3002\n\u4e00\u79cd\u60c5\u51b5\u662f\u5728\u6a21\u578b\u7684\u5377\u79ef\u5c42\u548c\u7ebf\u6027\u5c42\u4e4b\u95f4\u7684\u63a5\u53e3 - \u8fd9\u5728\u56fe\u50cf\u5206\u7c7b\u6a21\u578b\u4e2d\u5f88\u5e38\u89c1\u3002\n\u5377\u79ef\u6838\u4f1a\u4ea7\u751f\u5f62\u72b6\u4e3a *features x width x height* \u7684\u8f93\u51fa\u5f20\u91cf,\n\u4f46\u63a5\u4e0b\u6765\u7684\u7ebf\u6027\u5c42\u671f\u671b\u4e00\u7ef4\u8f93\u5165\u3002`reshape()` \u53ef\u4ee5\u4e3a\u4f60\u505a\u8fd9\u4ef6\u4e8b,\n\u53ea\u8981\u4f60\u8bf7\u6c42\u7684\u7ef4\u5ea6\u4e0e\u8f93\u5165\u5f20\u91cf\u5177\u6709\u76f8\u540c\u6570\u91cf\u7684\u5143\u7d20\u5373\u53ef:\n\n\n"
      ]
    },
    {
      "cell_type": "code",
      "execution_count": null,
      "metadata": {
        "collapsed": false
      },
      "outputs": [],
      "source": [
        "output3d = torch.rand(6, 20, 20)\nprint(output3d.shape)\n\ninput1d = output3d.reshape(6 * 20 * 20)\nprint(input1d.shape)\n\n# can also call it as a method on the torch module:\nprint(torch.reshape(output3d, (6 * 20 * 20,)).shape)"
      ]
    },
    {
      "cell_type": "markdown",
      "metadata": {},
      "source": [
        "<div class=\"alert alert-info\"><h4>Note</h4><p>\u4e0a\u9762\u6700\u540e\u4e00\u884c\u5355\u5143\u683c\u4e2d\u7684 `(6 * 20 * 20,)` \u53c2\u6570\u662f\u56e0\u4e3aPyTorch\u5728\u6307\u5b9a\u5f20\u91cf\u5f62\u72b6\u65f6\n     \u671f\u671b\u4e00\u4e2a **\u5143\u7ec4** - \u4f46\u5f53\u5f62\u72b6\u662f\u65b9\u6cd5\u7684\u7b2c\u4e00\u4e2a\u53c2\u6570\u65f6,\u5b83\u5141\u8bb8\u6211\u4eec\u53ea\u4f7f\u7528\u4e00\u7cfb\u5217\u6574\u6570\u3002\n     \u8fd9\u91cc,\u6211\u4eec\u5fc5\u987b\u6dfb\u52a0\u62ec\u53f7\u548c\u9017\u53f7\u6765\u8bf4\u670d\u8be5\u65b9\u6cd5\u8fd9\u786e\u5b9e\u662f\u4e00\u4e2a\u5355\u5143\u7d20\u5143\u7ec4\u3002</p></div>\n\n\u5f53\u53ef\u80fd\u65f6,`reshape()` \u4f1a\u8fd4\u56de\u8be5\u5f20\u91cf\u7684*\u89c6\u56fe* - \n\u4e5f\u5c31\u662f\u4e00\u4e2a\u5355\u72ec\u7684\u5f20\u91cf\u5bf9\u8c61,\u67e5\u770b\u76f8\u540c\u7684\u5e95\u5c42\u5185\u5b58\u533a\u57df\u3002\n*\u8fd9\u4e00\u70b9\u5f88\u91cd\u8981:* \u8fd9\u610f\u5473\u7740\u5bf9\u6e90\u5f20\u91cf\u6240\u505a\u7684\u4efb\u4f55\u66f4\u6539\u90fd\u4f1a\u53cd\u6620\u5728\u8be5\u5f20\u91cf\u7684\u89c6\u56fe\u4e0a,\n\u9664\u975e\u4f60 `clone()` \u5b83\u3002\n\n\u786e\u5b9e\u6709\u4e00\u4e9b\u6761\u4ef6(\u8d85\u51fa\u4e86\u672c\u4ecb\u7ecd\u7684\u8303\u56f4),`reshape()` \u5fc5\u987b\u8fd4\u56de\u6570\u636e\u7684\u526f\u672c\u3002\n\u6709\u5173\u66f4\u591a\u4fe1\u606f,\u8bf7\u53c2\u9605\n[\u6587\u6863](https://pytorch.org/docs/stable/torch.html#torch.reshape)_\u3002\n\n\n"
      ]
    },
    {
      "cell_type": "markdown",
      "metadata": {},
      "source": [
        "## NumPy Bridge\n\nIn the section above on broadcasting, it was mentioned that PyTorch\u2019s\nbroadcast semantics are compatible with NumPy\u2019s - but the kinship\nbetween PyTorch and NumPy goes even deeper than that.\n\nIf you have existing ML or scientific code with data stored in NumPy\nndarrays, you may wish to express that same data as PyTorch tensors,\nwhether to take advantage of PyTorch\u2019s GPU acceleration, or its\nefficient abstractions for building ML models. It\u2019s easy to switch\nbetween ndarrays and PyTorch tensors:\n\n\n"
      ]
    },
    {
      "cell_type": "code",
      "execution_count": null,
      "metadata": {
        "collapsed": false
      },
      "outputs": [],
      "source": [
        "import numpy as np\n\nnumpy_array = np.ones((2, 3))\nprint(numpy_array)\n\npytorch_tensor = torch.from_numpy(numpy_array)\nprint(pytorch_tensor)"
      ]
    },
    {
      "cell_type": "markdown",
      "metadata": {},
      "source": [
        "PyTorch creates a tensor of the same shape and containing the same data\nas the NumPy array, going so far as to keep NumPy\u2019s default 64-bit float\ndata type.\n\nThe conversion can just as easily go the other way:\n\n\n"
      ]
    },
    {
      "cell_type": "code",
      "execution_count": null,
      "metadata": {
        "collapsed": false
      },
      "outputs": [],
      "source": [
        "pytorch_rand = torch.rand(2, 3)\nprint(pytorch_rand)\n\nnumpy_rand = pytorch_rand.numpy()\nprint(numpy_rand)"
      ]
    },
    {
      "cell_type": "markdown",
      "metadata": {},
      "source": [
        "It is important to know that these converted objects are using *the same\nunderlying memory* as their source objects, meaning that changes to one\nare reflected in the other:\n\n\n"
      ]
    },
    {
      "cell_type": "code",
      "execution_count": null,
      "metadata": {
        "collapsed": false
      },
      "outputs": [],
      "source": [
        "numpy_array[1, 1] = 23\nprint(pytorch_tensor)\n\npytorch_rand[1, 1] = 17\nprint(numpy_rand)"
      ]
    }
  ],
  "metadata": {
    "kernelspec": {
      "display_name": "Python 3",
      "language": "python",
      "name": "python3"
    },
    "language_info": {
      "codemirror_mode": {
        "name": "ipython",
        "version": 3
      },
      "file_extension": ".py",
      "mimetype": "text/x-python",
      "name": "python",
      "nbconvert_exporter": "python",
      "pygments_lexer": "ipython3",
      "version": "3.10.0"
    }
  },
  "nbformat": 4,
  "nbformat_minor": 0
}