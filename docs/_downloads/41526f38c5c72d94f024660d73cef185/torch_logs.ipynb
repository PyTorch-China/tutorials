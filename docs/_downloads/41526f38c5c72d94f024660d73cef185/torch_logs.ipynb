{
  "cells": [
    {
      "cell_type": "code",
      "execution_count": null,
      "metadata": {
        "collapsed": false
      },
      "outputs": [],
      "source": [
        "# For tips on running notebooks in Google Colab, see\n# https://pytorch.org/tutorials/beginner/colab\n%matplotlib inline"
      ]
    },
    {
      "cell_type": "markdown",
      "metadata": {},
      "source": [
        "\n# (Beta) \u4f7f\u7528 TORCH_LOGS python API \u4e0e torch.compile\n**\u4f5c\u8005:** [Michael Lazos](https://github.com/mlazos)\n"
      ]
    },
    {
      "cell_type": "code",
      "execution_count": null,
      "metadata": {
        "collapsed": false
      },
      "outputs": [],
      "source": [
        "import logging"
      ]
    },
    {
      "cell_type": "markdown",
      "metadata": {},
      "source": [
        "\u672c\u6559\u7a0b\u4ecb\u7ecd\u4e86 ``TORCH_LOGS`` \u73af\u5883\u53d8\u91cf\u4ee5\u53ca Python API,\u5e76\u6f14\u793a\u4e86\u5982\u4f55\u5c06\u5176\u5e94\u7528\u4e8e\u89c2\u5bdf ``torch.compile`` \u7684\u5404\u4e2a\u9636\u6bb5\u3002\n\n<div class=\"alert alert-info\"><h4>Note</h4><p>\u672c\u6559\u7a0b\u9700\u8981 PyTorch 2.2.0 \u6216\u66f4\u9ad8\u7248\u672c\u3002</p></div>\n\n\n\n"
      ]
    },
    {
      "cell_type": "markdown",
      "metadata": {},
      "source": [
        "## \u8bbe\u7f6e\n\u5728\u8fd9\u4e2a\u4f8b\u5b50\u4e2d,\u6211\u4eec\u5c06\u8bbe\u7f6e\u4e00\u4e2a\u7b80\u5355\u7684 Python \u51fd\u6570,\u6267\u884c\u5143\u7d20\u7ea7\u52a0\u6cd5,\u5e76\u4f7f\u7528 ``TORCH_LOGS`` Python API \u89c2\u5bdf\u7f16\u8bd1\u8fc7\u7a0b\u3002\n\n<div class=\"alert alert-info\"><h4>Note</h4><p>\u8fd8\u6709\u4e00\u4e2a\u73af\u5883\u53d8\u91cf ``TORCH_LOGS``,\u53ef\u7528\u4e8e\u5728\u547d\u4ee4\u884c\u4e2d\u66f4\u6539\u65e5\u5fd7\u8bbe\u7f6e\u3002\u6bcf\u4e2a\u793a\u4f8b\u90fd\u663e\u793a\u4e86\u7b49\u6548\u7684\u73af\u5883\u53d8\u91cf\u8bbe\u7f6e\u3002</p></div>\n\n"
      ]
    },
    {
      "cell_type": "code",
      "execution_count": null,
      "metadata": {
        "collapsed": false
      },
      "outputs": [],
      "source": [
        "import torch\n\n# \u5982\u679c\u8bbe\u5907\u4e0d\u652f\u6301 torch.compile,\u5219\u5e72\u51c0\u5730\u9000\u51fa\nif torch.cuda.get_device_capability() < (7, 0):\n    print(\"\u8df3\u8fc7,\u56e0\u4e3a\u6b64\u8bbe\u5907\u4e0d\u652f\u6301 torch.compile\u3002\")\nelse:\n\n    @torch.compile()\n    def fn(x, y):\n        z = x + y\n        return z + 2\n\n    inputs = (torch.ones(2, 2, device=\"cuda\"), torch.zeros(2, 2, device=\"cuda\"))\n\n    # \u5728\u6bcf\u4e2a\u793a\u4f8b\u4e4b\u95f4\u6253\u5370\u5206\u9694\u7b26\u5e76\u91cd\u7f6e dynamo\n    def separator(name):\n        print(f\"==================={name}=========================\")\n        torch._dynamo.reset()\n\n    separator(\"Dynamo \u8ddf\u8e2a\")\n    # \u67e5\u770b dynamo \u8ddf\u8e2a\n    # TORCH_LOGS=\"+dynamo\"\n    torch._logging.set_logs(dynamo=logging.DEBUG)\n    fn(*inputs)\n\n    separator(\"\u8ddf\u8e2a\u7684\u56fe\u5f62\")\n    # \u67e5\u770b\u8ddf\u8e2a\u7684\u56fe\u5f62\n    # TORCH_LOGS=\"graph\"\n    torch._logging.set_logs(graph=True)\n    fn(*inputs)\n\n    separator(\"\u878d\u5408\u51b3\u7b56\")\n    # \u67e5\u770b\u878d\u5408\u51b3\u7b56\n    # TORCH_LOGS=\"fusion\"\n    torch._logging.set_logs(fusion=True)\n    fn(*inputs)\n\n    separator(\"\u8f93\u51fa\u4ee3\u7801\")\n    # \u67e5\u770b inductor \u751f\u6210\u7684\u8f93\u51fa\u4ee3\u7801\n    # TORCH_LOGS=\"output_code\"\n    torch._logging.set_logs(output_code=True)\n    fn(*inputs)\n\n    separator(\"\")"
      ]
    },
    {
      "cell_type": "markdown",
      "metadata": {},
      "source": [
        "## \u7ed3\u8bba\n\n\u5728\u672c\u6559\u7a0b\u4e2d,\u6211\u4eec\u4ecb\u7ecd\u4e86 TORCH_LOGS \u73af\u5883\u53d8\u91cf\u548c python API,\u5e76\u901a\u8fc7\u5b9e\u9a8c\u4e86\u4e00\u5c0f\u90e8\u5206\u53ef\u7528\u7684\u65e5\u5fd7\u9009\u9879\u3002\n\u8981\u67e5\u770b\u6240\u6709\u53ef\u7528\u9009\u9879\u7684\u63cf\u8ff0,\u8bf7\u8fd0\u884c\u4efb\u4f55\u5bfc\u5165 torch \u7684 python \u811a\u672c,\u5e76\u5c06 TORCH_LOGS \u8bbe\u7f6e\u4e3a \"help\"\u3002\n\n\u6216\u8005,\u60a8\u53ef\u4ee5\u67e5\u770b `torch._logging \u6587\u6863`_ \u4ee5\u67e5\u770b\u6240\u6709\u53ef\u7528\u65e5\u5fd7\u9009\u9879\u7684\u63cf\u8ff0\u3002\n\n\u6709\u5173 torch.compile \u7684\u66f4\u591a\u4fe1\u606f,\u8bf7\u53c2\u9605 `torch.compile \u6559\u7a0b`_\u3002\n\n\n"
      ]
    }
  ],
  "metadata": {
    "kernelspec": {
      "display_name": "Python 3",
      "language": "python",
      "name": "python3"
    },
    "language_info": {
      "codemirror_mode": {
        "name": "ipython",
        "version": 3
      },
      "file_extension": ".py",
      "mimetype": "text/x-python",
      "name": "python",
      "nbconvert_exporter": "python",
      "pygments_lexer": "ipython3",
      "version": "3.11.9"
    }
  },
  "nbformat": 4,
  "nbformat_minor": 0
}