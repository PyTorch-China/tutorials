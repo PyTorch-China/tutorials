{
  "cells": [
    {
      "cell_type": "code",
      "execution_count": null,
      "metadata": {
        "collapsed": false
      },
      "outputs": [],
      "source": [
        "# For tips on running notebooks in Google Colab, see\n# https://pytorch.org/tutorials/beginner/colab\n%matplotlib inline"
      ]
    },
    {
      "cell_type": "markdown",
      "metadata": {},
      "source": [
        "\n# PyTorch \u5728\u4e00\u4e2a\u6587\u4ef6\u4e2d\u4fdd\u5b58\u548c\u52a0\u8f7d\u591a\u4e2a\u6a21\u578b\n\u4fdd\u5b58\u548c\u52a0\u8f7d\u591a\u4e2a\u6a21\u578b\uff0c\u53ef\u4ee5\u5e2e\u52a9\u60a8\u91cd\u7528\u4e4b\u524d\u8bad\u7ec3\u8fc7\u7684\u6a21\u578b\u3002\n\n## \u7b80\u4ecb\n\u5f53\u4fdd\u5b58\u7531\u591a\u4e2a ``torch.nn.Modules`` \u7ec4\u6210\u7684\u6a21\u578b\u65f6\uff0c\u4f8b\u5982\u751f\u6210\u5bf9\u6297\u7f51\u7edc(GAN)\u3001\u5e8f\u5217\u5230\u5e8f\u5217\u6a21\u578b\u6216\u6a21\u578b\u96c6\u5408\u65f6\uff0c\n\u60a8\u5fc5\u987b\u4fdd\u5b58\u6bcf\u4e2a\u6a21\u578b\u7684state_dict\u548c\u76f8\u5e94\u7684\u4f18\u5316\u5668\u3002\n\u60a8\u8fd8\u53ef\u4ee5\u901a\u8fc7\u7b80\u5355\u5730\u5c06\u5176\u9644\u52a0\u5230\u5b57\u5178\u4e2d\u6765\u4fdd\u5b58\u4efb\u4f55\u53ef\u80fd\u6709\u52a9\u4e8e\u6062\u590d\u8bad\u7ec3\u7684\u5176\u4ed6\u9879\u76ee\u3002\n\u8981\u52a0\u8f7d\u6a21\u578b\uff0c\u9996\u5148\u521d\u59cb\u5316\u6a21\u578b\u548c\u4f18\u5316\u5668\uff0c\u7136\u540e\u4f7f\u7528 ``torch.load()`` \u5728\u672c\u5730\u52a0\u8f7d\u5b57\u5178\u3002\n\u4ece\u8fd9\u91cc\u5f00\u59cb\uff0c\u60a8\u53ef\u4ee5\u50cf\u671f\u671b\u7684\u90a3\u6837\u7b80\u5355\u5730\u67e5\u8be2\u5b57\u5178\u6765\u8f7b\u677e\u8bbf\u95ee\u4fdd\u5b58\u7684\u9879\u76ee\u3002\n\u5728\u672c\u6559\u7a0b\u4e2d\uff0c\u6211\u4eec\u5c06\u6f14\u793a\u5982\u4f55\u4f7f\u7528PyTorch\u5728\u4e00\u4e2a\u6587\u4ef6\u4e2d\u4fdd\u5b58\u591a\u4e2a\u6a21\u578b\u3002\n\n## \u73af\u5883\u8bbe\u7f6e\n\u5728\u5f00\u59cb\u4e4b\u524d\uff0c\u5982\u679c\u5c1a\u672a\u5b89\u88c5 ``torch``\uff0c\u6211\u4eec\u9700\u8981\u5148\u5b89\u88c5\u5b83\u3002\n\n```sh\npip install torch\n```\n"
      ]
    },
    {
      "cell_type": "markdown",
      "metadata": {},
      "source": [
        "## \u5177\u4f53\u6b65\u9aa4\n1. \u5bfc\u5165\u52a0\u8f7d\u6570\u636e\u6240\u9700\u7684\u6240\u6709\u5fc5\u8981\u5e93\n2. \u5b9a\u4e49\u548c\u521d\u59cb\u5316\u795e\u7ecf\u7f51\u7edc\n3. \u521d\u59cb\u5316\u4f18\u5316\u5668\n4. \u4fdd\u5b58\u591a\u4e2a\u6a21\u578b\n5. \u52a0\u8f7d\u591a\u4e2a\u6a21\u578b\n\n### 1. \u5bfc\u5165\u52a0\u8f7d\u6570\u636e\u6240\u9700\u7684\u5fc5\u8981\u5e93\n\n\u5bf9\u4e8e\u672c\u6559\u7a0b\uff0c\u6211\u4eec\u5c06\u4f7f\u7528 ``torch`` \u53ca\u5176\u5b50\u6a21\u5757 ``torch.nn`` \u548c ``torch.optim``\u3002\n\n\n"
      ]
    },
    {
      "cell_type": "code",
      "execution_count": null,
      "metadata": {
        "collapsed": false
      },
      "outputs": [],
      "source": [
        "import torch\nimport torch.nn as nn\nimport torch.optim as optim"
      ]
    },
    {
      "cell_type": "markdown",
      "metadata": {},
      "source": [
        "### 2. \u5b9a\u4e49\u548c\u521d\u59cb\u5316\u795e\u7ecf\u7f51\u7edc\n\n\u4e3a\u4e86\u6f14\u793a\uff0c\u6211\u4eec\u5c06\u521b\u5efa\u4e00\u4e2a\u7528\u4e8e\u8bad\u7ec3\u56fe\u50cf\u7684\u795e\u7ecf\u7f51\u7edc\u3002\u8981\u4e86\u89e3\u66f4\u591a\u4fe1\u606f\uff0c\u8bf7\u53c2\u9605\u5b9a\u4e49\u795e\u7ecf\u7f51\u7edc\u7684\u6559\u7a0b\u3002\n\u6784\u5efa\u4e24\u4e2a\u53d8\u91cf\u7528\u4e8e\u6700\u7ec8\u4fdd\u5b58\u6a21\u578b\u3002\n\n\n"
      ]
    },
    {
      "cell_type": "code",
      "execution_count": null,
      "metadata": {
        "collapsed": false
      },
      "outputs": [],
      "source": [
        "class Net(nn.Module):\n    def __init__(self):\n        super(Net, self).__init__()\n        self.conv1 = nn.Conv2d(3, 6, 5)\n        self.pool = nn.MaxPool2d(2, 2)\n        self.conv2 = nn.Conv2d(6, 16, 5)\n        self.fc1 = nn.Linear(16 * 5 * 5, 120)\n        self.fc2 = nn.Linear(120, 84)\n        self.fc3 = nn.Linear(84, 10)\n\n    def forward(self, x):\n        x = self.pool(F.relu(self.conv1(x)))\n        x = self.pool(F.relu(self.conv2(x)))\n        x = x.view(-1, 16 * 5 * 5)\n        x = F.relu(self.fc1(x))\n        x = F.relu(self.fc2(x))\n        x = self.fc3(x)\n        return x\n\nnetA = Net()\nnetB = Net()"
      ]
    },
    {
      "cell_type": "markdown",
      "metadata": {},
      "source": [
        "### 3. \u521d\u59cb\u5316\u4f18\u5316\u5668\n\n\u6211\u4eec\u5c06\u4f7f\u7528 SGD \u4e3a\u6211\u4eec\u521b\u5efa\u7684\u6bcf\u4e2a\u6a21\u578b\u6784\u5efa\u4f18\u5316\u5668\u3002\n\n\n"
      ]
    },
    {
      "cell_type": "code",
      "execution_count": null,
      "metadata": {
        "collapsed": false
      },
      "outputs": [],
      "source": [
        "optimizerA = optim.SGD(netA.parameters(), lr=0.001, momentum=0.9)\noptimizerB = optim.SGD(netB.parameters(), lr=0.001, momentum=0.9)"
      ]
    },
    {
      "cell_type": "markdown",
      "metadata": {},
      "source": [
        "### 4. \u4fdd\u5b58\u591a\u4e2a\u6a21\u578b\n\n\u6536\u96c6\u6240\u6709\u76f8\u5173\u4fe1\u606f\u5e76\u6784\u5efa\u5b57\u5178\u3002\n\n\n"
      ]
    },
    {
      "cell_type": "code",
      "execution_count": null,
      "metadata": {
        "collapsed": false
      },
      "outputs": [],
      "source": [
        "# \u6307\u5b9a\u4fdd\u5b58\u8def\u5f84\nPATH = \"model.pt\"\n\ntorch.save({\n            'modelA_state_dict': netA.state_dict(),\n            'modelB_state_dict': netB.state_dict(),\n            'optimizerA_state_dict': optimizerA.state_dict(),\n            'optimizerB_state_dict': optimizerB.state_dict(),\n            }, PATH)"
      ]
    },
    {
      "cell_type": "markdown",
      "metadata": {},
      "source": [
        "### 4. \u52a0\u8f7d\u591a\u4e2a\u6a21\u578b\n\n\u8bb0\u4f4f\u9996\u5148\u521d\u59cb\u5316\u6a21\u578b\u548c\u4f18\u5316\u5668\uff0c\u7136\u540e\u5728\u672c\u5730\u52a0\u8f7d\u5b57\u5178\u3002\n\n\n"
      ]
    },
    {
      "cell_type": "code",
      "execution_count": null,
      "metadata": {
        "collapsed": false
      },
      "outputs": [],
      "source": [
        "modelA = Net()\nmodelB = Net()\noptimModelA = optim.SGD(modelA.parameters(), lr=0.001, momentum=0.9)\noptimModelB = optim.SGD(modelB.parameters(), lr=0.001, momentum=0.9)\n\ncheckpoint = torch.load(PATH)\nmodelA.load_state_dict(checkpoint['modelA_state_dict'])\nmodelB.load_state_dict(checkpoint['modelB_state_dict'])\noptimizerA.load_state_dict(checkpoint['optimizerA_state_dict'])\noptimizerB.load_state_dict(checkpoint['optimizerB_state_dict'])\n\nmodelA.eval()\nmodelB.eval()\n# - or -\nmodelA.train()\nmodelB.train()"
      ]
    },
    {
      "cell_type": "markdown",
      "metadata": {},
      "source": [
        "\u5728\u8fd0\u884c\u63a8\u7406\u4e4b\u524d\uff0c\u60a8\u5fc5\u987b\u8c03\u7528 ``model.eval()`` \u5c06 dropout \u548c batch normalization \u5c42\u8bbe\u7f6e\u4e3a\u8bc4\u4f30\u6a21\u5f0f\u3002\n\u5426\u5219\u5c06\u5bfc\u81f4\u63a8\u7406\u7ed3\u679c\u4e0d\u4e00\u81f4\u3002\n\n\u5982\u679c\u60a8\u5e0c\u671b\u6062\u590d\u8bad\u7ec3\uff0c\u8bf7\u8c03\u7528 ``model.train()`` \u4ee5\u786e\u4fdd\u8fd9\u4e9b\u5c42\u5904\u4e8e\u8bad\u7ec3\u6a21\u5f0f\u3002\n\n\u795d\u8d3a\u60a8\uff01\u60a8\u5df2\u7ecf\u6210\u529f\u5730\u5728PyTorch\u4e2d\u4fdd\u5b58\u548c\u52a0\u8f7d\u4e86\u591a\u4e2a\u6a21\u578b\u3002\n\n"
      ]
    }
  ],
  "metadata": {
    "kernelspec": {
      "display_name": "Python 3",
      "language": "python",
      "name": "python3"
    },
    "language_info": {
      "codemirror_mode": {
        "name": "ipython",
        "version": 3
      },
      "file_extension": ".py",
      "mimetype": "text/x-python",
      "name": "python",
      "nbconvert_exporter": "python",
      "pygments_lexer": "ipython3",
      "version": "3.11.9"
    }
  },
  "nbformat": 4,
  "nbformat_minor": 0
}