{
  "cells": [
    {
      "cell_type": "code",
      "execution_count": null,
      "metadata": {
        "collapsed": false
      },
      "outputs": [],
      "source": [
        "# For tips on running notebooks in Google Colab, see\n# https://pytorch.org/tutorials/beginner/colab\n%matplotlib inline"
      ]
    },
    {
      "cell_type": "markdown",
      "metadata": {},
      "source": [
        "\n[\u57fa\u7840\u77e5\u8bc6](intro.html) ||\n[\u5feb\u901f\u5165\u95e8](quickstart_tutorial.html) ||\n[\u5f20\u91cf](tensorqs_tutorial.html) ||\n[\u6570\u636e\u96c6\u4e0e\u6570\u636e\u52a0\u8f7d\u5668](data_tutorial.html) ||\n[Transforms](transforms_tutorial.html) ||\n[\u6784\u5efa\u795e\u7ecf\u7f51\u7edc](buildmodel_tutorial.html) ||\n[\u81ea\u52a8\u5fae\u5206](autogradqs_tutorial.html) ||\n[\u4f18\u5316\u6a21\u578b\u53c2\u6570](optimization_tutorial.html) ||\n**\u4fdd\u5b58\u548c\u52a0\u8f7d\u6a21\u578b**\n\n# \u4fdd\u5b58\u548c\u52a0\u8f7d\u6a21\u578b\n\n\u5728\u672c\u8282\u4e2d\uff0c\u6211\u4eec\u5c06\u5b66\u4e60\u5982\u4f55\u901a\u8fc7\u4fdd\u5b58\u3001\u52a0\u8f7d\u4ee5\u53ca\u8fd0\u884c\u6a21\u578b\u9884\u6d4b\uff0c\u6765\u6301\u4e45\u5316\u6a21\u578b\u3002\n"
      ]
    },
    {
      "cell_type": "code",
      "execution_count": null,
      "metadata": {
        "collapsed": false
      },
      "outputs": [],
      "source": [
        "import torch\nimport torchvision.models as models"
      ]
    },
    {
      "cell_type": "markdown",
      "metadata": {},
      "source": [
        "## \u4fdd\u5b58\u548c\u52a0\u8f7d\u6a21\u578b\u6743\u91cd\nPyTorch\u6a21\u578b\u5c06\u5b66\u4e60\u5230\u7684\u53c2\u6570\u5b58\u50a8\u5728\u4e00\u4e2a\u5185\u90e8\u72b6\u6001\u5b57\u5178\u4e2d\uff0c\u79f0\u4e3a``state_dict``\u3002\u8fd9\u4e9b\u53c2\u6570\u53ef\u4ee5\u901a\u8fc7``torch.save``\u8fdb\u884c\u6301\u4e45\u5316\u3002\n\u65b9\u6cd5:\n\n"
      ]
    },
    {
      "cell_type": "code",
      "execution_count": null,
      "metadata": {
        "collapsed": false
      },
      "outputs": [],
      "source": [
        "model = models.vgg16(weights='IMAGENET1K_V1')\ntorch.save(model.state_dict(), 'model_weights.pth')"
      ]
    },
    {
      "cell_type": "markdown",
      "metadata": {},
      "source": [
        "\u8981\u52a0\u8f7d\u6a21\u578b\u6743\u91cd\uff0c\u60a8\u9700\u8981\u5148\u521b\u5efa\u4e00\u4e2a\u76f8\u540c\u6a21\u578b\u7684\u5b9e\u4f8b\uff0c\u7136\u540e\u4f7f\u7528``load_state_dict()``\u65b9\u6cd5\u52a0\u8f7d\u53c2\u6570\u3002\n\n"
      ]
    },
    {
      "cell_type": "code",
      "execution_count": null,
      "metadata": {
        "collapsed": false
      },
      "outputs": [],
      "source": [
        "model = models.vgg16() # we do not specify ``weights``, i.e. create untrained model\nmodel.load_state_dict(torch.load('model_weights.pth'))\nmodel.eval()"
      ]
    },
    {
      "cell_type": "markdown",
      "metadata": {},
      "source": [
        "\u3002\u3002 \u6ce8\u610f:: \u5728\u8fdb\u884c\u63a8\u7406\u4e4b\u524d\uff0c\u8bf7\u786e\u4fdd\u8c03\u7528``model.eval()``\u65b9\u6cd5\u4ee5\u5c06 dropout \u548c batch normalization layers\u8bbe\u7f6e\u4e3a\u8bc4\u4f30\u6a21\u5f0f\u3002\u5982\u679c\u4e0d\u8fd9\u6837\u505a\uff0c\u5c06\u5bfc\u81f4\u4e0d\u4e00\u81f4\u7684\u63a8\u7406\u7ed3\u679c\u3002\n\n"
      ]
    },
    {
      "cell_type": "markdown",
      "metadata": {},
      "source": [
        "## \u4fdd\u5b58\u548c\u52a0\u8f7d\u5e26\u6709\u7ed3\u6784\u7684\u6a21\u578b\n\u5728\u52a0\u8f7d\u6a21\u578b\u6743\u91cd\u65f6\uff0c\u6211\u4eec\u9700\u8981\u5148\u5b9e\u4f8b\u5316\u6a21\u578b\u7c7b\uff0c\u56e0\u4e3a\u7c7b\u5b9a\u4e49\u4e86\u7f51\u7edc\u7684\u7ed3\u6784\u3002\u6211\u4eec\u53ef\u80fd\u5e0c\u671b\u5c06\u8fd9\u4e2a\u7c7b\u7684\u7ed3\u6784\u4e0e\u6a21\u578b\u4e00\u8d77\u4fdd\u5b58\uff0c\n\u5728\u8fd9\u79cd\u60c5\u51b5\u4e0b\uff0c\u6211\u4eec\u53ef\u4ee5\u5c06``model``\uff08\u800c\u4e0d\u662f``model.state_dict()``\uff09\u4f20\u9012\u7ed9 save \u51fd\u6570\uff1a\n\n"
      ]
    },
    {
      "cell_type": "code",
      "execution_count": null,
      "metadata": {
        "collapsed": false
      },
      "outputs": [],
      "source": [
        "torch.save(model, 'model.pth')"
      ]
    },
    {
      "cell_type": "markdown",
      "metadata": {},
      "source": [
        "\u6211\u4eec\u53ef\u4ee5\u4f7f\u7528\u5982\u4e0b\u65b9\u5f0f\u52a0\u8f7d\u6a21\u578b: \n\n"
      ]
    },
    {
      "cell_type": "code",
      "execution_count": null,
      "metadata": {
        "collapsed": false
      },
      "outputs": [],
      "source": [
        "model = torch.load('model.pth')"
      ]
    },
    {
      "cell_type": "markdown",
      "metadata": {},
      "source": [
        ".. \u6ce8\u610f:: \u8fd9\u79cd\u65b9\u6cd5\u5728\u5e8f\u5217\u5316\u6a21\u578b\u65f6\u4f7f\u7528 Python \u7684 [pickle](https://docs.python.org/3/library/pickle.html)\u6a21\u5757\uff0c\u56e0\u6b64\u5728\u52a0\u8f7d\u6a21\u578b\u65f6\u9700\u8981\u4f9d\u8d56\u5b9e\u9645\u7684\u7c7b\u5b9a\u4e49\u3002\n\n"
      ]
    },
    {
      "cell_type": "markdown",
      "metadata": {},
      "source": [
        "## \u76f8\u5173\u6559\u7a0b\n- [PyTorch \u4e2d\u4fdd\u5b58\u548c\u52a0\u8f7d\u901a\u7528Checkpoint](https://pytorch.org/tutorials/recipes/recipes/saving_and_loading_a_general_checkpoint.html)\n- [\u4ece checkpoint \u52a0\u8f7d nn.Module \u7684\u5b9e\u7528\u6280\u5de7](https://pytorch.org/tutorials/recipes/recipes/module_load_state_dict_tips.html?highlight=loading%20nn%20module%20from%20checkpoint)\n\n"
      ]
    }
  ],
  "metadata": {
    "kernelspec": {
      "display_name": "Python 3",
      "language": "python",
      "name": "python3"
    },
    "language_info": {
      "codemirror_mode": {
        "name": "ipython",
        "version": 3
      },
      "file_extension": ".py",
      "mimetype": "text/x-python",
      "name": "python",
      "nbconvert_exporter": "python",
      "pygments_lexer": "ipython3",
      "version": "3.11.9"
    }
  },
  "nbformat": 4,
  "nbformat_minor": 0
}