{
  "cells": [
    {
      "cell_type": "code",
      "execution_count": null,
      "metadata": {
        "collapsed": false
      },
      "outputs": [],
      "source": [
        "# For tips on running notebooks in Google Colab, see\n# https://pytorch.org/tutorials/beginner/colab\n%matplotlib inline"
      ]
    },
    {
      "cell_type": "markdown",
      "metadata": {},
      "source": [
        "\n# \u4ece\u68c0\u67e5\u70b9\u52a0\u8f7d ``nn.Module`` \u7684\u6280\u5de7\n**\u4f5c\u8005:** [Mikayla Gawarecki](https://github.com/mikaylagawarecki)\n\n\u5982\u679c\u4f60\u8981\u52a0\u8f7d\u4e00\u4e2a\u68c0\u67e5\u70b9\u5e76\u5e0c\u671b\u5c3d\u53ef\u80fd\u51cf\u5c11\u8ba1\u7b97\u548c\u5185\u5b58\u7684\u4f7f\u7528\uff0c\u672c\u6559\u7a0b\u5c06\u5206\u4eab\u4e00\u4e9b\u63a8\u8350\u7684\u505a\u6cd5\u3002\u7279\u522b\u662f\u6211\u4eec\u5c06\u8ba8\u8bba\u4ee5\u4e0b\u51e0\u70b9:\n\n1. ``torch.load`` \u4e2d\u7684 ``mmap`` \u5173\u952e\u5b57\u53c2\u6570\n2. ``torch.device()`` \u4e0a\u4e0b\u6587\u7ba1\u7406\u5668\n3. ``nn.Module.load_state_dict()`` \u4e2d\u7684 ``assign`` \u5173\u952e\u5b57\u53c2\u6570\n\n<div class=\"alert alert-info\"><h4>Note</h4><p>\u672c\u6559\u7a0b\u9700\u8981 PyTorch 2.1.0 \u6216\u66f4\u9ad8\u7248\u672c\u3002</p></div>\n"
      ]
    },
    {
      "cell_type": "code",
      "execution_count": null,
      "metadata": {
        "collapsed": false
      },
      "outputs": [],
      "source": [
        "import time"
      ]
    },
    {
      "cell_type": "markdown",
      "metadata": {},
      "source": [
        "\u8ba9\u6211\u4eec\u8003\u8651\u4e00\u4e2a\u7b80\u5355\u7684 ``nn.Module``\uff0c\u5b83\u5305\u542b\u4e00\u4e2a\u7ebf\u6027\u5c42\u5217\u8868:\n\n"
      ]
    },
    {
      "cell_type": "code",
      "execution_count": null,
      "metadata": {
        "collapsed": false
      },
      "outputs": [],
      "source": [
        "import torch\nfrom torch import nn\n\n\nclass SomeModule(torch.nn.Module):\n    def __init__(self, size):\n        super().__init__()\n        self.linears = nn.ModuleList([nn.Linear(size, size) for i in range(10)])\n\n    def forward(self, x):\n        return self.linears(x)\n\n\nm = SomeModule(1000)\ntorch.save(m.state_dict(), \"checkpoint.pth\")"
      ]
    },
    {
      "cell_type": "markdown",
      "metadata": {},
      "source": [
        "\u4ee5\u4e0b\u4ee3\u7801\u7247\u6bb5\u6f14\u793a\u4e86\u5982\u4f55\u4f7f\u7528 ``torch.load`` \u4e2d\u7684 ``mmap`` \u5173\u952e\u5b57\u53c2\u6570\u3001``torch.device()`` \u4e0a\u4e0b\u6587\u7ba1\u7406\u5668\u548c ``nn.Module.load_state_dict()`` \u4e2d\u7684 ``assign`` \u5173\u952e\u5b57\u53c2\u6570\u3002\n\n"
      ]
    },
    {
      "cell_type": "code",
      "execution_count": null,
      "metadata": {
        "collapsed": false
      },
      "outputs": [],
      "source": [
        "state_dict = torch.load(\"checkpoint.pth\", mmap=True)\nwith torch.device(\"meta\"):\n    meta_m = SomeModule(1000)\nmeta_m.load_state_dict(state_dict, assign=True)"
      ]
    },
    {
      "cell_type": "markdown",
      "metadata": {},
      "source": [
        "\u5c06\u4e0b\u9762\u7684\u4ee3\u7801\u7247\u6bb5\u4e0e\u4e0a\u9762\u7684\u8fdb\u884c\u6bd4\u8f83:\n\n"
      ]
    },
    {
      "cell_type": "code",
      "execution_count": null,
      "metadata": {
        "collapsed": false
      },
      "outputs": [],
      "source": [
        "state_dict = torch.load(\"checkpoint.pth\")\nm = SomeModule(1000)\nm.load_state_dict(state_dict)"
      ]
    },
    {
      "cell_type": "markdown",
      "metadata": {},
      "source": [
        "\u7b2c\u4e8c\u4e2a\u793a\u4f8b\u6ca1\u6709\u4f7f\u7528\u4e0a\u9762\u5217\u51fa\u7684\u4efb\u4f55\u7279\u6027\uff0c\u56e0\u6b64\u5728\u52a0\u8f7d\u68c0\u67e5\u70b9\u65f6\u8ba1\u7b97\u548c\u5185\u5b58\u6548\u7387\u4f1a\u8f83\u4f4e\u3002\u5728\u4e0b\u9762\u7684\u90e8\u5206\u4e2d\uff0c\u6211\u4eec\u5c06\u8be6\u7ec6\u8ba8\u8bba\u6bcf\u4e2a\u7279\u6027\u3002\n\n"
      ]
    },
    {
      "cell_type": "markdown",
      "metadata": {},
      "source": [
        "## \u4f7f\u7528 ``torch.load(mmap=True)``\n\u9996\u5148\uff0c\u8ba9\u6211\u4eec\u8003\u8651\u4f7f\u7528 ``torch.load`` \u52a0\u8f7d\u68c0\u67e5\u70b9\u65f6\u4f1a\u53d1\u751f\u4ec0\u4e48\u3002\n\u5f53\u6211\u4eec\u4f7f\u7528 ``torch.save`` \u4fdd\u5b58\u68c0\u67e5\u70b9\u65f6\uff0c\u5f20\u91cf\u5b58\u50a8\u4f1a\u88ab\u6807\u8bb0\u4e3a\u4fdd\u5b58\u65f6\u6240\u5728\u7684\u8bbe\u5907\u3002\n\u4f7f\u7528 ``torch.load`` \u65f6\uff0c\u5f20\u91cf\u5b58\u50a8\u5c06\u88ab\u52a0\u8f7d\u5230\u5b83\u4eec\u88ab\u6807\u8bb0\u7684\u8bbe\u5907\u4e0a(\u9664\u975e\u4f7f\u7528 ``map_location`` \u6807\u5fd7\u8986\u76d6\u6b64\u884c\u4e3a)\u3002\n\u4e3a\u4e86\u89e3\u91ca\u65b9\u4fbf\uff0c\u6211\u4eec\u5047\u8bbe\u5f20\u91cf\u662f\u4fdd\u5b58\u5728 CPU \u4e0a\u7684\u3002\u8fd9\u610f\u5473\u7740\u5728\u7b2c\u4e00\u884c\u4e2d\uff0c\u6240\u6709\u5f20\u91cf\u5b58\u50a8\u5c06\u88ab\u52a0\u8f7d\u5230 CPU \u5185\u5b58\u4e2d\uff0c\u5728\u4ee5\u4e0b\u60c5\u51b5\u4e0b\u8fd9\u662f\u4e0d\u53ef\u53d6\u7684:\n\n"
      ]
    },
    {
      "cell_type": "code",
      "execution_count": null,
      "metadata": {
        "collapsed": false
      },
      "outputs": [],
      "source": [
        "# * CPU \u5185\u5b58\u5c0f\u4e8e\u68c0\u67e5\u70b9\u7684\u5927\u5c0f\u3002\n# * \u5728\u6267\u884c\u4e00\u4e9b\u6bcf\u5f20\u91cf\u5904\u7406\u4e4b\u524d\u7b49\u5f85\u6574\u4e2a\u68c0\u67e5\u70b9\u88ab\u52a0\u8f7d\u5230\u5185\u5b58\u4e2d\u3002\n\nstart_time = time.time()\nstate_dict = torch.load(\"checkpoint.pth\")\nend_time = time.time()\nprint(f\"\u4e0d\u4f7f\u7528 mmap \u7684\u52a0\u8f7d\u65f6\u95f4={end_time - start_time}\")"
      ]
    },
    {
      "cell_type": "markdown",
      "metadata": {},
      "source": [
        "``torch.load`` \u4e2d\u7684 ``mmap`` \u5173\u952e\u5b57\u53c2\u6570\u8bd5\u56fe\u89e3\u51b3\u4e0a\u8ff0\u4e24\u4e2a\u95ee\u9898\u3002\n\u987e\u540d\u601d\u4e49\uff0c``torch.load`` \u4e2d\u7684 ``mmap`` \u5173\u952e\u5b57\u53c2\u6570\u4f7f\u7528\u4e86 [mmap \u8c03\u7528](https://man7.org/linux/man-pages/man2/mmap.2.html),\n\u5b83\u5c06\u78c1\u76d8\u4e0a\u7684\u6587\u4ef6\u6620\u5c04\u5230\u865a\u62df\u5185\u5b58\u4e2d,\u5e76\u8ba9\u64cd\u4f5c\u7cfb\u7edf\u81ea\u52a8\u5904\u7406\u52a0\u8f7d\u548c\u5378\u8f7d\u5230\u7269\u7406\u5185\u5b58\u3002\n\u5f53\u4f20\u9012\u6b64\u6807\u5fd7\u65f6,\u5f20\u91cf\u5b58\u50a8\u5c06\u88ab\u5185\u5b58\u6620\u5c04\u3002\n\n"
      ]
    },
    {
      "cell_type": "code",
      "execution_count": null,
      "metadata": {
        "collapsed": false
      },
      "outputs": [],
      "source": [
        "start_time = time.time()\nstate_dict = torch.load(\"checkpoint.pth\", mmap=True)\nend_time = time.time()\nprint(f\"\u4f7f\u7528 mmap \u7684\u52a0\u8f7d\u65f6\u95f4={end_time - start_time}\")"
      ]
    },
    {
      "cell_type": "markdown",
      "metadata": {},
      "source": [
        "\u5982\u4e0a\u6240\u8ff0,\u53ef\u4ee5\u4f7f\u7528\u6b64\u53c2\u6570\u5728\u4e0d\u5c06\u6240\u6709\u5f20\u91cf\u5b58\u50a8\u52a0\u8f7d\u5230 CPU \u5185\u5b58\u4e2d\u7684\u60c5\u51b5\u4e0b\u5bf9\u68c0\u67e5\u70b9\u6267\u884c\u6bcf\u5f20\u91cf\u5904\u7406\u3002\u4f8b\u5982:\n\n"
      ]
    },
    {
      "cell_type": "code",
      "execution_count": null,
      "metadata": {
        "collapsed": false
      },
      "outputs": [],
      "source": [
        "def my_special_routine(t, device):\n    # \u8fd9\u53ef\u80fd\u662f\u4e00\u4e2a\u66f4\u590d\u6742\u7684\u64cd\u4f5c\n    return t.to(dtype=torch.bfloat16, device=device)\n\n\ndef my_processing_function(key, device):\n    t = state_dict[key]\n    processed_t = my_special_routine(t, device)\n    del t\n    state_dict[key] = processed_t\n\n\nfor key in state_dict.keys():\n    device = torch.device(\"cuda\")\n    my_processing_function(key, device)"
      ]
    },
    {
      "cell_type": "markdown",
      "metadata": {},
      "source": [
        "## \u4f7f\u7528 ``torch.device('meta')``\n\u63a5\u4e0b\u6765,\u8ba9\u6211\u4eec\u8003\u8651\u6a21\u5757\u7684\u521b\u5efa\u3002\n\n"
      ]
    },
    {
      "cell_type": "code",
      "execution_count": null,
      "metadata": {
        "collapsed": false
      },
      "outputs": [],
      "source": [
        "m = SomeModule(1000)"
      ]
    },
    {
      "cell_type": "markdown",
      "metadata": {},
      "source": [
        "\u8fd9\u5c06\u4e3a\u6240\u6709\u53c2\u6570/\u7f13\u51b2\u533a\u5206\u914d\u5185\u5b58\u5e76\u6839\u636e ``SomeModule.__init__()`` \u4e2d\u5b9a\u4e49\u7684\u9ed8\u8ba4\u521d\u59cb\u5316\u65b9\u6848\u5bf9\u5176\u8fdb\u884c\u521d\u59cb\u5316,\n\u5f53\u6211\u4eec\u60f3\u8981\u52a0\u8f7d\u68c0\u67e5\u70b9\u65f6,\u8fd9\u662f\u6d6a\u8d39\u7684,\u539f\u56e0\u5982\u4e0b:\n\n"
      ]
    },
    {
      "cell_type": "code",
      "execution_count": null,
      "metadata": {
        "collapsed": false
      },
      "outputs": [],
      "source": [
        "# * \u521d\u59cb\u5316\u5185\u6838\u7684\u7ed3\u679c\u5c06\u88ab ``load_state_dict()`` \u8986\u76d6\u800c\u4ece\u672a\u88ab\u4f7f\u7528,\u56e0\u6b64\u521d\u59cb\u5316\u662f\u6d6a\u8d39\u7684\u3002\n# * \u6211\u4eec\u5728 RAM \u4e2d\u4e3a\u8fd9\u4e9b\u53c2\u6570/\u7f13\u51b2\u533a\u5206\u914d\u4e86\u5185\u5b58,\u800c ``torch.load`` \u4fdd\u5b58\u7684\u72b6\u6001\u5b57\u5178\u4e5f\u5728 RAM \u4e2d\u4e3a\u68c0\u67e5\u70b9\u4e2d\u7684\u53c2\u6570/\u7f13\u51b2\u533a\u5206\u914d\u4e86\u5185\u5b58\u3002\n\n# \u4e3a\u4e86\u89e3\u51b3\u8fd9\u4e24\u4e2a\u95ee\u9898,\u6211\u4eec\u53ef\u4ee5\u5728\u5b9e\u4f8b\u5316 ``nn.Module()`` \u65f6\u4f7f\u7528 ``device='meta'`` \u7684 ``torch.device()`` \u4e0a\u4e0b\u6587\u7ba1\u7406\u5668\u3002\n\n# `torch.device() <https://pytorch.org/docs/main/tensor_attributes.html#torch-device>`_\n# \u4e0a\u4e0b\u6587\u7ba1\u7406\u5668\u786e\u4fdd\u5de5\u5382\u8c03\u7528\u5c06\u88ab\u89c6\u4e3a\u4f20\u9012\u4e86\u6307\u5b9a\u7684 ``device`` \u4f5c\u4e3a\u53c2\u6570\u3002\n# \u5728 ``torch.device('meta')`` \u4e0a\u7684\u5f20\u91cf\u4e0d\u643a\u5e26\u6570\u636e\u3002\n# \u4f46\u662f,\u5b83\u4eec\u5177\u6709\u5f20\u91cf\u6240\u643a\u5e26\u7684\u5176\u4ed6\u5143\u6570\u636e,\u5982 ``.size()``, ``.stride()``, ``.requires_grad`` \u7b49\u3002\nwith torch.device(\"meta\"):\n    new_m = SomeModule(1000)"
      ]
    },
    {
      "cell_type": "markdown",
      "metadata": {},
      "source": [
        "## \u4f7f\u7528 ``load_state_dict(assign=True)``\n\u63a5\u4e0b\u6765,\u6211\u4eec\u8003\u8651\u52a0\u8f7d\u72b6\u6001\u5b57\u5178\u3002\n\n"
      ]
    },
    {
      "cell_type": "code",
      "execution_count": null,
      "metadata": {
        "collapsed": false
      },
      "outputs": [],
      "source": [
        "m.load_state_dict(state_dict)"
      ]
    },
    {
      "cell_type": "markdown",
      "metadata": {},
      "source": [
        "``nn.Module.load_state_dict()`` \u901a\u5e38\u662f\u901a\u8fc7 ``param_in_model.copy_(param_in_state_dict)`` \u7684\u5c31\u5730\u590d\u5236\u5b9e\u73b0\u7684\u3002\n\u8fd9\u610f\u5473\u7740\u72b6\u6001\u5b57\u5178\u4e2d\u5bf9\u5e94\u952e\u7684\u53c2\u6570/\u7f13\u51b2\u533a\u5c06\u88ab\u590d\u5236\u5230 ``nn.Module`` \u4e2d\u7684\u53c2\u6570/\u7f13\u51b2\u533a\u3002\n\n"
      ]
    },
    {
      "cell_type": "code",
      "execution_count": null,
      "metadata": {
        "collapsed": false
      },
      "outputs": [],
      "source": [
        "# \u7136\u800c,\u5bf9 ``meta`` \u8bbe\u5907\u4e0a\u7684\u5f20\u91cf\u8fdb\u884c\u5c31\u5730\u590d\u5236\u662f\u65e0\u64cd\u4f5c\u7684\u3002\n# \u4e3a\u4e86\u907f\u514d\u8fd9\u79cd\u60c5\u51b5,\u6211\u4eec\u53ef\u4ee5\u5728 ``load_state_dict()`` \u4e2d\u4f20\u9012 ``assign=True`` \u5173\u952e\u5b57\u53c2\u6570\u3002\n\n# \u8fd9\u91cc\u7684\u4e00\u4e2a\u8b66\u544a\u662f,\u7531\u4e8e\u4f18\u5316\u5668\u6301\u6709\u5bf9 ``nn.Module.parameters()`` \u7684\u5f15\u7528,\n# \u5982\u679c\u4f20\u9012\u4e86 ``assign=True``,\u5219\u5fc5\u987b\u5728\u4ece\u72b6\u6001\u5b57\u5178\u52a0\u8f7d\u6a21\u5757\u540e\u521d\u59cb\u5316\u4f18\u5316\u5668\u3002\n\n# \u4ece PyTorch 2.3.0 \u5f00\u59cb,\u53ef\u4ee5\u4f7f\u7528 ``torch.__future__.set_swap_module_params_on_conversion`` \u6765\u907f\u514d\u8fd9\u4e2a\u8b66\u544a\u3002\n# \u8fd9\u4e2a `\u6559\u7a0b <https://pytorch.org/tutorials/recipes/recipes/swap_tensors.html>`_ \u63d0\u4f9b\u4e86\u66f4\u591a\u7ec6\u8282\u3002\n\nnew_m.load_state_dict(state_dict, assign=True)\n# \u5728 2.3.0 \u4e4b\u524d,\u8fd9\u4e00\u6b65\u5fc5\u987b\u5728 load_state_dict \u4f7f\u7528 assign \u4e4b\u540e\u5b8c\u6210\u3002\n# \u5728\u7248\u672c >= 2.3.0 \u4e2d,\u53ef\u4ee5\u8003\u8651\u8bbe\u7f6e ``torch.__future__.set_swap_module_params_on_conversion``\nopt = torch.optim.SGD(new_m.parameters(), lr=1e-3)"
      ]
    },
    {
      "cell_type": "markdown",
      "metadata": {},
      "source": [
        "## \u7ed3\u8bba\n\n\u603b\u7ed3\u4e00\u4e0b,\u5728\u672c\u6559\u7a0b\u4e2d,\u6211\u4eec\u5b66\u4e60\u4e86 ``torch.load(mmap=True)``\u3001``device='meta'`` \u7684 ``torch.device()`` \u4e0a\u4e0b\u6587\u7ba1\u7406\u5668\u548c ``nn.Module.load_state_dict(assign=True)``\n\u4ee5\u53ca\u5982\u4f55\u5728\u4ece\u68c0\u67e5\u70b9\u52a0\u8f7d\u6a21\u578b\u65f6\u4f7f\u7528\u8fd9\u4e9b\u5de5\u5177\u6765\u63d0\u9ad8\u6548\u7387\u3002\n\n"
      ]
    }
  ],
  "metadata": {
    "kernelspec": {
      "display_name": "Python 3",
      "language": "python",
      "name": "python3"
    },
    "language_info": {
      "codemirror_mode": {
        "name": "ipython",
        "version": 3
      },
      "file_extension": ".py",
      "mimetype": "text/x-python",
      "name": "python",
      "nbconvert_exporter": "python",
      "pygments_lexer": "ipython3",
      "version": "3.10.0"
    }
  },
  "nbformat": 4,
  "nbformat_minor": 0
}