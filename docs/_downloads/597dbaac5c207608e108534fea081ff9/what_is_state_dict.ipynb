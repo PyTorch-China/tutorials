{
  "cells": [
    {
      "cell_type": "code",
      "execution_count": null,
      "metadata": {
        "collapsed": false
      },
      "outputs": [],
      "source": [
        "# For tips on running notebooks in Google Colab, see\n# https://pytorch.org/tutorials/beginner/colab\n%matplotlib inline"
      ]
    },
    {
      "cell_type": "markdown",
      "metadata": {},
      "source": [
        "\n# PyTorch \u4e2d state_dict \u662f\u4ec0\u4e48\n\u5728 PyTorch \u4e2d,\u4e00\u4e2a ``torch.nn.Module`` \u6a21\u578b\u7684\u53ef\u5b66\u4e60\u53c2\u6570(\u5373\u6743\u91cd\u548c\u504f\u7f6e)\u5305\u542b\u5728\u6a21\u578b\u7684\u53c2\u6570\u4e2d\n(\u901a\u8fc7 ``model.parameters()`` \u8bbf\u95ee)\u3002``state_dict`` \u53ea\u662f\u4e00\u4e2a Python \u5b57\u5178\u5bf9\u8c61,\u5b83\u5c06\u6bcf\u4e00\u5c42\u6620\u5c04\u5230\u5176\u53c2\u6570\u5f20\u91cf\u3002\n\n## \u4ecb\u7ecd\n\u5982\u679c\u4f7f\u7528 PyTorch \u4fdd\u5b58\u6216\u52a0\u8f7d\u6a21\u578b,``state_dict`` \u5c31\u662f\u4e00\u4e2a\u4e0d\u53ef\u6216\u7f3a\u7684\u5b9e\u4f53\u3002\n\u7531\u4e8e ``state_dict`` \u5bf9\u8c61\u662f Python \u5b57\u5178,\u5b83\u4eec\u53ef\u4ee5\u5f88\u5bb9\u6613\u5730\u88ab\u4fdd\u5b58\u3001\u66f4\u65b0\u3001\u4fee\u6539\u548c\u6062\u590d,\u4f7f PyTorch \u6a21\u578b\u548c\u4f18\u5316\u5668\u66f4\u597d\u7684\u505a\u5230\u4e86\u6a21\u5757\u5316\u3002\n\u8bf7\u6ce8\u610f,\u53ea\u6709\u5177\u6709\u53ef\u5b66\u4e60\u53c2\u6570\u7684\u5c42(\u5377\u79ef\u5c42\u3001\u7ebf\u6027\u5c42\u7b49)\u548c\u5df2\u6ce8\u518c\u7684\u7f13\u51b2\u533a(BatchNorm running_mean)\u5728\u6a21\u578b\u7684 ``state_dict`` \u4e2d\u6709\u6761\u76ee\u3002\n\u4f18\u5316\u5668\u5bf9\u8c61(``torch.optim``)\u4e5f\u6709\u4e00\u4e2a ``state_dict``,\u5b83\u5305\u542b\u4e86\u4f18\u5316\u5668\u72b6\u6001\u7684\u4fe1\u606f,\u4ee5\u53ca\u4f7f\u7528\u7684\u8d85\u53c2\u6570\u3002\n\u5728\u672c\u6559\u7a0b\u4e2d,\u6211\u4eec\u5c06\u770b\u5230\u5982\u4f55\u5728\u4e00\u4e2a\u7b80\u5355\u7684\u6a21\u578b\u4e2d ``state_dict`` \u662f\u5982\u4f55\u4f7f\u7528\u7684\u3002\n\n## \u73af\u5883\u8bbe\u7f6e\n\u5728\u5f00\u59cb\u4e4b\u524d,\u5982\u679c\u8fd8\u6ca1\u6709\u5b89\u88c5 ``torch``,\u6211\u4eec\u9700\u8981\u5148\u5b89\u88c5\u5b83\u3002\n\n# PyTorch \u4e2d\u7684 state_dict \u662f\u4ec0\u4e48\n\u5728 PyTorch \u4e2d,\u4e00\u4e2a ``torch.nn.Module`` \u6a21\u578b\u7684\u53ef\u5b66\u4e60\u53c2\u6570(\u5373\u6743\u91cd\u548c\u504f\u7f6e)\u5305\u542b\u5728\u6a21\u578b\u7684\u53c2\u6570\u4e2d\n(\u901a\u8fc7 ``model.parameters()`` \u8bbf\u95ee)\u3002``state_dict`` \u53ea\u662f\u4e00\u4e2a Python \u5b57\u5178\u5bf9\u8c61,\u5b83\u5c06\u6bcf\u4e00\u5c42\u6620\u5c04\u5230\u5176\u53c2\u6570\u5f20\u91cf\u3002\n\n## \u4ecb\u7ecd\n\u5982\u679c\u4f7f\u7528 PyTorch \u4fdd\u5b58\u6216\u52a0\u8f7d\u6a21\u578b,``state_dict`` \u5c31\u662f\u4e00\u4e2a\u4e0d\u53ef\u6216\u7f3a\u7684\u5b9e\u4f53\u3002\n\u7531\u4e8e ``state_dict`` \u5bf9\u8c61\u662f Python \u5b57\u5178,\u5b83\u4eec\u53ef\u4ee5\u5f88\u5bb9\u6613\u5730\u88ab\u4fdd\u5b58\u3001\u66f4\u65b0\u3001\u4fee\u6539\u548c\u6062\u590d,\u4f7f PyTorch \u6a21\u578b\u548c\u4f18\u5316\u5668\u66f4\u597d\u7684\u505a\u5230\u4e86\u6a21\u5757\u5316\u3002\n\u8bf7\u6ce8\u610f,\u53ea\u6709\u5177\u6709\u53ef\u5b66\u4e60\u53c2\u6570\u7684\u5c42(\u5377\u79ef\u5c42\u3001\u7ebf\u6027\u5c42\u7b49)\u548c\u5df2\u6ce8\u518c\u7684\u7f13\u51b2\u533a(BatchNorm running_mean)\u5728\u6a21\u578b\u7684 ``state_dict`` \u4e2d\u6709\u6761\u76ee\u3002\n\u4f18\u5316\u5668\u5bf9\u8c61(``torch.optim``)\u4e5f\u6709\u4e00\u4e2a ``state_dict``,\u5b83\u5305\u542b\u4e86\u4f18\u5316\u5668\u72b6\u6001\u7684\u4fe1\u606f,\u4ee5\u53ca\u4f7f\u7528\u7684\u8d85\u53c2\u6570\u3002\n\u5728\u672c\u6559\u7a0b\u4e2d,\u6211\u4eec\u5c06\u770b\u5230\u5982\u4f55\u5728\u4e00\u4e2a\u7b80\u5355\u7684\u6a21\u578b\u4e2d ``state_dict`` \u662f\u5982\u4f55\u4f7f\u7528\u7684\u3002\n\n## \u73af\u5883\u8bbe\u7f6e\n\u5728\u5f00\u59cb\u4e4b\u524d,\u5982\u679c\u8fd8\u6ca1\u6709\u5b89\u88c5 ``torch``,\u6211\u4eec\u9700\u8981\u5148\u5b89\u88c5\u5b83\u3002\n\n```sh\npip install torch\n```\n"
      ]
    },
    {
      "cell_type": "markdown",
      "metadata": {},
      "source": [
        "## \u5177\u4f53\u6b65\u9aa4\n\n1. \u5bfc\u5165\u52a0\u8f7d\u6570\u636e\u6240\u9700\u7684\u6240\u6709\u5fc5\u8981\u5e93\n2. \u5b9a\u4e49\u548c\u521d\u59cb\u5316\u795e\u7ecf\u7f51\u7edc\n3. \u521d\u59cb\u5316\u4f18\u5316\u5668\n4. \u8bbf\u95ee\u6a21\u578b\u548c\u4f18\u5316\u5668\u7684 ``state_dict``\n\n1. Import necessary libraries for loading our data\n1. \u5bfc\u5165\u52a0\u8f7d\u6570\u636e\u6240\u9700\u7684\u5fc5\u8981\u5e93\n~~~~~~~~~~~~~~~~~~~~~~~~~~~~~~~~~~~~~~~~~~~~~~~~~~~~~~\n\n\u5bf9\u4e8e\u672c\u6559\u7a0b,\u6211\u4eec\u5c06\u4f7f\u7528 ``torch`` \u53ca\u5176\u5b50\u6a21\u5757 ``torch.nn`` \u548c ``torch.optim``\u3002\n\n\n"
      ]
    },
    {
      "cell_type": "code",
      "execution_count": null,
      "metadata": {
        "collapsed": false
      },
      "outputs": [],
      "source": [
        "import torch\nimport torch.nn as nn\nimport torch.nn.functional as F\nimport torch.optim as optim"
      ]
    },
    {
      "cell_type": "markdown",
      "metadata": {},
      "source": [
        "### 2. \u5b9a\u4e49\u5e76\u521d\u59cb\u5316\u795e\u7ecf\u7f51\u7edc\n\u4e3a\u4e86\u6f14\u793a\uff0c\u6211\u4eec\u5c06\u521b\u5efa\u4e00\u4e2a\u7528\u4e8e\u8bad\u7ec3\u56fe\u50cf\u7684\u795e\u7ecf\u7f51\u7edc\u3002\u8981\u4e86\u89e3\u66f4\u591a\u4fe1\u606f\uff0c\u8bf7\u53c2\u9605\u5b9a\u4e49\u795e\u7ecf\u7f51\u7edc\u7684\u6559\u7a0b\u3002\n\n\n"
      ]
    },
    {
      "cell_type": "code",
      "execution_count": null,
      "metadata": {
        "collapsed": false
      },
      "outputs": [],
      "source": [
        "class Net(nn.Module):\n    def __init__(self):\n        super(Net, self).__init__()\n        self.conv1 = nn.Conv2d(3, 6, 5)\n        self.pool = nn.MaxPool2d(2, 2)\n        self.conv2 = nn.Conv2d(6, 16, 5)\n        self.fc1 = nn.Linear(16 * 5 * 5, 120)\n        self.fc2 = nn.Linear(120, 84)\n        self.fc3 = nn.Linear(84, 10)\n\n    def forward(self, x):\n        x = self.pool(F.relu(self.conv1(x)))\n        x = self.pool(F.relu(self.conv2(x)))\n        x = x.view(-1, 16 * 5 * 5)\n        x = F.relu(self.fc1(x))\n        x = F.relu(self.fc2(x))\n        x = self.fc3(x)\n        return x\n\nnet = Net()\nprint(net)"
      ]
    },
    {
      "cell_type": "markdown",
      "metadata": {},
      "source": [
        "### 3. \u521d\u59cb\u5316\u4f18\u5316\u5668\n\n\u6211\u4eec\u4f7f\u7528 SGD \u4f18\u5316\u5668\n\n\n"
      ]
    },
    {
      "cell_type": "code",
      "execution_count": null,
      "metadata": {
        "collapsed": false
      },
      "outputs": [],
      "source": [
        "optimizer = optim.SGD(net.parameters(), lr=0.001, momentum=0.9)"
      ]
    },
    {
      "cell_type": "markdown",
      "metadata": {},
      "source": [
        "### 4. \u8bbf\u95ee\u6a21\u578b\u548c\u4f18\u5316\u5668\u7684 ``state_dict``\n\nNow that we have constructed our model and optimizer, we can understand\nwhat is preserved in their respective ``state_dict`` properties.\n\n\u73b0\u5728\u6211\u4eec\u5df2\u7ecf\u6784\u5efa\u4e86\u6a21\u578b\u548c\u4f18\u5316\u5668,\u6211\u4eec\u53ef\u4ee5\u4e86\u89e3\u5b83\u4eec\u5404\u81ea\u7684 ``state_dict`` \u5c5e\u6027\u4e2d\u4fdd\u5b58\u4e86\u4ec0\u4e48\u3002\n\n\n"
      ]
    },
    {
      "cell_type": "code",
      "execution_count": null,
      "metadata": {
        "collapsed": false
      },
      "outputs": [],
      "source": [
        "print(\"Model's state_dict:\")\nfor param_tensor in net.state_dict():\n    print(param_tensor, \"\\t\", net.state_dict()[param_tensor].size())\n\nprint()\n\nprint(\"Optimizer's state_dict:\")\nfor var_name in optimizer.state_dict():\n    print(var_name, \"\\t\", optimizer.state_dict()[var_name])"
      ]
    },
    {
      "cell_type": "markdown",
      "metadata": {},
      "source": [
        "\u8fd9\u4e9b\u4fe1\u606f\u5bf9\u4e8e\u5c06\u6765\u4fdd\u5b58\u548c\u52a0\u8f7d\u6a21\u578b\u548c\u4f18\u5316\u5668\u5f88\u6709\u7528\u3002\n\n\u795d\u8d3a\u4f60!\u4f60\u5df2\u7ecf\u6210\u529f\u4f7f\u7528\u4e86 PyTorch \u4e2d\u7684 ``state_dict``\u3002\n\n## \u5b66\u4e60\u66f4\u591a\n\n\u67e5\u770b\u8fd9\u4e9b\u5176\u4ed6\u6559\u7a0b,\u7ee7\u7eed\u4f60\u7684\u5b66\u4e60:\n\n- [\u5728 PyTorch \u4e2d\u4fdd\u5b58\u548c\u52a0\u8f7d\u6a21\u578b\u7528\u4e8e\u63a8\u7406](https://pytorch.org/tutorials/recipes/recipes/saving_and_loading_models_for_inference.html)_\n- [\u5728 PyTorch \u4e2d\u4fdd\u5b58\u548c\u52a0\u8f7d\u901a\u7528\u68c0\u67e5\u70b9](https://pytorch.org/tutorials/recipes/recipes/saving_and_loading_a_general_checkpoint.html)_\n"
      ]
    }
  ],
  "metadata": {
    "kernelspec": {
      "display_name": "Python 3",
      "language": "python",
      "name": "python3"
    },
    "language_info": {
      "codemirror_mode": {
        "name": "ipython",
        "version": 3
      },
      "file_extension": ".py",
      "mimetype": "text/x-python",
      "name": "python",
      "nbconvert_exporter": "python",
      "pygments_lexer": "ipython3",
      "version": "3.10.0"
    }
  },
  "nbformat": 4,
  "nbformat_minor": 0
}