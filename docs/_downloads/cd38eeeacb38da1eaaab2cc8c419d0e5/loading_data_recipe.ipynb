{
  "cells": [
    {
      "cell_type": "code",
      "execution_count": null,
      "metadata": {
        "collapsed": false
      },
      "outputs": [],
      "source": [
        "# For tips on running notebooks in Google Colab, see\n# https://pytorch.org/tutorials/beginner/colab\n%matplotlib inline"
      ]
    },
    {
      "cell_type": "markdown",
      "metadata": {},
      "source": [
        "\n# PyTorch \u52a0\u8f7d\u6570\u636e\nPyTorch \u63d0\u4f9b\u4e86\u5e7f\u6cdb\u7684\u795e\u7ecf\u7f51\u7edc\u6784\u5efa\u6a21\u5757,\u5e76\u62e5\u6709\u7b80\u5355\u3001\u76f4\u89c2\u4e14\u7a33\u5b9a\u7684 API\u3002PyTorch\u5305\u542b\u7528\u4e8e\u51c6\u5907\u548c\u52a0\u8f7d\u5e38\u89c1\u6570\u636e\u96c6\u7684\u5de5\u5177\u5305,\u4e3a\u8bad\u7ec3\u6a21\u578b\u63d0\u4f9b\u6570\u636e\u3002\n\n\n## \u7b80\u4ecb\nPyTorch \u6570\u636e\u52a0\u8f7d\u5de5\u5177\u7684\u6838\u5fc3\u7c7b\u4e3a [torch.utils.data.DataLoader](https://pytorch.org/docs/stable/data.html#torch.utils.data.DataLoader)_ \u3002\n\u5b83\u8868\u793a\u6570\u636e\u96c6\u4e0a\u7684\u4e00\u4e2a Python \u53ef\u8fed\u4ee3\u5bf9\u8c61\u3002PyTorch \u63d0\u4f9b\u4e86\u5185\u7f6e\u7684\u9ad8\u8d28\u91cf\u6570\u636e\u96c6\uff0c\n\u53ef\u901a\u8fc7 [torch.utils.data.Dataset](https://pytorch.org/docs/stable/data.html#torch.utils.data.Dataset)_ \u4f7f\u7528\u3002\u4f7f\u7528\u8fd9\u4e9b\u6570\u636e\u96c6\u53ef\u901a\u8fc7\uff1a\n\n* [torchvision](https://pytorch.org/vision/stable/datasets.html)_\n* [torchaudio](https://pytorch.org/audio/stable/datasets.html)_\n* [torchtext](https://pytorch.org/text/stable/datasets.html)_\n\n\u672a\u6765\u4f1a\u6301\u7eed\u65b0\u589e\u3002\n\u901a\u8fc7\u4f7f\u7528 ``torchaudio.datasets.YESNO`` \u4e2d\u7684 ``yesno`` \u6570\u636e\u96c6\uff0c\u6211\u4eec\u5c06\u6f14\u793a\u5982\u4f55\u6709\u6548\u5730\u5c06\u6570\u636e\u4ece PyTorch ``Dataset`` \u52a0\u8f7d\u5230 PyTorch ``DataLoader`` \u4e2d\u3002\n"
      ]
    },
    {
      "cell_type": "code",
      "execution_count": null,
      "metadata": {
        "collapsed": false
      },
      "outputs": [],
      "source": [
        "# \u5b89\u88c5\n# -----\n# \u5728\u5f00\u59cb\u4e4b\u524d,\u6211\u4eec\u9700\u8981\u5b89\u88c5 ``torchaudio`` \u4ee5\u8bbf\u95ee\u8be5\u6570\u636e\u96c6\u3002\n\n# pip install torchaudio"
      ]
    },
    {
      "cell_type": "markdown",
      "metadata": {},
      "source": [
        "\u5982\u679c\u5728Google Colab\u4e2d\u8fd0\u884c,\u8bf7\u53d6\u6d88\u6ce8\u91ca\u4ee5\u4e0b\u884c:\n\n"
      ]
    },
    {
      "cell_type": "code",
      "execution_count": null,
      "metadata": {
        "collapsed": false
      },
      "outputs": [],
      "source": [
        "# !pip install torchaudio"
      ]
    },
    {
      "cell_type": "markdown",
      "metadata": {},
      "source": [
        "## \u4f7f\u7528\u6b65\u9aa4\n\n1. \u5bfc\u5165\u52a0\u8f7d\u6570\u636e\u6240\u9700\u7684\u6240\u6709\u5fc5\u8981\u5e93\n2. \u8bbf\u95ee\u6570\u636e\u96c6\u4e2d\u7684\u6570\u636e\n3. \u52a0\u8f7d\u6570\u636e\n4. \u904d\u5386\u6570\u636e\n5. [\u53ef\u9009] \u53ef\u89c6\u5316\u6570\u636e\n\n\n## 1. \u5bfc\u5165\u52a0\u8f7d\u6570\u636e\u6240\u9700\u7684\u5fc5\u8981\u5e93\n\n\u5bf9\u4e8e\u672c\u4f8b,\u6211\u4eec\u5c06\u4f7f\u7528 ``torch`` \u548c ``torchaudio``\u3002\u6839\u636e\u4f7f\u7528\u7684\u5185\u7f6e\u6570\u636e\u96c6,\u60a8\u8fd8\u53ef\u4ee5\u5b89\u88c5\u5e76\u5bfc\u5165 \n``torchvision`` \u6216 ``torchtext``\u3002\n\n\n"
      ]
    },
    {
      "cell_type": "code",
      "execution_count": null,
      "metadata": {
        "collapsed": false
      },
      "outputs": [],
      "source": [
        "import torch\nimport torchaudio"
      ]
    },
    {
      "cell_type": "markdown",
      "metadata": {},
      "source": [
        "## 2. \u8bbf\u95ee\u6570\u636e\u96c6\u4e2d\u7684\u6570\u636e\n\n``torchaudio`` \u4e2d\u7684 ``yesno`` \u6570\u636e\u96c6\u5305\u542b\u4e00\u4e2a\u4eba\u8bf4\u5e0c\u4f2f\u6765\u8bed\"\u662f\"\u6216\"\u5426\"\u768460\u4e2a\u5f55\u97f3,\n\u6bcf\u4e2a\u5f55\u97f3\u957f\u5ea6\u4e3a8\u4e2a\u5355\u8bcd([\u66f4\u591a\u4fe1\u606f](https://www.openslr.org/1/)_)\u3002\n\n``torchaudio.datasets.YESNO`` \u521b\u5efa\u4e86\u4e00\u4e2a ``yesno`` \u6570\u636e\u96c6\u3002\n\n"
      ]
    },
    {
      "cell_type": "code",
      "execution_count": null,
      "metadata": {
        "collapsed": false
      },
      "outputs": [],
      "source": [
        "torchaudio.datasets.YESNO(\n     root='./',\n     url='http://www.openslr.org/resources/1/waves_yesno.tar.gz',\n     folder_in_archive='waves_yesno',\n     download=True)"
      ]
    },
    {
      "cell_type": "markdown",
      "metadata": {},
      "source": [
        "\u6570\u636e\u96c6\u4e2d\u7684\u6bcf\u4e2a\u6761\u76ee\u90fd\u662f\u4e00\u4e2a\u5143\u7ec4,\u5f62\u5f0f\u4e3a:(\u6ce2\u5f62,\u91c7\u6837\u7387,\u6807\u7b7e)\u3002\n\n\u60a8\u5fc5\u987b\u4e3a ``yesno`` \u6570\u636e\u96c6\u8bbe\u7f6e\u4e00\u4e2a ``root``\u76ee\u5f55,\u7528\u4e8e\u5b58\u653e\u8bad\u7ec3\u548c\u6d4b\u8bd5\u6570\u636e\u96c6\u3002\u5176\u4ed6\u53c2\u6570\u662f\u53ef\u9009\u7684,\u663e\u793a\u4e86\u5b83\u4eec\u7684\u9ed8\u8ba4\u503c\u3002\n\u4ee5\u4e0b\u662f\u5176\u4ed6\u53c2\u6570\u7684\u4e00\u4e9b\u6709\u7528\u4fe1\u606f:\n\n"
      ]
    },
    {
      "cell_type": "code",
      "execution_count": null,
      "metadata": {
        "collapsed": false
      },
      "outputs": [],
      "source": [
        "# * ``download``: \u5982\u679c\u4e3aTrue,\u5219\u4ece\u4e92\u8054\u7f51\u4e0b\u8f7d\u6570\u636e\u96c6\u5e76\u5c06\u5176\u653e\u5728root\u76ee\u5f55\u4e2d\u3002\u5982\u679c\u6570\u636e\u96c6\u5df2\u4e0b\u8f7d,\u5219\u4e0d\u4f1a\u91cd\u65b0\u4e0b\u8f7d\u3002\n#\n# \u8ba9\u6211\u4eec\u8bbf\u95ee ``yesno`` \u6570\u636e:\n#\n\n# ``yesno`` \u4e2d\u7684\u4e00\u4e2a\u6570\u636e\u70b9\u662f\u4e00\u4e2a\u5143\u7ec4(\u6ce2\u5f62,\u91c7\u6837\u7387,\u6807\u7b7e),\u5176\u4e2d\u6807\u7b7e\u662f\u4e00\u4e2a\u6574\u6570\u5217\u8868,1\u8868\u793ayes,0\u8868\u793ano\u3002\nyesno_data = torchaudio.datasets.YESNO('./', download=True)\n\n# \u9009\u62e9\u6570\u636e\u70b9\u7f16\u53f73,\u67e5\u770b ``yesno_data`` \u7684\u793a\u4f8b:\nn = 3\nwaveform, sample_rate, labels = yesno_data[n]\nprint(\"Waveform: {}\\nSample rate: {}\\nLabels: {}\".format(waveform, sample_rate, labels))"
      ]
    },
    {
      "cell_type": "markdown",
      "metadata": {},
      "source": [
        "\u5728\u5b9e\u8df5\u4e2d\u4f7f\u7528\u8fd9\u4e9b\u6570\u636e\u65f6,\u6700\u597d\u5c06\u6570\u636e\u5212\u5206\u4e3a\"\u8bad\u7ec3\"\u6570\u636e\u96c6\u548c\"\u6d4b\u8bd5\"\u6570\u636e\u96c6\u3002\u8fd9\u53ef\u786e\u4fdd\u60a8\u6709\u672a\u4f7f\u7528\u7684\u6570\u636e\u6765\u6d4b\u8bd5\u6a21\u578b\u7684\u6027\u80fd\u3002\n\n## 3. \u52a0\u8f7d\u6570\u636e\n\n\u73b0\u5728\u6211\u4eec\u53ef\u4ee5\u8bbf\u95ee\u6570\u636e\u96c6,\u6211\u4eec\u5fc5\u987b\u901a\u8fc7 ``torch.utils.data.DataLoader`` \u4f20\u9012\u5b83\u3002\n``DataLoader`` \u5c06\u6570\u636e\u96c6\u548c\u91c7\u6837\u5668\u7ec4\u5408\u5728\u4e00\u8d77,\u8fd4\u56de\u6570\u636e\u96c6\u4e0a\u7684\u4e00\u4e2a\u53ef\u8fed\u4ee3\u5bf9\u8c61\u3002\n\n\n"
      ]
    },
    {
      "cell_type": "code",
      "execution_count": null,
      "metadata": {
        "collapsed": false
      },
      "outputs": [],
      "source": [
        "data_loader = torch.utils.data.DataLoader(yesno_data,\n                                          batch_size=1,\n                                          shuffle=True)"
      ]
    },
    {
      "cell_type": "markdown",
      "metadata": {},
      "source": [
        "## 4. \u904d\u5386\u6570\u636e\n\n\u6211\u4eec\u7684\u6570\u636e\u73b0\u5728\u53ef\u4ee5\u4f7f\u7528 ``data_loader`` \u8fdb\u884c\u8fed\u4ee3\u3002\u5728\u5f00\u59cb\u8bad\u7ec3\u6a21\u578b\u65f6,\u8fd9\u5c06\u662f\u5fc5\u9700\u7684!\n\u60a8\u4f1a\u6ce8\u610f\u5230,\u73b0\u5728 ``data_loader`` \u5bf9\u8c61\u4e2d\u7684\u6bcf\u4e2a\u6570\u636e\u6761\u76ee\u90fd\u8f6c\u6362\u4e3a\u4e00\u4e2a\u5f20\u91cf,\u5176\u4e2d\u5305\u542b\u8868\u793a\u6ce2\u5f62\u3001\u91c7\u6837\u7387\u548c\u6807\u7b7e\u7684\u5f20\u91cf\u3002\n\n\n"
      ]
    },
    {
      "cell_type": "code",
      "execution_count": null,
      "metadata": {
        "collapsed": false
      },
      "outputs": [],
      "source": [
        "for data in data_loader:\n  print(\"Data: \", data)\n  print(\"Waveform: {}\\nSample rate: {}\\nLabels: {}\".format(data[0], data[1], data[2]))\n  break"
      ]
    },
    {
      "cell_type": "markdown",
      "metadata": {},
      "source": [
        "## 5. [\u53ef\u9009] \u53ef\u89c6\u5316\u6570\u636e\n\n\u60a8\u53ef\u4ee5\u9009\u62e9\u53ef\u89c6\u5316\u6570\u636e,\u4ee5\u8fdb\u4e00\u6b65\u4e86\u89e3 ``DataLoader`` \u7684\u8f93\u51fa\u3002\n\n\n"
      ]
    },
    {
      "cell_type": "code",
      "execution_count": null,
      "metadata": {
        "collapsed": false
      },
      "outputs": [],
      "source": [
        "import matplotlib.pyplot as plt\n\nprint(data[0][0].numpy())\n\nplt.figure()\nplt.plot(waveform.t().numpy())"
      ]
    },
    {
      "cell_type": "markdown",
      "metadata": {},
      "source": [
        "\u795d\u8d3a\u60a8!\u60a8\u5df2\u6210\u529f\u5728PyTorch\u4e2d\u52a0\u8f7d\u6570\u636e\u3002\n\n## \u5b66\u4e60\u66f4\u591a\n\n\u67e5\u770b\u8fd9\u4e9b\u5176\u4ed6\u6559\u7a0b,\u7ee7\u7eed\u60a8\u7684\u5b66\u4e60:\n\n- [\u5b9a\u4e49\u795e\u7ecf\u7f51\u7edc](https://pytorch.org/tutorials/recipes/recipes/defining_a_neural_network.html)_\n- [PyTorch\u4e2d\u7684state_dict \u662f\u4ec0\u4e48](https://pytorch.org/tutorials/recipes/recipes/what_is_state_dict.html)_\n"
      ]
    }
  ],
  "metadata": {
    "kernelspec": {
      "display_name": "Python 3",
      "language": "python",
      "name": "python3"
    },
    "language_info": {
      "codemirror_mode": {
        "name": "ipython",
        "version": 3
      },
      "file_extension": ".py",
      "mimetype": "text/x-python",
      "name": "python",
      "nbconvert_exporter": "python",
      "pygments_lexer": "ipython3",
      "version": "3.10.0"
    }
  },
  "nbformat": 4,
  "nbformat_minor": 0
}