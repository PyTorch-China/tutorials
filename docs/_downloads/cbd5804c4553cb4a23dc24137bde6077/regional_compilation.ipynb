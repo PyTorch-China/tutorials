{
  "cells": [
    {
      "cell_type": "code",
      "execution_count": null,
      "metadata": {
        "collapsed": false
      },
      "outputs": [],
      "source": [
        "# For tips on running notebooks in Google Colab, see\n# https://pytorch.org/tutorials/beginner/colab\n%matplotlib inline"
      ]
    },
    {
      "cell_type": "markdown",
      "metadata": {},
      "source": [
        "\n# \u901a\u8fc7\u533a\u57df\u7f16\u8bd1\u51cf\u5c11 torch.compile \u51b7\u542f\u52a8\u7f16\u8bd1\u65f6\u95f4\n\n**\u4f5c\u8005:** [Animesh Jain](https://github.com/anijain2305)\n\n\u968f\u7740\u6df1\u5ea6\u5b66\u4e60\u6a21\u578b\u53d8\u5f97\u8d8a\u6765\u8d8a\u5927\uff0c\u8fd9\u4e9b\u6a21\u578b\u7684\u7f16\u8bd1\u65f6\u95f4\u4e5f\u4f1a\u589e\u52a0\u3002\u8fd9\u79cd\u5ef6\u957f\u7684\u7f16\u8bd1\u65f6\u95f4\u53ef\u80fd\u4f1a\u589e\u52a0\n\u63a8\u7406\u670d\u52a1\u7684\u542f\u52a8\u65f6\u95f4\u6216\u5927\u89c4\u6a21\u8bad\u7ec3\u4e2d\u7684\u8d44\u6e90\u6d6a\u8d39\u3002\u672c\u6559\u7a0b\u5c55\u793a\u4e86\u4e00\u4e2a\u901a\u8fc7\u9009\u62e9\u7f16\u8bd1\u6a21\u578b\u7684\u91cd\u590d\u533a\u57df\n\u800c\u4e0d\u662f\u6574\u4e2a\u6a21\u578b\u6765\u51cf\u5c11\u51b7\u542f\u52a8\u7f16\u8bd1\u65f6\u95f4\u7684\u793a\u4f8b\u3002\n\n## \u5148\u51b3\u6761\u4ef6\n\n* Pytorch 2.5 \u6216\u66f4\u9ad8\u7248\u672c\n\n## \u8bbe\u7f6e\n\u5728\u5f00\u59cb\u4e4b\u524d\uff0c\u9700\u8981\u5148\u5b89\u88c5 `torch`\u3002\n\n\n\n```sh\npip install torch\n```\n<div class=\"alert alert-info\"><h4>Note</h4><p>\u6b64\u529f\u80fd\u4ece 2.5 \u7248\u672c\u5f00\u59cb\u53ef\u7528\u3002\u5982\u679c\u60a8\u4f7f\u7528\u7684\u662f 2.4 \u7248\u672c\uff0c\u53ef\u4ee5\u542f\u7528\u914d\u7f6e\u6807\u5fd7 \n   ``torch._dynamo.config.inline_inbuilt_nn_modules=True`` \u4ee5\u9632\u6b62\u533a\u57df\u7f16\u8bd1\u671f\u95f4\u7684\u91cd\u65b0\u7f16\u8bd1\u3002\n   \u5728 2.5 \u7248\u672c\u4e2d\uff0c\u6b64\u6807\u5fd7\u9ed8\u8ba4\u542f\u7528\u3002</p></div>\n"
      ]
    },
    {
      "cell_type": "code",
      "execution_count": null,
      "metadata": {
        "collapsed": false
      },
      "outputs": [],
      "source": [
        "from time import perf_counter"
      ]
    },
    {
      "cell_type": "markdown",
      "metadata": {},
      "source": [
        "## \u6b65\u9aa4\n\n\u5728\u672c\u6559\u7a0b\u4e2d\uff0c\u6211\u4eec\u5c06\u9075\u5faa\u4ee5\u4e0b\u6b65\u9aa4\uff1a\n\n1. \u5bfc\u5165\u6240\u6709\u5fc5\u8981\u7684\u5e93\u3002\n2. \u5b9a\u4e49\u5e76\u521d\u59cb\u5316\u4e00\u4e2a\u5177\u6709\u91cd\u590d\u533a\u57df\u7684\u795e\u7ecf\u7f51\u7edc\u3002\n3. \u7406\u89e3\u5b8c\u6574\u6a21\u578b\u548c\u533a\u57df\u7f16\u8bd1\u4e4b\u95f4\u7684\u533a\u522b\u3002\n4. \u6d4b\u91cf\u5b8c\u6574\u6a21\u578b\u548c\u533a\u57df\u7f16\u8bd1\u7684\u7f16\u8bd1\u65f6\u95f4\u3002\n\n\u9996\u5148\uff0c\u8ba9\u6211\u4eec\u5bfc\u5165\u52a0\u8f7d\u6570\u636e\u6240\u9700\u7684\u5e93\uff1a\n\n"
      ]
    },
    {
      "cell_type": "code",
      "execution_count": null,
      "metadata": {
        "collapsed": false
      },
      "outputs": [],
      "source": [
        "import torch\nimport torch.nn as nn"
      ]
    },
    {
      "cell_type": "markdown",
      "metadata": {},
      "source": [
        "\u63a5\u4e0b\u6765\uff0c\u8ba9\u6211\u4eec\u5b9a\u4e49\u5e76\u521d\u59cb\u5316\u4e00\u4e2a\u5177\u6709\u91cd\u590d\u533a\u57df\u7684\u795e\u7ecf\u7f51\u7edc\u3002\n\n\u901a\u5e38\uff0c\u795e\u7ecf\u7f51\u7edc\u7531\u91cd\u590d\u7684\u5c42\u7ec4\u6210\u3002\u4f8b\u5982\uff0c\u4e00\u4e2a\u5927\u578b\u8bed\u8a00\u6a21\u578b\u7531\u8bb8\u591a Transformer \u5757\u7ec4\u6210\u3002\u5728\u672c\u6559\u7a0b\u4e2d\uff0c\n\u6211\u4eec\u5c06\u4f7f\u7528 ``nn.Module`` \u7c7b\u521b\u5efa\u4e00\u4e2a ``Layer`` \u4f5c\u4e3a\u91cd\u590d\u533a\u57df\u7684\u4ee3\u7406\u3002\n\u7136\u540e\uff0c\u6211\u4eec\u5c06\u521b\u5efa\u4e00\u4e2a\u7531 64 \u4e2a ``Layer`` \u7c7b\u5b9e\u4f8b\u7ec4\u6210\u7684 ``Model``\u3002\n\n\n"
      ]
    },
    {
      "cell_type": "code",
      "execution_count": null,
      "metadata": {
        "collapsed": false
      },
      "outputs": [],
      "source": [
        "class Layer(torch.nn.Module):\n    def __init__(self):\n        super().__init__()\n        self.linear1 = torch.nn.Linear(10, 10)\n        self.relu1 = torch.nn.ReLU()\n        self.linear2 = torch.nn.Linear(10, 10)\n        self.relu2 = torch.nn.ReLU()\n\n    def forward(self, x):\n        a = self.linear1(x)\n        a = self.relu1(a)\n        a = torch.sigmoid(a)\n        b = self.linear2(a)\n        b = self.relu2(b)\n        return b\n\n\nclass Model(torch.nn.Module):\n    def __init__(self, apply_regional_compilation):\n        super().__init__()\n        self.linear = torch.nn.Linear(10, 10)\n        # \u4ec5\u5bf9\u91cd\u590d\u7684\u5c42\u5e94\u7528\u7f16\u8bd1\u3002\n        if apply_regional_compilation:\n            self.layers = torch.nn.ModuleList(\n                [torch.compile(Layer()) for _ in range(64)]\n            )\n        else:\n            self.layers = torch.nn.ModuleList([Layer() for _ in range(64)])\n\n    def forward(self, x):\n        # \u5728\u533a\u57df\u7f16\u8bd1\u4e2d\uff0cself.linear \u4e0d\u5728 `torch.compile` \u7684\u8303\u56f4\u5185\u3002\n        x = self.linear(x)\n        for layer in self.layers:\n            x = layer(x)\n        return x"
      ]
    },
    {
      "cell_type": "markdown",
      "metadata": {},
      "source": [
        "\u63a5\u4e0b\u6765\uff0c\u8ba9\u6211\u4eec\u56de\u987e\u4e00\u4e0b\u5b8c\u6574\u6a21\u578b\u548c\u533a\u57df\u7f16\u8bd1\u4e4b\u95f4\u7684\u533a\u522b\u3002\n\n\u5728\u5b8c\u6574\u6a21\u578b\u7f16\u8bd1\u4e2d\uff0c\u6574\u4e2a\u6a21\u578b\u4f5c\u4e3a\u4e00\u4e2a\u6574\u4f53\u8fdb\u884c\u7f16\u8bd1\u3002\u8fd9\u662f\u5927\u591a\u6570\u7528\u6237\u4f7f\u7528 ``torch.compile`` \u7684\u5e38\u89c1\u65b9\u6cd5\u3002\n\u5728\u8fd9\u4e2a\u793a\u4f8b\u4e2d\uff0c\u6211\u4eec\u5c06 ``torch.compile`` \u5e94\u7528\u4e8e ``Model`` \u5bf9\u8c61\u3002\u8fd9\u5c06\u6709\u6548\u5730\u5185\u8054 64 \u5c42\uff0c\u751f\u6210\u4e00\u4e2a\n\u5927\u7684\u56fe\u8fdb\u884c\u7f16\u8bd1\u3002\u60a8\u53ef\u4ee5\u901a\u8fc7\u8fd0\u884c\u6b64\u6559\u7a0b\u5e76\u8bbe\u7f6e ``TORCH_LOGS=graph_code`` \u6765\u67e5\u770b\u5b8c\u6574\u7684\u56fe\u3002\n\n\n"
      ]
    },
    {
      "cell_type": "code",
      "execution_count": null,
      "metadata": {
        "collapsed": false
      },
      "outputs": [],
      "source": [
        "model = Model(apply_regional_compilation=False).cuda()\nfull_compiled_model = torch.compile(model)"
      ]
    },
    {
      "cell_type": "markdown",
      "metadata": {},
      "source": [
        "\u53e6\u4e00\u65b9\u9762\uff0c\u533a\u57df\u7f16\u8bd1\u5bf9\u6a21\u578b\u7684\u67d0\u4e2a\u533a\u57df\u8fdb\u884c\u7f16\u8bd1\u3002\n\u901a\u8fc7\u6218\u7565\u6027\u5730\u9009\u62e9\u7f16\u8bd1\u6a21\u578b\u7684\u91cd\u590d\u533a\u57df\uff0c\u6211\u4eec\u53ef\u4ee5\u7f16\u8bd1\u4e00\u4e2a\u5c0f\u5f97\u591a\u7684\u56fe\uff0c\u7136\u540e\u5c06\u7f16\u8bd1\u540e\u7684\u56fe\u7528\u4e8e\u6240\u6709\u533a\u57df\u3002\n\u5728\u8fd9\u4e2a\u793a\u4f8b\u4e2d\uff0c``torch.compile`` \u4ec5\u5e94\u7528\u4e8e ``layers``\uff0c\u800c\u4e0d\u662f\u6574\u4e2a\u6a21\u578b\u3002\n\n\n"
      ]
    },
    {
      "cell_type": "code",
      "execution_count": null,
      "metadata": {
        "collapsed": false
      },
      "outputs": [],
      "source": [
        "regional_compiled_model = Model(apply_regional_compilation=True).cuda()"
      ]
    },
    {
      "cell_type": "markdown",
      "metadata": {},
      "source": [
        "\u5c06\u7f16\u8bd1\u5e94\u7528\u4e8e\u91cd\u590d\u533a\u57df\u800c\u4e0d\u662f\u6574\u4e2a\u6a21\u578b\uff0c\u53ef\u4ee5\u5927\u5927\u8282\u7701\u7f16\u8bd1\u65f6\u95f4\u3002\u5728\u8fd9\u91cc\uff0c\u6211\u4eec\u5c06\u53ea\u7f16\u8bd1\u4e00\u4e2a\u5c42\u5b9e\u4f8b\uff0c\n\u7136\u540e\u5728 ``Model`` \u5bf9\u8c61\u4e2d\u91cd\u590d\u4f7f\u7528 64 \u6b21\u3002\n\n\u8bf7\u6ce8\u610f\uff0c\u5bf9\u4e8e\u91cd\u590d\u533a\u57df\uff0c\u6a21\u578b\u7684\u67d0\u4e9b\u90e8\u5206\u53ef\u80fd\u4e0d\u4f1a\u88ab\u7f16\u8bd1\u3002\u4f8b\u5982\uff0c``Model`` \u4e2d\u7684 ``self.linear`` \n\u4e0d\u5728\u533a\u57df\u7f16\u8bd1\u7684\u8303\u56f4\u5185\u3002\n\n\u8fd8\u8981\u6ce8\u610f\uff0c\u6027\u80fd\u63d0\u5347\u548c\u7f16\u8bd1\u65f6\u95f4\u4e4b\u95f4\u5b58\u5728\u6743\u8861\u3002\u5b8c\u6574\u6a21\u578b\u7f16\u8bd1\u6d89\u53ca\u66f4\u5927\u7684\u56fe\uff0c\u5e76\u4e14\u7406\u8bba\u4e0a\u63d0\u4f9b\u4e86\u66f4\u591a\u7684\u4f18\u5316\u7a7a\u95f4\u3002\n\u7136\u800c\uff0c\u51fa\u4e8e\u5b9e\u9645\u76ee\u7684\uff0c\u5e76\u4e14\u6839\u636e\u6a21\u578b\u7684\u4e0d\u540c\uff0c\u6211\u4eec\u89c2\u5bdf\u5230\u5b8c\u6574\u6a21\u578b\u548c\u533a\u57df\u7f16\u8bd1\u4e4b\u95f4\u7684\u901f\u5ea6\u63d0\u5347\u5dee\u5f02\u5f88\u5c0f\u7684\u60c5\u51b5\u5f88\u591a\u3002\n\n\n"
      ]
    },
    {
      "cell_type": "markdown",
      "metadata": {},
      "source": [
        "\u63a5\u4e0b\u6765\uff0c\u8ba9\u6211\u4eec\u6d4b\u91cf\u5b8c\u6574\u6a21\u578b\u548c\u533a\u57df\u7f16\u8bd1\u7684\u7f16\u8bd1\u65f6\u95f4\u3002\n\n``torch.compile`` \u662f\u4e00\u4e2a JIT \u7f16\u8bd1\u5668\uff0c\u8fd9\u610f\u5473\u7740\u5b83\u5728\u7b2c\u4e00\u6b21\u8c03\u7528\u65f6\u8fdb\u884c\u7f16\u8bd1\u3002\u5728\u4e0b\u9762\u7684\u4ee3\u7801\u4e2d\uff0c\n\u6211\u4eec\u6d4b\u91cf\u7b2c\u4e00\u6b21\u8c03\u7528\u6240\u82b1\u8d39\u7684\u603b\u65f6\u95f4\u3002\u867d\u7136\u8fd9\u79cd\u65b9\u6cd5\u4e0d\u7cbe\u786e\uff0c\u4f46\u5b83\u63d0\u4f9b\u4e86\u4e00\u4e2a\u5f88\u597d\u7684\u4f30\u8ba1\uff0c\u56e0\u4e3a\u5927\u90e8\u5206\u65f6\u95f4\u90fd\u82b1\u5728\u7f16\u8bd1\u4e0a\u3002\n\n"
      ]
    },
    {
      "cell_type": "code",
      "execution_count": null,
      "metadata": {
        "collapsed": false
      },
      "outputs": [],
      "source": [
        "def measure_latency(fn, input):\n    # \u91cd\u7f6e\u7f16\u8bd1\u5668\u7f13\u5b58\u4ee5\u786e\u4fdd\u4e0d\u540c\u8fd0\u884c\u4e4b\u95f4\u6ca1\u6709\u91cd\u7528\n    torch.compiler.reset()\n    with torch._inductor.utils.fresh_inductor_cache():\n        start = perf_counter()\n        fn(input)\n        torch.cuda.synchronize()\n        end = perf_counter()\n        return end - start\n\n\ninput = torch.randn(10, 10, device=\"cuda\")\nfull_model_compilation_latency = measure_latency(full_compiled_model, input)\nprint(f\"Full model compilation time = {full_model_compilation_latency:.2f} seconds\")\n\nregional_compilation_latency = measure_latency(regional_compiled_model, input)\nprint(f\"Regional compilation time = {regional_compilation_latency:.2f} seconds\")\n\nassert regional_compilation_latency < full_model_compilation_latency"
      ]
    },
    {
      "cell_type": "markdown",
      "metadata": {},
      "source": [
        "## \u7ed3\u8bba\n\n\u672c\u6559\u7a0b\u5c55\u793a\u4e86\u5982\u4f55\u5728\u6a21\u578b\u5177\u6709\u91cd\u590d\u533a\u57df\u65f6\u63a7\u5236\u51b7\u542f\u52a8\u7f16\u8bd1\u65f6\u95f4\u3002\u8fd9\u79cd\u65b9\u6cd5\u9700\u8981\u7528\u6237\u4fee\u6539\u4ee5\u5c06 `torch.compile` \u5e94\u7528\u4e8e\n\u91cd\u590d\u533a\u57df\uff0c\u800c\u4e0d\u662f\u66f4\u5e38\u7528\u7684\u5168\u6a21\u578b\u7f16\u8bd1\u3002\u6211\u4eec\u6b63\u5728\u4e0d\u65ad\u52aa\u529b\u51cf\u5c11\u51b7\u542f\u52a8\u7f16\u8bd1\u65f6\u95f4\u3002\n"
      ]
    }
  ],
  "metadata": {
    "kernelspec": {
      "display_name": "Python 3",
      "language": "python",
      "name": "python3"
    },
    "language_info": {
      "codemirror_mode": {
        "name": "ipython",
        "version": 3
      },
      "file_extension": ".py",
      "mimetype": "text/x-python",
      "name": "python",
      "nbconvert_exporter": "python",
      "pygments_lexer": "ipython3",
      "version": "3.10.0"
    }
  },
  "nbformat": 4,
  "nbformat_minor": 0
}