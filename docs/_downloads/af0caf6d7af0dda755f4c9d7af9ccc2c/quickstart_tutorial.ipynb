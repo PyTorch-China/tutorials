{
  "cells": [
    {
      "cell_type": "code",
      "execution_count": null,
      "metadata": {
        "collapsed": false
      },
      "outputs": [],
      "source": [
        "# For tips on running notebooks in Google Colab, see\n# https://pytorch.org/tutorials/beginner/colab\n%matplotlib inline"
      ]
    },
    {
      "cell_type": "markdown",
      "metadata": {},
      "source": [
        "\n[Learn the Basics](intro.html) ||\n**Quickstart** ||\n[Tensors](tensorqs_tutorial.html) ||\n[Datasets & DataLoaders](data_tutorial.html) ||\n[Transforms](transforms_tutorial.html) ||\n[Build Model](buildmodel_tutorial.html) ||\n[Autograd](autogradqs_tutorial.html) ||\n[Optimization](optimization_tutorial.html) ||\n[Save & Load Model](saveloadrun_tutorial.html)\n\n# \u5feb\u901f\u5165\u95e8\n\n\u672c\u8282\u5c06\u4ecb\u7ecd\u673a\u5668\u5b66\u4e60\u4efb\u52a1\u4e2d\u5e38\u7528\u7684API\u3002\u60f3\u66f4\u6df1\u5165\u4e86\u89e3\u5404\u6a21\u5757\u5185\u5bb9\uff0c\u53ef\u53c2\u8003\u6bcf\u8282\u6587\u672b\u5904\u7684\u94fe\u63a5\u3002\n\n## \u5904\u7406\u6570\u636e\n\nPyTorch \u63d0\u4f9b\u4e86\u4e24\u4e2a\u7528\u4e8e `\u5904\u7406\u6570\u636e\u7684\u539f\u8bed<https://pytorch.org/docs/stable/data.html>`:\n`torch.utils.data.DataLoader` \u548c `torch.utils.data.Dataset`\u3002`Dataset`\u5b58\u50a8\u6837\u672c\u53ca\u5176\u5bf9\u5e94\u7684\u6807\u7b7e\uff0c\u800c`DataLoader`\u5219\u5728`Dataset`\u5916\u90e8\u5c01\u88c5\u4e00\u5c42\uff0c\u53d8\u4e3a\u53ef\u8fed\u4ee3\u5bf9\u8c61\u3002\n"
      ]
    },
    {
      "cell_type": "code",
      "execution_count": null,
      "metadata": {
        "collapsed": false
      },
      "outputs": [],
      "source": [
        "import torch\nfrom torch import nn\nfrom torch.utils.data import DataLoader\nfrom torchvision import datasets\nfrom torchvision.transforms import ToTensor"
      ]
    },
    {
      "cell_type": "markdown",
      "metadata": {},
      "source": [
        "PyTorch \u63d0\u4f9b\u4e86\u7279\u5b9a\u9886\u57df\u7684\u5e93\uff0c\u4f8b\u5982\n[TorchText](https://pytorch.org/text/stable/index.html)\uff0c\n[TorchVision](https://pytorch.org/vision/stable/index.html)\uff0c\u548c\n[TorchAudio](https://pytorch.org/audio/stable/index.html)\uff0c\n\u6240\u6709\u8fd9\u4e9b\u5e93\u90fd\u5305\u542b\u4e86\u5bf9\u5e94\u6570\u636e\u96c6\u3002\u5728\u672c\u6559\u7a0b\u4e2d\uff0c\u6211\u4eec\u5c06\u4f7f\u7528 TorchVision \u6570\u636e\u96c6\u3002\n\n"
      ]
    },
    {
      "cell_type": "code",
      "execution_count": null,
      "metadata": {
        "collapsed": false
      },
      "outputs": [],
      "source": [
        "# `torchvision.datasets` \u6a21\u5757\u5305\u542b\u8bb8\u591a\u73b0\u5b9e\u4e16\u754c\u89c6\u89c9\u6570\u636e`Dataset`\uff0c\u4f8b\u5982 CIFAR\u3001COCO\n# ([\u6570\u636e\u96c6\u5217\u8868](https://pytorch.org/vision/stable/datasets.html))\u3002\n# \u5728\u672c\u6559\u7a0b\u4e2d\uff0c\u6211\u4eec\u4f7f\u7528 `FashionMNIST`\u6570\u636e\u96c6\u3002\u6bcf\u4e2aTorchVision `Dataset`\u5305\u62ec\u4e24\u4e2a\u53c2\u6570\uff1a`transform` \u548c `target_transform`\uff0c\u5206\u522b\u7528\u4e8e\u4fee\u6539\u6837\u672c\u6570\u636e\u548c\u6807\u7b7e\u3002\n\n# Download training data from open datasets.\ntraining_data = datasets.FashionMNIST(\n    root=\"data\",\n    train=True,\n    download=True,\n    transform=ToTensor(),\n)\n\n# Download test data from open datasets.\ntest_data = datasets.FashionMNIST(\n    root=\"data\",\n    train=False,\n    download=True,\n    transform=ToTensor(),\n)"
      ]
    },
    {
      "cell_type": "markdown",
      "metadata": {},
      "source": [
        "\u6211\u4eec\u5c06 `Dataset` \u4f5c\u4e3a\u53c2\u6570\u4f20\u9012\u7ed9 `DataLoader`\uff0c\u5728\u6570\u636e\u96c6\u4e0a\u5c01\u88c5\u4e86\u4e00\u4e2a\u53ef\u8fed\u4ee3\u5bf9\u8c61\uff0c\n\u652f\u6301\u81ea\u52a8\u6279\u5904\u7406\u3001\u91c7\u6837\u3001\u6253\u4e71\u548c\u591a\u8fdb\u7a0b\u6570\u636e\u52a0\u8f7d\u3002\u8fd9\u91cc\u6211\u4eec\u5b9a\u4e49\u4e00\u4e2a\u6279\u5904\u7406\u5927\u5c0f\u4e3a 64\uff0c\n\u5373 dataloader \u6bcf\u6279\u5c06\u8fd4\u56de\u5927\u5c0f\u4e3a 64 \u7684\u7279\u5f81\u6570\u636e\u548c\u6807\u7b7e\u3002\n\n"
      ]
    },
    {
      "cell_type": "code",
      "execution_count": null,
      "metadata": {
        "collapsed": false
      },
      "outputs": [],
      "source": [
        "batch_size = 64\n\n# Create data loaders.\ntrain_dataloader = DataLoader(training_data, batch_size=batch_size)\ntest_dataloader = DataLoader(test_data, batch_size=batch_size)\n\nfor X, y in test_dataloader:\n    print(f\"Shape of X [N, C, H, W]: {X.shape}\")\n    print(f\"Shape of y: {y.shape} {y.dtype}\")\n    break"
      ]
    },
    {
      "cell_type": "markdown",
      "metadata": {},
      "source": [
        "\u83b7\u53d6\u66f4\u591a\u5173\u4e8e `PyTorch\u6570\u636e\u52a0\u8f7d<data_tutorial.html>`\u7684\u4fe1\u606f\u3002\n\n"
      ]
    },
    {
      "cell_type": "markdown",
      "metadata": {},
      "source": [
        "--------------\n\n\n"
      ]
    },
    {
      "cell_type": "markdown",
      "metadata": {},
      "source": [
        "## \u521b\u5efa\u6a21\u578b\n\u8981\u5728 PyTorch \u4e2d\u5b9a\u4e49\u4e00\u4e2a\u795e\u7ecf\u7f51\u7edc\uff0c\u6211\u4eec\u9700\u8981\u521b\u5efa\u4e00\u4e2a\u7ee7\u627f\u81ea `nn.Module<https://pytorch.org/docs/stable/generated/torch.nn.Module.html> \u7684\u7c7b\u3002\n\u6211\u4eec\u5728 `__init__` \u51fd\u6570\u4e2d\u5b9a\u4e49\u7f51\u7edc\u7684\u5c42\uff0c\u5e76\u5728 `forward` \u51fd\u6570\u4e2d\u6307\u5b9a\u6570\u636e\u5982\u4f55\u7ecf\u8fc7\u7f51\u7edc\u3002\u4e3a\u4e86\u52a0\u901f\u795e\u7ecf\u7f51\u7edc\u4e2d\u7684\u8fd0\u7b97\uff0c\n\u6211\u4eec\u5c06\u5176\u79fb\u5230 GPU \u6216 MPS\uff08\u5982\u679c\u53ef\u7528\uff09\u4e0a\u3002\n\n"
      ]
    },
    {
      "cell_type": "code",
      "execution_count": null,
      "metadata": {
        "collapsed": false
      },
      "outputs": [],
      "source": [
        "# Get cpu, gpu or mps device for training.\ndevice = (\n    \"cuda\"\n    if torch.cuda.is_available()\n    else \"mps\"\n    if torch.backends.mps.is_available()\n    else \"cpu\"\n)\nprint(f\"Using {device} device\")\n\n# Define model\n\n\nclass NeuralNetwork(nn.Module):\n    def __init__(self):\n        super().__init__()\n        self.flatten = nn.Flatten()\n        self.linear_relu_stack = nn.Sequential(\n            nn.Linear(28*28, 512),\n            nn.ReLU(),\n            nn.Linear(512, 512),\n            nn.ReLU(),\n            nn.Linear(512, 10)\n        )\n\n    def forward(self, x):\n        x = self.flatten(x)\n        logits = self.linear_relu_stack(x)\n        return logits\n\n\nmodel = NeuralNetwork().to(device)\nprint(model)"
      ]
    },
    {
      "cell_type": "markdown",
      "metadata": {},
      "source": [
        "\u83b7\u53d6\u66f4\u591a\u5173\u4e8e `PyTorch\u6784\u5efa\u795e\u7ecf\u7f51\u7edc<buildmodel_tutorial.html>`\u7684\u5185\u5bb9\u3002\n\n"
      ]
    },
    {
      "cell_type": "markdown",
      "metadata": {},
      "source": [
        "--------------\n\n\n"
      ]
    },
    {
      "cell_type": "markdown",
      "metadata": {},
      "source": [
        "## \u4f18\u5316\u6a21\u578b\u53c2\u6570\n\u7ec3\u4e00\u4e2a\u6a21\u578b\uff0c\u6211\u4eec\u9700\u8981\u4e00\u4e2a`\u635f\u5931\u51fd\u6570`<https://pytorch.org/docs/stable/nn.html#loss-functions>\n\u548c\u4e00\u4e2a`\u4f18\u5316\u5668`https://pytorch.org/docs/stable/optim.html>\u3002\n\n"
      ]
    },
    {
      "cell_type": "code",
      "execution_count": null,
      "metadata": {
        "collapsed": false
      },
      "outputs": [],
      "source": [
        "loss_fn = nn.CrossEntropyLoss()\noptimizer = torch.optim.SGD(model.parameters(), lr=1e-3)"
      ]
    },
    {
      "cell_type": "markdown",
      "metadata": {},
      "source": [
        "\u5728\u5355\u4e2a\u8bad\u7ec3\u5faa\u73af\u4e2d\uff0c\u6a21\u578b\u5bf9\u8bad\u7ec3\u6570\u636e\u96c6\uff08\u5206\u6279\u8f93\u5165\uff09\u8fdb\u884c\u9884\u6d4b\uff0c\u5e76\u901a\u8fc7\u53cd\u5411\u4f20\u64ad\u9884\u6d4b\u8bef\u5dee\u6765\u8c03\u6574\u6a21\u578b\u7684\u53c2\u6570\u3002\n\n"
      ]
    },
    {
      "cell_type": "code",
      "execution_count": null,
      "metadata": {
        "collapsed": false
      },
      "outputs": [],
      "source": [
        "def train(dataloader, model, loss_fn, optimizer):\n    size = len(dataloader.dataset)\n    model.train()\n    for batch, (X, y) in enumerate(dataloader):\n        X, y = X.to(device), y.to(device)\n\n        # Compute prediction error\n        pred = model(X)\n        loss = loss_fn(pred, y)\n\n        # Backpropagation\n        loss.backward()\n        optimizer.step()\n        optimizer.zero_grad()\n\n        if batch % 100 == 0:\n            loss, current = loss.item(), (batch + 1) * len(X)\n            print(f\"loss: {loss:>7f}  [{current:>5d}/{size:>5d}]\")"
      ]
    },
    {
      "cell_type": "markdown",
      "metadata": {},
      "source": [
        "\u6211\u4eec\u8fd8\u9700\u68c0\u67e5\u6a21\u578b\u5728\u6d4b\u8bd5\u6570\u636e\u96c6\u4e0a\u7684\u6548\u679c\uff0c\u4ee5\u786e\u4fdd\u5b83\u5728\u6301\u7eed\u5b66\u4e60\u3002\n\n"
      ]
    },
    {
      "cell_type": "code",
      "execution_count": null,
      "metadata": {
        "collapsed": false
      },
      "outputs": [],
      "source": [
        "def test(dataloader, model, loss_fn):\n    size = len(dataloader.dataset)\n    num_batches = len(dataloader)\n    model.eval()\n    test_loss, correct = 0, 0\n    with torch.no_grad():\n        for X, y in dataloader:\n            X, y = X.to(device), y.to(device)\n            pred = model(X)\n            test_loss += loss_fn(pred, y).item()\n            correct += (pred.argmax(1) == y).type(torch.float).sum().item()\n    test_loss /= num_batches\n    correct /= size\n    print(\n        f\"Test Error: \\n Accuracy: {(100*correct):>0.1f}%, Avg loss: {test_loss:>8f} \\n\")"
      ]
    },
    {
      "cell_type": "markdown",
      "metadata": {},
      "source": [
        "\u901a\u8fc7\u591a\u6b21\u8fed\u4ee3\uff08*epochs*\uff09\u8fdb\u884c\u8bad\u7ec3\u3002\u5728\u6bcf\u4e2a\u8fed\u4ee3\u8fc7\u7a0b\u4e2d\uff0c\u6a21\u578b\u901a\u8fc7\u5bf9\u53c2\u6570\u7684\u5b66\u4e60\u4ee5\u63d0\u9ad8\u9884\u6d4b\u51c6\u786e\u6027\u3002\n\u6211\u4eec\u5728\u6bcf\u4e2a epoch \u6253\u5370\u6a21\u578b\u7684\u51c6\u786e\u7387\u548c\u635f\u5931\uff1b\u6211\u4eec\u5e0c\u671b\u770b\u5230\u968f\u7740\u6bcf\u4e2a epoch \u8bad\u7ec3\uff0c\u6a21\u578b\u9884\u6d4b\u51c6\u786e\u7387\u4e0d\u65ad\u63d0\u9ad8\uff0c\n\u635f\u5931\u9010\u6e10\u51cf\u5c11\u3002\n\n"
      ]
    },
    {
      "cell_type": "code",
      "execution_count": null,
      "metadata": {
        "collapsed": false
      },
      "outputs": [],
      "source": [
        "epochs = 5\nfor t in range(epochs):\n    print(f\"Epoch {t+1}\\n-------------------------------\")\n    train(train_dataloader, model, loss_fn, optimizer)\n    test(test_dataloader, model, loss_fn)\nprint(\"Done!\")"
      ]
    },
    {
      "cell_type": "markdown",
      "metadata": {},
      "source": [
        "Read more about [Training your model](optimization_tutorial.html).\n\u83b7\u53d6\u66f4\u591a\u5173\u4e8e `\u8bad\u7ec3\u6a21\u578b <optimization_tutorial.html>`\u7684\u5185\u5bb9\u3002\n\n"
      ]
    },
    {
      "cell_type": "markdown",
      "metadata": {},
      "source": [
        "--------------\n\n\n"
      ]
    },
    {
      "cell_type": "markdown",
      "metadata": {},
      "source": [
        "## \u4fdd\u5b58\u6a21\u578b\n\u4fdd\u5b58\u6a21\u578b\u7684\u5e38\u89c1\u65b9\u6cd5\u662f\u5c06\u5185\u90e8\u72b6\u6001\u5b57\u5178\uff08\u5305\u542b\u6a21\u578b\u53c2\u6570\uff09\u5e8f\u5217\u5316\u3002\n\n"
      ]
    },
    {
      "cell_type": "code",
      "execution_count": null,
      "metadata": {
        "collapsed": false
      },
      "outputs": [],
      "source": [
        "torch.save(model.state_dict(), \"model.pth\")\nprint(\"Saved PyTorch Model State to model.pth\")"
      ]
    },
    {
      "cell_type": "markdown",
      "metadata": {},
      "source": [
        "## \u52a0\u8f7d\u6a21\u578b\n\u52a0\u8f7d\u6a21\u578b\u7684\u8fc7\u7a0b\u5305\u62ec\u91cd\u65b0\u521b\u5efa\u6a21\u578b\u7ed3\u6784\u5e76\u52a0\u8f7d\u5176\u5185\u90e8\u72b6\u6001\u5b57\u5178\u3002\n\n"
      ]
    },
    {
      "cell_type": "code",
      "execution_count": null,
      "metadata": {
        "collapsed": false
      },
      "outputs": [],
      "source": [
        "model = NeuralNetwork().to(device)\nmodel.load_state_dict(torch.load(\"model.pth\"))"
      ]
    },
    {
      "cell_type": "markdown",
      "metadata": {},
      "source": [
        "\u8fd9\u4e2a\u6a21\u578b\u73b0\u5728\u53ef\u4ee5\u7528\u6765\u8fdb\u884c\u9884\u6d4b\u4e86\u3002\n\n"
      ]
    },
    {
      "cell_type": "code",
      "execution_count": null,
      "metadata": {
        "collapsed": false
      },
      "outputs": [],
      "source": [
        "classes = [\n    \"T-shirt/top\",\n    \"Trouser\",\n    \"Pullover\",\n    \"Dress\",\n    \"Coat\",\n    \"Sandal\",\n    \"Shirt\",\n    \"Sneaker\",\n    \"Bag\",\n    \"Ankle boot\",\n]\n\nmodel.eval()\nx, y = test_data[0][0], test_data[0][1]\nwith torch.no_grad():\n    x = x.to(device)\n    pred = model(x)\n    predicted, actual = classes[pred[0].argmax(0)], classes[y]\n    print(f'Predicted: \"{predicted}\", Actual: \"{actual}\"')"
      ]
    },
    {
      "cell_type": "markdown",
      "metadata": {},
      "source": [
        "\u83b7\u53d6\u66f4\u591a\u6709\u5173 `\u4fdd\u5b58\u548c\u52a0\u8f7d\u6a21\u578b <saveloadrun_tutorial.html>`\u7684\u5185\u5bb9\u3002\n\n"
      ]
    }
  ],
  "metadata": {
    "kernelspec": {
      "display_name": "Python 3",
      "language": "python",
      "name": "python3"
    },
    "language_info": {
      "codemirror_mode": {
        "name": "ipython",
        "version": 3
      },
      "file_extension": ".py",
      "mimetype": "text/x-python",
      "name": "python",
      "nbconvert_exporter": "python",
      "pygments_lexer": "ipython3",
      "version": "3.11.9"
    }
  },
  "nbformat": 4,
  "nbformat_minor": 0
}