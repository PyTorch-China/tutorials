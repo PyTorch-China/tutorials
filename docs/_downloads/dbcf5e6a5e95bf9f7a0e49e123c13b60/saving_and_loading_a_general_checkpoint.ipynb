{
  "cells": [
    {
      "cell_type": "code",
      "execution_count": null,
      "metadata": {
        "collapsed": false
      },
      "outputs": [],
      "source": [
        "# For tips on running notebooks in Google Colab, see\n# https://pytorch.org/tutorials/beginner/colab\n%matplotlib inline"
      ]
    },
    {
      "cell_type": "markdown",
      "metadata": {},
      "source": [
        "\n# PyTorch \u4fdd\u5b58\u548c\u52a0\u8f7d\u901a\u7528\u68c0\u67e5\u70b9\n\u4fdd\u5b58\u548c\u52a0\u8f7d\u901a\u7528\u68c0\u67e5\u70b9\u6a21\u578b\u7528\u4e8e\u63a8\u7406\u6216\u6062\u590d\u8bad\u7ec3\u53ef\u4ee5\u5e2e\u52a9\u4f60\u4ece\u4e0a\u6b21\u79bb\u5f00\u7684\u5730\u65b9\u7ee7\u7eed\u3002\n\u5f53\u4fdd\u5b58\u901a\u7528\u68c0\u67e5\u70b9\u65f6\uff0c\u4f60\u5fc5\u987b\u4fdd\u5b58\u4e0d\u4ec5\u4ec5\u662f\u6a21\u578b\u7684 state_dict\u3002\n\u540c\u65f6\u4e5f\u5f88\u91cd\u8981\u4fdd\u5b58\u4f18\u5316\u5668\u7684 state_dict,\u56e0\u4e3a\u5b83\u5305\u542b\u4e86\u5728\u6a21\u578b\u8bad\u7ec3\u8fc7\u7a0b\u4e2d\u66f4\u65b0\u7684\u7f13\u51b2\u533a\u548c\u53c2\u6570\u3002\n\u6839\u636e\u4f60\u81ea\u5df1\u7684\u7b97\u6cd5,\u4f60\u53ef\u80fd\u8fd8\u9700\u8981\u4fdd\u5b58\u4f60\u79bb\u5f00\u65f6\u7684 epoch\u3001\u6700\u65b0\u8bb0\u5f55\u7684\u8bad\u7ec3\u635f\u5931\u3001\u5916\u90e8\u7684 torch.nn.Embedding \u5c42\u7b49\u7b49\u3002\n\n## \u7b80\u4ecb\n\u8981\u4fdd\u5b58\u591a\u4e2a\u68c0\u67e5\u70b9,\u4f60\u5fc5\u987b\u5c06\u5b83\u4eec\u7ec4\u7ec7\u5728\u4e00\u4e2a\u5b57\u5178\u4e2d,\u5e76\u4f7f\u7528 ``torch.save()`` \u6765\u5e8f\u5217\u5316\u8fd9\u4e2a\u5b57\u5178\u3002\n\u4e00\u4e2a\u5e38\u89c1\u7684 PyTorch \u7ea6\u5b9a\u662f\u4f7f\u7528 ``.tar`` \u6587\u4ef6\u6269\u5c55\u540d\u6765\u4fdd\u5b58\u8fd9\u4e9b\u68c0\u67e5\u70b9\u3002\n\u8981\u52a0\u8f7d\u8fd9\u4e9b\u9879\u76ee,\u9996\u5148\u521d\u59cb\u5316\u6a21\u578b\u548c\u4f18\u5316\u5668,\u7136\u540e\u4f7f\u7528 ``torch.load()`` \u5728\u672c\u5730\u52a0\u8f7d\u5b57\u5178\u3002\n\u4ece\u8fd9\u91cc\u5f00\u59cb,\u4f60\u53ef\u4ee5\u901a\u8fc7\u7b80\u5355\u5730\u67e5\u8be2\u5b57\u5178\u6765\u8f7b\u677e\u8bbf\u95ee\u4fdd\u5b58\u7684\u9879\u76ee,\u5c31\u50cf\u4f60\u671f\u671b\u7684\u90a3\u6837\u3002\n\n\u5728\u8fd9\u4e2a\u793a\u4f8b\u4e2d,\u6211\u4eec\u5c06\u63a2\u7d22\u5982\u4f55\u4fdd\u5b58\u548c\u52a0\u8f7d\u591a\u4e2a\u68c0\u67e5\u70b9\u3002\n\n## \u73af\u5883\u8bbe\u7f6e\n\u5728\u5f00\u59cb\u4e4b\u524d,\u5982\u679c\u8fd8\u6ca1\u6709\u5b89\u88c5 ``torch``,\u6211\u4eec\u9700\u8981\u5b89\u88c5\u5b83\u3002\n\n::\n\n   pip install torch\n"
      ]
    },
    {
      "cell_type": "markdown",
      "metadata": {},
      "source": [
        "## \u5177\u4f53\u6b65\u9aa4\n\n1. \u5bfc\u5165\u52a0\u8f7d\u6570\u636e\u6240\u9700\u7684\u6240\u6709\u5fc5\u8981\u5e93\n2. \u5b9a\u4e49\u548c\u521d\u59cb\u5316\u795e\u7ecf\u7f51\u7edc\n3. \u521d\u59cb\u5316\u4f18\u5316\u5668\n4. \u4fdd\u5b58\u901a\u7528\u68c0\u67e5\u70b9\n5. \u52a0\u8f7d\u901a\u7528\u68c0\u67e5\u70b9\n\n### 1. \u5bfc\u5165\u52a0\u8f7d\u6570\u636e\u6240\u9700\u7684\u5fc5\u8981\u5e93\n\n\u5bf9\u4e8e\u8fd9\u4e2a\u793a\u4f8b,\u6211\u4eec\u5c06\u4f7f\u7528 ``torch`` \u53ca\u5176\u5b50\u6a21\u5757 ``torch.nn`` \u548c ``torch.optim``\u3002\n\n\n"
      ]
    },
    {
      "cell_type": "code",
      "execution_count": null,
      "metadata": {
        "collapsed": false
      },
      "outputs": [],
      "source": [
        "import torch\nimport torch.nn as nn\nimport torch.optim as optim"
      ]
    },
    {
      "cell_type": "markdown",
      "metadata": {},
      "source": [
        "### 2. \u5b9a\u4e49\u548c\u521d\u59cb\u5316\u795e\u7ecf\u7f51\u7edc\n\n\u4e3a\u4e86\u793a\u4f8b,\u6211\u4eec\u5c06\u521b\u5efa\u4e00\u4e2a\u7528\u4e8e\u8bad\u7ec3\u56fe\u50cf\u7684\u795e\u7ecf\u7f51\u7edc\u3002\n\u8981\u4e86\u89e3\u66f4\u591a\u4fe1\u606f,\u8bf7\u53c2\u9605\u5b9a\u4e49\u795e\u7ecf\u7f51\u7edc\u7684\u793a\u4f8b\u3002\n\n\n"
      ]
    },
    {
      "cell_type": "code",
      "execution_count": null,
      "metadata": {
        "collapsed": false
      },
      "outputs": [],
      "source": [
        "class Net(nn.Module):\n    def __init__(self):\n        super(Net, self).__init__()\n        self.conv1 = nn.Conv2d(3, 6, 5)\n        self.pool = nn.MaxPool2d(2, 2)\n        self.conv2 = nn.Conv2d(6, 16, 5)\n        self.fc1 = nn.Linear(16 * 5 * 5, 120)\n        self.fc2 = nn.Linear(120, 84)\n        self.fc3 = nn.Linear(84, 10)\n\n    def forward(self, x):\n        x = self.pool(F.relu(self.conv1(x)))\n        x = self.pool(F.relu(self.conv2(x)))\n        x = x.view(-1, 16 * 5 * 5)\n        x = F.relu(self.fc1(x))\n        x = F.relu(self.fc2(x))\n        x = self.fc3(x)\n        return x\n\nnet = Net()\nprint(net)"
      ]
    },
    {
      "cell_type": "markdown",
      "metadata": {},
      "source": [
        "### 3. \u521d\u59cb\u5316\u4f18\u5316\u5668\n\n\u6211\u4eec\u5c06\u4f7f\u7528 SGD \u4f18\u5316\u5668\u3002\n\n\n"
      ]
    },
    {
      "cell_type": "code",
      "execution_count": null,
      "metadata": {
        "collapsed": false
      },
      "outputs": [],
      "source": [
        "optimizer = optim.SGD(net.parameters(), lr=0.001, momentum=0.9)"
      ]
    },
    {
      "cell_type": "markdown",
      "metadata": {},
      "source": [
        "### 4. \u4fdd\u5b58\u901a\u7528\u68c0\u67e5\u70b9\n\n\u6536\u96c6\u6240\u6709\u76f8\u5173\u4fe1\u606f\u5e76\u6784\u5efa\u5b57\u5178\u3002\n\n\n"
      ]
    },
    {
      "cell_type": "code",
      "execution_count": null,
      "metadata": {
        "collapsed": false
      },
      "outputs": [],
      "source": [
        "# \u9644\u52a0\u4fe1\u606f\nEPOCH = 5\nPATH = \"model.pt\"\nLOSS = 0.4\n\ntorch.save({\n            'epoch': EPOCH,\n            'model_state_dict': net.state_dict(),\n            'optimizer_state_dict': optimizer.state_dict(),\n            'loss': LOSS,\n            }, PATH)"
      ]
    },
    {
      "cell_type": "markdown",
      "metadata": {},
      "source": [
        "### 5. \u52a0\u8f7d\u901a\u7528\u68c0\u67e5\u70b9\n\n\u9996\u5148\u521d\u59cb\u5316\u6a21\u578b\u548c\u4f18\u5316\u5668,\u7136\u540e\u5728\u672c\u5730\u52a0\u8f7d\u5b57\u5178\u3002\n\n\n"
      ]
    },
    {
      "cell_type": "code",
      "execution_count": null,
      "metadata": {
        "collapsed": false
      },
      "outputs": [],
      "source": [
        "model = Net()\noptimizer = optim.SGD(model.parameters(), lr=0.001, momentum=0.9)\n\ncheckpoint = torch.load(PATH)\nmodel.load_state_dict(checkpoint['model_state_dict'])\noptimizer.load_state_dict(checkpoint['optimizer_state_dict'])\nepoch = checkpoint['epoch']\nloss = checkpoint['loss']\n\nmodel.eval()\n# - \u6216\u8005 -\nmodel.train()"
      ]
    },
    {
      "cell_type": "markdown",
      "metadata": {},
      "source": [
        "You must call ``model.eval()`` to set dropout and batch normalization\nlayers to evaluation mode before running inference. Failing to do this\nwill yield inconsistent inference results.\n\nIf you wish to resuming training, call ``model.train()`` to ensure these\nlayers are in training mode.\n\nCongratulations! You have successfully saved and loaded a general\ncheckpoint for inference and/or resuming training in PyTorch.\n\n\n"
      ]
    },
    {
      "cell_type": "code",
      "execution_count": null,
      "metadata": {
        "collapsed": false
      },
      "outputs": [],
      "source": [
        "# \u4f60\u5fc5\u987b\u8c03\u7528model.eval()\u6765\u5c06dropout\u548c\u6279\u5f52\u4e00\u5316\u5c42\u8bbe\u7f6e\u4e3a\u8bc4\u4f30\u6a21\u5f0f,\u7136\u540e\u624d\u80fd\u8fd0\u884c\u63a8\u7406\u3002\n# \u5982\u679c\u4e0d\u8fd9\u6837\u505a,\u5c06\u4f1a\u5f97\u5230\u4e0d\u4e00\u81f4\u7684\u63a8\u7406\u7ed3\u679c\u3002\n#\n# \u5982\u679c\u4f60\u5e0c\u671b\u6062\u590d\u8bad\u7ec3,\u8c03\u7528 ``model.train()`` \u4ee5\u786e\u4fdd\u8fd9\u4e9b\u5c42\u5904\u4e8e\u8bad\u7ec3\u6a21\u5f0f\u3002\n#\n# \u795d\u8d3a\u4f60!\u4f60\u5df2\u7ecf\u6210\u529f\u4fdd\u5b58\u548c\u52a0\u8f7d\u4e86\u4e00\u4e2a\u901a\u7528\u68c0\u67e5\u70b9\u3002\n#"
      ]
    }
  ],
  "metadata": {
    "kernelspec": {
      "display_name": "Python 3",
      "language": "python",
      "name": "python3"
    },
    "language_info": {
      "codemirror_mode": {
        "name": "ipython",
        "version": 3
      },
      "file_extension": ".py",
      "mimetype": "text/x-python",
      "name": "python",
      "nbconvert_exporter": "python",
      "pygments_lexer": "ipython3",
      "version": "3.10.0"
    }
  },
  "nbformat": 4,
  "nbformat_minor": 0
}