{
  "cells": [
    {
      "cell_type": "code",
      "execution_count": null,
      "metadata": {
        "collapsed": false
      },
      "outputs": [],
      "source": [
        "# For tips on running notebooks in Google Colab, see\n# https://pytorch.org/tutorials/beginner/colab\n%matplotlib inline"
      ]
    },
    {
      "cell_type": "markdown",
      "metadata": {},
      "source": [
        "\n[Learn the Basics](intro.html) ||\n[Quickstart](quickstart_tutorial.html) ||\n**Tensors** ||\n[Datasets & DataLoaders](data_tutorial.html) ||\n[Transforms](transforms_tutorial.html) ||\n[Build Model](buildmodel_tutorial.html) ||\n[Autograd](autogradqs_tutorial.html) ||\n[Optimization](optimization_tutorial.html) ||\n[Save & Load Model](saveloadrun_tutorial.html)\n\n# \u5f20\u91cf(Tensors)\n\n\u7c7b\u4f3c\u4e8e\u6570\u7ec4\u548c\u77e9\u9635\uff0c\u5f20\u91cf\u4e5f\u662f\u4e00\u79cd\u7279\u5b9a\u7684\u6570\u636e\u7ed3\u6784\u3002\u5728PyTorch\u4e2d\uff0c\u6211\u4eec\u4f7f\u7528\u5f20\u91cf\u5bf9\u4e00\u4e2a\u6a21\u578b\u7684\u53c2\u6570\u3001\u8f93\u5165\u548c\u8f93\u51fa\u8fdb\u884c\u7f16\u7801\u3002\n\n\u5f20\u91cf\u7684\u7ed3\u6784\u7c7b\u4f3c\u4e8e [Numpy](https://numpy.org/)\u4e2d\u7684ndarrays\uff0c\u800c\u5f20\u91cf\u53ef\u4ee5\u8fd0\u884c\u5728GPU\u53ca\u5176\u4ed6\u76f8\u4f3c\u7684\u786c\u4ef6\u52a0\u901f\u5668\u4e0a\u3002\n\u4e8b\u5b9e\u4e0a\uff0c\u4e3a\u4e86\u51cf\u5c11\u6570\u636e\u7684\u62f7\u8d1d\uff0c\u5f20\u91cf\u548cNumPy arrays\u5728\u5e95\u5c42\u5e38\u5e38\u5171\u4eab\u540c\u4e00\u5757\u5185\u5b58(`bridge-to-np-label`{.interpreted-text role=\"ref\"})\u3002\n\u5728\u81ea\u52a8\u5fae\u5206(automatic differentiation)\u7684\u8fc7\u7a0b\u4e2d\u4e5f\u4f7f\u7528\u5f20\u91cf\u8fdb\u884c\u4f18\u5316(\u5728\u540e\u7eed[Autograd](autogradqs_tutorial.html)\u7ae0\u8282\u53ef\u4ee5\u770b\u5230\u66f4\u591a\u6709\u5173\u5185\u5bb9)\u3002\n\u5982\u679c\u5df2\u7ecf\u5bf9ndarrays\u5341\u5206\u719f\u6089\u4e86\uff0c\u90a3\u5bf9\u5f20\u91cf\u7684API\u4e5f\u53ef\u4ee5\u8fd0\u7528\u81ea\u5982\u3002\u5982\u679c\u8fd8\u4e0d\u719f\u6089\uff0c\u4e0b\u9762\u7684\u6559\u7a0b\u4f1a\u5e2e\u52a9\u4f60\u4e0a\u624b\u3002\n"
      ]
    },
    {
      "cell_type": "code",
      "execution_count": null,
      "metadata": {
        "collapsed": false
      },
      "outputs": [],
      "source": [
        "import torch\nimport numpy as np"
      ]
    },
    {
      "cell_type": "markdown",
      "metadata": {},
      "source": [
        "## \u521d\u59cb\u5316\u5f20\u91cf\n\n\u6211\u4eec\u53ef\u4ee5\u901a\u8fc7\u591a\u79cd\u65b9\u5f0f\u521b\u5efa\u4e00\u4e2a\u5f20\u91cf\uff0c\u4f8b\u5982\uff1a\n\n**\u4f7f\u7528\u6570\u636e\u521b\u5efa**\n\n\u901a\u8fc7\u5df2\u5b9a\u4e49\u7684\u6570\u636e\u53ef\u4ee5\u76f4\u63a5\u521b\u5efa\u51fa\u6765\u5f20\u91cf\uff0c\u521b\u5efa\u65f6\u4f1a\u81ea\u52a8\u63a8\u65ad\u6570\u636e\u7c7b\u578b\u3002\n\n"
      ]
    },
    {
      "cell_type": "code",
      "execution_count": null,
      "metadata": {
        "collapsed": false
      },
      "outputs": [],
      "source": [
        "data = [[1, 2], [3, 4]]\nx_data = torch.tensor(data)"
      ]
    },
    {
      "cell_type": "markdown",
      "metadata": {},
      "source": [
        "**\u4f7f\u7528NumPy array\u521b\u5efa**\n\n\u53ef\u4ee5\u4f7f\u7528NumPy array\u521b\u5efa\u5f20\u91cf(\u53cd\u4e4b\u4ea6\u53ef`bridge-to-np-label`{.interpreted-text role=\"ref\"})\n\n"
      ]
    },
    {
      "cell_type": "code",
      "execution_count": null,
      "metadata": {
        "collapsed": false
      },
      "outputs": [],
      "source": [
        "np_array = np.array(data)\nx_np = torch.from_numpy(np_array)"
      ]
    },
    {
      "cell_type": "markdown",
      "metadata": {},
      "source": [
        "**\u4f7f\u7528\u5df2\u6709\u5f20\u91cf\u521b\u5efa**\n\n\u65b0\u7684\u5f20\u91cf\u4f1a\u4fdd\u7559\u539f\u5f20\u91cf\u7684\u5c5e\u6027(\u5f62\u72b6\uff0c\u6570\u636e\u7c7b\u578b)\uff0c\u9664\u975e\u521b\u5efa\u65f6\u663e\u793a\u58f0\u660e\u3002\n\n"
      ]
    },
    {
      "cell_type": "code",
      "execution_count": null,
      "metadata": {
        "collapsed": false
      },
      "outputs": [],
      "source": [
        "x_ones = torch.ones_like(x_data)  # retains the properties of x_data\nprint(f\"Ones Tensor: \\n {x_ones} \\n\")\n\n# overrides the datatype of x_data\nx_rand = torch.rand_like(x_data, dtype=torch.float)\nprint(f\"Random Tensor: \\n {x_rand} \\n\")"
      ]
    },
    {
      "cell_type": "markdown",
      "metadata": {},
      "source": [
        "**\u901a\u8fc7\u968f\u673a\u6216\u5e38\u91cf\u521b\u5efa**\n\n`shape` \u63cf\u8ff0\u4e86\u5f20\u91cf\u7684\u7ef4\u5ea6\uff0c\u5728\u4e0b\u9762\u7684\u65b9\u6cd5\u8c03\u7528\u65f6\uff0c\u901a\u8fc7\u5b83\u6765\u58f0\u660e\u521b\u5efa\u5f20\u91cf\u7684\u7ef4\u5ea6\u3002\n\n"
      ]
    },
    {
      "cell_type": "code",
      "execution_count": null,
      "metadata": {
        "collapsed": false
      },
      "outputs": [],
      "source": [
        "shape = (2, 3,)\nrand_tensor = torch.rand(shape)\nones_tensor = torch.ones(shape)\nzeros_tensor = torch.zeros(shape)\n\nprint(f\"Random Tensor: \\n {rand_tensor} \\n\")\nprint(f\"Ones Tensor: \\n {ones_tensor} \\n\")\nprint(f\"Zeros Tensor: \\n {zeros_tensor}\")"
      ]
    },
    {
      "cell_type": "markdown",
      "metadata": {},
      "source": [
        "--------------\n\n\n"
      ]
    },
    {
      "cell_type": "markdown",
      "metadata": {},
      "source": [
        "## \u5f20\u91cf\u7684\u5c5e\u6027\n\n\u5f20\u91cf\u7684\u5c5e\u6027\u4fdd\u5b58\u4e86\u5176\u5f62\u72b6\uff0c\u6570\u636e\u7c7b\u578b\uff0c\u4ee5\u53ca\u5176\u5b58\u50a8\u8bbe\u5907\u7c7b\u578b\u3002\n\n"
      ]
    },
    {
      "cell_type": "code",
      "execution_count": null,
      "metadata": {
        "collapsed": false
      },
      "outputs": [],
      "source": [
        "tensor = torch.rand(3, 4)\n\nprint(f\"Shape of tensor: {tensor.shape}\")\nprint(f\"Datatype of tensor: {tensor.dtype}\")\nprint(f\"Device tensor is stored on: {tensor.device}\")"
      ]
    },
    {
      "cell_type": "markdown",
      "metadata": {},
      "source": [
        "--------------\n\n\n"
      ]
    },
    {
      "cell_type": "markdown",
      "metadata": {},
      "source": [
        "## \u5f20\u91cf\u64cd\u4f5c\n\n\u5f20\u91cf\u6709\u8d85\u8fc7100\u4e2a\u64cd\u4f5c\u65b9\u6cd5\uff0c\u5305\u62ec\u7b97\u6570\u3001\u7ebf\u6027\u4ee3\u6570\u3001\u77e9\u9635\u64cd\u4f5c\uff08\u8f6c\u7f6e\u3001\u7d22\u5f15\u3001\u5207\u7247\uff09\u3001\u91c7\u6837\u7b49\uff0c\u90fd\u5728[\u8fd9\u91cc](https://pytorch.org/docs/stable/torch.html)\u6709\u8be6\u7ec6\u7684\u63cf\u8ff0\u3002\n\n\u6bcf\u4e2a\u64cd\u4f5c\u90fd\u53ef\u4ee5\u5728GPU\u4e0a\u8fd0\u884c\uff08\u901a\u5e38\u6bd4\u5728CPU\u4e0a\u901f\u5ea6\u66f4\u5feb)\u3002\u5982\u679c\u4f60\u5728\u4f7f\u7528Colab\uff0c\u53ef\u4ee5\u901a\u8fc7\u4fee\u6539Runtime \\> Change runtime type \\> GPU\u6765\u5206\u914d\u4e00\u4e2aGPU\u3002\n\n\u9ed8\u8ba4\u60c5\u51b5\u4e0b\u5f20\u91cf\u662f\u5728CPU\u4e0a\u521b\u5efa\u7684\uff0c\u53ef\u4ee5\u901a\u8fc7`.to`\u65b9\u6cd5\u5c06\u5f20\u91cf\u663e\u793a\u7684\u8f6c\u79fb\u5230GPU\u4e0a\uff08\u5982\u679cGPU\u5728\u4f60\u7684\u73af\u5883\u91cc\u53ef\u7528\u7684\u8bdd\uff09\u3002\u9700\u8981\u6ce8\u610f\u7684\u662f\uff0c\u5728\u4e0d\u540c\u8bbe\u5907\u95f4\u590d\u5236\u5927\u578b\u5f20\u91cf\u9700\u8981\u6d88\u8017\u5927\u91cf\u5185\u5b58\uff0c\u5e76\u4e14\u8017\u65f6\u8f83\u957f\u3002\n\n"
      ]
    },
    {
      "cell_type": "code",
      "execution_count": null,
      "metadata": {
        "collapsed": false
      },
      "outputs": [],
      "source": [
        "# We move our tensor to the GPU if available\nif torch.cuda.is_available():\n    tensor = tensor.to(\"cuda\")"
      ]
    },
    {
      "cell_type": "markdown",
      "metadata": {},
      "source": [
        "\u5c1d\u8bd5\u4e0b\u5217\u64cd\u4f5c\uff0c\u5982\u679c\u4f60\u5df2\u7ecf\u5bf9NumPy API\u5341\u5206\u719f\u6089\uff0c\u4e0a\u624b\u5f20\u91cfAPI\u5c06\u4f1a\u5f88\u7b80\u5355\u3002\n\n"
      ]
    },
    {
      "cell_type": "markdown",
      "metadata": {},
      "source": [
        "**\u7c7b\u4f3cnumpy\u7684\u7d22\u5f15\u548c\u5207\u7247\u64cd\u4f5c**\n\n"
      ]
    },
    {
      "cell_type": "code",
      "execution_count": null,
      "metadata": {
        "collapsed": false
      },
      "outputs": [],
      "source": [
        "tensor = torch.ones(4, 4)\nprint(f\"First row: {tensor[0]}\")\nprint(f\"First column: {tensor[:, 0]}\")\nprint(f\"Last column: {tensor[..., -1]}\")\ntensor[:, 1] = 0\nprint(tensor)"
      ]
    },
    {
      "cell_type": "markdown",
      "metadata": {},
      "source": [
        "**\u8fde\u63a5\u5f20\u91cf**\n\u4f60\u53ef\u4ee5\u4f7f\u7528 `torch.cat` \u6cbf\u7740\u7ed9\u5b9a\u7684\u7ef4\u5ea6\u8fde\u63a5\u4e00\u7cfb\u5217\u5f20\u91cf\u3002\u53e6\u4e00\u4e2a\u5f20\u91cf\u8fde\u63a5\u64cd\u4f5c\u7b26\uff0c\n\u4e0e `torch.cat` \u7a0d\u6709\u4e0d\u540c\uff0c\u8bf7\u53c2\u9605 `torch.stack[](https://pytorch.org/docs/stable/generated/torch.stack.html)_\u3002\n\n"
      ]
    },
    {
      "cell_type": "code",
      "execution_count": null,
      "metadata": {
        "collapsed": false
      },
      "outputs": [],
      "source": [
        "t1 = torch.cat([tensor, tensor, tensor], dim=1)\nprint(t1)"
      ]
    },
    {
      "cell_type": "markdown",
      "metadata": {},
      "source": [
        "**\u8fd0\u7b97\u64cd\u4f5c**\n\n"
      ]
    },
    {
      "cell_type": "code",
      "execution_count": null,
      "metadata": {
        "collapsed": false
      },
      "outputs": [],
      "source": [
        "# This computes the matrix multiplication between two tensors. y1, y2, y3 will have the same value\n# ``tensor.T`` returns the transpose of a tensor\ny1 = tensor @ tensor.T\ny2 = tensor.matmul(tensor.T)\n\ny3 = torch.rand_like(y1)\ntorch.matmul(tensor, tensor.T, out=y3)\n\n\n# This computes the element-wise product. z1, z2, z3 will have the same value\nz1 = tensor * tensor\nz2 = tensor.mul(tensor)\n\nz3 = torch.rand_like(tensor)\ntorch.mul(tensor, tensor, out=z3)"
      ]
    },
    {
      "cell_type": "markdown",
      "metadata": {},
      "source": [
        "**\u5355\u4e2a\u5143\u7d20\u7684\u5f20\u91cf**\n\u5728\u805a\u5408\u8fd0\u7b97\u573a\u666f\u4e2d\uff0c\u4f60\u53ef\u80fd\u4f1a\u5f97\u5230\u4e00\u4e2a\u5355\u5143\u7d20\u7684\u5f20\u91cf\uff0c\u53ef\u4f7f\u7528`item()`\u5c06\u5176\u4f20\u5524\u4e3aPython\u6570\u503c\u3002\n\n"
      ]
    },
    {
      "cell_type": "code",
      "execution_count": null,
      "metadata": {
        "collapsed": false
      },
      "outputs": [],
      "source": [
        "agg = tensor.sum()\nagg_item = agg.item()\nprint(agg_item, type(agg_item))"
      ]
    },
    {
      "cell_type": "markdown",
      "metadata": {},
      "source": [
        "**\u539f\u5730\u64cd\u4f5c**\n\u4fee\u6539\u5f20\u91cf\u4e2d\u7684\u539f\u503c\u64cd\u4f5c\u79f0\u4e3a\u539f\u5730\u64cd\u4f5c\u3002\u5b83\u4eec\u4ee5 `_` \u540e\u7f00\u8868\u793a\u3002\u4f8b\u5982\uff1a`x.copy_(y)`\uff0c`x.t_()`\uff0c\u4f1a\u6539\u53d8 `x`\u3002\n\n"
      ]
    },
    {
      "cell_type": "code",
      "execution_count": null,
      "metadata": {
        "collapsed": false
      },
      "outputs": [],
      "source": [
        "print(f\"{tensor} \\n\")\ntensor.add_(5)\nprint(tensor)"
      ]
    },
    {
      "cell_type": "markdown",
      "metadata": {},
      "source": [
        ".. \u63d0\u793a::\n     \u539f\u5730\u64cd\u4f5c\u8282\u7701\u4e86\u4e00\u4e9b\u5185\u5b58\uff0c\u4f46\u5728\u8ba1\u7b97\u5bfc\u6570\u65f6\u53ef\u80fd\u4f1a\u51fa\u73b0\u95ee\u9898\uff0c\u56e0\u4e3a\u4f1a\u7acb\u5373\u4e22\u5931\u5386\u53f2\u8bb0\u5f55\u3002\u56e0\u6b64\uff0c\u4e0d\u5efa\u8bae\u4f7f\u7528\u5b83\u4eec\u3002\n\n"
      ]
    },
    {
      "cell_type": "markdown",
      "metadata": {},
      "source": [
        "--------------\n\n\n"
      ]
    },
    {
      "cell_type": "markdown",
      "metadata": {},
      "source": [
        "\n## \u4e0eNumPy\u8f6c\u6362\n\u5f20\u91cf\u5728\u4f7f\u7528CPU\u65f6\uff0c\u53ef\u4e0eNumPy arrays\u5171\u4eab\u5185\u5b58\u7a7a\u95f4\uff0c\u4fee\u6539\u5176\u4e2d\u4e00\u4e2a\u4f1a\u540c\u6b65\u6620\u5c04\u5230\u53e6\u4e00\u4e2a\u4e0a\u3002\n\n"
      ]
    },
    {
      "cell_type": "markdown",
      "metadata": {},
      "source": [
        "### \u5f20\u91cf\u8f6c\u4e3aNumPy array\n\n"
      ]
    },
    {
      "cell_type": "code",
      "execution_count": null,
      "metadata": {
        "collapsed": false
      },
      "outputs": [],
      "source": [
        "t = torch.ones(5)\nprint(f\"t: {t}\")\nn = t.numpy()\nprint(f\"n: {n}\")"
      ]
    },
    {
      "cell_type": "markdown",
      "metadata": {},
      "source": [
        "\u5bf9\u4e8e\u5f20\u91cf\u7684\u4fee\u6539\u4f53\u73b0\u5230\u4e86NumPy array\u4e0a\u3002\n\n"
      ]
    },
    {
      "cell_type": "code",
      "execution_count": null,
      "metadata": {
        "collapsed": false
      },
      "outputs": [],
      "source": [
        "t.add_(1)\nprint(f\"t: {t}\")\nprint(f\"n: {n}\")"
      ]
    },
    {
      "cell_type": "markdown",
      "metadata": {},
      "source": [
        "### NumPy array\u8f6c\u4e3a\u5f20\u91cf\n\n"
      ]
    },
    {
      "cell_type": "code",
      "execution_count": null,
      "metadata": {
        "collapsed": false
      },
      "outputs": [],
      "source": [
        "n = np.ones(5)\nt = torch.from_numpy(n)"
      ]
    },
    {
      "cell_type": "markdown",
      "metadata": {},
      "source": [
        "NumPy array\u8f6c\u4e3a\u5f20\u91cf\n\n"
      ]
    },
    {
      "cell_type": "code",
      "execution_count": null,
      "metadata": {
        "collapsed": false
      },
      "outputs": [],
      "source": [
        "np.add(n, 1, out=n)\nprint(f\"t: {t}\")\nprint(f\"n: {n}\")"
      ]
    }
  ],
  "metadata": {
    "kernelspec": {
      "display_name": "Python 3",
      "language": "python",
      "name": "python3"
    },
    "language_info": {
      "codemirror_mode": {
        "name": "ipython",
        "version": 3
      },
      "file_extension": ".py",
      "mimetype": "text/x-python",
      "name": "python",
      "nbconvert_exporter": "python",
      "pygments_lexer": "ipython3",
      "version": "3.11.9"
    }
  },
  "nbformat": 4,
  "nbformat_minor": 0
}