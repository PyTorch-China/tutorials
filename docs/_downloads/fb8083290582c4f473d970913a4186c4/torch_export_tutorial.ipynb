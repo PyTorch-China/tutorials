{
  "cells": [
    {
      "cell_type": "code",
      "execution_count": null,
      "metadata": {
        "collapsed": false
      },
      "outputs": [],
      "source": [
        "# For tips on running notebooks in Google Colab, see\n# https://pytorch.org/tutorials/beginner/colab\n%matplotlib inline"
      ]
    },
    {
      "cell_type": "markdown",
      "metadata": {},
      "source": [
        "\n# torch.export Tutorial\n**Author:** William Wen, Zhengxu Chen, Angela Yi\n"
      ]
    },
    {
      "cell_type": "markdown",
      "metadata": {},
      "source": [
        "<div class=\"alert alert-danger\"><h4>Warning</h4><p>``torch.export`` and its related features are in prototype status and are subject to backwards compatibility\n    breaking changes. This tutorial provides a snapshot of ``torch.export`` usage as of PyTorch 2.3.</p></div>\n\n:func:`torch.export` is the PyTorch 2.X way to export PyTorch models into\nstandardized model representations, intended\nto be run on different (i.e. Python-less) environments. The official\ndocumentation can be found [here](https://pytorch.org/docs/main/export.html)_.\n\nIn this tutorial, you will learn how to use :func:`torch.export` to extract\n``ExportedProgram``'s (i.e. single-graph representations) from PyTorch programs.\nWe also detail some considerations/modifications that you may need\nto make in order to make your model compatible with ``torch.export``.\n\n**Contents**\n\n"
      ]
    },
    {
      "cell_type": "markdown",
      "metadata": {},
      "source": [
        "## Basic Usage\n\n``torch.export`` extracts single-graph representations from PyTorch programs\nby tracing the target function, given example inputs.\n``torch.export.export()`` is the main entry point for ``torch.export``.\n\nIn this tutorial, ``torch.export`` and ``torch.export.export()`` are practically synonymous,\nthough ``torch.export`` generally refers to the PyTorch 2.X export process, and ``torch.export.export()``\ngenerally refers to the actual function call.\n\nThe signature of ``torch.export.export()`` is:\n\n```python\nexport(\n    f: Callable,\n    args: Tuple[Any, ...],\n    kwargs: Optional[Dict[str, Any]] = None,\n    *,\n    dynamic_shapes: Optional[Dict[str, Dict[int, Dim]]] = None\n) -> ExportedProgram\n```\n``torch.export.export()`` traces the tensor computation graph from calling ``f(*args, **kwargs)``\nand wraps it in an ``ExportedProgram``, which can be serialized or executed later with\ndifferent inputs. Note that while the output ``ExportedGraph`` is callable and can be\ncalled in the same way as the original input callable, it is not a ``torch.nn.Module``.\nWe will detail the ``dynamic_shapes`` argument later in the tutorial.\n\n"
      ]
    },
    {
      "cell_type": "code",
      "execution_count": null,
      "metadata": {
        "collapsed": false
      },
      "outputs": [],
      "source": [
        "import torch\nfrom torch.export import export\n\nclass MyModule(torch.nn.Module):\n    def __init__(self):\n        super().__init__()\n        self.lin = torch.nn.Linear(100, 10)\n\n    def forward(self, x, y):\n        return torch.nn.functional.relu(self.lin(x + y), inplace=True)\n\nmod = MyModule()\nexported_mod = export(mod, (torch.randn(8, 100), torch.randn(8, 100)))\nprint(type(exported_mod))\nprint(exported_mod.module()(torch.randn(8, 100), torch.randn(8, 100)))"
      ]
    },
    {
      "cell_type": "markdown",
      "metadata": {},
      "source": [
        "Let's review some attributes of ``ExportedProgram`` that are of interest.\n\nThe ``graph`` attribute is an [FX graph](https://pytorch.org/docs/stable/fx.html#torch.fx.Graph)_\ntraced from the function we exported, that is, the computation graph of all PyTorch operations.\nThe FX graph has some important properties:\n\n- The operations are \"ATen-level\" operations.\n- The graph is \"functionalized\", meaning that no operations are mutations.\n\nThe ``graph_module`` attribute is the ``GraphModule`` that wraps the ``graph`` attribute\nso that it can be ran as a ``torch.nn.Module``.\n\n"
      ]
    },
    {
      "cell_type": "code",
      "execution_count": null,
      "metadata": {
        "collapsed": false
      },
      "outputs": [],
      "source": [
        "print(exported_mod)\nprint(exported_mod.graph_module)"
      ]
    },
    {
      "cell_type": "markdown",
      "metadata": {},
      "source": [
        "The printed code shows that FX graph only contains ATen-level ops (such as ``torch.ops.aten``)\nand that mutations were removed. For example, the mutating op ``torch.nn.functional.relu(..., inplace=True)``\nis represented in the printed code by ``torch.ops.aten.relu.default``, which does not mutate.\nFuture uses of input to the original mutating ``relu`` op are replaced by the additional new output\nof the replacement non-mutating ``relu`` op.\n\nOther attributes of interest in ``ExportedProgram`` include:\n\n- ``graph_signature`` -- the inputs, outputs, parameters, buffers, etc. of the exported graph.\n- ``range_constraints`` -- constraints, covered later\n\n"
      ]
    },
    {
      "cell_type": "code",
      "execution_count": null,
      "metadata": {
        "collapsed": false
      },
      "outputs": [],
      "source": [
        "print(exported_mod.graph_signature)"
      ]
    },
    {
      "cell_type": "markdown",
      "metadata": {},
      "source": [
        "See the ``torch.export`` [documentation](https://pytorch.org/docs/main/export.html#torch.export.export)_\nfor more details.\n\n"
      ]
    },
    {
      "cell_type": "markdown",
      "metadata": {},
      "source": [
        "## Graph Breaks\n\nAlthough ``torch.export`` shares components with ``torch.compile``,\nthe key limitation of ``torch.export``, especially when compared to\n``torch.compile``, is that it does not support graph breaks. This is because\nhandling graph breaks involves interpreting the unsupported operation with\ndefault Python evaluation, which is incompatible with the export use case.\nTherefore, in order to make your model code compatible with ``torch.export``,\nyou will need to modify your code to remove graph breaks.\n\nA graph break is necessary in cases such as:\n\n- data-dependent control flow\n\n"
      ]
    },
    {
      "cell_type": "code",
      "execution_count": null,
      "metadata": {
        "collapsed": false
      },
      "outputs": [],
      "source": [
        "class Bad1(torch.nn.Module):\n    def forward(self, x):\n        if x.sum() > 0:\n            return torch.sin(x)\n        return torch.cos(x)\n\nimport traceback as tb\ntry:\n    export(Bad1(), (torch.randn(3, 3),))\nexcept Exception:\n    tb.print_exc()"
      ]
    },
    {
      "cell_type": "markdown",
      "metadata": {},
      "source": [
        "- accessing tensor data with ``.data``\n\n"
      ]
    },
    {
      "cell_type": "code",
      "execution_count": null,
      "metadata": {
        "collapsed": false
      },
      "outputs": [],
      "source": [
        "class Bad2(torch.nn.Module):\n    def forward(self, x):\n        x.data[0, 0] = 3\n        return x\n\ntry:\n    export(Bad2(), (torch.randn(3, 3),))\nexcept Exception:\n    tb.print_exc()"
      ]
    },
    {
      "cell_type": "markdown",
      "metadata": {},
      "source": [
        "- calling unsupported functions (such as many built-in functions)\n\n"
      ]
    },
    {
      "cell_type": "code",
      "execution_count": null,
      "metadata": {
        "collapsed": false
      },
      "outputs": [],
      "source": [
        "class Bad3(torch.nn.Module):\n    def forward(self, x):\n        x = x + 1\n        return x + id(x)\n\ntry:\n    export(Bad3(), (torch.randn(3, 3),))\nexcept Exception:\n    tb.print_exc()"
      ]
    },
    {
      "cell_type": "markdown",
      "metadata": {},
      "source": [
        "- unsupported Python language features (e.g. throwing exceptions, match statements)\n\n"
      ]
    },
    {
      "cell_type": "code",
      "execution_count": null,
      "metadata": {
        "collapsed": false
      },
      "outputs": [],
      "source": [
        "class Bad4(torch.nn.Module):\n    def forward(self, x):\n        try:\n            x = x + 1\n            raise RuntimeError(\"bad\")\n        except:\n            x = x + 2\n        return x\n\ntry:\n    export(Bad4(), (torch.randn(3, 3),))\nexcept Exception:\n    tb.print_exc()"
      ]
    },
    {
      "cell_type": "markdown",
      "metadata": {},
      "source": [
        "## Non-Strict Export\n\nTo trace the program, ``torch.export`` uses TorchDynamo, a byte code analysis\nengine, to symbolically analyze the Python code and build a graph based on the\nresults. This analysis allows ``torch.export`` to provide stronger guarantees\nabout safety, but not all Python code is supported, causing these graph\nbreaks.\n\nTo address this issue, in PyTorch 2.3, we introduced a new mode of\nexporting called non-strict mode, where we trace through the program using the\nPython interpreter executing it exactly as it would in eager mode, allowing us\nto skip over unsupported Python features. This is done through adding a\n``strict=False`` flag.\n\nLooking at some of the previous examples which resulted in graph breaks:\n\n- Accessing tensor data with ``.data`` now works correctly\n\n"
      ]
    },
    {
      "cell_type": "code",
      "execution_count": null,
      "metadata": {
        "collapsed": false
      },
      "outputs": [],
      "source": [
        "class Bad2(torch.nn.Module):\n    def forward(self, x):\n        x.data[0, 0] = 3\n        return x\n\nbad2_nonstrict = export(Bad2(), (torch.randn(3, 3),), strict=False)\nprint(bad2_nonstrict.module()(torch.ones(3, 3)))"
      ]
    },
    {
      "cell_type": "markdown",
      "metadata": {},
      "source": [
        "- Calling unsupported functions (such as many built-in functions) traces\nthrough, but in this case, ``id(x)`` gets specialized as a constant integer in\nthe graph. This is because ``id(x)`` is not a tensor operation, so the\noperation is not recorded in the graph.\n\n"
      ]
    },
    {
      "cell_type": "code",
      "execution_count": null,
      "metadata": {
        "collapsed": false
      },
      "outputs": [],
      "source": [
        "class Bad3(torch.nn.Module):\n    def forward(self, x):\n        x = x + 1\n        return x + id(x)\n\nbad3_nonstrict = export(Bad3(), (torch.randn(3, 3),), strict=False)\nprint(bad3_nonstrict)\nprint(bad3_nonstrict.module()(torch.ones(3, 3)))"
      ]
    },
    {
      "cell_type": "markdown",
      "metadata": {},
      "source": [
        "- Unsupported Python language features (such as throwing exceptions, match\nstatements) now also get traced through.\n\n"
      ]
    },
    {
      "cell_type": "code",
      "execution_count": null,
      "metadata": {
        "collapsed": false
      },
      "outputs": [],
      "source": [
        "class Bad4(torch.nn.Module):\n    def forward(self, x):\n        try:\n            x = x + 1\n            raise RuntimeError(\"bad\")\n        except:\n            x = x + 2\n        return x\n\nbad4_nonstrict = export(Bad4(), (torch.randn(3, 3),), strict=False)\nprint(bad4_nonstrict.module()(torch.ones(3, 3)))"
      ]
    },
    {
      "cell_type": "markdown",
      "metadata": {},
      "source": [
        "However, there are still some features that require rewrites to the original\nmodule:\n\n"
      ]
    },
    {
      "cell_type": "markdown",
      "metadata": {},
      "source": [
        "## Control Flow Ops\n\n``torch.export`` actually does support data-dependent control flow.\nBut these need to be expressed using control flow ops. For example,\nwe can fix the control flow example above using the ``cond`` op, like so:\n\n"
      ]
    },
    {
      "cell_type": "code",
      "execution_count": null,
      "metadata": {
        "collapsed": false
      },
      "outputs": [],
      "source": [
        "from functorch.experimental.control_flow import cond\n\nclass Bad1Fixed(torch.nn.Module):\n    def forward(self, x):\n        def true_fn(x):\n            return torch.sin(x)\n        def false_fn(x):\n            return torch.cos(x)\n        return cond(x.sum() > 0, true_fn, false_fn, [x])\n\nexported_bad1_fixed = export(Bad1Fixed(), (torch.randn(3, 3),))\nprint(exported_bad1_fixed.module()(torch.ones(3, 3)))\nprint(exported_bad1_fixed.module()(-torch.ones(3, 3)))"
      ]
    },
    {
      "cell_type": "markdown",
      "metadata": {},
      "source": [
        "There are limitations to ``cond`` that one should be aware of:\n\n- The predicate (i.e. ``x.sum() > 0``) must result in a boolean or a single-element tensor.\n- The operands (i.e. ``[x]``) must be tensors.\n- The branch function (i.e. ``true_fn`` and ``false_fn``) signature must match with the\n  operands and they must both return a single tensor with the same metadata (for example, ``dtype``, ``shape``, etc.).\n- Branch functions cannot mutate input or global variables.\n- Branch functions cannot access closure variables, except for ``self`` if the function is\n  defined in the scope of a method.\n\nFor more details about ``cond``, check out the [cond documentation](https://pytorch.org/docs/main/cond.html)_.\n\n"
      ]
    },
    {
      "cell_type": "markdown",
      "metadata": {},
      "source": [
        "..\n    [NOTE] map is not documented at the moment\n    We can also use ``map``, which applies a function across the first dimension\n    of the first tensor argument.\n\n    from functorch.experimental.control_flow import map\n\n    def map_example(xs):\n        def map_fn(x, const):\n            def true_fn(x):\n                return x + const\n            def false_fn(x):\n                return x - const\n            return control_flow.cond(x.sum() > 0, true_fn, false_fn, [x])\n        return control_flow.map(map_fn, xs, torch.tensor([2.0]))\n\n    exported_map_example= export(map_example, (torch.randn(4, 3),))\n    inp = torch.cat((torch.ones(2, 3), -torch.ones(2, 3)))\n    print(exported_map_example(inp))\n\n"
      ]
    },
    {
      "cell_type": "markdown",
      "metadata": {},
      "source": [
        "## Constraints/Dynamic Shapes\n\nOps can have different specializations/behaviors for different tensor shapes, so by default,\n``torch.export`` requires inputs to ``ExportedProgram`` to have the same shape as the respective\nexample inputs given to the initial ``torch.export.export()`` call.\nIf we try to run the ``ExportedProgram`` in the example below with a tensor\nwith a different shape, we get an error:\n\n"
      ]
    },
    {
      "cell_type": "code",
      "execution_count": null,
      "metadata": {
        "collapsed": false
      },
      "outputs": [],
      "source": [
        "class MyModule2(torch.nn.Module):\n    def __init__(self):\n        super().__init__()\n        self.lin = torch.nn.Linear(100, 10)\n\n    def forward(self, x, y):\n        return torch.nn.functional.relu(self.lin(x + y), inplace=True)\n\nmod2 = MyModule2()\nexported_mod2 = export(mod2, (torch.randn(8, 100), torch.randn(8, 100)))\n\ntry:\n    exported_mod2.module()(torch.randn(10, 100), torch.randn(10, 100))\nexcept Exception:\n    tb.print_exc()"
      ]
    },
    {
      "cell_type": "markdown",
      "metadata": {},
      "source": [
        "We can relax this constraint using the ``dynamic_shapes`` argument of\n``torch.export.export()``, which allows us to specify, using ``torch.export.Dim``\n([documentation](https://pytorch.org/docs/main/export.html#torch.export.Dim)_),\nwhich dimensions of the input tensors are dynamic.\n\nFor each tensor argument of the input callable, we can specify a mapping from the dimension\nto a ``torch.export.Dim``.\nA ``torch.export.Dim`` is essentially a named symbolic integer with optional\nminimum and maximum bounds.\n\nThen, the format of ``torch.export.export()``'s ``dynamic_shapes`` argument is a mapping\nfrom the input callable's tensor argument names, to dimension --> dim mappings as described above.\nIf there is no ``torch.export.Dim`` given to a tensor argument's dimension, then that dimension is\nassumed to be static.\n\nThe first argument of ``torch.export.Dim`` is the name for the symbolic integer, used for debugging.\nThen we can specify an optional minimum and maximum bound (inclusive). Below, we show a usage example.\n\nIn the example below, our input\n``inp1`` has an unconstrained first dimension, but the size of the second\ndimension must be in the interval [4, 18].\n\n"
      ]
    },
    {
      "cell_type": "code",
      "execution_count": null,
      "metadata": {
        "collapsed": false
      },
      "outputs": [],
      "source": [
        "from torch.export import Dim\n\ninp1 = torch.randn(10, 10, 2)\n\nclass DynamicShapesExample1(torch.nn.Module):\n    def forward(self, x):\n        x = x[:, 2:]\n        return torch.relu(x)\n\ninp1_dim0 = Dim(\"inp1_dim0\")\ninp1_dim1 = Dim(\"inp1_dim1\", min=4, max=18)\ndynamic_shapes1 = {\n    \"x\": {0: inp1_dim0, 1: inp1_dim1},\n}\n\nexported_dynamic_shapes_example1 = export(DynamicShapesExample1(), (inp1,), dynamic_shapes=dynamic_shapes1)\n\nprint(exported_dynamic_shapes_example1.module()(torch.randn(5, 5, 2)))\n\ntry:\n    exported_dynamic_shapes_example1.module()(torch.randn(8, 1, 2))\nexcept Exception:\n    tb.print_exc()\n\ntry:\n    exported_dynamic_shapes_example1.module()(torch.randn(8, 20, 2))\nexcept Exception:\n    tb.print_exc()\n\ntry:\n    exported_dynamic_shapes_example1.module()(torch.randn(8, 8, 3))\nexcept Exception:\n    tb.print_exc()"
      ]
    },
    {
      "cell_type": "markdown",
      "metadata": {},
      "source": [
        "Note that if our example inputs to ``torch.export`` do not satisfy the constraints\ngiven by ``dynamic_shapes``, then we get an error.\n\n"
      ]
    },
    {
      "cell_type": "code",
      "execution_count": null,
      "metadata": {
        "collapsed": false
      },
      "outputs": [],
      "source": [
        "inp1_dim1_bad = Dim(\"inp1_dim1_bad\", min=11, max=18)\ndynamic_shapes1_bad = {\n    \"x\": {0: inp1_dim0, 1: inp1_dim1_bad},\n}\n\ntry:\n    export(DynamicShapesExample1(), (inp1,), dynamic_shapes=dynamic_shapes1_bad)\nexcept Exception:\n    tb.print_exc()"
      ]
    },
    {
      "cell_type": "markdown",
      "metadata": {},
      "source": [
        "We can enforce that equalities between dimensions of different tensors\nby using the same ``torch.export.Dim`` object, for example, in matrix multiplication:\n\n"
      ]
    },
    {
      "cell_type": "code",
      "execution_count": null,
      "metadata": {
        "collapsed": false
      },
      "outputs": [],
      "source": [
        "inp2 = torch.randn(4, 8)\ninp3 = torch.randn(8, 2)\n\nclass DynamicShapesExample2(torch.nn.Module):\n    def forward(self, x, y):\n        return x @ y\n\ninp2_dim0 = Dim(\"inp2_dim0\")\ninner_dim = Dim(\"inner_dim\")\ninp3_dim1 = Dim(\"inp3_dim1\")\n\ndynamic_shapes2 = {\n    \"x\": {0: inp2_dim0, 1: inner_dim},\n    \"y\": {0: inner_dim, 1: inp3_dim1},\n}\n\nexported_dynamic_shapes_example2 = export(DynamicShapesExample2(), (inp2, inp3), dynamic_shapes=dynamic_shapes2)\n\nprint(exported_dynamic_shapes_example2.module()(torch.randn(2, 16), torch.randn(16, 4)))\n\ntry:\n    exported_dynamic_shapes_example2.module()(torch.randn(4, 8), torch.randn(4, 2))\nexcept Exception:\n    tb.print_exc()"
      ]
    },
    {
      "cell_type": "markdown",
      "metadata": {},
      "source": [
        "We can also describe one dimension in terms of other. There are some\nrestrictions to how detailed we can specify one dimension in terms of another,\nbut generally, those in the form of ``A * Dim + B`` should work.\n\n"
      ]
    },
    {
      "cell_type": "code",
      "execution_count": null,
      "metadata": {
        "collapsed": false
      },
      "outputs": [],
      "source": [
        "class DerivedDimExample1(torch.nn.Module):\n    def forward(self, x, y):\n        return x + y[1:]\n\nfoo = DerivedDimExample1()\n\nx, y = torch.randn(5), torch.randn(6)\ndimx = torch.export.Dim(\"dimx\", min=3, max=6)\ndimy = dimx + 1\nderived_dynamic_shapes1 = ({0: dimx}, {0: dimy})\n\nderived_dim_example1 = export(foo, (x, y), dynamic_shapes=derived_dynamic_shapes1)\n\nprint(derived_dim_example1.module()(torch.randn(4), torch.randn(5)))\n\ntry:\n    derived_dim_example1.module()(torch.randn(4), torch.randn(6))\nexcept Exception:\n    tb.print_exc()\n\n\nclass DerivedDimExample2(torch.nn.Module):\n    def forward(self, z, y):\n        return z[1:] + y[1::3]\n\nfoo = DerivedDimExample2()\n\nz, y = torch.randn(4), torch.randn(10)\ndx = torch.export.Dim(\"dx\", min=3, max=6)\ndz = dx + 1\ndy = dx * 3 + 1\nderived_dynamic_shapes2 = ({0: dz}, {0: dy})\n\nderived_dim_example2 = export(foo, (z, y), dynamic_shapes=derived_dynamic_shapes2)\nprint(derived_dim_example2.module()(torch.randn(7), torch.randn(19)))"
      ]
    },
    {
      "cell_type": "markdown",
      "metadata": {},
      "source": [
        "We can actually use ``torch.export`` to guide us as to which ``dynamic_shapes`` constraints\nare necessary. We can do this by relaxing all constraints (recall that if we\ndo not provide constraints for a dimension, the default behavior is to constrain\nto the exact shape value of the example input) and letting ``torch.export``\nerror out.\n\n"
      ]
    },
    {
      "cell_type": "code",
      "execution_count": null,
      "metadata": {
        "collapsed": false
      },
      "outputs": [],
      "source": [
        "inp4 = torch.randn(8, 16)\ninp5 = torch.randn(16, 32)\n\nclass DynamicShapesExample3(torch.nn.Module):\n    def forward(self, x, y):\n        if x.shape[0] <= 16:\n            return x @ y[:, :16]\n        return y\n\ndynamic_shapes3 = {\n    \"x\": {i: Dim(f\"inp4_dim{i}\") for i in range(inp4.dim())},\n    \"y\": {i: Dim(f\"inp5_dim{i}\") for i in range(inp5.dim())},\n}\n\ntry:\n    export(DynamicShapesExample3(), (inp4, inp5), dynamic_shapes=dynamic_shapes3)\nexcept Exception:\n    tb.print_exc()"
      ]
    },
    {
      "cell_type": "markdown",
      "metadata": {},
      "source": [
        "We can see that the error message gives us suggested fixes to our\ndynamic shape constraints. Let us follow those suggestions (exact\nsuggestions may differ slightly):\n\n"
      ]
    },
    {
      "cell_type": "code",
      "execution_count": null,
      "metadata": {
        "collapsed": false
      },
      "outputs": [],
      "source": [
        "def suggested_fixes():\n    inp4_dim1 = Dim('shared_dim')\n    # suggested fixes below\n    inp4_dim0 = Dim('inp4_dim0', max=16)\n    inp5_dim1 = Dim('inp5_dim1', min=17)\n    inp5_dim0 = inp4_dim1\n    # end of suggested fixes\n    return {\n        \"x\": {0: inp4_dim0, 1: inp4_dim1},\n        \"y\": {0: inp5_dim0, 1: inp5_dim1},\n    }\n\ndynamic_shapes3_fixed = suggested_fixes()\nexported_dynamic_shapes_example3 = export(DynamicShapesExample3(), (inp4, inp5), dynamic_shapes=dynamic_shapes3_fixed)\nprint(exported_dynamic_shapes_example3.module()(torch.randn(4, 32), torch.randn(32, 64)))"
      ]
    },
    {
      "cell_type": "markdown",
      "metadata": {},
      "source": [
        "Note that in the example above, because we constrained the value of ``x.shape[0]`` in\n``dynamic_shapes_example3``, the exported program is sound even though there is a\nraw ``if`` statement.\n\nIf you want to see why ``torch.export`` generated these constraints, you can\nre-run the script with the environment variable ``TORCH_LOGS=dynamic,dynamo``,\nor use ``torch._logging.set_logs``.\n\n"
      ]
    },
    {
      "cell_type": "code",
      "execution_count": null,
      "metadata": {
        "collapsed": false
      },
      "outputs": [],
      "source": [
        "import logging\ntorch._logging.set_logs(dynamic=logging.INFO, dynamo=logging.INFO)\nexported_dynamic_shapes_example3 = export(DynamicShapesExample3(), (inp4, inp5), dynamic_shapes=dynamic_shapes3_fixed)\n\n# reset to previous values\ntorch._logging.set_logs(dynamic=logging.WARNING, dynamo=logging.WARNING)"
      ]
    },
    {
      "cell_type": "markdown",
      "metadata": {},
      "source": [
        "We can view an ``ExportedProgram``'s symbolic shape ranges using the\n``range_constraints`` field.\n\n"
      ]
    },
    {
      "cell_type": "code",
      "execution_count": null,
      "metadata": {
        "collapsed": false
      },
      "outputs": [],
      "source": [
        "print(exported_dynamic_shapes_example3.range_constraints)"
      ]
    },
    {
      "cell_type": "markdown",
      "metadata": {},
      "source": [
        "## Custom Ops\n\n``torch.export`` can export PyTorch programs with custom operators.\n\nCurrently, the steps to register a custom op for use by ``torch.export`` are:\n\n- Define the custom op using ``torch.library`` ([reference](https://pytorch.org/docs/main/library.html)_)\n  as with any other custom op\n\n"
      ]
    },
    {
      "cell_type": "code",
      "execution_count": null,
      "metadata": {
        "collapsed": false
      },
      "outputs": [],
      "source": [
        "from torch.library import Library, impl, impl_abstract\n\nm = Library(\"my_custom_library\", \"DEF\")\n\nm.define(\"custom_op(Tensor input) -> Tensor\")\n\n@impl(m, \"custom_op\", \"CompositeExplicitAutograd\")\ndef custom_op(x):\n    print(\"custom_op called!\")\n    return torch.relu(x)"
      ]
    },
    {
      "cell_type": "markdown",
      "metadata": {},
      "source": [
        "- Define a ``\"Meta\"`` implementation of the custom op that returns an empty\n  tensor with the same shape as the expected output\n\n"
      ]
    },
    {
      "cell_type": "code",
      "execution_count": null,
      "metadata": {
        "collapsed": false
      },
      "outputs": [],
      "source": [
        "@impl_abstract(\"my_custom_library::custom_op\")\ndef custom_op_meta(x):\n    return torch.empty_like(x)"
      ]
    },
    {
      "cell_type": "markdown",
      "metadata": {},
      "source": [
        "- Call the custom op from the code you want to export using ``torch.ops``\n\n"
      ]
    },
    {
      "cell_type": "code",
      "execution_count": null,
      "metadata": {
        "collapsed": false
      },
      "outputs": [],
      "source": [
        "class CustomOpExample(torch.nn.Module):\n    def forward(self, x):\n        x = torch.sin(x)\n        x = torch.ops.my_custom_library.custom_op(x)\n        x = torch.cos(x)\n        return x"
      ]
    },
    {
      "cell_type": "markdown",
      "metadata": {},
      "source": [
        "- Export the code as before\n\n"
      ]
    },
    {
      "cell_type": "code",
      "execution_count": null,
      "metadata": {
        "collapsed": false
      },
      "outputs": [],
      "source": [
        "exported_custom_op_example = export(CustomOpExample(), (torch.randn(3, 3),))\nexported_custom_op_example.graph_module.print_readable()\nprint(exported_custom_op_example.module()(torch.randn(3, 3)))"
      ]
    },
    {
      "cell_type": "markdown",
      "metadata": {},
      "source": [
        "Note in the above outputs that the custom op is included in the exported graph.\nAnd when we call the exported graph as a function, the original custom op is called,\nas evidenced by the ``print`` call.\n\nIf you have a custom operator implemented in C++, please refer to\n[this document](https://docs.google.com/document/d/1_W62p8WJOQQUzPsJYa7s701JXt0qf2OfLub2sbkHOaU/edit#heading=h.ahugy69p2jmz)_\nto make it compatible with ``torch.export``.\n\n"
      ]
    },
    {
      "cell_type": "markdown",
      "metadata": {},
      "source": [
        "## Decompositions\n\nThe graph produced by ``torch.export`` by default returns a graph containing\nonly functional ATen operators. This functional ATen operator set (or \"opset\") contains around 2000\noperators, all of which are functional, that is, they do not\nmutate or alias inputs.  You can find a list of all ATen operators\n[here](https://github.com/pytorch/pytorch/blob/main/aten/src/ATen/native/native_functions.yaml)_\nand you can inspect if an operator is functional by checking\n``op._schema.is_mutable``, for example:\n\n"
      ]
    },
    {
      "cell_type": "code",
      "execution_count": null,
      "metadata": {
        "collapsed": false
      },
      "outputs": [],
      "source": [
        "print(torch.ops.aten.add.Tensor._schema.is_mutable)\nprint(torch.ops.aten.add_.Tensor._schema.is_mutable)"
      ]
    },
    {
      "cell_type": "markdown",
      "metadata": {},
      "source": [
        "By default, the environment in which you want to run the exported graph\nshould support all ~2000 of these operators.\nHowever, you can use the following API on the exported program\nif your specific environment is only able to support a subset of\nthe ~2000 operators.\n\n```python\ndef run_decompositions(\n    self: ExportedProgram,\n    decomposition_table: Optional[Dict[torch._ops.OperatorBase, Callable]]\n) -> ExportedProgram\n```\n``run_decompositions`` takes in a decomposition table, which is a mapping of\noperators to a function specifying how to reduce, or decompose, that operator\ninto an equivalent sequence of other ATen operators.\n\nThe default decomposition table for ``run_decompositions`` is the\n[Core ATen decomposition table](https://github.com/pytorch/pytorch/blob/b460c3089367f3fadd40aa2cb3808ee370aa61e1/torch/_decomp/__init__.py#L252)_\nwhich will decompose the all ATen operators to the\n[Core ATen Operator Set](https://pytorch.org/docs/main/torch.compiler_ir.html#core-aten-ir)_\nwhich consists of only ~180 operators.\n\n"
      ]
    },
    {
      "cell_type": "code",
      "execution_count": null,
      "metadata": {
        "collapsed": false
      },
      "outputs": [],
      "source": [
        "class M(torch.nn.Module):\n    def __init__(self):\n        super().__init__()\n        self.linear = torch.nn.Linear(3, 4)\n\n    def forward(self, x):\n        return self.linear(x)\n\nep = export(M(), (torch.randn(2, 3),))\nprint(ep.graph)\n\ncore_ir_ep = ep.run_decompositions()\nprint(core_ir_ep.graph)"
      ]
    },
    {
      "cell_type": "markdown",
      "metadata": {},
      "source": [
        "Notice that after running ``run_decompositions`` the\n``torch.ops.aten.t.default`` operator, which is not part of the Core ATen\nOpset, has been replaced with ``torch.ops.aten.permute.default`` which is part\nof the Core ATen Opset.\n\nMost ATen operators already have decompositions, which are located\n[here](https://github.com/pytorch/pytorch/blob/b460c3089367f3fadd40aa2cb3808ee370aa61e1/torch/_decomp/decompositions.py)_.\nIf you would like to use some of these existing decomposition functions,\nyou can pass in a list of operators you would like to decompose to the\n[get_decompositions](https://github.com/pytorch/pytorch/blob/b460c3089367f3fadd40aa2cb3808ee370aa61e1/torch/_decomp/__init__.py#L191)_\nfunction, which will return a decomposition table using existing\ndecomposition implementations.\n\n"
      ]
    },
    {
      "cell_type": "code",
      "execution_count": null,
      "metadata": {
        "collapsed": false
      },
      "outputs": [],
      "source": [
        "class M(torch.nn.Module):\n    def __init__(self):\n        super().__init__()\n        self.linear = torch.nn.Linear(3, 4)\n\n    def forward(self, x):\n        return self.linear(x)\n\nep = export(M(), (torch.randn(2, 3),))\nprint(ep.graph)\n\nfrom torch._decomp import get_decompositions\ndecomp_table = get_decompositions([torch.ops.aten.t.default, torch.ops.aten.transpose.int])\ncore_ir_ep = ep.run_decompositions(decomp_table)\nprint(core_ir_ep.graph)"
      ]
    },
    {
      "cell_type": "markdown",
      "metadata": {},
      "source": [
        "If there is no existing decomposition function for an ATen operator that you would\nlike to decompose, feel free to send a pull request into PyTorch\nimplementing the decomposition!\n\n"
      ]
    },
    {
      "cell_type": "markdown",
      "metadata": {},
      "source": [
        "## ExportDB\n\n``torch.export`` will only ever export a single computation graph from a PyTorch program. Because of this requirement,\nthere will be Python or PyTorch features that are not compatible with ``torch.export``, which will require users to\nrewrite parts of their model code. We have seen examples of this earlier in the tutorial -- for example, rewriting\nif-statements using ``cond``.\n\n[ExportDB](https://pytorch.org/docs/main/generated/exportdb/index.html)_ is the standard reference that documents\nsupported and unsupported Python/PyTorch features for ``torch.export``. It is essentially a list a program samples, each\nof which represents the usage of one particular Python/PyTorch feature and its interaction with ``torch.export``.\nExamples are also tagged by category so that they can be more easily searched.\n\nFor example, let's use ExportDB to get a better understanding of how the predicate works in the ``cond`` operator.\nWe can look at the example called ``cond_predicate``, which has a ``torch.cond`` tag. The example code looks like:\n\n"
      ]
    },
    {
      "cell_type": "code",
      "execution_count": null,
      "metadata": {
        "collapsed": false
      },
      "outputs": [],
      "source": [
        "def cond_predicate(x):\n    \"\"\"\n    The conditional statement (aka predicate) passed to ``cond()`` must be one of the following:\n    - ``torch.Tensor`` with a single element\n    - boolean expression\n    NOTE: If the `pred` is test on a dim with batch size < 2, it will be specialized.\n    \"\"\"\n    pred = x.dim() > 2 and x.shape[2] > 10\n    return cond(pred, lambda x: x.cos(), lambda y: y.sin(), [x])"
      ]
    },
    {
      "cell_type": "markdown",
      "metadata": {},
      "source": [
        "More generally, ExportDB can be used as a reference when one of the following occurs:\n\n1. Before attempting ``torch.export``, you know ahead of time that your model uses some tricky Python/PyTorch features\n   and you want to know if ``torch.export`` covers that feature.\n2. When attempting ``torch.export``, there is a failure and it's unclear how to work around it.\n\nExportDB is not exhaustive, but is intended to cover all use cases found in typical PyTorch code. Feel free to reach\nout if there is an important Python/PyTorch feature that should be added to ExportDB or supported by ``torch.export``.\n\n"
      ]
    },
    {
      "cell_type": "markdown",
      "metadata": {},
      "source": [
        "## Running the Exported Program\n\nAs ``torch.export`` is only a graph capturing mechanism, calling the artifact\nproduced by ``torch.export`` eagerly will be equivalent to running the eager\nmodule. To optimize the execution of the Exported Program, we can pass this\nexported artifact to backends such as Inductor through ``torch.compile``,\n[AOTInductor](https://pytorch.org/docs/main/torch.compiler_aot_inductor.html)_,\nor [TensorRT](https://pytorch.org/TensorRT/dynamo/dynamo_export.html)_.\n\n"
      ]
    },
    {
      "cell_type": "code",
      "execution_count": null,
      "metadata": {
        "collapsed": false
      },
      "outputs": [],
      "source": [
        "class M(torch.nn.Module):\n    def __init__(self):\n        super().__init__()\n        self.linear = torch.nn.Linear(3, 3)\n\n    def forward(self, x):\n        x = self.linear(x)\n        return x\n\ninp = torch.randn(2, 3, device=\"cuda\")\nm = M().to(device=\"cuda\")\nep = torch.export.export(m, (inp,))\n\n# Run it eagerly\nres = ep.module()(inp)\nprint(res)\n\n# Run it with torch.compile\nres = torch.compile(ep.module(), backend=\"inductor\")(inp)\nprint(res)"
      ]
    },
    {
      "cell_type": "markdown",
      "metadata": {},
      "source": [
        "```python\nimport torch._export\nimport torch._inductor\n\n# Note: these APIs are subject to change\n# Compile the exported program to a .so using ``AOTInductor``\nwith torch.no_grad():\nso_path = torch._inductor.aot_compile(ep.module(), [inp])\n\n# Load and run the .so file in Python.\n# To load and run it in a C++ environment, see:\n# https://pytorch.org/docs/main/torch.compiler_aot_inductor.html\nres = torch._export.aot_load(so_path, device=\"cuda\")(inp)\n```\n"
      ]
    },
    {
      "cell_type": "markdown",
      "metadata": {},
      "source": [
        "## Conclusion\n\nWe introduced ``torch.export``, the new PyTorch 2.X way to export single computation\ngraphs from PyTorch programs. In particular, we demonstrate several code modifications\nand considerations (control flow ops, constraints, etc.) that need to be made in order to export a graph.\n\n"
      ]
    }
  ],
  "metadata": {
    "kernelspec": {
      "display_name": "Python 3",
      "language": "python",
      "name": "python3"
    },
    "language_info": {
      "codemirror_mode": {
        "name": "ipython",
        "version": 3
      },
      "file_extension": ".py",
      "mimetype": "text/x-python",
      "name": "python",
      "nbconvert_exporter": "python",
      "pygments_lexer": "ipython3",
      "version": "3.10.0"
    }
  },
  "nbformat": 4,
  "nbformat_minor": 0
}