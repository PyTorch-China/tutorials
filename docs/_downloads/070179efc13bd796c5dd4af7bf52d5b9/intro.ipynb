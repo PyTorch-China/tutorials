{
  "cells": [
    {
      "cell_type": "code",
      "execution_count": null,
      "metadata": {
        "collapsed": false
      },
      "outputs": [],
      "source": [
        "# For tips on running notebooks in Google Colab, see\n# https://pytorch.org/tutorials/beginner/colab\n%matplotlib inline"
      ]
    },
    {
      "cell_type": "markdown",
      "metadata": {},
      "source": [
        "\n**\u57fa\u7840\u77e5\u8bc6** ||\n[\u5feb\u901f\u5165\u95e8](quickstart_tutorial.html) ||\n[\u5f20\u91cf](tensorqs_tutorial.html) ||\n[\u6570\u636e\u96c6\u4e0e\u6570\u636e\u52a0\u8f7d\u5668](data_tutorial.html) ||\n[Transforms](transforms_tutorial.html) ||\n[\u6784\u5efa\u795e\u7ecf\u7f51\u7edc](buildmodel_tutorial.html) ||\n[\u81ea\u52a8\u5fae\u5206](autogradqs_tutorial.html) ||\n[\u4f18\u5316\u6a21\u578b\u53c2\u6570](optimization_tutorial.html) ||\n[\u4fdd\u5b58\u548c\u52a0\u8f7d\u6a21\u578b](saveloadrun_tutorial.html)\n\n# \u57fa\u7840\u77e5\u8bc6\n\nAuthors:\n[Suraj Subramanian](https://github.com/suraj813),\n[Seth Juarez](https://github.com/sethjuarez/),\n[Cassie Breviu](https://github.com/cassieview/),\n[Dmitry Soshnikov](https://soshnikov.com/),\n[Ari Bornstein](https://github.com/aribornstein/)\n\n\u5927\u591a\u6570\u673a\u5668\u5b66\u4e60\u5de5\u4f5c\u6d41\u6d89\u53ca\u5904\u7406\u6570\u636e\u3001\u521b\u5efa\u6a21\u578b\u3001\u4f18\u5316\u6a21\u578b\u53c2\u6570\u548c\u4fdd\u5b58\u8bad\u7ec3\u597d\u7684\u6a21\u578b\u3002\u672c\u6559\u7a0b\u5c06\u5411\u60a8\u4ecb\u7ecd\u5728PyTorch\u4e2d\u5b9e\u73b0\u7684\u5b8c\u6574ML\u5de5\u4f5c\u6d41\uff0c\u5e76\u63d0\u4f9b\u94fe\u63a5\u4ee5\u4e86\u89e3\u6709\u5173\u8fd9\u4e9b\u6982\u5ff5\u7684\u66f4\u591a\u4fe1\u606f\u3002\n\n\u6211\u4eec\u5c06\u4f7f\u7528FashionMNIST\u6570\u636e\u96c6\u6765\u8bad\u7ec3\u4e00\u4e2a\u795e\u7ecf\u7f51\u7edc\uff0c\u8be5\u7f51\u7edc\u53ef\u4ee5\u9884\u6d4b\u8f93\u5165\u56fe\u50cf\u662f\u5426\u5c5e\u4e8e\u4ee5\u4e0b\u7c7b\u522b\u4e4b\u4e00\uff1aT\u6064/\u4e0a\u8863\u3001\u957f\u88e4\u3001\u5957\u5934\u886b\u3001\u8fde\u8863\u88d9\u3001\u5916\u5957\u3001\u51c9\u978b\u3001\u886c\u886b\u3001\u8fd0\u52a8\u978b\u3001\u5305\u6216\u8e1d\u9774\u3002\n\n`\u672c\u6559\u7a0b\u5047\u8bbe\u60a8\u5bf9Python\u548c\u6df1\u5ea6\u5b66\u4e60\u6982\u5ff5\u6709\u57fa\u672c\u7684\u4e86\u89e3\u3002`\n\n## \u8fd0\u884c\u6559\u7a0b\u4ee3\u7801\n\u60a8\u53ef\u4ee5\u901a\u8fc7\u4ee5\u4e0b\u51e0\u79cd\u65b9\u5f0f\u8fd0\u884c\u672c\u6559\u7a0b\uff1a\n\n- **\u5728\u4e91\u7aef**\uff1a\u8fd9\u662f\u5f00\u59cb\u7684\u6700\u7b80\u5355\u65b9\u5f0f\uff01\u6bcf\u4e2a\u90e8\u5206\u7684\u9876\u90e8\u90fd\u6709\u4e00\u4e2a\u201c\u5728Microsoft Learn\u4e2d\u8fd0\u884c\u201d\u548c\u201c\u5728Google Colab\u4e2d\u8fd0\u884c\u201d\u7684\u94fe\u63a5\uff0c\u5206\u522b\u4f1a\u5728Microsoft Learn\u6216Google Colab\u4e2d\u6253\u5f00\u4e00\u4e2a\u96c6\u6210\u7684\u7b14\u8bb0\u672c\uff0c\u63d0\u4f9b\u5e26\u6709\u4ee3\u7801\u7684\u5b8c\u5168\u6258\u7ba1\u73af\u5883\u3002\n- **\u672c\u5730\u8fd0\u884c**\uff1a\u6b64\u9009\u9879\u9700\u8981\u60a8\u9996\u5148\u5728\u672c\u5730\u673a\u5668\u4e0a\u8bbe\u7f6ePyTorch\u548cTorchVision\uff08[\u5b89\u88c5\u8bf4\u660e](https://pytorch.org/get-started/locally/)\uff09\u3002\u4e0b\u8f7d\u7b14\u8bb0\u672c\u6216\u5c06\u4ee3\u7801\u590d\u5236\u5230\u60a8\u559c\u6b22\u7684IDE\u4e2d\u3002\n\n## \u5982\u4f55\u4f7f\u7528\u672c\u6307\u5357\n\u5982\u679c\u60a8\u719f\u6089\u5176\u4ed6\u6df1\u5ea6\u5b66\u4e60\u6846\u67b6\uff0c\u8bf7\u5148\u67e5\u770b[0. \u5feb\u901f\u5165\u95e8](quickstart_tutorial.html)\uff0c\u4ee5\u5feb\u901f\u719f\u6089PyTorch\u7684API\u3002\n\n\u5982\u679c\u60a8\u662f\u6df1\u5ea6\u5b66\u4e60\u6846\u67b6\u7684\u65b0\u624b\uff0c\u8bf7\u76f4\u63a5\u8fdb\u5165\u6211\u4eec\u9010\u6b65\u6307\u5357\u7684\u7b2c\u4e00\u90e8\u5206\uff1a[1. \u5f20\u91cf](tensor_tutorial.html)\u3002\n\n.. include:: /beginner_source/basics/qs_toc.txt\n\n.. toctree::\n   :hidden:\n"
      ]
    }
  ],
  "metadata": {
    "kernelspec": {
      "display_name": "Python 3",
      "language": "python",
      "name": "python3"
    },
    "language_info": {
      "codemirror_mode": {
        "name": "ipython",
        "version": 3
      },
      "file_extension": ".py",
      "mimetype": "text/x-python",
      "name": "python",
      "nbconvert_exporter": "python",
      "pygments_lexer": "ipython3",
      "version": "3.10.0"
    }
  },
  "nbformat": 4,
  "nbformat_minor": 0
}