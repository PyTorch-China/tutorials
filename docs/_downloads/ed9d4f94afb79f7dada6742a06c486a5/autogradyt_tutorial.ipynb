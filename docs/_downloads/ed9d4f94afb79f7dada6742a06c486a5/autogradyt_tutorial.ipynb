{
  "cells": [
    {
      "cell_type": "code",
      "execution_count": null,
      "metadata": {
        "collapsed": false
      },
      "outputs": [],
      "source": [
        "# For tips on running notebooks in Google Colab, see\n# https://pytorch.org/tutorials/beginner/colab\n%matplotlib inline"
      ]
    },
    {
      "cell_type": "markdown",
      "metadata": {},
      "source": [
        "\n[\u7b80\u4ecb](introyt1_tutorial.html) ||\n[\u5f20\u91cf](tensors_deeper_tutorial.html) ||\n**\u81ea\u52a8\u5fae\u5206** ||\n[\u6784\u5efa\u6a21\u578b](modelsyt_tutorial.html) ||\n[TensorBoard\u652f\u6301](tensorboardyt_tutorial.html) ||\n[\u8bad\u7ec3\u6a21\u578b](trainingyt.html) ||\n[\u6a21\u578b\u7406\u89e3](captumyt.html)\n\n# \u81ea\u52a8\u5fae\u5206\u57fa\u7840\n\u8ddf\u968f\u4e0b\u9762\u7684\u89c6\u9891\u6216\u5728 [youtube](https://www.youtube.com/watch?v=M0fX15_-xrY)_ \u4e0a\u89c2\u770b\u3002\n\n.. raw:: html\n\n   <div style=\"margin-top:10px; margin-bottom:10px;\">\n     <iframe width=\"560\" height=\"315\" src=\"https://www.youtube.com/embed/M0fX15_-xrY\" frameborder=\"0\" allow=\"accelerometer; encrypted-media; gyroscope; picture-in-picture\" allowfullscreen></iframe>\n   </div>\n\nPyTorch \u7684 *Autograd* \u529f\u80fd\u662f\u4f7f PyTorch \u5728\u6784\u5efa\u673a\u5668\u5b66\u4e60\u9879\u76ee\u65f6\u7075\u6d3b\u4e14\u5feb\u901f\u7684\u90e8\u5206\u539f\u56e0\u3002\n\u5b83\u5141\u8bb8\u5bf9\u590d\u6742\u8ba1\u7b97\u5feb\u901f\u8f7b\u677e\u5730\u8ba1\u7b97\u591a\u4e2a\u504f\u5bfc\u6570(\u4e5f\u79f0\u4e3a *\u68af\u5ea6* )\u3002\u8fd9\u4e2a\u64cd\u4f5c\u662f\u57fa\u4e8e\u53cd\u5411\u4f20\u64ad\u7684\u795e\u7ecf\u7f51\u7edc\u5b66\u4e60\u7684\u6838\u5fc3\u3002\n\nAutograd \u7684\u5f3a\u5927\u4e4b\u5904\u5728\u4e8e\u5b83\u5728\u8fd0\u884c\u65f6\u52a8\u6001\u5730 *\u8ddf\u8e2a\u4f60\u7684\u8ba1\u7b97* ,\u8fd9\u610f\u5473\u7740\u5982\u679c\u4f60\u7684\u6a21\u578b\u6709\u51b3\u7b56\u5206\u652f\u6216\u957f\u5ea6\u5728\u8fd0\u884c\u65f6\u624d\u77e5\u9053\u7684\u5faa\u73af,\n\u8ba1\u7b97\u4ecd\u7136\u4f1a\u88ab\u6b63\u786e\u8ddf\u8e2a,\u4f60\u4f1a\u5f97\u5230\u6b63\u786e\u7684\u68af\u5ea6\u6765\u9a71\u52a8\u5b66\u4e60\u3002\u7ed3\u5408\u4f60\u7684\u6a21\u578b\u662f\u7528 Python \u6784\u5efa\u7684\u4e8b\u5b9e,\n\u8fd9\u6bd4\u4f9d\u8d56\u4e8e\u5bf9\u66f4\u52a0\u4e25\u683c\u7ed3\u6784\u5316\u7684\u6a21\u578b\u8fdb\u884c\u9759\u6001\u5206\u6790\u6765\u8ba1\u7b97\u68af\u5ea6\u7684\u6846\u67b6\u63d0\u4f9b\u4e86\u66f4\u5927\u7684\u7075\u6d3b\u6027\u3002\n\n## \u6211\u4eec\u4e3a\u4ec0\u4e48\u9700\u8981 Autograd?\n"
      ]
    },
    {
      "cell_type": "markdown",
      "metadata": {},
      "source": [
        "\u673a\u5668\u5b66\u4e60\u6a21\u578b\u662f\u4e00\u4e2a *\u51fd\u6570* ,\u6709\u8f93\u5165\u548c\u8f93\u51fa\u3002\u5728\u672c\u8ba8\u8bba\u4e2d,\u6211\u4eec\u5c06\u628a\u8f93\u5165\u89c6\u4e3a\u4e00\u4e2a *i* \u7ef4\u5411\u91cf\n$\\vec{x}$\uff0c\u5176\u5143\u7d20\u4e3a $x_{i}$\u3002\u7136\u540e\u6211\u4eec\u53ef\u4ee5\u5c06\u6a21\u578b *M* \u8868\u793a\u4e3a\u8f93\u5165\u7684\u5411\u91cf\u503c\u51fd\u6570:\n$\\vec{y} = \\vec{M}(\\vec{x})$\u3002(\u6211\u4eec\u5c06\u6a21\u578b M \u7684\u8f93\u51fa\u503c\u89c6\u4e3a\u5411\u91cf,\u56e0\u4e3a\u4e00\u822c\u6765\u8bf4,\n\u4e00\u4e2a\u6a21\u578b\u53ef\u80fd\u6709\u4efb\u610f\u6570\u91cf\u7684\u8f93\u51fa\u3002)\n\n\u7531\u4e8e\u6211\u4eec\u4e3b\u8981\u5728\u8bad\u7ec3\u7684\u80cc\u666f\u4e0b\u8ba8\u8bba\u81ea\u52a8\u5fae\u5206,\u6211\u4eec\u611f\u5174\u8da3\u7684\u8f93\u51fa\u5c06\u662f\u6a21\u578b\u7684\u635f\u5931\u3002*\u635f\u5931\u51fd\u6570*\nL($\\vec{y}$) = L($\\vec{M}$\\ ($\\vec{x}$))\u662f\u6a21\u578b\u8f93\u51fa\u7684\u5355\u503c\u6807\u91cf\u51fd\u6570\u3002\n\u8be5\u51fd\u6570\u8868\u793a\u6211\u4eec\u6a21\u578b\u5bf9\u7279\u5b9a\u8f93\u5165\u7684 *\u7406\u60f3* \u8f93\u51fa\u7684\u9884\u6d4b\u504f\u5dee\u6709\u591a\u5927\u3002 *\u6ce8\u610f:\u4ece\u8fd9\u4e00\u70b9\u5f00\u59cb,\n\u6211\u4eec\u901a\u5e38\u4f1a\u7701\u7565\u5411\u91cf\u7b26\u53f7,\u4f8b\u5982\u4f7f\u7528* $y$ \u800c\u4e0d\u662f $\\vec y$\u3002\n\n\u5728\u8bad\u7ec3\u6a21\u578b\u65f6,\u6211\u4eec\u5e0c\u671b\u6700\u5c0f\u5316\u635f\u5931\u3002\u5728\u7406\u60f3\u60c5\u51b5\u4e0b,\u5373\u5b8c\u7f8e\u6a21\u578b\u7684\u60c5\u51b5\u4e0b,\u8fd9\u610f\u5473\u7740\u8c03\u6574\u5176\u5b66\u4e60\u6743\u91cd - \n\u4e5f\u5c31\u662f\u8be5\u51fd\u6570\u7684\u53ef\u8c03\u53c2\u6570 - \u4f7f\u5f97\u5bf9\u4e8e\u6240\u6709\u8f93\u5165,\u635f\u5931\u4e3a\u96f6\u3002\u5728\u73b0\u5b9e\u4e16\u754c\u4e2d,\u8fd9\u610f\u5473\u7740\u4e00\u4e2a\u8fed\u4ee3\u8fc7\u7a0b,\n\u4e0d\u65ad\u5fae\u8c03\u5b66\u4e60\u6743\u91cd,\u76f4\u5230\u6211\u4eec\u770b\u5230\u5bf9\u4e8e\u5e7f\u6cdb\u7684\u8f93\u5165,\u5f97\u5230\u53ef\u63a5\u53d7\u7684\u635f\u5931\u3002\n\n\u6211\u4eec\u5982\u4f55\u51b3\u5b9a\u6743\u91cd\u5e94\u8be5\u671d\u54ea\u4e2a\u65b9\u5411\u5fae\u8c03\u591a\u8fdc\u5462?\u6211\u4eec\u5e0c\u671b *\u6700\u5c0f\u5316* \u635f\u5931,\u8fd9\u610f\u5473\u7740\u4f7f\u5176\u5173\u4e8e\u8f93\u5165\u7684\u4e00\u9636\u5bfc\u6570\u7b49\u4e8e0:\n$\\frac{\\partial L}{\\partial x} = 0$\u3002\n\n\u4f46\u662f\u8bf7\u8bb0\u4f4f,\u635f\u5931\u4e0d\u662f *\u76f4\u63a5* \u7531\u8f93\u5165\u5bfc\u51fa\u7684,\u800c\u662f\u7531\u6a21\u578b\u8f93\u51fa\u7684\u51fd\u6570\u5bfc\u51fa\u7684(\u800c\u6a21\u578b\u8f93\u51fa\u53c8\u662f\u8f93\u5165\u7684\u76f4\u63a5\u51fd\u6570),\n$\\frac{\\partial L}{\\partial x}$ = $\\frac{\\partial {L({\\vec y})}}{\\partial x}$\u3002\n\u6839\u636e\u5fae\u79ef\u5206\u7684\u94fe\u5f0f\u6cd5\u5219,\u6211\u4eec\u6709 $\\frac{\\partial {L({\\vec y})}}{\\partial x}$ =\n$\\frac{\\partial L}{\\partial y}\\frac{\\partial y}{\\partial x}$ =\n$\\frac{\\partial L}{\\partial y}\\frac{\\partial M(x)}{\\partial x}$\u3002\n\n$\\frac{\\partial M(x)}{\\partial x}$ \u662f\u590d\u6742\u7684\u5730\u65b9\u3002\u5982\u679c\u6211\u4eec\u518d\u6b21\u4f7f\u7528\u94fe\u5f0f\u6cd5\u5219\u5c55\u5f00\u6a21\u578b\u8f93\u51fa\u5173\u4e8e\u8f93\u5165\u7684\u504f\u5bfc\u6570\u7684\u8868\u8fbe\u5f0f,\n\u5b83\u5c06\u6d89\u53ca\u6bcf\u4e2a\u4e58\u4ee5\u7684\u5b66\u4e60\u6743\u91cd\u3001\u6bcf\u4e2a\u6fc0\u6d3b\u51fd\u6570\u4ee5\u53ca\u6a21\u578b\u4e2d\u7684\u6bcf\u4e2a\u5176\u4ed6\u6570\u5b66\u53d8\u6362\u7684\u8bb8\u591a\u5c40\u90e8\u504f\u5bfc\u6570\u3002\n\u6211\u4eec\u8bd5\u56fe\u6d4b\u91cf\u5176\u68af\u5ea6\u7684\u6bcf\u4e2a\u53d8\u91cf\u7684\u5b8c\u6574\u8868\u8fbe\u5f0f,\u90fd\u662f\u901a\u8fc7\u8ba1\u7b97\u56fe\u4e2d\u6240\u6709\u53ef\u80fd\u8def\u5f84\u7684\u5c40\u90e8\u68af\u5ea6\u4e4b\u548c\u7684\u4e58\u79ef\u3002\n\n\u7279\u522b\u611f\u5174\u8da3\u7684\u662f\u5b66\u4e60\u6743\u91cd\u4e0a\u7684\u68af\u5ea6 - \u5b83\u4eec\u544a\u8bc9\u6211\u4eec *\u5e94\u8be5\u671d\u54ea\u4e2a\u65b9\u5411\u6539\u53d8\u6bcf\u4e2a\u6743\u91cd* ,\u4ee5\u4f7f\u635f\u5931\u51fd\u6570\u66f4\u63a5\u8fd1\u4e8e\u96f6\u3002\n\n\u7531\u4e8e\u8fd9\u4e9b\u5c40\u90e8\u5bfc\u6570\u7684\u6570\u91cf(\u6bcf\u4e2a\u5bf9\u5e94\u4e8e\u8ba1\u7b97\u56fe\u4e2d\u7684\u5355\u72ec\u8def\u5f84)\u5f80\u5f80\u4f1a\u968f\u7740\u795e\u7ecf\u7f51\u7edc\u7684\u6df1\u5ea6\u5448\u6307\u6570\u589e\u957f,\n\u56e0\u6b64\u8ba1\u7b97\u5b83\u4eec\u7684\u590d\u6742\u5ea6\u4e5f\u4f1a\u589e\u52a0\u3002\u8fd9\u5c31\u662f\u81ea\u52a8\u5fae\u5206\u53d1\u6325\u4f5c\u7528\u7684\u5730\u65b9:\u5b83\u8ddf\u8e2a\u6bcf\u4e00\u6b65\u8ba1\u7b97\u7684\u5386\u53f2\u3002\n\u4f60\u5728PyTorch\u6a21\u578b\u4e2d\u8ba1\u7b97\u7684\u6bcf\u4e2a\u5f20\u91cf\u90fd\u4fdd\u7559\u4e86\u5176\u8f93\u5165\u5f20\u91cf\u548c\u521b\u5efa\u5b83\u7684\u51fd\u6570\u7684\u5386\u53f2\u8bb0\u5f55\u3002\n\u7ed3\u5408PyTorch\u4e2d\u7528\u4e8e\u5bf9\u5f20\u91cf\u8fdb\u884c\u64cd\u4f5c\u7684\u6bcf\u4e2a\u51fd\u6570\u90fd\u5185\u7f6e\u4e86\u8ba1\u7b97\u81ea\u8eab\u5bfc\u6570\u7684\u5b9e\u73b0\u8fd9\u4e00\u4e8b\u5b9e,\n\u8fd9\u6781\u5927\u5730\u52a0\u5feb\u4e86\u5b66\u4e60\u6240\u9700\u7684\u5c40\u90e8\u5bfc\u6570\u7684\u8ba1\u7b97\u901f\u5ea6\u3002\n\n## \u4e00\u4e2a\u7b80\u5355\u7684\u4f8b\u5b50\n\n\u8fd9\u662f\u5f88\u591a\u7406\u8bba - \u4f46\u5728\u5b9e\u8df5\u4e2d\u4f7f\u7528\u81ea\u52a8\u5fae\u5206\u662f\u4ec0\u4e48\u6837\u7684\u5462?\n\n\u8ba9\u6211\u4eec\u4ece\u4e00\u4e2a\u7b80\u5355\u7684\u4f8b\u5b50\u5f00\u59cb\u3002\u9996\u5148,\u6211\u4eec\u5c06\u5bfc\u5165\u4e00\u4e9b\u5185\u5bb9,\u4ee5\u4fbf\u53ef\u4ee5\u7ed8\u5236\u7ed3\u679c:\n\n\n"
      ]
    },
    {
      "cell_type": "code",
      "execution_count": null,
      "metadata": {
        "collapsed": false
      },
      "outputs": [],
      "source": [
        "# %matplotlib inline\n\nimport torch\n\nimport matplotlib.pyplot as plt\nimport matplotlib.ticker as ticker\nimport math"
      ]
    },
    {
      "cell_type": "markdown",
      "metadata": {},
      "source": [
        "\u63a5\u4e0b\u6765,\u6211\u4eec\u5c06\u521b\u5efa\u4e00\u4e2a\u8f93\u5165\u5f20\u91cf,\u5176\u503c\u5747\u5300\u5206\u5e03\u5728\u533a\u95f4 [0, 2\u03c0] \u4e0a,\u5e76\u6307\u5b9a ``requires_grad=True``\u3002\n(\u4e0e\u5927\u591a\u6570\u521b\u5efa\u5f20\u91cf\u7684\u51fd\u6570\u4e00\u6837,``torch.linspace()`` \u63a5\u53d7\u4e00\u4e2a\u53ef\u9009\u7684 ``requires_grad`` \u9009\u9879\u3002)\n\u8bbe\u7f6e\u6b64\u6807\u5fd7\u610f\u5473\u7740\u5728\u968f\u540e\u7684\u6bcf\u4e2a\u8ba1\u7b97\u4e2d,autograd \u90fd\u4f1a\u5728\u8be5\u8ba1\u7b97\u7684\u8f93\u51fa\u5f20\u91cf\u4e2d\u7d2f\u79ef\u8ba1\u7b97\u5386\u53f2\u3002\n\n"
      ]
    },
    {
      "cell_type": "code",
      "execution_count": null,
      "metadata": {
        "collapsed": false
      },
      "outputs": [],
      "source": [
        "a = torch.linspace(0., 2. * math.pi, steps=25, requires_grad=True)\nprint(a)"
      ]
    },
    {
      "cell_type": "markdown",
      "metadata": {},
      "source": [
        "\u63a5\u4e0b\u6765,\u6211\u4eec\u5c06\u6267\u884c\u4e00\u4e2a\u8ba1\u7b97,\u5e76\u7ed8\u5236\u5176\u8f93\u51fa\u4e0e\u8f93\u5165\u7684\u5173\u7cfb\u56fe:\n\n\n"
      ]
    },
    {
      "cell_type": "code",
      "execution_count": null,
      "metadata": {
        "collapsed": false
      },
      "outputs": [],
      "source": [
        "b = torch.sin(a)\nplt.plot(a.detach(), b.detach())"
      ]
    },
    {
      "cell_type": "markdown",
      "metadata": {},
      "source": [
        "\u8ba9\u6211\u4eec\u4ed4\u7ec6\u770b\u770b\u5f20\u91cf ``b``\u3002\u5f53\u6211\u4eec\u6253\u5370\u5b83\u65f6,\u6211\u4eec\u770b\u5230\u4e00\u4e2a\u6307\u793a\u5b83\u6b63\u5728\u8ddf\u8e2a\u5176\u8ba1\u7b97\u5386\u53f2\u7684\u6307\u793a\u7b26:\n\n\n"
      ]
    },
    {
      "cell_type": "code",
      "execution_count": null,
      "metadata": {
        "collapsed": false
      },
      "outputs": [],
      "source": [
        "print(b)"
      ]
    },
    {
      "cell_type": "markdown",
      "metadata": {},
      "source": [
        "\u8fd9\u4e2a ``grad_fn`` \u7ed9\u4e86\u6211\u4eec\u4e00\u4e2a\u63d0\u793a,\u5f53\u6211\u4eec\u6267\u884c\u53cd\u5411\u4f20\u64ad\u6b65\u9aa4\u5e76\u8ba1\u7b97\u68af\u5ea6\u65f6,\n\u6211\u4eec\u9700\u8981\u8ba1\u7b97\u6240\u6709\u8fd9\u4e2a\u5f20\u91cf\u8f93\u5165\u7684 sin(x) \u7684\u5bfc\u6570\u3002\n\n\u8ba9\u6211\u4eec\u6267\u884c\u66f4\u591a\u8ba1\u7b97:\n\n"
      ]
    },
    {
      "cell_type": "code",
      "execution_count": null,
      "metadata": {
        "collapsed": false
      },
      "outputs": [],
      "source": [
        "c = 2 * b\nprint(c)\n\nd = c + 1\nprint(d)"
      ]
    },
    {
      "cell_type": "markdown",
      "metadata": {},
      "source": [
        "\u6700\u540e,\u8ba9\u6211\u4eec\u8ba1\u7b97\u4e00\u4e2a\u5355\u5143\u7d20\u8f93\u51fa\u3002\u5f53\u4f60\u5728\u4e0d\u5e26\u53c2\u6570\u7684\u60c5\u51b5\u4e0b\u5bf9\u4e00\u4e2a\u5f20\u91cf\u8c03\u7528 ``.backward()`` \u65f6,\n\u5b83\u671f\u671b\u8c03\u7528\u5f20\u91cf\u53ea\u5305\u542b\u4e00\u4e2a\u5143\u7d20,\u5c31\u50cf\u5728\u8ba1\u7b97\u635f\u5931\u51fd\u6570\u65f6\u4e00\u6837\u3002\n\n\n"
      ]
    },
    {
      "cell_type": "code",
      "execution_count": null,
      "metadata": {
        "collapsed": false
      },
      "outputs": [],
      "source": [
        "out = d.sum()\nprint(out)"
      ]
    },
    {
      "cell_type": "markdown",
      "metadata": {},
      "source": [
        "\u6bcf\u4e2a\u5b58\u50a8\u5728\u6211\u4eec\u5f20\u91cf\u4e2d\u7684 ``grad_fn`` \u5141\u8bb8\u4f60\u4f7f\u7528\u5176 ``next_functions`` \u5c5e\u6027\n\u6cbf\u7740\u8ba1\u7b97\u8def\u5f84\u4e00\u76f4\u56de\u6eaf\u5230\u5176\u8f93\u5165\u3002\u6211\u4eec\u53ef\u4ee5\u770b\u5230,\u5728 ``d`` \u4e0a\u6df1\u5165\u94bb\u7814\u8fd9\u4e2a\u5c5e\u6027\u4f1a\u663e\u793a\u6211\u4eec\u4e4b\u524d\u6240\u6709\u5f20\u91cf\u7684\u68af\u5ea6\u51fd\u6570\u3002\n\u6ce8\u610f,``a.grad_fn`` \u88ab\u62a5\u544a\u4e3a ``None``,\u8868\u793a\u8fd9\u662f\u4e00\u4e2a\u6ca1\u6709\u81ea\u8eab\u5386\u53f2\u7684\u51fd\u6570\u8f93\u5165\u3002\n\n"
      ]
    },
    {
      "cell_type": "code",
      "execution_count": null,
      "metadata": {
        "collapsed": false
      },
      "outputs": [],
      "source": [
        "print('d:')\nprint(d.grad_fn)\nprint(d.grad_fn.next_functions)\nprint(d.grad_fn.next_functions[0][0].next_functions)\nprint(d.grad_fn.next_functions[0][0].next_functions[0][0].next_functions)\nprint(d.grad_fn.next_functions[0][0].next_functions[0][0].next_functions[0][0].next_functions)\nprint('\\nc:')\nprint(c.grad_fn)\nprint('\\nb:')\nprint(b.grad_fn)\nprint('\\na:')\nprint(a.grad_fn)"
      ]
    },
    {
      "cell_type": "markdown",
      "metadata": {},
      "source": [
        "\u6709\u4e86\u8fd9\u4e9b\u673a\u5236,\u6211\u4eec\u5982\u4f55\u83b7\u53d6\u5bfc\u6570\u5462?\u60a8\u5728\u8f93\u51fa\u4e0a\u8c03\u7528 `backward()` \u65b9\u6cd5,\u5e76\u68c0\u67e5\u8f93\u5165\u7684\n`grad` \u5c5e\u6027\u6765\u68c0\u67e5\u68af\u5ea6:\n\n\n"
      ]
    },
    {
      "cell_type": "code",
      "execution_count": null,
      "metadata": {
        "collapsed": false
      },
      "outputs": [],
      "source": [
        "out.backward()\nprint(a.grad)\nplt.plot(a.detach(), a.grad.detach())"
      ]
    },
    {
      "cell_type": "markdown",
      "metadata": {},
      "source": [
        "\u56de\u987e\u4e00\u4e0b\u6211\u4eec\u4e3a\u4e86\u8fbe\u5230\u8fd9\u4e00\u6b65\u6240\u91c7\u53d6\u7684\u8ba1\u7b97\u6b65\u9aa4:\n\n```python\na = torch.linspace(0., 2. * math.pi, steps=25, requires_grad=True)\nb = torch.sin(a)\nc = 2 * b\nd = c + 1\nout = d.sum()\n```\n\u6dfb\u52a0\u4e00\u4e2a\u5e38\u6570,\u5c31\u50cf\u6211\u4eec\u8ba1\u7b97 `d` \u65f6\u6240\u505a\u7684\u90a3\u6837,\u4e0d\u4f1a\u6539\u53d8\u5bfc\u6570\u3002\u5269\u4e0b\u7684\u5c31\u662f $c = 2 * b = 2 * \\sin(a)$,\n\u5b83\u7684\u5bfc\u6570\u5e94\u8be5\u662f $2 * \\cos(a)$\u3002\u4ece\u4e0a\u9762\u7684\u56fe\u4e2d\u53ef\u4ee5\u770b\u51fa,\u8fd9\u6b63\u662f\u6211\u4eec\u6240\u770b\u5230\u7684\u3002\n\n\u8bf7\u6ce8\u610f,\u53ea\u6709\u8ba1\u7b97\u56fe\u7684 *\u53f6\u5b50\u8282\u70b9* \u624d\u4f1a\u8ba1\u7b97\u5b83\u4eec\u7684\u68af\u5ea6\u3002\u5982\u679c\u4f60\u5c1d\u8bd5,\u4f8b\u5982, `print(c.grad)` \u4f60\u4f1a\u5f97\u5230\n`None`\u3002\u5728\u8fd9\u4e2a\u7b80\u5355\u7684\u4f8b\u5b50\u4e2d,\u53ea\u6709\u8f93\u5165\u662f\u53f6\u5b50\u8282\u70b9,\u6240\u4ee5\u53ea\u6709\u5b83\u6709\u8ba1\u7b97\u68af\u5ea6\u3002\n\n## \u81ea\u52a8\u6c42\u5bfc\u5728\u8bad\u7ec3\u4e2d\n\n\u6211\u4eec\u5df2\u7ecf\u7b80\u5355\u5730\u770b\u4e86\u4e00\u4e0b\u81ea\u52a8\u6c42\u5bfc\u662f\u5982\u4f55\u5de5\u4f5c\u7684,\u4f46\u662f\u5f53\u5b83\u5728\u5b9e\u9645\u5e94\u7528\u4e2d,\u770b\u8d77\u6765\u4f1a\u662f\u4ec0\u4e48\u6837\u5b50\u5462?\n\u8ba9\u6211\u4eec\u5b9a\u4e49\u4e00\u4e2a\u5c0f\u6a21\u578b\u5e76\u68c0\u67e5\u5b83\u5728\u5355\u4e2a\u8bad\u7ec3\u6279\u6b21\u540e\u662f\u5982\u4f55\u53d8\u5316\u7684\u3002\u9996\u5148,\u5b9a\u4e49\u4e00\u4e9b\u5e38\u91cf\u3001\u6211\u4eec\u7684\u6a21\u578b,\n\u4ee5\u53ca\u4e00\u4e9b\u8f93\u5165\u548c\u8f93\u51fa:\n\n"
      ]
    },
    {
      "cell_type": "code",
      "execution_count": null,
      "metadata": {
        "collapsed": false
      },
      "outputs": [],
      "source": [
        "BATCH_SIZE = 16\nDIM_IN = 1000\nHIDDEN_SIZE = 100\nDIM_OUT = 10\n\nclass TinyModel(torch.nn.Module):\n\n    def __init__(self):\n        super(TinyModel, self).__init__()\n        \n        self.layer1 = torch.nn.Linear(DIM_IN, HIDDEN_SIZE)\n        self.relu = torch.nn.ReLU()\n        self.layer2 = torch.nn.Linear(HIDDEN_SIZE, DIM_OUT)\n    \n    def forward(self, x):\n        x = self.layer1(x)\n        x = self.relu(x)\n        x = self.layer2(x)\n        return x\n    \nsome_input = torch.randn(BATCH_SIZE, DIM_IN, requires_grad=False)\nideal_output = torch.randn(BATCH_SIZE, DIM_OUT, requires_grad=False)\n\nmodel = TinyModel()"
      ]
    },
    {
      "cell_type": "markdown",
      "metadata": {},
      "source": [
        "\u4f60\u53ef\u80fd\u4f1a\u6ce8\u610f\u5230,\u6211\u4eec\u4ece\u672a\u4e3a\u6a21\u578b\u7684\u5c42\u8bbe\u7f6e\n``requires_grad=True``\u3002\u5728 ``torch.nn.Module`` \u7684\u5b50\u7c7b\u4e2d,\n\u5047\u5b9a\u6211\u4eec\u5e0c\u671b\u8ddf\u8e2a\u5c42\u6743\u91cd\u7684\u68af\u5ea6\u4ee5\u8fdb\u884c\u5b66\u4e60\u3002\n\n\u5982\u679c\u6211\u4eec\u67e5\u770b\u6a21\u578b\u7684\u5c42,\u6211\u4eec\u53ef\u4ee5\u68c0\u67e5\u6743\u91cd\u7684\u503c,\n\u5e76\u9a8c\u8bc1\u5c1a\u672a\u8ba1\u7b97\u4efb\u4f55\u68af\u5ea6:\n\n\n"
      ]
    },
    {
      "cell_type": "code",
      "execution_count": null,
      "metadata": {
        "collapsed": false
      },
      "outputs": [],
      "source": [
        "print(model.layer2.weight[0][0:10]) # \u53ea\u6253\u5370\u4e00\u5c0f\u90e8\u5206\nprint(model.layer2.weight.grad)"
      ]
    },
    {
      "cell_type": "markdown",
      "metadata": {},
      "source": [
        "\u8ba9\u6211\u4eec\u770b\u770b\u5f53\u6211\u4eec\u8fd0\u884c\u4e00\u4e2a\u8bad\u7ec3\u6279\u6b21\u65f6\u4f1a\u53d1\u751f\u4ec0\u4e48\u53d8\u5316\u3002\u4f5c\u4e3a\u635f\u5931\u51fd\u6570,\u6211\u4eec\u5c06\u4f7f\u7528 ``prediction`` \n\u548c ``ideal_output`` \u4e4b\u95f4\u7684\u6b27\u51e0\u91cc\u5f97\u8ddd\u79bb\u7684\u5e73\u65b9,\u5e76\u4f7f\u7528\u57fa\u672c\u7684\u968f\u673a\u68af\u5ea6\u4e0b\u964d\u4f18\u5316\u5668\u3002\n\n\n"
      ]
    },
    {
      "cell_type": "code",
      "execution_count": null,
      "metadata": {
        "collapsed": false
      },
      "outputs": [],
      "source": [
        "optimizer = torch.optim.SGD(model.parameters(), lr=0.001)\n\nprediction = model(some_input)\n\nloss = (ideal_output - prediction).pow(2).sum()\nprint(loss)"
      ]
    },
    {
      "cell_type": "markdown",
      "metadata": {},
      "source": [
        "\u73b0\u5728,\u8ba9\u6211\u4eec\u8c03\u7528 ``loss.backward()`` \u5e76\u770b\u770b\u4f1a\u53d1\u751f\u4ec0\u4e48:\n\n\n"
      ]
    },
    {
      "cell_type": "code",
      "execution_count": null,
      "metadata": {
        "collapsed": false
      },
      "outputs": [],
      "source": [
        "loss.backward()\nprint(model.layer2.weight[0][0:10])\nprint(model.layer2.weight.grad[0][0:10])"
      ]
    },
    {
      "cell_type": "markdown",
      "metadata": {},
      "source": [
        "\u6211\u4eec\u53ef\u4ee5\u770b\u5230,\u6bcf\u4e2a\u5b66\u4e60\u6743\u91cd\u7684\u68af\u5ea6\u90fd\u5df2\u7ecf\u8ba1\u7b97\u51fa\u6765\u4e86,\u4f46\u6743\u91cd\u4fdd\u6301\u4e0d\u53d8,\u56e0\u4e3a\u6211\u4eec\u8fd8\u6ca1\u6709\u8fd0\u884c\u4f18\u5316\u5668\u3002\n\u4f18\u5316\u5668\u8d1f\u8d23\u6839\u636e\u8ba1\u7b97\u51fa\u7684\u68af\u5ea6\u66f4\u65b0\u6a21\u578b\u6743\u91cd\u3002\n\n\n"
      ]
    },
    {
      "cell_type": "code",
      "execution_count": null,
      "metadata": {
        "collapsed": false
      },
      "outputs": [],
      "source": [
        "optimizer.step()\nprint(model.layer2.weight[0][0:10])\nprint(model.layer2.weight.grad[0][0:10])"
      ]
    },
    {
      "cell_type": "markdown",
      "metadata": {},
      "source": [
        "\u4f60\u5e94\u8be5\u770b\u5230 ``layer2`` \u7684\u6743\u91cd\u5df2\u7ecf\u6539\u53d8\u3002\n\n\u5173\u4e8e\u8fd9\u4e2a\u8fc7\u7a0b\u7684\u4e00\u4e2a\u91cd\u8981\u4e8b\u9879:\u5728\u8c03\u7528 ``optimizer.step()`` \u4e4b\u540e,\n\u4f60\u9700\u8981\u8c03\u7528 ``optimizer.zero_grad()``,\u5426\u5219\u6bcf\u6b21\u4f60\u8fd0\u884c ``loss.backward()``,\n\u5b66\u4e60\u6743\u91cd\u4e0a\u7684\u68af\u5ea6\u5c06\u4f1a\u7d2f\u79ef:\n\n\n"
      ]
    },
    {
      "cell_type": "code",
      "execution_count": null,
      "metadata": {
        "collapsed": false
      },
      "outputs": [],
      "source": [
        "print(model.layer2.weight.grad[0][0:10])\n\nfor i in range(0, 5):\n    prediction = model(some_input)\n    loss = (ideal_output - prediction).pow(2).sum()\n    loss.backward()\n    \nprint(model.layer2.weight.grad[0][0:10])\n\noptimizer.zero_grad(set_to_none=False)\n\nprint(model.layer2.weight.grad[0][0:10])"
      ]
    },
    {
      "cell_type": "markdown",
      "metadata": {},
      "source": [
        "\u5728\u8fd0\u884c\u4e0a\u9762\u7684\u5355\u5143\u683c\u540e,\u4f60\u5e94\u8be5\u4f1a\u770b\u5230\u5728\u591a\u6b21\u8fd0\u884c ``loss.backward()`` \u4e4b\u540e,\n\u5927\u591a\u6570\u68af\u5ea6\u7684\u5e45\u5ea6\u4f1a\u53d8\u5f97\u66f4\u5927\u3002\u5982\u679c\u5728\u8fd0\u884c\u4e0b\u4e00\u4e2a\u8bad\u7ec3\u6279\u6b21\u4e4b\u524d\n\u6ca1\u6709\u5c06\u68af\u5ea6\u6e05\u96f6,\u68af\u5ea6\u5c31\u4f1a\u4ee5\u8fd9\u79cd\u65b9\u5f0f\u81a8\u80c0,\u4ece\u800c\u5bfc\u81f4\u4e0d\u6b63\u786e\u548c\n\u4e0d\u53ef\u9884\u6d4b\u7684\u5b66\u4e60\u7ed3\u679c\u3002\n\n## \u5173\u95ed\u548c\u6253\u5f00\u81ea\u52a8\u6c42\u5bfc\n\n\u5728\u67d0\u4e9b\u60c5\u51b5\u4e0b,\u4f60\u9700\u8981\u5bf9\u662f\u5426\u542f\u7528\u81ea\u52a8\u6c42\u5bfc\u8fdb\u884c\u7ec6\u7c92\u5ea6\u63a7\u5236\u3002\n\u6709\u591a\u79cd\u65b9\u6cd5\u53ef\u4ee5\u505a\u5230\u8fd9\u4e00\u70b9,\u5177\u4f53\u53d6\u51b3\u4e8e\u60c5\u51b5\u3002\n\n\u6700\u7b80\u5355\u7684\u65b9\u6cd5\u662f\u76f4\u63a5\u66f4\u6539\u5f20\u91cf\u4e0a\u7684 ``requires_grad`` \u6807\u5fd7:\n\n\n"
      ]
    },
    {
      "cell_type": "code",
      "execution_count": null,
      "metadata": {
        "collapsed": false
      },
      "outputs": [],
      "source": [
        "a = torch.ones(2, 3, requires_grad=True)\nprint(a)\n\nb1 = 2 * a\nprint(b1)\n\na.requires_grad = False\nb2 = 2 * a\nprint(b2)"
      ]
    },
    {
      "cell_type": "markdown",
      "metadata": {},
      "source": [
        "\u5728\u4e0a\u9762\u7684\u5355\u5143\u683c\u4e2d,\u6211\u4eec\u53ef\u4ee5\u770b\u5230 ``b1`` \u6709\u4e00\u4e2a ``grad_fn``(\u5373,\u4e00\u4e2a\n\u8ba1\u7b97\u5386\u53f2\u7684\u8ddf\u8e2a\u8bb0\u5f55),\u8fd9\u662f\u6211\u4eec\u6240\u671f\u671b\u7684,\u56e0\u4e3a\u5b83\u662f\u4ece\u4e00\u4e2a\u542f\u7528\u4e86\nautograd \u7684\u5f20\u91cf ``a`` \u6d3e\u751f\u51fa\u6765\u7684\u3002\u5f53\u6211\u4eec\u4f7f\u7528 ``a.requires_grad = False``\n\u663e\u5f0f\u5730\u5173\u95ed autograd \u65f6,\u8ba1\u7b97\u5386\u53f2\u5c31\u4e0d\u518d\u88ab\u8ddf\u8e2a\u4e86,\u6b63\u5982\u6211\u4eec\u5728\u8ba1\u7b97 ``b2`` \u65f6\n\u6240\u770b\u5230\u7684\u90a3\u6837\u3002\n\n\u5982\u679c\u4f60\u53ea\u9700\u8981\u4e34\u65f6\u5173\u95ed autograd,\u4e00\u4e2a\u66f4\u597d\u7684\u65b9\u6cd5\u662f\u4f7f\u7528 ``torch.no_grad()``:\n\n\n"
      ]
    },
    {
      "cell_type": "code",
      "execution_count": null,
      "metadata": {
        "collapsed": false
      },
      "outputs": [],
      "source": [
        "a = torch.ones(2, 3, requires_grad=True) * 2\nb = torch.ones(2, 3, requires_grad=True) * 3\n\nc1 = a + b\nprint(c1)\n\nwith torch.no_grad():\n    c2 = a + b\n\nprint(c2)\n\nc3 = a * b\nprint(c3)"
      ]
    },
    {
      "cell_type": "markdown",
      "metadata": {},
      "source": [
        "``torch.no_grad()`` \u4e5f\u53ef\u4ee5\u7528\u4f5c\u51fd\u6570\u6216\u65b9\u6cd5\u88c5\u9970\u5668:\n\n\n"
      ]
    },
    {
      "cell_type": "code",
      "execution_count": null,
      "metadata": {
        "collapsed": false
      },
      "outputs": [],
      "source": [
        "def add_tensors1(x, y):\n    return x + y\n\n@torch.no_grad()\ndef add_tensors2(x, y):\n    return x + y\n\n\na = torch.ones(2, 3, requires_grad=True) * 2\nb = torch.ones(2, 3, requires_grad=True) * 3\n\nc1 = add_tensors1(a, b)\nprint(c1)\n\nc2 = add_tensors2(a, b)\nprint(c2)"
      ]
    },
    {
      "cell_type": "markdown",
      "metadata": {},
      "source": [
        "\u6709\u4e00\u4e2a\u5bf9\u5e94\u7684\u4e0a\u4e0b\u6587\u7ba1\u7406\u5668 ``torch.enable_grad()`` \u7528\u4e8e\u5728\u5c1a\u672a\u542f\u7528\u65f6\n\u6253\u5f00 autograd\u3002\u5b83\u4e5f\u53ef\u4ee5\u7528\u4f5c\u88c5\u9970\u5668\u3002\n\n\u6700\u540e,\u4f60\u53ef\u80fd\u6709\u4e00\u4e2a\u9700\u8981\u68af\u5ea6\u8ddf\u8e2a\u7684\u5f20\u91cf,\u4f46\u4f60\u60f3\u8981\u4e00\u4e2a\u4e0d\u9700\u8981\u7684\u526f\u672c\u3002\n\u4e3a\u6b64,\u6211\u4eec\u6709\u5f20\u91cf\u5bf9\u8c61\u7684 ``detach()`` \u65b9\u6cd5 - \u5b83\u521b\u5efa\u4e00\u4e2a\u4e0e\u8ba1\u7b97\u5386\u53f2\n*\u5206\u79bb*\u7684\u5f20\u91cf\u526f\u672c:\n\n\n"
      ]
    },
    {
      "cell_type": "code",
      "execution_count": null,
      "metadata": {
        "collapsed": false
      },
      "outputs": [],
      "source": [
        "x = torch.rand(5, requires_grad=True)\ny = x.detach()\n\nprint(x)\nprint(y)"
      ]
    },
    {
      "cell_type": "markdown",
      "metadata": {},
      "source": [
        "\u6211\u4eec\u4e4b\u524d\u8fd9\u6837\u505a\u662f\u56e0\u4e3a\u6211\u4eec\u60f3\u8981\u7ed8\u5236\u4e00\u4e9b\u5f20\u91cf\u7684\u56fe\u50cf\u3002\u8fd9\u662f\u56e0\u4e3a ``matplotlib``\n\u671f\u671b\u8f93\u5165\u662f\u4e00\u4e2a NumPy \u6570\u7ec4,\u800c\u4ece\u5177\u6709 requires_grad=True \u7684 PyTorch \u5f20\u91cf\n\u5230 NumPy \u6570\u7ec4\u7684\u9690\u5f0f\u8f6c\u6362\u662f\u4e0d\u5141\u8bb8\u7684\u3002\u5236\u4f5c\u4e00\u4e2a\u5206\u79bb\u7684\u526f\u672c\u8ba9\u6211\u4eec\u53ef\u4ee5\u7ee7\u7eed\u524d\u8fdb\u3002\n\n### Autograd \u548c\u539f\u4f4d\u64cd\u4f5c\n\n\u5728\u672c\u7ec3\u4e60\u4e2d\u5230\u76ee\u524d\u4e3a\u6b62\u7684\u6bcf\u4e2a\u793a\u4f8b\u4e2d,\u6211\u4eec\u90fd\u4f7f\u7528\u4e86\u53d8\u91cf\u6765\u6355\u83b7\u8ba1\u7b97\u7684\u4e2d\u95f4\u503c\u3002\nAutograd \u9700\u8981\u8fd9\u4e9b\u4e2d\u95f4\u503c\u6765\u6267\u884c\u68af\u5ea6\u8ba1\u7b97\u3002 *\u56e0\u6b64,\u5728\u4f7f\u7528 autograd \u65f6,\u4f60\u5fc5\u987b\n\u5c0f\u5fc3\u4f7f\u7528\u539f\u4f4d\u64cd\u4f5c\u3002* \u8fd9\u6837\u505a\u53ef\u80fd\u4f1a\u7834\u574f\u8ba1\u7b97\u5bfc\u6570\u6240\u9700\u7684\u4fe1\u606f,\u5728 ``backward()``\n\u8c03\u7528\u65f6\u9700\u8981\u8fd9\u4e9b\u4fe1\u606f\u3002\u5982\u679c\u4f60\u5c1d\u8bd5\u5bf9\u9700\u8981 autograd \u7684\u53f6\u53d8\u91cf\u8fdb\u884c\u539f\u4f4d\u64cd\u4f5c,\nPyTorch \u751a\u81f3\u4f1a\u963b\u6b62\u4f60,\u5982\u4e0b\u6240\u793a\u3002\n\n.. \u6ce8\u610f::\n    \u4e0b\u9762\u7684\u4ee3\u7801\u5355\u5143\u4f1a\u629b\u51fa\u4e00\u4e2a\u8fd0\u884c\u65f6\u9519\u8bef\u3002\u8fd9\u662f\u9884\u671f\u7684\u884c\u4e3a\u3002\n\n```python\na = torch.linspace(0., 2. * math.pi, steps=25, requires_grad=True)\ntorch.sin_(a)\n```\n"
      ]
    },
    {
      "cell_type": "markdown",
      "metadata": {},
      "source": [
        "## Autograd \u5206\u6790\u5668\n\nAutograd \u4f1a\u8be6\u7ec6\u8ddf\u8e2a\u4f60\u7684\u6bcf\u4e00\u6b65\u8ba1\u7b97\u3002\u8fd9\u79cd\u8ba1\u7b97\u5386\u53f2,\u7ed3\u5408\u65f6\u95f4\u4fe1\u606f,\n\u5c06\u6784\u6210\u4e00\u4e2a\u65b9\u4fbf\u7684\u5206\u6790\u5668 - \u800c autograd \u5c31\u5185\u7f6e\u4e86\u8fd9\u4e2a\u529f\u80fd\u3002\n\u8fd9\u91cc\u6709\u4e00\u4e2a\u5feb\u901f\u4f7f\u7528\u793a\u4f8b:\n\n\n"
      ]
    },
    {
      "cell_type": "code",
      "execution_count": null,
      "metadata": {
        "collapsed": false
      },
      "outputs": [],
      "source": [
        "device = torch.device('cpu')\nrun_on_gpu = False\nif torch.cuda.is_available():\n    device = torch.device('cuda')\n    run_on_gpu = True\n    \nx = torch.randn(2, 3, requires_grad=True)\ny = torch.rand(2, 3, requires_grad=True)\nz = torch.ones(2, 3, requires_grad=True)\n\nwith torch.autograd.profiler.profile(use_cuda=run_on_gpu) as prf:\n    for _ in range(1000):\n        z = (z / x) * y\n        \nprint(prf.key_averages().table(sort_by='self_cpu_time_total'))"
      ]
    },
    {
      "cell_type": "markdown",
      "metadata": {},
      "source": [
        "\u5206\u6790\u5668\u53ef\u4ee5\u6807\u8bb0\u4ee3\u7801\u7684\u5355\u4e2a\u5b50\u5757,\u6309\u8f93\u5165\u5f20\u91cf\u5f62\u72b6\u5206\u89e3\u6570\u636e,\u5e76\u5c06\u6570\u636e\u5bfc\u51fa\u4e3a\nChrome \u8ddf\u8e2a\u5de5\u5177\u6587\u4ef6\u3002\u6709\u5173 API \u7684\u5b8c\u6574\u8be6\u7ec6\u4fe1\u606f,\u8bf7\u53c2\u9605\n[\u6587\u6863](https://pytorch.org/docs/stable/autograd.html#profiler)_\u3002\n\n## \u9ad8\u7ea7\u4e3b\u9898:\u66f4\u591a Autograd \u7ec6\u8282\u548c\u9ad8\u7ea7 API\n\n\u5982\u679c\u4f60\u6709\u4e00\u4e2a\u5177\u6709 n \u7ef4\u8f93\u5165\u548c m \u7ef4\u8f93\u51fa\u7684\u51fd\u6570,\n$\\vec{y}=f(\\vec{x})$,,\u5b8c\u6574\u7684\u68af\u5ea6\u662f\u6bcf\u4e2a\u8f93\u51fa\u76f8\u5bf9\u4e8e\u6bcf\u4e2a\u8f93\u5165\u7684\n\u5bfc\u6570\u7684\u77e9\u9635,\u79f0\u4e3a *Jacobian:*\n\n\\begin{align}J\n     =\n     \\left(\\begin{array}{ccc}\n     \\frac{\\partial y_{1}}{\\partial x_{1}} & \\cdots & \\frac{\\partial y_{1}}{\\partial x_{n}}\\\\\n     \\vdots & \\ddots & \\vdots\\\\\n     \\frac{\\partial y_{m}}{\\partial x_{1}} & \\cdots & \\frac{\\partial y_{m}}{\\partial x_{n}}\n     \\end{array}\\right)\\end{align}\n\n\u5982\u679c\u4f60\u6709\u7b2c\u4e8c\u4e2a\u51fd\u6570 $l=g\\left(\\vec{y}\\right)$,\u5b83\n\u63a5\u53d7 m \u7ef4\u8f93\u5165(\u4e5f\u5c31\u662f\u4e0e\u4e0a\u9762\u7684\u8f93\u51fa\u5177\u6709\u76f8\u540c\u7684\u7ef4\u5ea6),\u5e76\u8fd4\u56de\u4e00\u4e2a\n\u6807\u91cf\u8f93\u51fa,\u4f60\u53ef\u4ee5\u7528\u4e00\u4e2a\u5217\u5411\u91cf\u6765\u8868\u793a\u5b83\u76f8\u5bf9\u4e8e $\\vec{y}$ \u7684\u68af\u5ea6,\n$v=\\left(\\begin{array}{ccc}\\frac{\\partial l}{\\partial y_{1}} & \\cdots & \\frac{\\partial l}{\\partial y_{m}}\\end{array}\\right)^{T}$\n- \u8fd9\u5b9e\u9645\u4e0a\u53ea\u662f\u4e00\u4e2a\u4e00\u5217\u7684 Jacobian\u3002\n\n\u66f4\u5177\u4f53\u5730\u8bf4,\u60f3\u8c61\u7b2c\u4e00\u4e2a\u51fd\u6570\u662f\u4f60\u7684 PyTorch \u6a21\u578b(\u53ef\u80fd\u6709\u8bb8\u591a\u8f93\u5165\u548c\u8bb8\u591a\u8f93\u51fa),\n\u7b2c\u4e8c\u4e2a\u51fd\u6570\u662f\u4e00\u4e2a\u635f\u5931\u51fd\u6570(\u4ee5\u6a21\u578b\u7684\u8f93\u51fa\u4f5c\u4e3a\u8f93\u5165,\u635f\u5931\u503c\u4f5c\u4e3a\u6807\u91cf\u8f93\u51fa)\u3002\n\n\u5982\u679c\u6211\u4eec\u5c06\u7b2c\u4e00\u4e2a\u51fd\u6570\u7684 Jacobian \u4e0e\u7b2c\u4e8c\u4e2a\u51fd\u6570\u7684\u68af\u5ea6\u76f8\u4e58,\u5e76\u5e94\u7528\u94fe\u5f0f\u6cd5\u5219,\n\u6211\u4eec\u5f97\u5230:\n\n\\begin{align}J^{T}\\cdot v=\\left(\\begin{array}{ccc}\n   \\frac{\\partial y_{1}}{\\partial x_{1}} & \\cdots & \\frac{\\partial y_{m}}{\\partial x_{1}}\\\\\n   \\vdots & \\ddots & \\vdots\\\\\n   \\frac{\\partial y_{1}}{\\partial x_{n}} & \\cdots & \\frac{\\partial y_{m}}{\\partial x_{n}}\n   \\end{array}\\right)\\left(\\begin{array}{c}\n   \\frac{\\partial l}{\\partial y_{1}}\\\\\n   \\vdots\\\\\n   \\frac{\\partial l}{\\partial y_{m}}\n   \\end{array}\\right)=\\left(\\begin{array}{c}\n   \\frac{\\partial l}{\\partial x_{1}}\\\\\n   \\vdots\\\\\n   \\frac{\\partial l}{\\partial x_{n}}\n   \\end{array}\\right)\\end{align}\n\n\u6ce8\u610f:\u4f60\u4e5f\u53ef\u4ee5\u4f7f\u7528\u7b49\u4ef7\u7684\u64cd\u4f5c $v^{T}\\cdot J$,\n\u5e76\u5f97\u5230\u4e00\u4e2a\u884c\u5411\u91cf\u3002\n\n\u6240\u5f97\u5230\u7684\u5217\u5411\u91cf\u5c31\u662f *\u7b2c\u4e8c\u4e2a\u51fd\u6570\u76f8\u5bf9\u4e8e\u7b2c\u4e00\u4e2a\u51fd\u6570\u7684\u8f93\u5165\u7684\u68af\u5ea6* - \u6216\u8005\u5728\u6211\u4eec\u7684\n\u6a21\u578b\u548c\u635f\u5931\u51fd\u6570\u7684\u60c5\u51b5\u4e0b,\u5c31\u662f\u635f\u5931\u76f8\u5bf9\u4e8e\u6a21\u578b\u8f93\u5165\u7684\u68af\u5ea6\u3002\n\n** ``torch.autograd`` \u662f\u4e00\u4e2a\u7528\u4e8e\u8ba1\u7b97\u8fd9\u4e9b\u4e58\u79ef\u7684\u5f15\u64ce\u3002** \u8fd9\u5c31\u662f\u6211\u4eec\u5728\n\u53cd\u5411\u4f20\u64ad\u8fc7\u7a0b\u4e2d\u5982\u4f55\u7d2f\u79ef\u5b66\u4e60\u6743\u91cd\u7684\u68af\u5ea6\u3002\n\n\u56e0\u6b64,``backward()`` \u8c03\u7528\u4e5f\u53ef\u4ee5 *\u63a5\u53d7\u4e00\u4e2a\u53ef\u9009\u7684\u5411\u91cf\u8f93\u5165*\u3002\u8be5\u5411\u91cf\u8868\u793a\n\u5f20\u91cf\u4e0a\u7684\u4e00\u7ec4\u68af\u5ea6,\u8fd9\u4e9b\u68af\u5ea6\u5c06\u4e58\u4ee5\u524d\u9762\u7684 autograd \u8ddf\u8e2a\u5f20\u91cf\u7684 Jacobian\u3002\n\u8ba9\u6211\u4eec\u7528\u4e00\u4e2a\u5c0f\u5411\u91cf\u5c1d\u8bd5\u4e00\u4e2a\u5177\u4f53\u7684\u4f8b\u5b50:\n\n\n"
      ]
    },
    {
      "cell_type": "code",
      "execution_count": null,
      "metadata": {
        "collapsed": false
      },
      "outputs": [],
      "source": [
        "x = torch.randn(3, requires_grad=True)\n\ny = x * 2\nwhile y.data.norm() < 1000:\n    y = y * 2\n\nprint(y)"
      ]
    },
    {
      "cell_type": "markdown",
      "metadata": {},
      "source": [
        "\u5982\u679c\u6211\u4eec\u5c1d\u8bd5\u73b0\u5728\u8c03\u7528 ``y.backward()``,\u6211\u4eec\u4f1a\u5f97\u5230\u4e00\u4e2a\u8fd0\u884c\u65f6\u9519\u8bef\u548c\u4e00\u6761\n\u6d88\u606f,\u8bf4\u660e\u53ea\u80fd *\u9690\u5f0f\u5730* \u4e3a\u6807\u91cf\u8f93\u51fa\u8ba1\u7b97\u68af\u5ea6\u3002\u5bf9\u4e8e\u591a\u7ef4\u8f93\u51fa,autograd \u671f\u671b\u6211\u4eec\n\u63d0\u4f9b\u8fd9\u4e09\u4e2a\u8f93\u51fa\u7684\u68af\u5ea6,\u5b83\u53ef\u4ee5\u5c06\u8fd9\u4e9b\u68af\u5ea6\u4e58\u4ee5Jacobian\u77e9\u9635:\n\n\n"
      ]
    },
    {
      "cell_type": "code",
      "execution_count": null,
      "metadata": {
        "collapsed": false
      },
      "outputs": [],
      "source": [
        "v = torch.tensor([0.1, 1.0, 0.0001], dtype=torch.float) # \u4ee3\u66ff\u68af\u5ea6\ny.backward(v)\n\nprint(x.grad)"
      ]
    },
    {
      "cell_type": "markdown",
      "metadata": {},
      "source": [
        "(\u6ce8\u610f,\u8f93\u51fa\u68af\u5ea6\u90fd\u4e0e2\u7684\u5e42\u6709\u5173 - \u8fd9\u6b63\u662f\u6211\u4eec\u4ece\u91cd\u590d\u7684\u53cc\u500d\u64cd\u4f5c\u4e2d\u6240\u671f\u671b\u7684\u3002)\n\n### \u9ad8\u7ea7 API\n\nautograd \u6709\u4e00\u4e2a API,\u53ef\u4ee5\u76f4\u63a5\u8bbf\u95ee\u91cd\u8981\u7684\u5dee\u5206\u77e9\u9635\u548c\u5411\u91cf\u8fd0\u7b97\u3002\u7279\u522b\u662f,\n\u5b83\u5141\u8bb8\u4f60\u8ba1\u7b97\u7279\u5b9a\u51fd\u6570\u5728\u7279\u5b9a\u8f93\u5165\u4e0b\u7684Jacobian\u77e9\u9635\u548c *Hessian\u77e9\u9635* \u3002(Hessian\u77e9\u9635\n\u7c7b\u4f3c\u4e8eJacobian\u77e9\u9635,\u4f46\u8868\u793a\u6240\u6709\u504f\u5bfc\u6570\u7684 *\u7b2c\u4e8c\u9636* \u5bfc\u6570\u3002)\u5b83\u8fd8\u63d0\u4f9b\u4e86\u4e0e\u8fd9\u4e9b\u77e9\u9635\n\u8fdb\u884c\u5411\u91cf\u4e58\u79ef\u7684\u65b9\u6cd5\u3002\n\n\u8ba9\u6211\u4eec\u8ba1\u7b97\u4e00\u4e2a\u7b80\u5355\u51fd\u6570\u7684Jacobian\u77e9\u9635,\u5bf9\u4e8e\u4e24\u4e2a\u5355\u5143\u7d20\u8f93\u5165\u8fdb\u884c\u8bc4\u4f30:\n\n\n"
      ]
    },
    {
      "cell_type": "code",
      "execution_count": null,
      "metadata": {
        "collapsed": false
      },
      "outputs": [],
      "source": [
        "def exp_adder(x, y):\n    return 2 * x.exp() + 3 * y\n\ninputs = (torch.rand(1), torch.rand(1)) # arguments for the function\nprint(inputs)\ntorch.autograd.functional.jacobian(exp_adder, inputs)"
      ]
    },
    {
      "cell_type": "markdown",
      "metadata": {},
      "source": [
        "\u5982\u679c\u4f60\u4ed4\u7ec6\u89c2\u5bdf,\u7b2c\u4e00\u4e2a\u8f93\u51fa\u5e94\u8be5\u7b49\u4e8e $2e^x$ (\u56e0\u4e3a $e^x$ \u7684\n\u5bfc\u6570\u662f $e^x$),\u7b2c\u4e8c\u4e2a\u503c\u5e94\u8be5\u662f3\u3002\n\n\u4f60\u5f53\u7136\u4e5f\u53ef\u4ee5\u5bf9\u66f4\u9ad8\u9636\u7684\u5f20\u91cf\u8fd9\u6837\u505a:\n\n\n"
      ]
    },
    {
      "cell_type": "code",
      "execution_count": null,
      "metadata": {
        "collapsed": false
      },
      "outputs": [],
      "source": [
        "inputs = (torch.rand(3), torch.rand(3)) # arguments for the function\nprint(inputs)\ntorch.autograd.functional.jacobian(exp_adder, inputs)"
      ]
    },
    {
      "cell_type": "markdown",
      "metadata": {},
      "source": [
        "``torch.autograd.functional.hessian()`` \u65b9\u6cd5\u7684\u5de5\u4f5c\u65b9\u5f0f\u5b8c\u5168\u76f8\u540c(\u5047\u8bbe\u4f60\u7684\n\u51fd\u6570\u662f\u4e24\u6b21\u53ef\u5fae\u7684),\u4f46\u8fd4\u56de\u6240\u6709\u4e8c\u9636\u5bfc\u6570\u7684\u77e9\u9635\u3002\n\n\u5982\u679c\u4f60\u63d0\u4f9b\u4e86\u5411\u91cf,\u8fd8\u6709\u4e00\u4e2a\u76f4\u63a5\u8ba1\u7b97\u5411\u91cf-\u96c5\u53ef\u6bd4\u4e58\u79ef\u7684\u51fd\u6570:\n\n\n"
      ]
    },
    {
      "cell_type": "code",
      "execution_count": null,
      "metadata": {
        "collapsed": false
      },
      "outputs": [],
      "source": [
        "def do_some_doubling(x):\n    y = x * 2\n    while y.data.norm() < 1000:\n        y = y * 2\n    return y\n\ninputs = torch.randn(3)\nmy_gradients = torch.tensor([0.1, 1.0, 0.0001])\ntorch.autograd.functional.vjp(do_some_doubling, inputs, v=my_gradients)"
      ]
    },
    {
      "cell_type": "markdown",
      "metadata": {},
      "source": [
        "``torch.autograd.functional.jvp()`` \u65b9\u6cd5\u6267\u884c\u4e0e ``vjp()`` \u76f8\u540c\u7684\u77e9\u9635\u4e58\u6cd5,\n\u4f46\u64cd\u4f5c\u6570\u987a\u5e8f\u76f8\u53cd\u3002``vhp()`` \u548c ``hvp()`` \u65b9\u6cd5\u5bf9\u4e8e\u5411\u91cf-\u6d77\u68ee\u77e9\u9635\u4e58\u79ef\u4e5f\u662f\u5982\u6b64\u3002\n\n\u6709\u5173\u66f4\u591a\u4fe1\u606f,\u5305\u62ec [\u529f\u80fd API \u6587\u6863](https://pytorch.org/docs/stable/autograd.html#functional-higher-level-api)_\n\u4e2d\u7684\u6027\u80fd\u8bf4\u660e\u3002\n\n"
      ]
    }
  ],
  "metadata": {
    "kernelspec": {
      "display_name": "Python 3",
      "language": "python",
      "name": "python3"
    },
    "language_info": {
      "codemirror_mode": {
        "name": "ipython",
        "version": 3
      },
      "file_extension": ".py",
      "mimetype": "text/x-python",
      "name": "python",
      "nbconvert_exporter": "python",
      "pygments_lexer": "ipython3",
      "version": "3.11.9"
    }
  },
  "nbformat": 4,
  "nbformat_minor": 0
}