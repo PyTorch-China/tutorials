{
  "cells": [
    {
      "cell_type": "code",
      "execution_count": null,
      "metadata": {
        "collapsed": false
      },
      "outputs": [],
      "source": [
        "# For tips on running notebooks in Google Colab, see\n# https://pytorch.org/tutorials/beginner/colab\n%matplotlib inline"
      ]
    },
    {
      "cell_type": "markdown",
      "metadata": {},
      "source": [
        "\n# Timer\u5feb\u901f\u5165\u95e8\n\n\u5728\u672c\u6559\u7a0b\u4e2d,\u6211\u4eec\u5c06\u4ecb\u7ecd `torch.utils.benchmark.Timer` \u7684\u4e3b\u8981API\u3002\nPyTorch Timer\u57fa\u4e8e [timeit.Timer](https://docs.python.org/3/library/timeit.html#timeit.Timer)_ API,\n\u5e76\u505a\u4e86\u4e00\u4e9bPyTorch\u7279\u5b9a\u7684\u4fee\u6539\u3002\u672c\u6559\u7a0b\u4e0d\u8981\u6c42\u8bfb\u8005\u719f\u6089\u5185\u7f6e\u7684 `Timer` \u7c7b,\u4f46\u5047\u8bbe\u8bfb\u8005\u719f\u6089\u6027\u80fd\u5de5\u4f5c\u7684\u57fa\u7840\u77e5\u8bc6\u3002\n\n\u6709\u5173\u66f4\u5168\u9762\u7684\u6027\u80fd\u8c03\u4f18\u6559\u7a0b,\u8bf7\u53c2\u9605 [PyTorch Benchmark](https://pytorch.org/tutorials/recipes/recipes/benchmark.html)_\u3002\n\n\n**\u5185\u5bb9:**\n    1. [\u5b9a\u4e49Timer](#defining-a-timer)_\n    2. [Wall\u65f6\u95f4: Timer.blocked_autorange(...)](#wall-time-timer-blocked-autorange)_\n    3. [C++\u4ee3\u7801\u7247\u6bb5](#c-snippets)_\n    4. [\u6307\u4ee4\u8ba1\u6570: Timer.collect_callgrind(...)](#instruction-counts-timer-collect-callgrind)_\n    5. [\u6307\u4ee4\u8ba1\u6570: \u6df1\u5165\u63a2\u8ba8](#instruction-counts-delving-deeper)_\n    6. [\u4f7f\u7528Callgrind\u8fdb\u884cA/B\u6d4b\u8bd5](#a-b-testing-with-callgrind)_\n    7. [\u603b\u7ed3](#wrapping-up)_\n    8. [\u811a\u6ce8](#footnotes)_\n"
      ]
    },
    {
      "cell_type": "markdown",
      "metadata": {},
      "source": [
        "## 1. \u5b9a\u4e49Timer\n\n`Timer` \u7528\u4e8e\u5b9a\u4e49\u4efb\u52a1\u3002\n\n\n"
      ]
    },
    {
      "cell_type": "code",
      "execution_count": null,
      "metadata": {
        "collapsed": false
      },
      "outputs": [],
      "source": [
        "from torch.utils.benchmark import Timer\n\ntimer = Timer(\n    # \u5c06\u5728\u5faa\u73af\u4e2d\u8fd0\u884c\u5e76\u8ba1\u65f6\u7684\u8ba1\u7b97\u3002\n    stmt=\"x * y\",\n\n    # `setup` \u5c06\u5728\u8c03\u7528\u6d4b\u91cf\u5faa\u73af\u4e4b\u524d\u8fd0\u884c,\u7528\u4e8e\u586b\u5145 `stmt` \u6240\u9700\u7684\u4efb\u4f55\u72b6\u6001\n    setup=\"\"\"\n        x = torch.ones((128,))\n        y = torch.ones((128,))\n    \"\"\",\n\n    # \u6216\u8005,\u53ef\u4ee5\u4f7f\u7528 ``globals`` \u4ece\u5916\u90e8\u4f5c\u7528\u57df\u4f20\u9012\u53d8\u91cf\u3002\n    # \n    #    globals={\n    #        \"x\": torch.ones((128,)),\n    #        \"y\": torch.ones((128,)),\n    #    },\n\n    # \u63a7\u5236PyTorch\u4f7f\u7528\u7684\u7ebf\u7a0b\u6570\u3002(\u9ed8\u8ba4\u503c: 1)\n    num_threads=1,\n)"
      ]
    },
    {
      "cell_type": "markdown",
      "metadata": {},
      "source": [
        "## 2. Wall\u65f6\u95f4: ``Timer.blocked_autorange(...)``\n\n\u6b64\u65b9\u6cd5\u5c06\u5904\u7406\u8bf8\u5982\u9009\u62e9\u5408\u9002\u7684\u91cd\u590d\u6b21\u6570\u3001\u56fa\u5b9a\u7ebf\u7a0b\u6570\u4ee5\u53ca\u63d0\u4f9b\u7ed3\u679c\u7684\u65b9\u4fbf\u8868\u793a\u7b49\u7ec6\u8282\u3002\n\n\n"
      ]
    },
    {
      "cell_type": "code",
      "execution_count": null,
      "metadata": {
        "collapsed": false
      },
      "outputs": [],
      "source": [
        "# Measurement\u5bf9\u8c61\u5b58\u50a8\u591a\u6b21\u91cd\u590d\u7684\u7ed3\u679c,\u5e76\u63d0\u4f9b\u5404\u79cd\u5b9e\u7528\u529f\u80fd\u3002\nfrom torch.utils.benchmark import Measurement\n\nm: Measurement = timer.blocked_autorange(min_run_time=1)\nprint(m)"
      ]
    },
    {
      "cell_type": "markdown",
      "metadata": {},
      "source": [
        ".. code-block:: none\n   :caption: **Snippet wall time.**\n\n        <torch.utils.benchmark.utils.common.Measurement object at 0x7f1929a38ed0>\n        x * y\n        setup:\n          x = torch.ones((128,))\n          y = torch.ones((128,))\n\n          Median: 2.34 us\n          IQR:    0.07 us (2.31 to 2.38)\n          424 measurements, 1000 runs per measurement, 1 thread\n\n\n"
      ]
    },
    {
      "cell_type": "markdown",
      "metadata": {},
      "source": [
        "## 3. C++ \u4ee3\u7801\u7247\u6bb5\n\n\n"
      ]
    },
    {
      "cell_type": "code",
      "execution_count": null,
      "metadata": {
        "collapsed": false
      },
      "outputs": [],
      "source": [
        "from torch.utils.benchmark import Language\n\ncpp_timer = Timer(\n    \"x * y;\",\n    \"\"\"\n        auto x = torch::ones({128});\n        auto y = torch::ones({128});\n    \"\"\",\n    language=Language.CPP,\n)\n\nprint(cpp_timer.blocked_autorange(min_run_time=1))"
      ]
    },
    {
      "cell_type": "markdown",
      "metadata": {},
      "source": [
        ".. code-block:: none\n   :caption: **C++ snippet wall time.**\n\n        <torch.utils.benchmark.utils.common.Measurement object at 0x7f192b019ed0>\n        x * y;\n        setup:\n          auto x = torch::ones({128});\n          auto y = torch::ones({128});\n\n          Median: 1.21 us\n          IQR:    0.03 us (1.20 to 1.23)\n          83 measurements, 10000 runs per measurement, 1 thread\n\n\n"
      ]
    },
    {
      "cell_type": "markdown",
      "metadata": {},
      "source": [
        "\u4e0d\u51fa\u6240\u6599,C++\u4ee3\u7801\u7247\u6bb5\u7684\u901f\u5ea6\u66f4\u5feb,\u53d8\u5316\u4e5f\u66f4\u5c0f\u3002\n\n\n"
      ]
    },
    {
      "cell_type": "markdown",
      "metadata": {},
      "source": [
        "## 4. \u6307\u4ee4\u8ba1\u6570: ``Timer.collect_callgrind(...)``\n\n\u4e3a\u4e86\u6df1\u5165\u8c03\u67e5,`Timer.collect_callgrind` \u5c01\u88c5\u4e86 \n[Callgrind](https://valgrind.org/docs/manual/cl-manual.html)_ \u4ee5\u6536\u96c6\u6307\u4ee4\u8ba1\u6570\u3002\n\u8fd9\u4e9b\u6307\u4ee4\u8ba1\u6570\u975e\u5e38\u6709\u7528,\u56e0\u4e3a\u5b83\u4eec\u63d0\u4f9b\u4e86\u7ec6\u7c92\u5ea6\u548c\u786e\u5b9a\u6027\u7684(\u6216\u5728Python\u7684\u60c5\u51b5\u4e0b\u566a\u58f0\u5f88\u4f4e\u7684)\u89c1\u89e3,\n\u8bf4\u660e\u4e86\u4ee3\u7801\u7247\u6bb5\u662f\u5982\u4f55\u8fd0\u884c\u7684\u3002\n\n\n"
      ]
    },
    {
      "cell_type": "code",
      "execution_count": null,
      "metadata": {
        "collapsed": false
      },
      "outputs": [],
      "source": [
        "from torch.utils.benchmark import CallgrindStats, FunctionCounts\n\nstats: CallgrindStats = cpp_timer.collect_callgrind()\nprint(stats)"
      ]
    },
    {
      "cell_type": "markdown",
      "metadata": {},
      "source": [
        ".. code-block:: none\n   :caption: **C++ Callgrind stats (summary)**\n\n        <torch.utils.benchmark.utils.valgrind_wrapper.timer_interface.CallgrindStats object at 0x7f1929a35850>\n        x * y;\n        setup:\n          auto x = torch::ones({128});\n          auto y = torch::ones({128});\n\n                                All          Noisy symbols removed\n            Instructions:       563600                     563600\n            Baseline:                0                          0\n        100 runs per measurement, 1 thread\n\n\n"
      ]
    },
    {
      "cell_type": "markdown",
      "metadata": {},
      "source": [
        "## 5. \u6307\u4ee4\u8ba1\u6570: \u6df1\u5165\u63a2\u8ba8\n\n`CallgrindStats` \u7684\u5b57\u7b26\u4e32\u8868\u793a\u5f62\u5f0f\u7c7b\u4f3c\u4e8e Measurement\u3002`Noisy symbols` \u662f\u4e00\u4e2aPython\u6982\u5ff5(\u79fb\u9664\u4e86\u5728CPython\u89e3\u91ca\u5668\u4e2d\u5df2\u77e5\u7684\u566a\u58f0\u8c03\u7528)\u3002\n\n\u7136\u800c,\u4e3a\u4e86\u8fdb\u884c\u66f4\u8be6\u7ec6\u7684\u5206\u6790,\u6211\u4eec\u9700\u8981\u67e5\u770b\u7279\u5b9a\u7684\u8c03\u7528\u3002`CallgrindStats.stats()` \u8fd4\u56de\u4e00\u4e2a `FunctionCounts` \u5bf9\u8c61,\u4ee5\u4fbf\u4e8e\u6b64\u64cd\u4f5c\u3002\u4ece\u6982\u5ff5\u4e0a\u8bb2,`FunctionCounts` \u53ef\u4ee5\u88ab\u89c6\u4e3a\u4e00\u4e2a\u5e26\u6709\u4e00\u4e9b\u5b9e\u7528\u65b9\u6cd5\u7684\u6210\u5bf9\u5143\u7ec4,\u5176\u4e2d\u6bcf\u4e00\u5bf9\u90fd\u662f `(\u6307\u4ee4\u6570\u91cf,\u6587\u4ef6\u8def\u5f84\u548c\u51fd\u6570\u540d\u79f0)`\u3002\n\n\u5173\u4e8e\u8def\u5f84\u7684\u8bf4\u660e:\n  \u901a\u5e38\u6211\u4eec\u4e0d\u5173\u5fc3\u7edd\u5bf9\u8def\u5f84\u3002\u4f8b\u5982,\u4e00\u4e2a\u4e58\u6cd5\u8c03\u7528\u7684\u5b8c\u6574\u8def\u5f84\u548c\u51fd\u6570\u540d\u662f\u8fd9\u6837\u7684:\n\n```sh\n/the/prefix/to/your/pytorch/install/dir/pytorch/build/aten/src/ATen/core/TensorMethods.cpp:at::Tensor::mul(at::Tensor const&) const [/the/path/to/your/conda/install/miniconda3/envs/ab_ref/lib/python3.7/site-packages/torch/lib/libtorch_cpu.so]\n```\n  \u800c\u5b9e\u9645\u4e0a,\u6211\u4eec\u611f\u5174\u8da3\u7684\u6240\u6709\u4fe1\u606f\u90fd\u53ef\u4ee5\u8868\u793a\u4e3a:\n\n```sh\nbuild/aten/src/ATen/core/TensorMethods.cpp:at::Tensor::mul(at::Tensor const&) const\n```\n  ``CallgrindStats.as_standardized()`` \u4f1a\u5c3d\u6700\u5927\u52aa\u529b\u53bb\u9664\u6587\u4ef6\u8def\u5f84\u4e2d\u4f4e\u4fe1\u53f7\u90e8\u5206,\u4ee5\u53ca\u5171\u4eab\u5bf9\u8c61,\u901a\u5e38\u5efa\u8bae\u4f7f\u7528\u3002\n\n\n"
      ]
    },
    {
      "cell_type": "code",
      "execution_count": null,
      "metadata": {
        "collapsed": false
      },
      "outputs": [],
      "source": [
        "inclusive_stats = stats.as_standardized().stats(inclusive=False)\nprint(inclusive_stats[:10])"
      ]
    },
    {
      "cell_type": "markdown",
      "metadata": {},
      "source": [
        ".. code-block:: none\n   :caption: **C++ Callgrind stats (detailed)**\n\n        torch.utils.benchmark.utils.valgrind_wrapper.timer_interface.FunctionCounts object at 0x7f192a6dfd90>\n          47264  ???:_int_free\n          25963  ???:_int_malloc\n          19900  build/../aten/src/ATen/TensorIter ... (at::TensorIteratorConfig const&)\n          18000  ???:__tls_get_addr\n          13500  ???:malloc\n          11300  build/../c10/util/SmallVector.h:a ... (at::TensorIteratorConfig const&)\n          10345  ???:_int_memalign\n          10000  build/../aten/src/ATen/TensorIter ... (at::TensorIteratorConfig const&)\n           9200  ???:free\n           8000  build/../c10/util/SmallVector.h:a ... IteratorBase::get_strides() const\n\n        Total: 173472\n\n\n"
      ]
    },
    {
      "cell_type": "markdown",
      "metadata": {},
      "source": [
        "\u8fd9\u4ecd\u7136\u6709\u5f88\u591a\u5185\u5bb9\u9700\u8981\u6d88\u5316\u3002\u8ba9\u6211\u4eec\u4f7f\u7528 `FunctionCounts.transform` \u65b9\u6cd5\u6765\u53bb\u9664\u4e00\u4e9b\u51fd\u6570\u8def\u5f84,\u5e76\u4e22\u5f03\u51fd\u6570\u8c03\u7528\u3002\n\u8fd9\u6837\u505a\u65f6,\u4efb\u4f55\u51b2\u7a81(\u4f8b\u5982 `foo.h:a()` \u548c `foo.h:b()` \u90fd\u5c06\u6620\u5c04\u5230 `foo.h`)\u7684\u8ba1\u6570\u5c06\u88ab\u7d2f\u52a0\u3002\n\n\n"
      ]
    },
    {
      "cell_type": "code",
      "execution_count": null,
      "metadata": {
        "collapsed": false
      },
      "outputs": [],
      "source": [
        "import os\nimport re\n\ndef group_by_file(fn_name: str):\n    if fn_name.startswith(\"???\"):\n        fn_dir, fn_file = fn_name.split(\":\")[:2]\n    else:\n        fn_dir, fn_file = os.path.split(fn_name.split(\":\")[0])\n        fn_dir = re.sub(\"^.*build/../\", \"\", fn_dir)\n        fn_dir = re.sub(\"^.*torch/\", \"torch/\", fn_dir)\n\n    return f\"{fn_dir:<15} {fn_file}\"\n\nprint(inclusive_stats.transform(group_by_file)[:10])"
      ]
    },
    {
      "cell_type": "markdown",
      "metadata": {},
      "source": [
        ".. code-block:: none\n   :caption: **Callgrind stats (condensed)**\n\n        <torch.utils.benchmark.utils.valgrind_wrapper.timer_interface.FunctionCounts object at 0x7f192995d750>\n          118200  aten/src/ATen   TensorIterator.cpp\n           65000  c10/util        SmallVector.h\n           47264  ???             _int_free\n           25963  ???             _int_malloc\n           20900  c10/util        intrusive_ptr.h\n           18000  ???             __tls_get_addr\n           15900  c10/core        TensorImpl.h\n           15100  c10/core        CPUAllocator.cpp\n           13500  ???             malloc\n           12500  c10/core        TensorImpl.cpp\n\n        Total: 352327\n\n\n"
      ]
    },
    {
      "cell_type": "markdown",
      "metadata": {},
      "source": [
        "## 6. \u4f7f\u7528 ``Callgrind`` \u8fdb\u884cA/B\u6d4b\u8bd5\n\n\u6307\u4ee4\u8ba1\u6570\u6700\u6709\u7528\u7684\u7279\u6027\u4e4b\u4e00\u662f\u5141\u8bb8\u5bf9\u8ba1\u7b97\u8fdb\u884c\u7ec6\u7c92\u5ea6\u6bd4\u8f83,\u8fd9\u5728\u5206\u6790\u6027\u80fd\u65f6\u81f3\u5173\u91cd\u8981\u3002\n\n\u4e3a\u4e86\u770b\u5230\u8fd9\u4e00\u70b9,\u8ba9\u6211\u4eec\u5c06\u4e24\u4e2a\u5927\u5c0f\u4e3a128\u7684\u5f20\u91cf\u76f8\u4e58\u4e0e\u4e00\u4e2a{128} x {1}\u7684\u4e58\u6cd5\u8fdb\u884c\u6bd4\u8f83,\u540e\u8005\u5c06\u5bf9\u7b2c\u4e8c\u4e2a\u5f20\u91cf\u8fdb\u884c\u5e7f\u64ad:\n  result = {a0 * b0, a1 * b0, ..., a127 * b0}\n\n\n"
      ]
    },
    {
      "cell_type": "code",
      "execution_count": null,
      "metadata": {
        "collapsed": false
      },
      "outputs": [],
      "source": [
        "broadcasting_stats = Timer(\n    \"x * y;\",\n    \"\"\"\n        auto x = torch::ones({128});\n        auto y = torch::ones({1});\n    \"\"\",\n    language=Language.CPP,\n).collect_callgrind().as_standardized().stats(inclusive=False)"
      ]
    },
    {
      "cell_type": "markdown",
      "metadata": {},
      "source": [
        "\u6211\u4eec\u7ecf\u5e38\u9700\u8981\u5bf9\u4e24\u79cd\u4e0d\u540c\u7684\u73af\u5883\u8fdb\u884cA/B\u6d4b\u8bd5\u3002(\u4f8b\u5982\u6d4b\u8bd5\u4e00\u4e2aPR,\u6216\u5c1d\u8bd5\u4e0d\u540c\u7684\u7f16\u8bd1\u6807\u5fd7\u3002)\u8fd9\u5f88\u7b80\u5355,\n\u56e0\u4e3a `CallgrindStats`\u3001`FunctionCounts` \u548c Measurement \u90fd\u662f\u53efpickle\u5316\u7684\u3002\n\u53ea\u9700\u5728\u6bcf\u4e2a\u73af\u5883\u4e2d\u4fdd\u5b58\u6d4b\u91cf\u7ed3\u679c,\u7136\u540e\u5728\u5355\u4e2a\u8fdb\u7a0b\u4e2d\u52a0\u8f7d\u5b83\u4eec\u8fdb\u884c\u5206\u6790\u3002\n\n\n"
      ]
    },
    {
      "cell_type": "code",
      "execution_count": null,
      "metadata": {
        "collapsed": false
      },
      "outputs": [],
      "source": [
        "import pickle\n\nbroadcasting_stats = pickle.loads(pickle.dumps(broadcasting_stats))\n\n\ndelta = broadcasting_stats - inclusive_stats\n\ndef extract_fn_name(fn: str):\n    \"\"\"Trim everything except the function name.\"\"\"\n    fn = \":\".join(fn.split(\":\")[1:])\n    return re.sub(r\"\\(.+\\)\", \"(...)\", fn)\n\nprint(delta.transform(extract_fn_name))"
      ]
    },
    {
      "cell_type": "markdown",
      "metadata": {},
      "source": [
        ".. code-block:: none\n   :caption: **Instruction count delta**\n\n        <torch.utils.benchmark.utils.valgrind_wrapper.timer_interface.FunctionCounts object at 0x7f192995d750>\n            17600  at::TensorIteratorBase::compute_strides(...)\n            12700  at::TensorIteratorBase::allocate_or_resize_outputs()\n            10200  c10::SmallVectorImpl<long>::operator=(...)\n             7400  at::infer_size(...)\n             6200  at::TensorIteratorBase::invert_perm(...) const\n             6064  _int_free\n             5100  at::TensorIteratorBase::reorder_dimensions()\n             4300  malloc\n             4300  at::TensorIteratorBase::compatible_stride(...) const\n              ...\n              -28  _int_memalign\n             -100  c10::impl::check_tensor_options_and_extract_memory_format(...)\n             -300  __memcmp_avx2_movbe\n             -400  at::detail::empty_cpu(...)\n            -1100  at::TensorIteratorBase::numel() const\n            -1300  void at::native::(...)\n            -2400  c10::TensorImpl::is_contiguous(...) const\n            -6100  at::TensorIteratorBase::compute_fast_setup_type(...)\n           -22600  at::TensorIteratorBase::fast_set_up(...)\n\n        Total: 58091\n\n\n"
      ]
    },
    {
      "cell_type": "markdown",
      "metadata": {},
      "source": [
        "\u6240\u4ee5\u5e7f\u64ad\u7248\u672c\u6bcf\u6b21\u8c03\u7528\u9700\u8981\u989d\u5916580\u6761\u6307\u4ee4(\u56de\u60f3\u4e00\u4e0b\u6211\u4eec\u6536\u96c6\u4e86100\u6b21\u8fd0\u884c\u7684\u6837\u672c),\u7ea6\u536010%\u3002\n\u6709\u76f8\u5f53\u591a\u7684 `TensorIterator` \u8c03\u7528,\u6240\u4ee5\u8ba9\u6211\u4eec\u6df1\u5165\u7814\u7a76\u8fd9\u4e9b\u8c03\u7528\u3002\n`FunctionCounts.filter` \u53ef\u4ee5\u5f88\u5bb9\u6613\u5730\u505a\u5230\u8fd9\u4e00\u70b9\u3002\n\n"
      ]
    },
    {
      "cell_type": "code",
      "execution_count": null,
      "metadata": {
        "collapsed": false
      },
      "outputs": [],
      "source": [
        "print(delta.transform(extract_fn_name).filter(lambda fn: \"TensorIterator\" in fn))"
      ]
    },
    {
      "cell_type": "markdown",
      "metadata": {},
      "source": [
        ".. code-block:: none\n   :caption: **Instruction count delta (filter)**\n\n        <torch.utils.benchmark.utils.valgrind_wrapper.timer_interface.FunctionCounts object at 0x7f19299544d0>\n            17600  at::TensorIteratorBase::compute_strides(...)\n            12700  at::TensorIteratorBase::allocate_or_resize_outputs()\n             6200  at::TensorIteratorBase::invert_perm(...) const\n             5100  at::TensorIteratorBase::reorder_dimensions()\n             4300  at::TensorIteratorBase::compatible_stride(...) const\n             4000  at::TensorIteratorBase::compute_shape(...)\n             2300  at::TensorIteratorBase::coalesce_dimensions()\n             1600  at::TensorIteratorBase::build(...)\n            -1100  at::TensorIteratorBase::numel() const\n            -6100  at::TensorIteratorBase::compute_fast_setup_type(...)\n           -22600  at::TensorIteratorBase::fast_set_up(...)\n\n        Total: 24000\n\n\n"
      ]
    },
    {
      "cell_type": "markdown",
      "metadata": {},
      "source": [
        "\u8fd9\u8bf4\u660e\u4e86\u6b63\u5728\u53d1\u751f\u7684\u60c5\u51b5:\u5728 TensorIterator \u8bbe\u7f6e\u4e2d\u6709\u4e00\u6761\u5feb\u901f\u8def\u5f84,\n\u4f46\u5728 {128} x {1} \u7684\u60c5\u51b5\u4e0b,\u6211\u4eec\u9519\u8fc7\u4e86\u5b83,\u4e0d\u5f97\u4e0d\u8fdb\u884c\u66f4\u901a\u7528\u7684\u5206\u6790,\u8fd9\u66f4\u52a0\u6602\u8d35\u3002\n\u88ab\u8fc7\u6ee4\u5668\u7701\u7565\u7684\u6700\u663e\u8457\u7684\u8c03\u7528\u662f c10::SmallVectorImpl<long>::operator=(...),\n\u8fd9\u4e5f\u662f\u66f4\u901a\u7528\u8bbe\u7f6e\u7684\u4e00\u90e8\u5206\u3002\n\n"
      ]
    },
    {
      "cell_type": "markdown",
      "metadata": {},
      "source": [
        "## 7. \u603b\u7ed3\n\n\u603b\u4e4b,\u4f7f\u7528 Timer.blocked_autorange \u6765\u6536\u96c6\u5899\u4e0a\u65f6\u95f4\u3002\u5982\u679c\u8ba1\u65f6\u53d8\u5316\u8fc7\u9ad8,\n\u8bf7\u589e\u52a0 min_run_time,\u6216\u8005\u5982\u679c\u65b9\u4fbf\u7684\u8bdd,\u8f6c\u79fb\u5230 C++ \u4ee3\u7801\u7247\u6bb5\u3002\n\u5bf9\u4e8e\u7ec6\u7c92\u5ea6\u5206\u6790,\u4f7f\u7528 Timer.collect_callgrind \u6765\u6d4b\u91cf\u6307\u4ee4\u8ba1\u6570,\n\u5e76\u4f7f\u7528 FunctionCounts.(__add__ / __sub__ / transform / filter)\n\u6765\u5207\u5206\u548c\u5904\u7406\u5b83\u4eec\u3002\n\n"
      ]
    },
    {
      "cell_type": "markdown",
      "metadata": {},
      "source": [
        "## 8. \u811a\u6ce8\n\n- \u9690\u542b\u7684 import torch\n\u5982\u679c globals \u4e0d\u5305\u542b \"torch\",Timer \u5c06\u81ea\u52a8\u586b\u5145\u5b83\u3002\u8fd9\u610f\u5473\u7740 Timer(\"torch.empty(())\") \u5c06\u6b63\u5e38\u5de5\u4f5c\u3002\n(\u4e0d\u8fc7\u5176\u4ed6\u5bfc\u5165\u5e94\u8be5\u653e\u5728 setup \u4e2d,\n\u4f8b\u5982 Timer(\"np.zeros(())\", \"import numpy as np\"))\n\n- REL_WITH_DEB_INFO\n\u4e3a\u4e86\u63d0\u4f9b\u6709\u5173\u6267\u884c\u7684 PyTorch \u5185\u90e8\u4fe1\u606f\u7684\u5b8c\u6574\u4fe1\u606f,Callgrind \u9700\u8981\u8bbf\u95ee C++ \u8c03\u8bd5\u7b26\u53f7\u3002\n\u8fd9\u662f\u901a\u8fc7\u5728\u6784\u5efa PyTorch \u65f6\u8bbe\u7f6e REL_WITH_DEB_INFO=1 \u6765\u5b9e\u73b0\u7684\u3002\n\u5426\u5219\u51fd\u6570\u8c03\u7528\u5c06\u662f\u4e0d\u900f\u660e\u7684\u3002(\u751f\u6210\u7684 CallgrindStats \u5c06\u5728\u7f3a\u5c11\u8c03\u8bd5\u7b26\u53f7\u65f6\u53d1\u51fa\u8b66\u544a\u3002)\n"
      ]
    }
  ],
  "metadata": {
    "kernelspec": {
      "display_name": "Python 3",
      "language": "python",
      "name": "python3"
    },
    "language_info": {
      "codemirror_mode": {
        "name": "ipython",
        "version": 3
      },
      "file_extension": ".py",
      "mimetype": "text/x-python",
      "name": "python",
      "nbconvert_exporter": "python",
      "pygments_lexer": "ipython3",
      "version": "3.11.9"
    }
  },
  "nbformat": 4,
  "nbformat_minor": 0
}