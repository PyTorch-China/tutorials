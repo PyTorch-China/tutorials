{
  "cells": [
    {
      "cell_type": "code",
      "execution_count": null,
      "metadata": {
        "collapsed": false
      },
      "outputs": [],
      "source": [
        "# For tips on running notebooks in Google Colab, see\n# https://pytorch.org/tutorials/beginner/colab\n%matplotlib inline"
      ]
    },
    {
      "cell_type": "markdown",
      "metadata": {},
      "source": [
        "\n# \u5728PyTorch\u4e2d\u63a8\u7406\u5f62\u72b6\n\n\u5728\u4f7f\u7528PyTorch\u7f16\u5199\u6a21\u578b\u65f6,\u901a\u5e38\u4f1a\u9047\u5230\u67d0\u4e00\u5c42\u7684\u53c2\u6570\u53d6\u51b3\u4e8e\u524d\u4e00\u5c42\u8f93\u51fa\u7684\u5f62\u72b6\u7684\u60c5\u51b5\u3002\u4f8b\u5982,\n``nn.Linear``\u5c42\u7684``in_features``\u5fc5\u987b\u4e0e\u8f93\u5165\u7684``size(-1)``\u76f8\u5339\u914d\u3002\u5bf9\u4e8e\u67d0\u4e9b\u5c42,\u5f62\u72b6\u8ba1\u7b97\u6d89\u53ca\u590d\u6742\u7684\u7b49\u5f0f,\u4f8b\u5982\u5377\u79ef\u8fd0\u7b97\u3002\n\n\u4e00\u79cd\u89e3\u51b3\u65b9\u6cd5\u662f\u4f7f\u7528\u968f\u673a\u8f93\u5165\u8fdb\u884c\u524d\u5411\u4f20\u64ad,\u4f46\u8fd9\u5728\u5185\u5b58\u548c\u8ba1\u7b97\u65b9\u9762\u662f\u6d6a\u8d39\u7684\u3002\n\n\u76f8\u53cd,\u6211\u4eec\u53ef\u4ee5\u4f7f\u7528``meta``\u8bbe\u5907\u6765\u786e\u5b9a\u5c42\u7684\u8f93\u51fa\u5f62\u72b6,\u800c\u65e0\u9700\u5b9e\u9645\u5316\u4efb\u4f55\u6570\u636e\u3002\n"
      ]
    },
    {
      "cell_type": "code",
      "execution_count": null,
      "metadata": {
        "collapsed": false
      },
      "outputs": [],
      "source": [
        "import timeit\n\nimport torch\n\nt = torch.rand(2, 3, 10, 10, device=\"meta\")\nconv = torch.nn.Conv2d(3, 5, 2, device=\"meta\")\nstart = timeit.default_timer()\nout = conv(t)\nend = timeit.default_timer()\n\nprint(out)\nprint(f\"\u6240\u9700\u65f6\u95f4: {end-start}\")"
      ]
    },
    {
      "cell_type": "markdown",
      "metadata": {},
      "source": [
        "\u89c2\u5bdf\u5230,\u7531\u4e8e\u6ca1\u6709\u5b9e\u9645\u5316\u6570\u636e,\u5373\u4f7f\u4f20\u5165\u4efb\u610f\u5927\u7684\u8f93\u5165,\u7528\u4e8e\u5f62\u72b6\u8ba1\u7b97\u7684\u65f6\u95f4\u4e5f\u4e0d\u4f1a\u663e\u8457\u6539\u53d8\u3002\n\n"
      ]
    },
    {
      "cell_type": "code",
      "execution_count": null,
      "metadata": {
        "collapsed": false
      },
      "outputs": [],
      "source": [
        "t_large = torch.rand(2**10, 3, 2**16, 2**16, device=\"meta\")\nstart = timeit.default_timer()\nout = conv(t_large)\nend = timeit.default_timer()\n\nprint(out)\nprint(f\"\u6240\u9700\u65f6\u95f4: {end-start}\")"
      ]
    },
    {
      "cell_type": "markdown",
      "metadata": {},
      "source": [
        "\u8003\u8651\u4ee5\u4e0b\u4efb\u610f\u7f51\u7edc:\n\n"
      ]
    },
    {
      "cell_type": "code",
      "execution_count": null,
      "metadata": {
        "collapsed": false
      },
      "outputs": [],
      "source": [
        "import torch.nn as nn\nimport torch.nn.functional as F\n\n\nclass Net(nn.Module):\n    def __init__(self):\n        super().__init__()\n        self.conv1 = nn.Conv2d(3, 6, 5)\n        self.pool = nn.MaxPool2d(2, 2)\n        self.conv2 = nn.Conv2d(6, 16, 5)\n        self.fc1 = nn.Linear(16 * 5 * 5, 120)\n        self.fc2 = nn.Linear(120, 84)\n        self.fc3 = nn.Linear(84, 10)\n\n    def forward(self, x):\n        x = self.pool(F.relu(self.conv1(x)))\n        x = self.pool(F.relu(self.conv2(x)))\n        x = torch.flatten(x, 1)  # \u5c55\u5e73\u9664\u6279\u6b21\u7ef4\u5ea6\u5916\u7684\u6240\u6709\u7ef4\u5ea6\n        x = F.relu(self.fc1(x))\n        x = F.relu(self.fc2(x))\n        x = self.fc3(x)\n        return x"
      ]
    },
    {
      "cell_type": "markdown",
      "metadata": {},
      "source": [
        "\u6211\u4eec\u53ef\u4ee5\u901a\u8fc7\u4e3a\u6bcf\u4e00\u5c42\u6ce8\u518c\u4e00\u4e2a\u524d\u5411\u94a9\u5b50\u6765\u6253\u5370\u8f93\u51fa\u7684\u5f62\u72b6,\u4ece\u800c\u67e5\u770b\u6574\u4e2a\u7f51\u7edc\u4e2d\u95f4\u5c42\u7684\u5f62\u72b6\u3002\n\n"
      ]
    },
    {
      "cell_type": "code",
      "execution_count": null,
      "metadata": {
        "collapsed": false
      },
      "outputs": [],
      "source": [
        "def fw_hook(module, input, output):\n    print(f\"{module}\u7684\u8f93\u51fa\u5f62\u72b6\u4e3a{output.shape}\u3002\")\n\n\n# \u5728\u6b64torch.device\u4e0a\u4e0b\u6587\u7ba1\u7406\u5668\u4e2d\u521b\u5efa\u7684\u4efb\u4f55\u5f20\u91cf\u90fd\u5c06\u5728meta\u8bbe\u5907\u4e0a\u3002\nwith torch.device(\"meta\"):\n    net = Net()\n    inp = torch.randn((1024, 3, 32, 32))\n\nfor name, layer in net.named_modules():\n    layer.register_forward_hook(fw_hook)\n\nout = net(inp)"
      ]
    }
  ],
  "metadata": {
    "kernelspec": {
      "display_name": "Python 3",
      "language": "python",
      "name": "python3"
    },
    "language_info": {
      "codemirror_mode": {
        "name": "ipython",
        "version": 3
      },
      "file_extension": ".py",
      "mimetype": "text/x-python",
      "name": "python",
      "nbconvert_exporter": "python",
      "pygments_lexer": "ipython3",
      "version": "3.10.0"
    }
  },
  "nbformat": 4,
  "nbformat_minor": 0
}