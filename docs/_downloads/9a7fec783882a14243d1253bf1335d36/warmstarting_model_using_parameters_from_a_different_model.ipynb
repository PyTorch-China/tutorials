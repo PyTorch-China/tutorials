{
  "cells": [
    {
      "cell_type": "code",
      "execution_count": null,
      "metadata": {
        "collapsed": false
      },
      "outputs": [],
      "source": [
        "# For tips on running notebooks in Google Colab, see\n# https://pytorch.org/tutorials/beginner/colab\n%matplotlib inline"
      ]
    },
    {
      "cell_type": "markdown",
      "metadata": {},
      "source": [
        "\n# PyTorch \u4f7f\u7528\u4e0d\u540c\u6a21\u578b\u7684\u53c2\u6570\u5bf9\u6a21\u578b\u8fdb\u884c\u70ed\u542f\u52a8\n\u5728\u8f6c\u79fb\u5b66\u4e60\u6216\u8bad\u7ec3\u65b0\u7684\u590d\u6742\u6a21\u578b\u65f6,\u52a0\u8f7d\u90e8\u5206\u6a21\u578b\u662f\u5f88\u5e38\u89c1\u7684\u573a\u666f\u3002\n\u5229\u7528\u5df2\u7ecf\u8bad\u7ec3\u597d\u7684\u53c2\u6570,\u5373\u4f7f\u53ea\u6709\u5c11\u6570\u53ef\u7528,\u4e5f\u5c06\u6709\u52a9\u4e8e\u52a0\u5feb\u8bad\u7ec3\u8fc7\u7a0b\u7684\u542f\u52a8,\n\u5e76\u6709\u671b\u4f7f\u60a8\u7684\u6a21\u578b\u6bd4\u4ece\u5934\u5f00\u59cb\u8bad\u7ec3\u6536\u655b\u5f97\u66f4\u5feb\u3002\n\n## \u7b80\u4ecb\n\u65e0\u8bba\u60a8\u662f\u52a0\u8f7d\u7f3a\u5c11\u67d0\u4e9b\u952e\u7684\u90e8\u5206 ``state_dict`` ,\u8fd8\u662f\u52a0\u8f7d\u6bd4\u9884\u671f\u7684\u6a21\u578b\u66f4\u591a\u952e\u7684 ``state_dict``,\n\u60a8\u90fd\u53ef\u4ee5\u901a\u8fc7 ``load_state_dict()`` \u51fd\u6570\u4e2d\u5c06 strict \u53c2\u6570\u8bbe\u7f6e\u4e3a ``False`` \u4ee5\u5ffd\u7565\u4e0d\u5339\u914d\u7684\u952e\u3002\n\u5728\u672c\u6559\u7a0b\u4e2d,\u6211\u4eec\u5c06\u5c1d\u8bd5\u4f7f\u7528\u4e0d\u540c\u6a21\u578b\u7684\u53c2\u6570\u5bf9\u6a21\u578b\u8fdb\u884c\u70ed\u542f\u52a8\u3002\n\n## \u73af\u5883\u8bbe\u7f6e\n\u5728\u5f00\u59cb\u4e4b\u524d,\u5982\u679c\u5c1a\u672a\u5b89\u88c5 ``torch``,\u6211\u4eec\u9700\u8981\u5148\u5b89\u88c5\u5b83\u3002\n\n```sh\npip install torch\n```\n"
      ]
    },
    {
      "cell_type": "markdown",
      "metadata": {},
      "source": [
        "## \u5177\u4f53\u6b65\u9aa4\n\n1. \u5bfc\u5165\u52a0\u8f7d\u6570\u636e\u6240\u9700\u7684\u6240\u6709\u5fc5\u8981\u5e93\n2. \u5b9a\u4e49\u5e76\u521d\u59cb\u5316\u795e\u7ecf\u7f51\u7edc A \u548c B\n3. \u4fdd\u5b58\u6a21\u578b A\n4. \u52a0\u8f7d\u5230\u6a21\u578b B\n\n### 1. \u5bfc\u5165\u52a0\u8f7d\u6570\u636e\u6240\u9700\u7684\u5fc5\u8981\u5e93\n\n\u5bf9\u4e8e\u672c\u6559\u7a0b,\u6211\u4eec\u5c06\u4f7f\u7528 ``torch`` \u53ca\u5176\u5b50\u6a21\u5757 ``torch.nn`` \u548c ``torch.optim``\u3002\n\n\n"
      ]
    },
    {
      "cell_type": "code",
      "execution_count": null,
      "metadata": {
        "collapsed": false
      },
      "outputs": [],
      "source": [
        "import torch\nimport torch.nn as nn\nimport torch.optim as optim"
      ]
    },
    {
      "cell_type": "markdown",
      "metadata": {},
      "source": [
        "### 2. \u5b9a\u4e49\u5e76\u521d\u59cb\u5316\u795e\u7ecf\u7f51\u7edc A \u548c B\n\n\u6211\u4eec\u5c06\u521b\u5efa\u4e00\u4e2a\u7528\u4e8e\u8bad\u7ec3\u56fe\u50cf\u7684\u795e\u7ecf\u7f51\u7edc\u3002\u8981\u4e86\u89e3\u66f4\u591a\u4fe1\u606f,\u8bf7\u53c2\u9605\u5b9a\u4e49\u795e\u7ecf\u7f51\u7edc\u7684\u6559\u7a0b\u3002\n\u6211\u4eec\u5c06\u521b\u5efa\u4e24\u4e2a\u795e\u7ecf\u7f51\u7edc,\u5c06\u7c7b\u578b A \u7684\u4e00\u4e2a\u53c2\u6570\u52a0\u8f7d\u5230\u7c7b\u578b B \u4e2d\u3002\n\n\n"
      ]
    },
    {
      "cell_type": "code",
      "execution_count": null,
      "metadata": {
        "collapsed": false
      },
      "outputs": [],
      "source": [
        "class NetA(nn.Module):\n    def __init__(self):\n        super(NetA, self).__init__()\n        self.conv1 = nn.Conv2d(3, 6, 5)\n        self.pool = nn.MaxPool2d(2, 2)\n        self.conv2 = nn.Conv2d(6, 16, 5)\n        self.fc1 = nn.Linear(16 * 5 * 5, 120)\n        self.fc2 = nn.Linear(120, 84)\n        self.fc3 = nn.Linear(84, 10)\n\n    def forward(self, x):\n        x = self.pool(F.relu(self.conv1(x)))\n        x = self.pool(F.relu(self.conv2(x)))\n        x = x.view(-1, 16 * 5 * 5)\n        x = F.relu(self.fc1(x))\n        x = F.relu(self.fc2(x))\n        x = self.fc3(x)\n        return x\n\nnetA = NetA()\n\nclass NetB(nn.Module):\n    def __init__(self):\n        super(NetB, self).__init__()\n        self.conv1 = nn.Conv2d(3, 6, 5)\n        self.pool = nn.MaxPool2d(2, 2)\n        self.conv2 = nn.Conv2d(6, 16, 5)\n        self.fc1 = nn.Linear(16 * 5 * 5, 120)\n        self.fc2 = nn.Linear(120, 84)\n        self.fc3 = nn.Linear(84, 10)\n\n    def forward(self, x):\n        x = self.pool(F.relu(self.conv1(x)))\n        x = self.pool(F.relu(self.conv2(x)))\n        x = x.view(-1, 16 * 5 * 5)\n        x = F.relu(self.fc1(x))\n        x = F.relu(self.fc2(x))\n        x = self.fc3(x)\n        return x\n\nnetB = NetB()"
      ]
    },
    {
      "cell_type": "markdown",
      "metadata": {},
      "source": [
        "### 3. \u4fdd\u5b58\u6a21\u578b A\n\n\n"
      ]
    },
    {
      "cell_type": "code",
      "execution_count": null,
      "metadata": {
        "collapsed": false
      },
      "outputs": [],
      "source": [
        "# \u6307\u5b9a\u4fdd\u5b58\u8def\u5f84\nPATH = \"model.pt\"\n\ntorch.save(netA.state_dict(), PATH)"
      ]
    },
    {
      "cell_type": "markdown",
      "metadata": {},
      "source": [
        "### 4. \u52a0\u8f7d\u5230\u6a21\u578b B\n\n\u5982\u679c\u60a8\u60f3\u5c06\u4e00\u4e2a\u5c42\u7684\u53c2\u6570\u52a0\u8f7d\u5230\u53e6\u4e00\u4e2a\u5c42,\u4f46\u662f\u67d0\u4e9b\u952e\u4e0d\u5339\u914d,\n\u53ea\u9700\u5c06\u8981\u52a0\u8f7d\u7684 state_dict \u4e2d\u7684\u53c2\u6570\u952e\u540d\u79f0\u66f4\u6539\u4e3a\u4e0e\u8981\u52a0\u8f7d\u5230\u7684\u6a21\u578b\u4e2d\u7684\u952e\u540d\u79f0\u76f8\u5339\u914d\u5373\u53ef\u3002\n\n\n"
      ]
    },
    {
      "cell_type": "code",
      "execution_count": null,
      "metadata": {
        "collapsed": false
      },
      "outputs": [],
      "source": [
        "netB.load_state_dict(torch.load(PATH), strict=False)"
      ]
    },
    {
      "cell_type": "markdown",
      "metadata": {},
      "source": [
        "\u60a8\u53ef\u4ee5\u770b\u5230\u6240\u6709\u952e\u90fd\u5339\u914d\u6210\u529f!\n\n\u795d\u8d3a\u60a8!\u60a8\u5df2\u6210\u529f\u4f7f\u7528\u4e0d\u540c\u6a21\u578b\u7684\u53c2\u6570\u5bf9\u6a21\u578b\u8fdb\u884c\u4e86\u70ed\u542f\u52a8\u3002\n\n## \u5b66\u4e60\u66f4\u591a\n\n\u67e5\u770b\u8fd9\u4e9b\u5176\u4ed6\u6559\u7a0b,\u7ee7\u7eed\u60a8\u7684\u5b66\u4e60:\n\n- [\u4f7f\u7528PyTorch\u5728\u4e00\u4e2a\u6587\u4ef6\u4e2d\u4fdd\u5b58\u548c\u52a0\u8f7d\u591a\u4e2a\u6a21\u578b](https://pytorch.org/tutorials/recipes/recipes/saving_multiple_models_in_one_file.html)_\n- [\u5728PyTorch\u4e2d\u8de8\u8bbe\u5907\u4fdd\u5b58\u548c\u52a0\u8f7d\u6a21\u578b](https://pytorch.org/tutorials/recipes/recipes/save_load_across_devices.html)_\n"
      ]
    }
  ],
  "metadata": {
    "kernelspec": {
      "display_name": "Python 3",
      "language": "python",
      "name": "python3"
    },
    "language_info": {
      "codemirror_mode": {
        "name": "ipython",
        "version": 3
      },
      "file_extension": ".py",
      "mimetype": "text/x-python",
      "name": "python",
      "nbconvert_exporter": "python",
      "pygments_lexer": "ipython3",
      "version": "3.11.9"
    }
  },
  "nbformat": 4,
  "nbformat_minor": 0
}