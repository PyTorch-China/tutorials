{
  "cells": [
    {
      "cell_type": "code",
      "execution_count": null,
      "metadata": {
        "collapsed": false
      },
      "outputs": [],
      "source": [
        "# For tips on running notebooks in Google Colab, see\n# https://pytorch.org/tutorials/beginner/colab\n%matplotlib inline"
      ]
    },
    {
      "cell_type": "markdown",
      "metadata": {},
      "source": [
        "\n# \u5982\u4f55\u5728PyTorch\u4e2d\u4f7f\u7528TensorBoard\nTensorBoard\u662f\u4e00\u4e2a\u7528\u4e8e\u673a\u5668\u5b66\u4e60\u5b9e\u9a8c\u7684\u53ef\u89c6\u5316\u5de5\u5177\u5305\u3002\nTensorBoard\u5141\u8bb8\u8ddf\u8e2a\u548c\u53ef\u89c6\u5316\u6307\u6807,\u5982\u635f\u5931\u548c\u51c6\u786e\u7387,\n\u53ef\u89c6\u5316\u6a21\u578b\u56fe,\u67e5\u770b\u76f4\u65b9\u56fe,\u663e\u793a\u56fe\u50cf\u7b49\u3002\n\u5728\u672c\u6559\u7a0b\u4e2d,\u6211\u4eec\u5c06\u4ecb\u7ecdTensorBoard\u7684\u5b89\u88c5\u3001\n\u5728PyTorch\u4e2d\u7684\u57fa\u672c\u7528\u6cd5,\u4ee5\u53ca\u5982\u4f55\u5728TensorBoard UI\u4e2d\u53ef\u89c6\u5316\u60a8\u8bb0\u5f55\u7684\u6570\u636e\u3002\n\n## \u5b89\u88c5\n\u5e94\u5b89\u88c5PyTorch\u4ee5\u5c06\u6a21\u578b\u548c\u6307\u6807\u8bb0\u5f55\u5230TensorBoard\u65e5\u5fd7\n\u76ee\u5f55\u3002\u4ee5\u4e0b\u547d\u4ee4\u5c06\u901a\u8fc7Anaconda(\u63a8\u8350)\u5b89\u88c5PyTorch 1.4+:\n\n```sh\n$ conda install pytorch torchvision -c pytorch\n```\n\u6216\u8005\u4f7f\u7528pip:\n\n```sh\n$ pip install torch torchvision\n```\n"
      ]
    },
    {
      "cell_type": "markdown",
      "metadata": {},
      "source": [
        "## \u5728PyTorch\u4e2d\u4f7f\u7528TensorBoard\n\n\u73b0\u5728\u8ba9\u6211\u4eec\u5c1d\u8bd5\u5728PyTorch\u4e2d\u4f7f\u7528TensorBoard!\u5728\u8bb0\u5f55\u4efb\u4f55\u5185\u5bb9\u4e4b\u524d,\n\u6211\u4eec\u9700\u8981\u521b\u5efa\u4e00\u4e2a ``SummaryWriter`` \u5b9e\u4f8b\u3002\n\n\n"
      ]
    },
    {
      "cell_type": "code",
      "execution_count": null,
      "metadata": {
        "collapsed": false
      },
      "outputs": [],
      "source": [
        "import torch\nfrom torch.utils.tensorboard import SummaryWriter\n\nwriter = SummaryWriter()"
      ]
    },
    {
      "cell_type": "markdown",
      "metadata": {},
      "source": [
        "\u5199\u5165\u5668\u9ed8\u8ba4\u5c06\u8f93\u51fa\u5230 ``./runs/`` \u76ee\u5f55\u3002\n\n\n"
      ]
    },
    {
      "cell_type": "markdown",
      "metadata": {},
      "source": [
        "## \u8bb0\u5f55\u6807\u91cf\n\n\u5728\u673a\u5668\u5b66\u4e60\u4e2d,\u4e86\u89e3\u5173\u952e\u6307\u6807(\u5982\u635f\u5931)\u53ca\u5176\u5728\u8bad\u7ec3\u671f\u95f4\u7684\u53d8\u5316\u975e\u5e38\u91cd\u8981\u3002\n\u6807\u91cf\u53ef\u7528\u4e8e\u4fdd\u5b58\u6bcf\u4e2a\u8bad\u7ec3\u6b65\u9aa4\u7684\u635f\u5931\u503c\u6216\u6bcf\u4e2aepoch\u7684\u51c6\u786e\u7387\u3002\n\n\u8981\u8bb0\u5f55\u6807\u91cf\u503c,\u8bf7\u4f7f\u7528\n``add_scalar(tag, scalar_value, global_step=None, walltime=None)``\u3002\n\u4f8b\u5982,\u8ba9\u6211\u4eec\u521b\u5efa\u4e00\u4e2a\u7b80\u5355\u7684\u7ebf\u6027\u56de\u5f52\u8bad\u7ec3,\u5e76\n\u4f7f\u7528 ``add_scalar`` \u8bb0\u5f55\u635f\u5931\u503c\n\n\n"
      ]
    },
    {
      "cell_type": "code",
      "execution_count": null,
      "metadata": {
        "collapsed": false
      },
      "outputs": [],
      "source": [
        "x = torch.arange(-5, 5, 0.1).view(-1, 1)\ny = -5 * x + 0.1 * torch.randn(x.size())\n\nmodel = torch.nn.Linear(1, 1)\ncriterion = torch.nn.MSELoss()\noptimizer = torch.optim.SGD(model.parameters(), lr=0.1)\n\n\ndef train_model(iter):\n    for epoch in range(iter):\n        y1 = model(x)\n        loss = criterion(y1, y)\n        writer.add_scalar(\"Loss/train\", loss, epoch)\n        optimizer.zero_grad()\n        loss.backward()\n        optimizer.step()\n\n\ntrain_model(10)\nwriter.flush()"
      ]
    },
    {
      "cell_type": "markdown",
      "metadata": {},
      "source": [
        "\u8c03\u7528 ``flush()`` \u65b9\u6cd5\u4ee5\u786e\u4fdd\u6240\u6709\u5f85\u5904\u7406\u4e8b\u4ef6\n\u5df2\u5199\u5165\u78c1\u76d8\u3002\n\n\u8bf7\u53c2\u9605 [torch.utils.tensorboard \u6559\u7a0b](https://pytorch.org/docs/stable/tensorboard.html)\n\u4ee5\u4e86\u89e3\u60a8\u53ef\u4ee5\u8bb0\u5f55\u7684\u66f4\u591aTensorBoard\u53ef\u89c6\u5316\u7c7b\u578b\u3002\n\n\u5982\u679c\u60a8\u4e0d\u518d\u9700\u8981\u6458\u8981\u5199\u5165\u5668,\u8bf7\u8c03\u7528 ``close()`` \u65b9\u6cd5\u3002\n\n\n"
      ]
    },
    {
      "cell_type": "code",
      "execution_count": null,
      "metadata": {
        "collapsed": false
      },
      "outputs": [],
      "source": [
        "writer.close()"
      ]
    },
    {
      "cell_type": "markdown",
      "metadata": {},
      "source": [
        "## \u8fd0\u884cTensorBoard\n\n\u901a\u8fc7\u547d\u4ee4\u884c\u5b89\u88c5TensorBoard\u4ee5\u53ef\u89c6\u5316\u60a8\u8bb0\u5f55\u7684\u6570\u636e\n\n```sh\npip install tensorboard\n```\n\u73b0\u5728,\u542f\u52a8TensorBoard,\u6307\u5b9a\u60a8\u4e4b\u524d\u4f7f\u7528\u7684\u6839\u65e5\u5fd7\u76ee\u5f55\u3002\n\u53c2\u6570 ``logdir`` \u6307\u5411TensorBoard\u5c06\u67e5\u627e\u53ef\u663e\u793a\u7684\u4e8b\u4ef6\u6587\u4ef6\u7684\u76ee\u5f55\u3002\nTensorBoard\u5c06\u9012\u5f52\u904d\u5386 ``logdir`` \u6839\u76ee\u5f55\u4e0b\u7684\u76ee\u5f55\u7ed3\u6784,\u5bfb\u627e ``.*tfevents.*`` \u6587\u4ef6\u3002\n\n```sh\ntensorboard --logdir=runs\n```\n\u8f6c\u5230\u5b83\u63d0\u4f9b\u7684URL\u6216 [http://localhost:6006/](http://localhost:6006/)\n\n<img src=\"file://../../_static/img/thumbnails/tensorboard_scalars.png\" scale=\"40 %\">\n\n\u6b64\u4eea\u8868\u677f\u663e\u793a\u4e86\u635f\u5931\u548c\u51c6\u786e\u7387\u5982\u4f55\u968f\u7740\u6bcf\u4e2aepoch\u800c\u53d8\u5316\u3002\n\u60a8\u53ef\u4ee5\u4f7f\u7528\u5b83\u6765\u8ddf\u8e2a\u8bad\u7ec3\u901f\u5ea6\u3001\u5b66\u4e60\u7387\u548c\u5176\u4ed6\u6807\u91cf\u503c\u3002\n\u6bd4\u8f83\u4e0d\u540c\u8bad\u7ec3\u8fd0\u884c\u7684\u8fd9\u4e9b\u6307\u6807\u6709\u52a9\u4e8e\u6539\u8fdb\u60a8\u7684\u6a21\u578b\u3002\n\n\n"
      ]
    },
    {
      "cell_type": "markdown",
      "metadata": {},
      "source": [
        "## \u4e86\u89e3\u66f4\u591a\n\n-  [torch.utils.tensorboard](https://pytorch.org/docs/stable/tensorboard.html) \u6587\u6863\n-  [\u4f7f\u7528TensorBoard\u53ef\u89c6\u5316\u6a21\u578b\u3001\u6570\u636e\u548c\u8bad\u7ec3](https://pytorch.org/tutorials/intermediate/tensorboard_tutorial.html) \u6559\u7a0b\n\n\n"
      ]
    }
  ],
  "metadata": {
    "kernelspec": {
      "display_name": "Python 3",
      "language": "python",
      "name": "python3"
    },
    "language_info": {
      "codemirror_mode": {
        "name": "ipython",
        "version": 3
      },
      "file_extension": ".py",
      "mimetype": "text/x-python",
      "name": "python",
      "nbconvert_exporter": "python",
      "pygments_lexer": "ipython3",
      "version": "3.10.0"
    }
  },
  "nbformat": 4,
  "nbformat_minor": 0
}